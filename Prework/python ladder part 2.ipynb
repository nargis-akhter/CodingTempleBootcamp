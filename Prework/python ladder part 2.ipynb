{
  "cells": [
    {
      "cell_type": "markdown",
      "metadata": {
        "id": "PdxKG-sdCm6d"
      },
      "source": [
        "# Python Ladder Challenges - Part 2"
      ]
    },
    {
      "cell_type": "markdown",
      "metadata": {
        "id": "IUdqYdFxCm6f"
      },
      "source": [
        "# Climb the Ladder!\n",
        "Our class moves quickly! Sometimes, it feels like we make leaps in logic that are a bit too big. Learn Python _slowly_, by doing many, many examples. Problems in this notebook start out easy and progressively get harder, so that the next rung of the Python ladder is always within reach."
      ]
    },
    {
      "cell_type": "markdown",
      "metadata": {
        "id": "KZUZhIQEHhqm"
      },
      "source": [
        "# Section IV: Conditionals and Loops"
      ]
    },
    {
      "cell_type": "markdown",
      "metadata": {
        "id": "N_KZs1-2Hhqn"
      },
      "source": [
        "1) Print out the numbers 1 through 10."
      ]
    },
    {
      "cell_type": "code",
      "execution_count": null,
      "metadata": {
        "id": "_AAeC-L-Hhqn",
        "colab": {
          "base_uri": "https://localhost:8080/"
        },
        "outputId": "7df78352-cc9f-4473-c2bc-0469b494f25e"
      },
      "outputs": [
        {
          "output_type": "stream",
          "name": "stdout",
          "text": [
            "1\n",
            "2\n",
            "3\n",
            "4\n",
            "5\n",
            "6\n",
            "7\n",
            "8\n",
            "9\n",
            "10\n"
          ]
        }
      ],
      "source": [
        "for number in range (1,11):\n",
        "  print(number)"
      ]
    },
    {
      "cell_type": "markdown",
      "metadata": {
        "id": "93KwY0tgHhqo"
      },
      "source": [
        "2) Print out the odd numbers between 1 and 20 by using the third paramter to the `range()` function."
      ]
    },
    {
      "cell_type": "code",
      "execution_count": null,
      "metadata": {
        "colab": {
          "base_uri": "https://localhost:8080/"
        },
        "outputId": "4d26d72d-bd87-40f3-fdf5-10dadf75456f",
        "id": "s5ZK0DgOhRMK"
      },
      "outputs": [
        {
          "output_type": "stream",
          "name": "stdout",
          "text": [
            "1\n",
            "3\n",
            "5\n",
            "7\n",
            "9\n",
            "11\n",
            "13\n",
            "15\n",
            "17\n",
            "19\n"
          ]
        }
      ],
      "source": [
        "for number in range (1,21, 2):\n",
        "  print(number)"
      ]
    },
    {
      "cell_type": "markdown",
      "metadata": {
        "id": "UMrtHGakHhqp"
      },
      "source": [
        "3) Print out the odd numbers between 1 and 20 by checking if the number is even before printing."
      ]
    },
    {
      "cell_type": "code",
      "execution_count": null,
      "metadata": {
        "id": "bDtntCkhHhqp",
        "colab": {
          "base_uri": "https://localhost:8080/"
        },
        "outputId": "d9abc68a-ae4f-4248-e306-e835c6de5609"
      },
      "outputs": [
        {
          "output_type": "stream",
          "name": "stdout",
          "text": [
            "1\n",
            "3\n",
            "5\n",
            "7\n",
            "9\n",
            "11\n",
            "13\n",
            "15\n",
            "17\n",
            "19\n"
          ]
        }
      ],
      "source": [
        "for number in range(1, 21):\n",
        "  if number % 2 != 0:\n",
        "    print(number)\n"
      ]
    },
    {
      "cell_type": "markdown",
      "metadata": {
        "id": "W14SCO-ZHhqp"
      },
      "source": [
        "4) What is the sum of the first 100 integers? Hint: Create a variable `total` equal to zero, and increment `total` inside a loop."
      ]
    },
    {
      "cell_type": "code",
      "execution_count": null,
      "metadata": {
        "id": "q0_2uy7hHhqp",
        "colab": {
          "base_uri": "https://localhost:8080/"
        },
        "outputId": "a1b6dbee-3ba7-4512-d2d3-5ca569053a40"
      },
      "outputs": [
        {
          "output_type": "stream",
          "name": "stdout",
          "text": [
            "5050\n"
          ]
        }
      ],
      "source": [
        "total = 0\n",
        "\n",
        "for i in range(1, 101):\n",
        "  total += i\n",
        "\n",
        "print(total)\n",
        "\n"
      ]
    },
    {
      "cell_type": "markdown",
      "metadata": {
        "id": "m-DHqNSSHhqq"
      },
      "source": [
        "5) For each friend in your `friends` list, print `'PERSON IS AWESOME!'` in all caps, where `PERSON` is of course replaced with your friend's name."
      ]
    },
    {
      "cell_type": "code",
      "execution_count": null,
      "metadata": {
        "id": "RNcV8KXfHhqq"
      },
      "outputs": [],
      "source": [
        "# Make sure you run this cell!\n",
        "\n",
        "friends = [\"Alice\", \"Bob\", \"Charlie\", \"Debbie\"]"
      ]
    },
    {
      "cell_type": "code",
      "execution_count": null,
      "metadata": {
        "id": "nfS3bCgYHhqq",
        "colab": {
          "base_uri": "https://localhost:8080/"
        },
        "outputId": "0af17876-1d2e-49a0-d225-89fb84e420c8"
      },
      "outputs": [
        {
          "output_type": "stream",
          "name": "stdout",
          "text": [
            "ALICE IS AWESOME!\n",
            "BOB IS AWESOME!\n",
            "CHARLIE IS AWESOME!\n",
            "DEBBIE IS AWESOME!\n"
          ]
        }
      ],
      "source": [
        "for friend in friends:\n",
        "  print(friend.upper() + \" IS AWESOME!\")"
      ]
    },
    {
      "cell_type": "markdown",
      "metadata": {
        "id": "-U1Modq2Hhqr"
      },
      "source": [
        "6) Similar to the last problem, print `'PERSON IS AWESOME!'` for each friend in your friends list _only if their name ends in a vowel_. Otherwise, print `\"person is ok...\"` (all lowercase)."
      ]
    },
    {
      "cell_type": "code",
      "execution_count": null,
      "metadata": {
        "id": "89svPUDnHhqr"
      },
      "outputs": [],
      "source": [
        "for friend in friends:\n",
        "  if"
      ]
    },
    {
      "cell_type": "markdown",
      "source": [
        "# Section V: Dictionaries"
      ],
      "metadata": {
        "id": "3Gn8CvX3aBQu"
      }
    },
    {
      "cell_type": "markdown",
      "metadata": {
        "id": "a_iBikB06LVF"
      },
      "source": [
        "Dictionaries can get really big and really complicated, like the one below. You might think this is excessive, but it's very common. This is a very efficient way to store complicated data that don't fit neatly in a spreadsheet. In fact, dictionaries are the data type used by most web APIs! We'll need to parse big dictionaries to get data from the internet!"
      ]
    },
    {
      "cell_type": "code",
      "execution_count": null,
      "metadata": {
        "id": "PaK8l4966LVF"
      },
      "outputs": [],
      "source": [
        "# Make sure to run this cell!\n",
        "\n",
        "authors = {\n",
        "    \"J.R.R. Tolkien\": {\n",
        "        \"genre\": \"fantasy\",\n",
        "        \"books\": [\n",
        "            \"The Fellowship of the Ring\",\n",
        "            \"The Two Towers\",\n",
        "            \"The Return of the King\"\n",
        "        ],\n",
        "        \"active\": False\n",
        "    },\n",
        "    \"Brandon Sanderson\": {\n",
        "        \"genre\": \"fantasy\",\n",
        "        \"books\": [\n",
        "            \"The Way of Kings\",\n",
        "            \"Words of Radiance\",\n",
        "            \"Oathbringer\"\n",
        "        ],\n",
        "        \"active\": True,\n",
        "        \"phone\": {\n",
        "            \"home\": \"(281) 330-8004\",\n",
        "            \"work\": \"(877) CASH-NOW\"\n",
        "        }\n",
        "    },\n",
        "    \"Frank Herbert\": {\n",
        "        \"genre\": \"science fiction\",\n",
        "        \"books\": [\"Dune\"],\n",
        "        \"phone\": None,\n",
        "        \"active\": False\n",
        "    }\n",
        "}"
      ]
    },
    {
      "cell_type": "markdown",
      "source": [
        "1) Get Tokien's second book"
      ],
      "metadata": {
        "id": "btvy7o_VbgDP"
      }
    },
    {
      "cell_type": "code",
      "execution_count": null,
      "metadata": {
        "id": "JJFg3-_66LVG"
      },
      "outputs": [],
      "source": []
    },
    {
      "cell_type": "markdown",
      "source": [
        "2) I need to call Brandon Sanderson about an idea for a screenplay. Can you get me his work number?"
      ],
      "metadata": {
        "id": "dXWT2sjoboyD"
      }
    },
    {
      "cell_type": "code",
      "execution_count": null,
      "metadata": {
        "id": "OmqFvAqG6LVH"
      },
      "outputs": [],
      "source": []
    },
    {
      "cell_type": "markdown",
      "metadata": {
        "id": "tNQzafUT6LVR"
      },
      "source": [
        "3)  Create a dictionary called `my_favorites` with the following keys:\n",
        "\n",
        "\n",
        "* `name`\n",
        "* `favorite_movie`\n",
        "* `favorite_band`\n",
        "* `favorite_book`\n",
        "\n",
        "Make sure to fill the keys in with whatever's true for you!"
      ]
    },
    {
      "cell_type": "code",
      "execution_count": null,
      "metadata": {
        "id": "dJ6S5Nm96LVS"
      },
      "outputs": [],
      "source": []
    },
    {
      "cell_type": "markdown",
      "metadata": {
        "id": "EIPkU1VSe3nB"
      },
      "source": [
        "# Section VI: Functions\n",
        "In this section, every question gives example(s). You can (but don't need to) name your function accordingly. You _should_ test out the example to make sure your function works properly. If the example doesn't work, your answer is likely incorrect."
      ]
    },
    {
      "cell_type": "markdown",
      "source": [
        "1) Write a function to print “hello_USERNAME!” where USERNAME is the input of the function.\n",
        "\n",
        "*   _Example:_ `greeting(\"CT4lyfe\") == \"hello_CT4lyfe!\"`\n",
        "\n"
      ],
      "metadata": {
        "id": "xsk0mJcqgcUK"
      }
    },
    {
      "cell_type": "code",
      "source": [],
      "metadata": {
        "id": "5oZgZ38lgbsM"
      },
      "execution_count": null,
      "outputs": []
    },
    {
      "cell_type": "markdown",
      "source": [
        "2) Write a Python function called `max_num_in_list` that returns the max number of a given list.\n",
        "\n",
        "*   _Example:_ `max_num_in_list([1, 8, -2, 4, 20]) == 20`\n"
      ],
      "metadata": {
        "id": "2EUuvFWrhCkN"
      }
    },
    {
      "cell_type": "code",
      "source": [],
      "metadata": {
        "id": "DE4s5qBUhCT0"
      },
      "execution_count": null,
      "outputs": []
    },
    {
      "cell_type": "markdown",
      "source": [
        "3) Write a function to check to see if all numbers in the list are consecutive numbers. For example, `[2,3,4,5,6,7]` are consecutive numbers, but `[1,2,4,5]` are not consecutive numbers. The return should be boolean Type.\n",
        "\n",
        "*   _Example:_ `consecutive_num([1,2,4,5]) == False`\n"
      ],
      "metadata": {
        "id": "rzJLFYaShjvl"
      }
    },
    {
      "cell_type": "code",
      "source": [],
      "metadata": {
        "id": "kiK6gKUIh1Lp"
      },
      "execution_count": null,
      "outputs": []
    },
    {
      "cell_type": "markdown",
      "metadata": {
        "id": "rNJ2S3lxe3nC"
      },
      "source": [
        "\n",
        "\n",
        "4) Write a function to compute the area of a triangle. You only need the base and height of a triangle to compute its area.\n",
        "\n",
        "* _Example:_ `area_triangle(5, 4) == 10.0`"
      ]
    },
    {
      "cell_type": "code",
      "execution_count": null,
      "metadata": {
        "id": "qJtvCYooe3nD"
      },
      "outputs": [],
      "source": []
    },
    {
      "cell_type": "markdown",
      "metadata": {
        "id": "Zid-C3qse3nN"
      },
      "source": [
        "5) Write a function that takes a number (a person's height) and returns \"Tall enough\" if they are at least 5 feet (60 inches) or \"Too short\" if they are below 5 feet.\n",
        "* _Example:_ `is_tall(72) == 'Tall enough'`\n",
        "* _Example:_ `is_tall(52) == 'Too short'`"
      ]
    },
    {
      "cell_type": "code",
      "execution_count": null,
      "metadata": {
        "id": "hkTom8Mae3nN"
      },
      "outputs": [],
      "source": []
    },
    {
      "cell_type": "markdown",
      "metadata": {
        "id": "3Tz7t8jMe3nO"
      },
      "source": [
        "6) Write a function that takes in a numeric grade (0 to 100) and returns the letter grade (no pluses or minuses). In a traditional rubric, that would be as follows:\n",
        "\n",
        "* 90 or above = A\n",
        "* 80 - 89 = B\n",
        "* 70 - 79 = C\n",
        "* 60 - 69 = D\n",
        "* 59 or below = F\n",
        "    \n",
        "    \n",
        "* _Example:_ `letter_grade(85) == 'B'`"
      ]
    },
    {
      "cell_type": "code",
      "execution_count": null,
      "metadata": {
        "id": "7sxCg5gAe3nO"
      },
      "outputs": [],
      "source": []
    },
    {
      "cell_type": "markdown",
      "metadata": {
        "id": "gpj9sIXze3nP"
      },
      "source": [
        "7) Write a function that takes in a string and returns the number of vowels in that string. (No, y is not a vowel).\n",
        "* _Example:_ `vowel_count('Coding Temple') == 4`"
      ]
    },
    {
      "cell_type": "code",
      "execution_count": null,
      "metadata": {
        "id": "BPytpNgWe3nP"
      },
      "outputs": [],
      "source": []
    },
    {
      "cell_type": "markdown",
      "metadata": {
        "id": "WCFheCWce3nP"
      },
      "source": [
        "8) Write a function that takes in a string and returns that string with its consonants capitalized and vowels lowercased.\n",
        "\n",
        "* _Example:_ `toggle_case('Coding Temple') == 'CoDiNG TeMPLe'`"
      ]
    },
    {
      "cell_type": "code",
      "execution_count": null,
      "metadata": {
        "id": "90W-Glene3nP"
      },
      "outputs": [],
      "source": []
    },
    {
      "cell_type": "markdown",
      "metadata": {
        "id": "3hpZ-8tZe3nQ"
      },
      "source": [
        "9) Write a function that takes in a string and returns that string with its vowels removed.\n",
        "* _Example:_ `disemvowel('Python is my favorite language') == 'Pythn s my fvrt lngg'`"
      ]
    },
    {
      "cell_type": "code",
      "execution_count": null,
      "metadata": {
        "id": "eSrLRVqLe3nR"
      },
      "outputs": [],
      "source": []
    }
  ],
  "metadata": {
    "kernelspec": {
      "display_name": "Python 3",
      "language": "python",
      "name": "python3"
    },
    "language_info": {
      "codemirror_mode": {
        "name": "ipython",
        "version": 3
      },
      "file_extension": ".py",
      "mimetype": "text/x-python",
      "name": "python",
      "nbconvert_exporter": "python",
      "pygments_lexer": "ipython3",
      "version": "3.6.9"
    },
    "colab": {
      "provenance": []
    }
  },
  "nbformat": 4,
  "nbformat_minor": 0
}