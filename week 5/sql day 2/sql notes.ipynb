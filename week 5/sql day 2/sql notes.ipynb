{
 "cells": [
  {
   "cell_type": "markdown",
   "metadata": {},
   "source": [
    "SQL NOTES"
   ]
  },
  {
   "cell_type": "markdown",
   "metadata": {},
   "source": [
    "Create & Insert"
   ]
  },
  {
   "cell_type": "markdown",
   "metadata": {},
   "source": [
    "```sql \n",
    "CREATE TABLE books (id INTEGER PRIMARY KEY, name TEXT, rating INTEGER);\n",
    "\n",
    "INSERT INTO books VALUES(1, \"Don't Be Sad\", 5);\n",
    "INSERT INTO books VALUES(2, \"You Can Be The Happiest Woman In The World\", 5);\n",
    "\n",
    "SELECT * FROM books\n",
    "```"
   ]
  },
  {
   "cell_type": "markdown",
   "metadata": {},
   "source": [
    "Rows & Columns"
   ]
  },
  {
   "cell_type": "markdown",
   "metadata": {},
   "source": [
    "Rows are records. Columns are fields."
   ]
  },
  {
   "cell_type": "markdown",
   "metadata": {},
   "source": [
    "Left, Right, Inner, Outer"
   ]
  },
  {
   "cell_type": "markdown",
   "metadata": {},
   "source": [
    "Left/Right join returns all data that is in the corresponding side as well as\n",
    "any that match between it and opposing side."
   ]
  },
  {
   "cell_type": "markdown",
   "metadata": {},
   "source": [
    "Inner returns all data that matches between both tables."
   ]
  },
  {
   "cell_type": "markdown",
   "metadata": {},
   "source": [
    "Outer returns all data."
   ]
  }
 ],
 "metadata": {
  "language_info": {
   "name": "python"
  }
 },
 "nbformat": 4,
 "nbformat_minor": 2
}
