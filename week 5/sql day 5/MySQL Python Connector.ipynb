{
 "cells": [
  {
   "cell_type": "markdown",
   "metadata": {},
   "source": [
    "# Coding Temple's Data Analytics Program\n",
    "---\n",
    "## MySQL Python Connector"
   ]
  },
  {
   "cell_type": "markdown",
   "metadata": {},
   "source": [
    "### Part 1: Installs\n",
    "To begin with, we will need to install the mysql connector. Sometimes, we will also be required to make another pip install to ensure the module works properly"
   ]
  },
  {
   "cell_type": "code",
   "execution_count": 1,
   "metadata": {},
   "outputs": [
    {
     "name": "stdout",
     "output_type": "stream",
     "text": [
      "Collecting mysql-connector-python\n",
      "  Downloading mysql_connector_python-8.1.0-cp311-cp311-win_amd64.whl (10.8 MB)\n",
      "                                              0.0/10.8 MB ? eta -:--:--\n",
      "                                              0.1/10.8 MB 2.6 MB/s eta 0:00:05\n",
      "                                              0.2/10.8 MB 2.8 MB/s eta 0:00:04\n",
      "     -                                        0.3/10.8 MB 2.1 MB/s eta 0:00:06\n",
      "     -                                        0.5/10.8 MB 2.6 MB/s eta 0:00:05\n",
      "     --                                       0.5/10.8 MB 2.6 MB/s eta 0:00:04\n",
      "     --                                       0.7/10.8 MB 2.7 MB/s eta 0:00:04\n",
      "     ---                                      0.9/10.8 MB 2.8 MB/s eta 0:00:04\n",
      "     ---                                      1.1/10.8 MB 2.9 MB/s eta 0:00:04\n",
      "     ----                                     1.2/10.8 MB 2.9 MB/s eta 0:00:04\n",
      "     ----                                     1.3/10.8 MB 2.8 MB/s eta 0:00:04\n",
      "     -----                                    1.5/10.8 MB 3.0 MB/s eta 0:00:04\n",
      "     -----                                    1.6/10.8 MB 2.8 MB/s eta 0:00:04\n",
      "     ------                                   1.7/10.8 MB 2.8 MB/s eta 0:00:04\n",
      "     -------                                  1.9/10.8 MB 2.9 MB/s eta 0:00:04\n",
      "     -------                                  2.0/10.8 MB 2.9 MB/s eta 0:00:04\n",
      "     -------                                  2.1/10.8 MB 2.8 MB/s eta 0:00:04\n",
      "     --------                                 2.3/10.8 MB 2.9 MB/s eta 0:00:03\n",
      "     --------                                 2.3/10.8 MB 2.8 MB/s eta 0:00:04\n",
      "     --------                                 2.3/10.8 MB 2.8 MB/s eta 0:00:04\n",
      "     --------                                 2.3/10.8 MB 2.8 MB/s eta 0:00:04\n",
      "     ----------                               2.7/10.8 MB 2.8 MB/s eta 0:00:03\n",
      "     ----------                               2.8/10.8 MB 2.8 MB/s eta 0:00:03\n",
      "     ----------                               2.9/10.8 MB 2.7 MB/s eta 0:00:03\n",
      "     -----------                              3.0/10.8 MB 2.7 MB/s eta 0:00:03\n",
      "     -----------                              3.2/10.8 MB 2.7 MB/s eta 0:00:03\n",
      "     ------------                             3.3/10.8 MB 2.7 MB/s eta 0:00:03\n",
      "     ------------                             3.5/10.8 MB 2.8 MB/s eta 0:00:03\n",
      "     -------------                            3.6/10.8 MB 2.8 MB/s eta 0:00:03\n",
      "     -------------                            3.8/10.8 MB 2.8 MB/s eta 0:00:03\n",
      "     --------------                           3.9/10.8 MB 2.8 MB/s eta 0:00:03\n",
      "     --------------                           3.9/10.8 MB 2.8 MB/s eta 0:00:03\n",
      "     ---------------                          4.2/10.8 MB 2.8 MB/s eta 0:00:03\n",
      "     ---------------                          4.3/10.8 MB 2.8 MB/s eta 0:00:03\n",
      "     ----------------                         4.4/10.8 MB 2.8 MB/s eta 0:00:03\n",
      "     ----------------                         4.6/10.8 MB 2.8 MB/s eta 0:00:03\n",
      "     -----------------                        4.6/10.8 MB 2.8 MB/s eta 0:00:03\n",
      "     -----------------                        4.8/10.8 MB 2.8 MB/s eta 0:00:03\n",
      "     ------------------                       4.9/10.8 MB 2.8 MB/s eta 0:00:03\n",
      "     ------------------                       5.1/10.8 MB 2.8 MB/s eta 0:00:03\n",
      "     -------------------                      5.2/10.8 MB 2.8 MB/s eta 0:00:03\n",
      "     -------------------                      5.4/10.8 MB 2.8 MB/s eta 0:00:02\n",
      "     --------------------                     5.5/10.8 MB 2.8 MB/s eta 0:00:02\n",
      "     --------------------                     5.7/10.8 MB 2.9 MB/s eta 0:00:02\n",
      "     ---------------------                    5.7/10.8 MB 2.8 MB/s eta 0:00:02\n",
      "     ---------------------                    5.9/10.8 MB 2.8 MB/s eta 0:00:02\n",
      "     ---------------------                    6.0/10.8 MB 2.8 MB/s eta 0:00:02\n",
      "     ----------------------                   6.1/10.8 MB 2.8 MB/s eta 0:00:02\n",
      "     -----------------------                  6.3/10.8 MB 2.8 MB/s eta 0:00:02\n",
      "     -----------------------                  6.3/10.8 MB 2.8 MB/s eta 0:00:02\n",
      "     ------------------------                 6.5/10.8 MB 2.8 MB/s eta 0:00:02\n",
      "     ------------------------                 6.7/10.8 MB 2.8 MB/s eta 0:00:02\n",
      "     -------------------------                6.8/10.8 MB 2.8 MB/s eta 0:00:02\n",
      "     -------------------------                7.0/10.8 MB 2.8 MB/s eta 0:00:02\n",
      "     --------------------------               7.1/10.8 MB 2.8 MB/s eta 0:00:02\n",
      "     --------------------------               7.3/10.8 MB 2.8 MB/s eta 0:00:02\n",
      "     ---------------------------              7.4/10.8 MB 2.8 MB/s eta 0:00:02\n",
      "     ----------------------------             7.6/10.8 MB 2.9 MB/s eta 0:00:02\n",
      "     ----------------------------             7.7/10.8 MB 2.8 MB/s eta 0:00:02\n",
      "     ----------------------------             7.8/10.8 MB 2.8 MB/s eta 0:00:02\n",
      "     -----------------------------            7.9/10.8 MB 2.9 MB/s eta 0:00:02\n",
      "     -----------------------------            8.0/10.8 MB 2.8 MB/s eta 0:00:02\n",
      "     ------------------------------           8.2/10.8 MB 2.8 MB/s eta 0:00:01\n",
      "     ------------------------------           8.3/10.8 MB 2.8 MB/s eta 0:00:01\n",
      "     -------------------------------          8.4/10.8 MB 2.8 MB/s eta 0:00:01\n",
      "     -------------------------------          8.6/10.8 MB 2.8 MB/s eta 0:00:01\n",
      "     --------------------------------         8.7/10.8 MB 2.8 MB/s eta 0:00:01\n",
      "     --------------------------------         8.8/10.8 MB 2.8 MB/s eta 0:00:01\n",
      "     --------------------------------         8.9/10.8 MB 2.8 MB/s eta 0:00:01\n",
      "     ---------------------------------        9.1/10.8 MB 2.8 MB/s eta 0:00:01\n",
      "     ---------------------------------        9.2/10.8 MB 2.8 MB/s eta 0:00:01\n",
      "     ----------------------------------       9.3/10.8 MB 2.8 MB/s eta 0:00:01\n",
      "     ----------------------------------       9.5/10.8 MB 2.8 MB/s eta 0:00:01\n",
      "     -----------------------------------      9.6/10.8 MB 2.8 MB/s eta 0:00:01\n",
      "     ------------------------------------     9.8/10.8 MB 2.8 MB/s eta 0:00:01\n",
      "     ------------------------------------     9.9/10.8 MB 2.8 MB/s eta 0:00:01\n",
      "     ------------------------------------     10.0/10.8 MB 2.8 MB/s eta 0:00:01\n",
      "     -------------------------------------    10.2/10.8 MB 2.8 MB/s eta 0:00:01\n",
      "     -------------------------------------    10.3/10.8 MB 2.8 MB/s eta 0:00:01\n",
      "     --------------------------------------   10.4/10.8 MB 2.8 MB/s eta 0:00:01\n",
      "     --------------------------------------   10.6/10.8 MB 2.9 MB/s eta 0:00:01\n",
      "     ---------------------------------------  10.7/10.8 MB 2.8 MB/s eta 0:00:01\n",
      "     ---------------------------------------  10.8/10.8 MB 2.9 MB/s eta 0:00:01\n",
      "     ---------------------------------------  10.8/10.8 MB 2.9 MB/s eta 0:00:01\n",
      "     ---------------------------------------- 10.8/10.8 MB 2.8 MB/s eta 0:00:00\n",
      "Collecting protobuf<=4.21.12,>=4.21.1 (from mysql-connector-python)\n",
      "  Downloading protobuf-4.21.12-cp310-abi3-win_amd64.whl (527 kB)\n",
      "                                              0.0/527.0 kB ? eta -:--:--\n",
      "                                              0.0/527.0 kB ? eta -:--:--\n",
      "                                              0.0/527.0 kB ? eta -:--:--\n",
      "                                              0.0/527.0 kB ? eta -:--:--\n",
      "     ------------------------                 317.4/527.0 kB ? eta -:--:--\n",
      "     -----------------------------------    491.5/527.0 kB 6.2 MB/s eta 0:00:01\n",
      "     -------------------------------------- 527.0/527.0 kB 4.7 MB/s eta 0:00:00\n",
      "Installing collected packages: protobuf, mysql-connector-python\n",
      "Successfully installed mysql-connector-python-8.1.0 protobuf-4.21.12\n"
     ]
    },
    {
     "name": "stderr",
     "output_type": "stream",
     "text": [
      "\n",
      "[notice] A new release of pip is available: 23.1.2 -> 23.2.1\n",
      "[notice] To update, run: python.exe -m pip install --upgrade pip\n"
     ]
    },
    {
     "name": "stdout",
     "output_type": "stream",
     "text": [
      "Collecting mysqlclient\n",
      "  Downloading mysqlclient-2.2.0-cp311-cp311-win_amd64.whl (199 kB)\n",
      "                                              0.0/200.0 kB ? eta -:--:--\n",
      "     -----------------                       92.2/200.0 kB 2.6 MB/s eta 0:00:01\n",
      "     ---------------------------            143.4/200.0 kB 1.7 MB/s eta 0:00:01\n",
      "     -------------------------------        163.8/200.0 kB 1.4 MB/s eta 0:00:01\n",
      "     ------------------------------------   194.6/200.0 kB 1.2 MB/s eta 0:00:01\n",
      "     -------------------------------------- 200.0/200.0 kB 1.0 MB/s eta 0:00:00\n",
      "Installing collected packages: mysqlclient\n",
      "Successfully installed mysqlclient-2.2.0\n"
     ]
    },
    {
     "name": "stderr",
     "output_type": "stream",
     "text": [
      "\n",
      "[notice] A new release of pip is available: 23.1.2 -> 23.2.1\n",
      "[notice] To update, run: python.exe -m pip install --upgrade pip\n"
     ]
    }
   ],
   "source": [
    "# Pip installs\n",
    "# If you need to run these installs, just uncomment each\n",
    "!python -m pip install mysql-connector-python\n",
    "\n",
    "# May sometimes need this installed as well in order for mysql to properly communicate with your program\n",
    "!python -m pip install mysqlclient"
   ]
  },
  {
   "cell_type": "code",
   "execution_count": null,
   "metadata": {},
   "outputs": [],
   "source": [
    "import mysql.connector\n",
    "from os import getenv\n",
    "from dotenv import load_"
   ]
  },
  {
   "cell_type": "markdown",
   "metadata": {},
   "source": [
    "## Part 2: Interacting with a MySQL Database\n",
    "In order to work with our database, we will want to use the import from above and connect to the mysql server. Once we are connected, we will create a cursory object and loop through each database:"
   ]
  },
  {
   "cell_type": "markdown",
   "metadata": {},
   "source": [
    "### Create the Connection"
   ]
  },
  {
   "cell_type": "code",
   "execution_count": null,
   "metadata": {},
   "outputs": [],
   "source": []
  },
  {
   "cell_type": "markdown",
   "metadata": {},
   "source": [
    "### Create Schema"
   ]
  },
  {
   "cell_type": "markdown",
   "metadata": {},
   "source": [
    "Now that we have verified our connection and looked at the available database schemas we can work with, we need to interact with one of these specific schema. Let's create one now to use together:"
   ]
  },
  {
   "cell_type": "code",
   "execution_count": null,
   "metadata": {},
   "outputs": [],
   "source": []
  },
  {
   "cell_type": "markdown",
   "metadata": {},
   "source": [
    "Let's verify that the new schema has been added to our database:"
   ]
  },
  {
   "cell_type": "code",
   "execution_count": null,
   "metadata": {},
   "outputs": [],
   "source": []
  },
  {
   "cell_type": "markdown",
   "metadata": {},
   "source": [
    "### Connect to DataBase"
   ]
  },
  {
   "cell_type": "markdown",
   "metadata": {},
   "source": [
    "Perfect! Looks like this now exists within our databases. Let's connect to it now"
   ]
  },
  {
   "cell_type": "code",
   "execution_count": null,
   "metadata": {},
   "outputs": [],
   "source": []
  },
  {
   "cell_type": "markdown",
   "metadata": {},
   "source": [
    "### Create Tables"
   ]
  },
  {
   "cell_type": "markdown",
   "metadata": {},
   "source": [
    "Since we just created this schema, we would have no tables present within it. So, we will making them in Python!"
   ]
  },
  {
   "cell_type": "code",
   "execution_count": null,
   "metadata": {},
   "outputs": [],
   "source": []
  },
  {
   "cell_type": "markdown",
   "metadata": {},
   "source": [
    "### Insert Data"
   ]
  },
  {
   "cell_type": "markdown",
   "metadata": {},
   "source": [
    "Great. We have successfully created a table using MySQL in Python! Now, our next step is to insert data into this table. "
   ]
  },
  {
   "cell_type": "code",
   "execution_count": null,
   "metadata": {},
   "outputs": [],
   "source": []
  },
  {
   "cell_type": "code",
   "execution_count": null,
   "metadata": {},
   "outputs": [],
   "source": [
    "\n"
   ]
  },
  {
   "cell_type": "code",
   "execution_count": null,
   "metadata": {},
   "outputs": [],
   "source": []
  },
  {
   "cell_type": "code",
   "execution_count": null,
   "metadata": {},
   "outputs": [],
   "source": []
  },
  {
   "cell_type": "markdown",
   "metadata": {},
   "source": [
    "### Building it into a Class"
   ]
  },
  {
   "cell_type": "markdown",
   "metadata": {},
   "source": [
    "How can we take the things we have learned about and transform them into a functional object that can be inserted into a program or a pipeline?\n",
    "\n",
    "Let's build a class out of it!"
   ]
  },
  {
   "cell_type": "code",
   "execution_count": null,
   "metadata": {},
   "outputs": [],
   "source": []
  }
 ],
 "metadata": {
  "kernelspec": {
   "display_name": "Python 3",
   "language": "python",
   "name": "python3"
  },
  "language_info": {
   "codemirror_mode": {
    "name": "ipython",
    "version": 3
   },
   "file_extension": ".py",
   "mimetype": "text/x-python",
   "name": "python",
   "nbconvert_exporter": "python",
   "pygments_lexer": "ipython3",
   "version": "3.11.4"
  },
  "orig_nbformat": 4
 },
 "nbformat": 4,
 "nbformat_minor": 2
}
