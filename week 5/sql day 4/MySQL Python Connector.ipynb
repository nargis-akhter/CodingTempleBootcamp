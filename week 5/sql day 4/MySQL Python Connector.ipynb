{
 "cells": [
  {
   "cell_type": "markdown",
   "metadata": {},
   "source": [
    "# Coding Temple's Data Analytics Program\n",
    "---\n",
    "## MySQL Python Connector"
   ]
  },
  {
   "cell_type": "markdown",
   "metadata": {},
   "source": [
    "### Part 1: Installs\n",
    "To begin with, we will need to install the mysql connector. Sometimes, we will also be required to make another pip install to ensure the module works properly"
   ]
  },
  {
   "cell_type": "code",
   "execution_count": null,
   "metadata": {},
   "outputs": [],
   "source": [
    "# Pip installs\n",
    "# If you need to run these installs, just uncomment each\n",
    "!python -m pip install mysql-connector-python\n",
    "\n",
    "# May sometimes need this installed as well in order for mysql to properly communicate with your program\n",
    "!python -m pip install mysqlclient"
   ]
  },
  {
   "cell_type": "code",
   "execution_count": 1,
   "metadata": {},
   "outputs": [],
   "source": [
    "# Import statements\n",
    "import mysql.connector\n",
    "from os import getenv\n",
    "from dotenv import load_dotenv"
   ]
  },
  {
   "cell_type": "markdown",
   "metadata": {},
   "source": [
    "## Part 2: Interacting with a MySQL Database\n",
    "In order to work with our database, we will want to use the import from above and connect to the mysql server. Once we are connected, we will create a cursory object and loop through each database:"
   ]
  },
  {
   "cell_type": "markdown",
   "metadata": {},
   "source": [
    "### Create the Connection"
   ]
  },
  {
   "cell_type": "code",
   "execution_count": 2,
   "metadata": {},
   "outputs": [
    {
     "name": "stdout",
     "output_type": "stream",
     "text": [
      "('bonfire_124_schema',)\n",
      "('bonfire_129',)\n",
      "('bonfire_129_mysql_connector',)\n",
      "('ct_bonfire',)\n",
      "('dvd_rentals',)\n",
      "('information_schema',)\n",
      "('mysql',)\n",
      "('performance_schema',)\n",
      "('sakila',)\n",
      "('sys',)\n",
      "('world',)\n"
     ]
    }
   ],
   "source": [
    "# Connect to MySQL server. User, password, host are all required arguments\n",
    "# Use our .env file to load all these in as environment variables\n",
    "load_dotenv(r'C:\\Users\\Alex Lucchesi\\coding-temple\\coding_temple_data_analytics_ft\\week-5\\MySQL\\.env')\n",
    "user = getenv('USER')\n",
    "password = getenv('PASSWORD')\n",
    "host = getenv('HOST')\n",
    "\n",
    "# Now, let's create our connection:\n",
    "mydb = mysql.connector.connect(user=user, password=password, host=host)\n",
    "\n",
    "# Now I can create my cursor object\n",
    "cur = mydb.cursor()\n",
    "\n",
    "# Search my connection for all database schemas present within the connection\n",
    "cur.execute('SHOW DATABASES')\n",
    "\n",
    "# Dive through the cursor, and gather all the database info:\n",
    "for x in cur:\n",
    "    print(x)\n",
    "\n",
    "# Close the connection\n",
    "# cur.close()"
   ]
  },
  {
   "cell_type": "markdown",
   "metadata": {},
   "source": [
    "### Create Schema"
   ]
  },
  {
   "cell_type": "markdown",
   "metadata": {},
   "source": [
    "Now that we have verified our connection and looked at the available database schemas we can work with, we need to interact with one of these specific schema. Let's create one now to use together:"
   ]
  },
  {
   "cell_type": "code",
   "execution_count": null,
   "metadata": {},
   "outputs": [],
   "source": [
    "cur.execute('CREATE SCHEMA IF NOT EXISTS bonfire_129_mysql_connector')"
   ]
  },
  {
   "cell_type": "markdown",
   "metadata": {},
   "source": [
    "Let's verify that the new schema has been added to our database:"
   ]
  },
  {
   "cell_type": "code",
   "execution_count": null,
   "metadata": {},
   "outputs": [],
   "source": [
    "cur.execute('SHOW DATABASES')\n",
    "for x in cur:\n",
    "    print(x)\n",
    "    \n",
    "cur.close()"
   ]
  },
  {
   "cell_type": "markdown",
   "metadata": {},
   "source": [
    "### Connect to DataBase"
   ]
  },
  {
   "cell_type": "markdown",
   "metadata": {},
   "source": [
    "Perfect! Looks like this now exists within our databases. Let's connect to it now"
   ]
  },
  {
   "cell_type": "code",
   "execution_count": 3,
   "metadata": {},
   "outputs": [
    {
     "name": "stdout",
     "output_type": "stream",
     "text": [
      "('sales',)\n"
     ]
    }
   ],
   "source": [
    "database = getenv('DATABASE')\n",
    "mydb = mysql.connector.connect(user=user, password=password, host=host, database=database)\n",
    "\n",
    "# Creeate the cursor object again:\n",
    "cur = mydb.cursor()\n",
    "\n",
    "# View the tables in the current schema:\n",
    "cur.execute('SHOW TABLES')\n",
    "for x in cur:\n",
    "    print(x)"
   ]
  },
  {
   "cell_type": "markdown",
   "metadata": {},
   "source": [
    "### Create Tables"
   ]
  },
  {
   "cell_type": "markdown",
   "metadata": {},
   "source": [
    "Since we just created this schema, we would have no tables present within it. So, we will making them in Python!"
   ]
  },
  {
   "cell_type": "code",
   "execution_count": null,
   "metadata": {},
   "outputs": [],
   "source": [
    "# Using the cursor object, we execute a sql command:\n",
    "cur.execute('CREATE TABLE IF NOT EXISTS sales (purchase_id INT, movie_title VARCHAR(500), purchase_total NUMERIC(10,2))')\n",
    "\n",
    "# Commit the changes made by us to the database\n",
    "# If we don't do this, our changes willl not save!!!\n",
    "mydb.commit()"
   ]
  },
  {
   "cell_type": "markdown",
   "metadata": {},
   "source": [
    "### Insert Data"
   ]
  },
  {
   "cell_type": "markdown",
   "metadata": {},
   "source": [
    "Great. We have successfully created a table using MySQL in Python! Now, our next step is to insert data into this table. "
   ]
  },
  {
   "cell_type": "code",
   "execution_count": 4,
   "metadata": {},
   "outputs": [],
   "source": [
    "cur.execute('INSERT INTO sales VALUES(01, \"Hocus Pocus\", 17.99)')\n",
    "cur.execute('INSERT INTO sales VALUES(02, \"Die Hard\", 22.99)')\n",
    "cur.execute('INSERT INTO sales VALUES(03, \"Kung Fu Panda\", 12.99)')"
   ]
  },
  {
   "cell_type": "code",
   "execution_count": 5,
   "metadata": {},
   "outputs": [],
   "source": [
    "mydb.commit()"
   ]
  },
  {
   "cell_type": "code",
   "execution_count": 6,
   "metadata": {},
   "outputs": [
    {
     "name": "stdout",
     "output_type": "stream",
     "text": [
      "(1, 'Hocus Pocus', Decimal('17.99'))\n",
      "(2, 'Die Hard', Decimal('22.99'))\n",
      "(3, 'Kung Fu Panda', Decimal('12.99'))\n"
     ]
    }
   ],
   "source": [
    "cur.execute('''SELECT * FROM sales''')\n",
    "for x in cur:\n",
    "    print(x)"
   ]
  },
  {
   "cell_type": "code",
   "execution_count": 7,
   "metadata": {},
   "outputs": [
    {
     "name": "stdout",
     "output_type": "stream",
     "text": [
      "(1, 'Hocus Pocus', Decimal('17.99'), None)\n",
      "(2, 'Die Hard', Decimal('22.99'), None)\n",
      "(3, 'Kung Fu Panda', Decimal('12.99'), None)\n"
     ]
    }
   ],
   "source": [
    "# Add in a quantity column? Create it as a type of integer\n",
    "cur.execute(\"ALTER TABLE sales ADD quantity INT\")\n",
    "mydb.commit()\n",
    "\n",
    "# Verify my alteration has been completed\n",
    "cur.execute('SELECT * FROM sales')\n",
    "for x in cur:\n",
    "    print(x)"
   ]
  },
  {
   "cell_type": "code",
   "execution_count": 8,
   "metadata": {},
   "outputs": [
    {
     "name": "stdout",
     "output_type": "stream",
     "text": [
      "(1, 'Hocus Pocus', Decimal('17.99'))\n",
      "(2, 'Die Hard', Decimal('22.99'))\n",
      "(3, 'Kung Fu Panda', Decimal('12.99'))\n"
     ]
    }
   ],
   "source": [
    "# Add in a quantity column? Create it as a type of integer\n",
    "cur.execute(\"ALTER TABLE sales DROP quantity\")\n",
    "mydb.commit()\n",
    "\n",
    "# Verify my alteration has been completed\n",
    "cur.execute('SELECT * FROM sales')\n",
    "for x in cur:\n",
    "    print(x)"
   ]
  },
  {
   "cell_type": "markdown",
   "metadata": {},
   "source": [
    "### Building it into a Class"
   ]
  },
  {
   "cell_type": "markdown",
   "metadata": {},
   "source": [
    "How can we take the things we have learned about and transform them into a functional object that can be inserted into a program or a pipeline?\n",
    "\n",
    "Let's build a class out of it!"
   ]
  },
  {
   "cell_type": "code",
   "execution_count": 12,
   "metadata": {},
   "outputs": [],
   "source": [
    "class MySQLCon:\n",
    "    def __init__(self):\n",
    "        self.__con = mysql.connector.connect(user='Alex', password='Batman123', host='127.0.0.1', database='bonfire_129_mysql_connector')\n",
    "        self.__cur = self.__con.cursor()\n",
    "        \n",
    "    def execute_command(self, sql_command):\n",
    "        self.__cur.execute(sql_command)\n",
    "        self.__con.commit()\n",
    "        \n",
    "    \n",
    "    def show_info(self, sql_command):\n",
    "        self.__cur.execute(sql_command)\n",
    "        for x in self.__cur:\n",
    "            yield x\n",
    "        self.__con.close()\n",
    "c = MySQLCon()\n",
    "c.execute_command('CREATE TABLE IF NOT EXISTS students(student_id INT, class VARCHAR(100), grade VARCHAR(5))')\n",
    "    "
   ]
  },
  {
   "cell_type": "code",
   "execution_count": 13,
   "metadata": {},
   "outputs": [
    {
     "name": "stdout",
     "output_type": "stream",
     "text": [
      "('sales',)\n",
      "('students',)\n"
     ]
    }
   ],
   "source": [
    "for x in c.show_info('SHOW TABLES'):\n",
    "    print(x)"
   ]
  }
 ],
 "metadata": {
  "kernelspec": {
   "display_name": "Python 3",
   "language": "python",
   "name": "python3"
  },
  "language_info": {
   "codemirror_mode": {
    "name": "ipython",
    "version": 3
   },
   "file_extension": ".py",
   "mimetype": "text/x-python",
   "name": "python",
   "nbconvert_exporter": "python",
   "pygments_lexer": "ipython3",
   "version": "3.11.5"
  },
  "orig_nbformat": 4
 },
 "nbformat": 4,
 "nbformat_minor": 2
}
