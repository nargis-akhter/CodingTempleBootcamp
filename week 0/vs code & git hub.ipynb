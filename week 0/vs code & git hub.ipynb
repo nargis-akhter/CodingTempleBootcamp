{
 "cells": [
  {
   "cell_type": "markdown",
   "metadata": {},
   "source": [
    "##### VS Code & GitHub "
   ]
  },
  {
   "cell_type": "markdown",
   "metadata": {},
   "source": [
    "git status"
   ]
  },
  {
   "cell_type": "markdown",
   "metadata": {},
   "source": [
    "git add ."
   ]
  },
  {
   "cell_type": "markdown",
   "metadata": {},
   "source": [
    "git commit -m \"message\""
   ]
  },
  {
   "cell_type": "markdown",
   "metadata": {},
   "source": [
    "git push"
   ]
  }
 ],
 "metadata": {
  "language_info": {
   "name": "python"
  }
 },
 "nbformat": 4,
 "nbformat_minor": 2
}
