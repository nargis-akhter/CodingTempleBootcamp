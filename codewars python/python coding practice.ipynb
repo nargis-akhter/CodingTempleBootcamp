{
 "cells": [
  {
   "cell_type": "markdown",
   "metadata": {},
   "source": [
    "### Python Practice"
   ]
  },
  {
   "cell_type": "markdown",
   "metadata": {},
   "source": [
    "#### Problem 1"
   ]
  },
  {
   "cell_type": "markdown",
   "metadata": {},
   "source": [
    "Write a function that removes the spaces from the string, then return the resultant string.\n",
    "Your input will always be a string that only contains spaces, numbers, and letters.\n",
    "\n",
    "Examples:\n",
    "Input -> Output\n",
    "\"8 j 8   mBliB8g  imjB8B8  jl  B\" -> \"8j8mBliB8gimjB8B8jlB\"\n",
    "\"8 8 Bi fk8h B 8 BB8B B B  B888 c hl8 BhB fd\" -> \"88Bifk8hB8BB8BBBB888chl8BhBfd\"\n",
    "\"8aaaaa dddd r     \" -> \"8aaaaaddddr\"\n",
    "\"                 \" -> \"\"\n",
    "\n",
    "#UPER\n",
    "\n",
    "#Understand, Plan, Execute, Refactor\n",
    "\n",
    "#Understand\n",
    "#Use string.replace(\" \", \"\") to remove space from string\n",
    "\n",
    "#Plan\n",
    "#Remove space from string, return string"
   ]
  },
  {
   "cell_type": "code",
   "execution_count": 1,
   "metadata": {},
   "outputs": [
    {
     "name": "stdout",
     "output_type": "stream",
     "text": [
      "8j8mBliB8gimjB8B8jlB\n",
      "HiHowareyou?\n",
      "HiHowareyou?\n"
     ]
    }
   ],
   "source": [
    "def sol():\n",
    "    word = \"8 j 8   mBliB8g  imjB8B8  jl  B\"\n",
    "    print(word.replace(\" \", \"\"))\n",
    "sol()\n",
    "\n",
    "\n",
    "def sol(word):\n",
    "    word = word.replace(\" \", \"\")\n",
    "    return word\n",
    "print(sol(\"Hi How are you?\"))\n",
    "\n",
    "\n",
    "def sol(word):\n",
    "    return word.replace(\" \", \"\")\n",
    "print(sol(\"Hi How are you?\"))"
   ]
  },
  {
   "cell_type": "markdown",
   "metadata": {},
   "source": [
    "#### Problem 2"
   ]
  },
  {
   "cell_type": "markdown",
   "metadata": {},
   "source": [
    "Looks like some hoodlum plumber and his brother has been running around and damaging your stages again.\n",
    "The pipes connecting your level's stages together need to be fixed before you receive any more complaints.\n",
    "Pipes list is correct when each pipe after the first index is greater (+1) than the previous one, and that there is no duplicates.\n",
    "\n",
    "Task\n",
    "Given the a list of numbers, return a fixed list so that the values increment by 1 for each index from the minimum value up to the maximum value (both included).\n",
    "\n",
    "Example\n",
    "Input:  1,3,5,6,7,8 Output: 1,2,3,4,5,6,7,8"
   ]
  },
  {
   "cell_type": "code",
   "execution_count": 2,
   "metadata": {},
   "outputs": [],
   "source": [
    "def get_all_pipes(have_pipes):\n",
    "    have_pipes = sorted(have_pipes)\n",
    "    min_pipe = have_pipes[0]\n",
    "    max_pipe = have_pipes[-1]\n",
    "    all_pipes = [x for x in range(min_pipe, max_pipe)]\n",
    "    return all_pipes\n",
    "\n",
    "def get_all_pipes(have_pipes):\n",
    "    return [x for x in range(min(have_pipes), max(have_pipes)+1)]"
   ]
  },
  {
   "cell_type": "markdown",
   "metadata": {},
   "source": [
    "#### Problem 3"
   ]
  },
  {
   "cell_type": "markdown",
   "metadata": {},
   "source": [
    "Complete the square sum function so that it squares each number passed into it and then sums the results together.\n",
    "For example, for [1, 2, 2] it should return 9 because 1^2+2^2+2^2=9."
   ]
  },
  {
   "cell_type": "code",
   "execution_count": 3,
   "metadata": {},
   "outputs": [
    {
     "name": "stdout",
     "output_type": "stream",
     "text": [
      "27\n"
     ]
    }
   ],
   "source": [
    "x = [3,3,3]\n",
    "\n",
    "def sum_of_squares(x):\n",
    "    \"\"\"return sum(i**2 for i in x)\"\"\"\n",
    "\n",
    "    return sum([i**2 for i in x])\n",
    "\n",
    "    \"\"\"for i in x:\n",
    "        square_list += (i**2)\n",
    "    return square_list\"\"\"\n",
    "\n",
    "print(sum_of_squares(x))"
   ]
  },
  {
   "cell_type": "markdown",
   "metadata": {},
   "source": [
    "#### Problem 4"
   ]
  },
  {
   "cell_type": "markdown",
   "metadata": {},
   "source": [
    "You get an array of numbers, return the sum of all of the positives ones.\n",
    "\n",
    "Example [1,-4,7,12] => 1 + 7 + 12 = 20\n",
    "\n",
    "Note: If there is nothing to sum, the sum is default to 0."
   ]
  },
  {
   "cell_type": "code",
   "execution_count": 6,
   "metadata": {},
   "outputs": [
    {
     "ename": "AttributeError",
     "evalue": "'int' object has no attribute 'abs'",
     "output_type": "error",
     "traceback": [
      "\u001b[1;31m---------------------------------------------------------------------------\u001b[0m",
      "\u001b[1;31mAttributeError\u001b[0m                            Traceback (most recent call last)",
      "\u001b[1;32mc:\\Users\\nargi\\Documents\\coding temple\\python practice\\python coding practice.ipynb Cell 13\u001b[0m line \u001b[0;36m4\n\u001b[0;32m      <a href='vscode-notebook-cell:/c%3A/Users/nargi/Documents/coding%20temple/python%20practice/python%20coding%20practice.ipynb#X22sZmlsZQ%3D%3D?line=0'>1</a>\u001b[0m numbers \u001b[39m=\u001b[39m [\u001b[39m1\u001b[39m,\u001b[39m-\u001b[39m\u001b[39m4\u001b[39m,\u001b[39m7\u001b[39m,\u001b[39m12\u001b[39m]\n\u001b[0;32m      <a href='vscode-notebook-cell:/c%3A/Users/nargi/Documents/coding%20temple/python%20practice/python%20coding%20practice.ipynb#X22sZmlsZQ%3D%3D?line=2'>3</a>\u001b[0m \u001b[39mfor\u001b[39;00m num \u001b[39min\u001b[39;00m numbers:\n\u001b[1;32m----> <a href='vscode-notebook-cell:/c%3A/Users/nargi/Documents/coding%20temple/python%20practice/python%20coding%20practice.ipynb#X22sZmlsZQ%3D%3D?line=3'>4</a>\u001b[0m     \u001b[39mif\u001b[39;00m num\u001b[39m.\u001b[39;49mabs() \u001b[39min\u001b[39;00m numbers:\n\u001b[0;32m      <a href='vscode-notebook-cell:/c%3A/Users/nargi/Documents/coding%20temple/python%20practice/python%20coding%20practice.ipynb#X22sZmlsZQ%3D%3D?line=4'>5</a>\u001b[0m         \u001b[39mprint\u001b[39m(\u001b[39msum\u001b[39m(\u001b[39mint\u001b[39m(num\u001b[39m.\u001b[39mabs())))\n",
      "\u001b[1;31mAttributeError\u001b[0m: 'int' object has no attribute 'abs'"
     ]
    }
   ],
   "source": [
    "numbers = [1,-4,7,12]\n",
    "\n",
    "for num in numbers:\n",
    "    if num.abs() in numbers:\n",
    "        print(sum(int(num.abs())))"
   ]
  },
  {
   "cell_type": "markdown",
   "metadata": {},
   "source": [
    "#### Problem 5"
   ]
  },
  {
   "cell_type": "markdown",
   "metadata": {},
   "source": [
    "Write a function that accepts an array of 10 integers (between 0 and 9), that returns a string of those numbers in the form of a phone number.\n",
    "\n",
    "Example\n",
    "create_phone_number([1, 2, 3, 4, 5, 6, 7, 8, 9, 0]) # => returns \"(123) 456-7890\"\n",
    "\n",
    "The returned format must be correct in order to complete this challenge.\n",
    "Don't forget the space after the closing parentheses!"
   ]
  },
  {
   "cell_type": "code",
   "execution_count": 7,
   "metadata": {},
   "outputs": [
    {
     "name": "stdout",
     "output_type": "stream",
     "text": [
      "None\n"
     ]
    }
   ],
   "source": [
    "def caller(a):\n",
    "    f'({a[0:2]}) {a[3:5]}-{a[6:]}'\n",
    "    \n",
    "print(caller([1, 2, 3, 4, 5, 6, 7, 8, 9, 0]))"
   ]
  },
  {
   "cell_type": "markdown",
   "metadata": {},
   "source": [
    "#### Problem 6"
   ]
  },
  {
   "cell_type": "markdown",
   "metadata": {},
   "source": [
    "Given an integer n, return the largest number that contains exactly n digits.\n",
    "\n",
    "Example\n",
    "For n = 2, the output should be\n",
    "solution(n) = 99."
   ]
  },
  {
   "cell_type": "code",
   "execution_count": 8,
   "metadata": {},
   "outputs": [
    {
     "name": "stdout",
     "output_type": "stream",
     "text": [
      "9999999999\n"
     ]
    }
   ],
   "source": [
    "def solution(n):\n",
    "    return int(n*'9')\n",
    "\n",
    "print(solution(10))"
   ]
  }
 ],
 "metadata": {
  "kernelspec": {
   "display_name": "Python 3",
   "language": "python",
   "name": "python3"
  },
  "language_info": {
   "codemirror_mode": {
    "name": "ipython",
    "version": 3
   },
   "file_extension": ".py",
   "mimetype": "text/x-python",
   "name": "python",
   "nbconvert_exporter": "python",
   "pygments_lexer": "ipython3",
   "version": "3.11.4"
  }
 },
 "nbformat": 4,
 "nbformat_minor": 2
}
