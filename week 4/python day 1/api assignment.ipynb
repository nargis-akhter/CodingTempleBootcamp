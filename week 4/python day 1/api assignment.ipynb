{
 "cells": [
  {
   "attachments": {},
   "cell_type": "markdown",
   "metadata": {},
   "source": [
    "# Coding Temple's Data Analytics Program\n",
    "---\n",
    "## Intro to API's Assignment\n",
    "---\n",
    "### Problem 1:\n",
    "Check out this Pokemon API https://pokeapi.co/\n",
    "Use the requests package to connect to this API and get and store data for 5 different pokemon.\n",
    "Get the pokemons: name, atleast one ability's name, base_experience, and the URL for its sprite (an image that shows up on screen) for the 'front_shiny', attack base_state, hp base_stat, defense base_stat\n",
    "\n",
    "**BONUS POINTS IF YOU CAN POPULATE THE IMAGE!**"
   ]
  },
  {
   "cell_type": "code",
   "execution_count": 6,
   "metadata": {},
   "outputs": [],
   "source": [
    "import pandas as pd\n",
    "from PIL import Image\n",
    "from io import BytesIO"
   ]
  },
  {
   "cell_type": "code",
   "execution_count": 7,
   "metadata": {},
   "outputs": [],
   "source": [
    "import requests, json"
   ]
  },
  {
   "cell_type": "code",
   "execution_count": 9,
   "metadata": {},
   "outputs": [
    {
     "name": "stdout",
     "output_type": "stream",
     "text": [
      "Pokemon Data:\n",
      "Name: pikachu\n",
      "Ability: static\n",
      "Base Experience: 112\n",
      "Sprite URL: https://raw.githubusercontent.com/PokeAPI/sprites/master/sprites/pokemon/shiny/25.png\n",
      "Attack Base Stat: 55\n",
      "HP Base Stat: 35\n",
      "Defense Base Stat: 40\n",
      "\n",
      "\n",
      "Pokemon Data:\n",
      "Name: audino\n",
      "Ability: healer\n",
      "Base Experience: 390\n",
      "Sprite URL: https://raw.githubusercontent.com/PokeAPI/sprites/master/sprites/pokemon/shiny/531.png\n",
      "Attack Base Stat: 60\n",
      "HP Base Stat: 103\n",
      "Defense Base Stat: 86\n",
      "\n",
      "\n",
      "Pokemon Data:\n",
      "Name: squirtle\n",
      "Ability: torrent\n",
      "Base Experience: 63\n",
      "Sprite URL: https://raw.githubusercontent.com/PokeAPI/sprites/master/sprites/pokemon/shiny/7.png\n",
      "Attack Base Stat: 48\n",
      "HP Base Stat: 44\n",
      "Defense Base Stat: 65\n",
      "\n",
      "\n",
      "Pokemon Data:\n",
      "Name: bulbasaur\n",
      "Ability: overgrow\n",
      "Base Experience: 64\n",
      "Sprite URL: https://raw.githubusercontent.com/PokeAPI/sprites/master/sprites/pokemon/shiny/1.png\n",
      "Attack Base Stat: 49\n",
      "HP Base Stat: 45\n",
      "Defense Base Stat: 49\n",
      "\n",
      "\n",
      "Pokemon Data:\n",
      "Name: jigglypuff\n",
      "Ability: cute-charm\n",
      "Base Experience: 95\n",
      "Sprite URL: https://raw.githubusercontent.com/PokeAPI/sprites/master/sprites/pokemon/shiny/39.png\n",
      "Attack Base Stat: 45\n",
      "HP Base Stat: 115\n",
      "Defense Base Stat: 20\n",
      "\n",
      "\n"
     ]
    }
   ],
   "source": [
    "def get_pokemon_data(pokemon_name):\n",
    "    # Make a GET request to the PokeAPI for the specified Pokemon\n",
    "    url = f\"https://pokeapi.co/api/v2/pokemon/{pokemon_name}/\"\n",
    "    response = requests.get(url)\n",
    "    if response.status_code == 200:\n",
    "        pokemon_data = response.json()\n",
    "        # Extract the desired information\n",
    "        name = pokemon_data['name']\n",
    "        ability = pokemon_data['abilities'][0]['ability']['name']\n",
    "        base_experience = pokemon_data['base_experience']\n",
    "        sprite_url = pokemon_data['sprites']['front_shiny']\n",
    "        attack_base_stat = None\n",
    "        hp_base_stat = None\n",
    "        defense_base_stat = None\n",
    "        for stat in pokemon_data['stats']:\n",
    "            if stat['stat']['name'] == 'attack':\n",
    "                attack_base_stat = stat['base_stat']\n",
    "            elif stat['stat']['name'] == 'hp':\n",
    "                hp_base_stat = stat['base_stat']\n",
    "            elif stat['stat']['name'] == 'defense':\n",
    "                defense_base_stat = stat['base_stat']\n",
    "        return {\n",
    "            'Name': name,\n",
    "            'Ability': ability,\n",
    "            'Base Experience': base_experience,\n",
    "            'Sprite URL': sprite_url,\n",
    "            'Attack Base Stat': attack_base_stat,\n",
    "            'HP Base Stat': hp_base_stat,\n",
    "            'Defense Base Stat': defense_base_stat\n",
    "        }\n",
    "    else:\n",
    "        print(f\"Failed to fetch data for {pokemon_name}. Status code: {response.status_code}\")\n",
    "        return None\n",
    "# List of Pokemon to fetch data for\n",
    "pokemon_names = ['pikachu', 'audino', 'squirtle', 'bulbasaur', 'jigglypuff']\n",
    "# Fetch data for each Pokemon and store it in a list of dictionaries\n",
    "pokemon_data_list = []\n",
    "for name in pokemon_names:\n",
    "    pokemon_data = get_pokemon_data(name)\n",
    "    if pokemon_data:\n",
    "        pokemon_data_list.append(pokemon_data)\n",
    "# Print the collected data for each Pokemon\n",
    "for pokemon_data in pokemon_data_list:\n",
    "    print(\"Pokemon Data:\")\n",
    "    for key, value in pokemon_data.items():\n",
    "        print(f\"{key}: {value}\")\n",
    "    print(\"\\n\")\n",
    "\n",
    "        "
   ]
  },
  {
   "attachments": {},
   "cell_type": "markdown",
   "metadata": {},
   "source": [
    "### Problem 2:\n",
    "\n",
    "I want to build the best Pokemon team I can and I need your help to do so! Using the API, build me a team of 6 pokemon who's base-stats are above 60. Return any additional information you think is needed to help understand why you chose that pokemon for the team!"
   ]
  },
  {
   "cell_type": "code",
   "execution_count": null,
   "metadata": {},
   "outputs": [],
   "source": [
    "# Function to get Pokémon data by id\n",
    "def get_pokemon_data(pokemon_id):\n",
    "    url = f\"https://pokeapi.co/api/v2/pokemon/{pokemon_id}/\"\n",
    "    response = requests.get(url)\n",
    "    if response.status_code == 200:\n",
    "        return response.json()\n",
    "    else:\n",
    "        return None\n",
    "# Function to filter Pokémon with base stats above 60\n",
    "def filter_pokemon_by_base_stats(pokemon_list):\n",
    "    filtered_pokemon = []\n",
    "    for pokemon in pokemon_list:\n",
    "        if all(stat['base_stat'] > 60 for stat in pokemon['stats']):\n",
    "            filtered_pokemon.append(pokemon)\n",
    "    return filtered_pokemon\n",
    "# Function to print additional information about a Pokémon\n",
    "def print_pokemon_info(pokemon):\n",
    "    print(f\"Name: {pokemon['name'].capitalize()}\")\n",
    "    print(\"Base Stats:\")\n",
    "    for stat in pokemon['stats']:\n",
    "        print(f\"{stat['stat']['name'].capitalize()}: {stat['base_stat']}\")\n",
    "    print(\"Types:\", ', '.join([t['type']['name'].capitalize() for t in pokemon['types']]))\n",
    "    print(\"Abilities:\", ', '.join([a['ability']['name'].capitalize() for a in pokemon['abilities']]))\n",
    "    print()"
   ]
  },
  {
   "attachments": {},
   "cell_type": "markdown",
   "metadata": {},
   "source": [
    "### Problem 3:\n",
    "\n",
    "Create a function that does the following:\n",
    "* Input: pokemon_name(user_defined) -> str\n",
    "* Output: list object containing a dictionary of values from the response object.\n",
    "* Please include the type, the most current raritey level, at least one held item, and all stats"
   ]
  },
  {
   "cell_type": "code",
   "execution_count": null,
   "metadata": {},
   "outputs": [],
   "source": []
  }
 ],
 "metadata": {
  "kernelspec": {
   "display_name": "Python 3",
   "language": "python",
   "name": "python3"
  },
  "language_info": {
   "codemirror_mode": {
    "name": "ipython",
    "version": 3
   },
   "file_extension": ".py",
   "mimetype": "text/x-python",
   "name": "python",
   "nbconvert_exporter": "python",
   "pygments_lexer": "ipython3",
   "version": "3.11.4"
  },
  "orig_nbformat": 4,
  "vscode": {
   "interpreter": {
    "hash": "26de051ba29f2982a8de78e945f0abaf191376122a1563185a90213a26c5da77"
   }
  }
 },
 "nbformat": 4,
 "nbformat_minor": 2
}
