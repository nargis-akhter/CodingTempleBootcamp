{
 "cells": [
  {
   "attachments": {},
   "cell_type": "markdown",
   "metadata": {},
   "source": [
    "### **What is Plotly?**\n",
    "\n",
    "Plotly is a data visualization library that allows you to create interactive plots with very little code. The part of the library we will be working with today is called Plotly Express, which is built upon the Plotly Graph Objects. This provides a lower-level interface for developing custom visualizations."
   ]
  },
  {
   "attachments": {},
   "cell_type": "markdown",
   "metadata": {},
   "source": [
    "### **Imports**"
   ]
  },
  {
   "cell_type": "code",
   "execution_count": 5,
   "metadata": {},
   "outputs": [
    {
     "name": "stdout",
     "output_type": "stream",
     "text": [
      "Requirement already satisfied: plotly in c:\\users\\nargi\\appdata\\local\\programs\\python\\python311\\lib\\site-packages (5.17.0)"
     ]
    },
    {
     "name": "stderr",
     "output_type": "stream",
     "text": [
      "\n",
      "[notice] A new release of pip is available: 23.1.2 -> 23.2.1\n",
      "[notice] To update, run: python.exe -m pip install --upgrade pip\n"
     ]
    },
    {
     "name": "stdout",
     "output_type": "stream",
     "text": [
      "\n",
      "Requirement already satisfied: tenacity>=6.2.0 in c:\\users\\nargi\\appdata\\local\\programs\\python\\python311\\lib\\site-packages (from plotly) (8.2.3)\n",
      "Requirement already satisfied: packaging in c:\\users\\nargi\\appdata\\roaming\\python\\python311\\site-packages (from plotly) (23.1)\n"
     ]
    }
   ],
   "source": [
    "! pip install plotly"
   ]
  },
  {
   "cell_type": "code",
   "execution_count": 6,
   "metadata": {},
   "outputs": [
    {
     "name": "stdout",
     "output_type": "stream",
     "text": [
      "Collecting plotly\n",
      "  Downloading plotly-5.17.0-py2.py3-none-any.whl (15.6 MB)\n",
      "                                              0.0/15.6 MB ? eta -:--:--\n",
      "                                             0.0/15.6 MB 960.0 kB/s eta 0:00:17\n",
      "                                              0.1/15.6 MB 1.0 MB/s eta 0:00:15\n",
      "                                              0.1/15.6 MB 1.1 MB/s eta 0:00:15\n",
      "                                              0.2/15.6 MB 1.1 MB/s eta 0:00:15\n",
      "                                              0.2/15.6 MB 1.0 MB/s eta 0:00:15\n",
      "                                              0.3/15.6 MB 1.0 MB/s eta 0:00:16\n",
      "                                              0.3/15.6 MB 1.0 MB/s eta 0:00:15\n",
      "     -                                        0.4/15.6 MB 1.2 MB/s eta 0:00:14\n",
      "     -                                        0.5/15.6 MB 1.2 MB/s eta 0:00:14\n",
      "     -                                        0.5/15.6 MB 1.2 MB/s eta 0:00:14\n",
      "     -                                        0.5/15.6 MB 1.1 MB/s eta 0:00:14\n",
      "     -                                        0.6/15.6 MB 1.1 MB/s eta 0:00:14\n",
      "     -                                        0.7/15.6 MB 1.1 MB/s eta 0:00:14\n",
      "     -                                        0.7/15.6 MB 1.2 MB/s eta 0:00:13\n",
      "     --                                       0.8/15.6 MB 1.1 MB/s eta 0:00:13\n",
      "     --                                       0.9/15.6 MB 1.2 MB/s eta 0:00:13\n",
      "     --                                       0.9/15.6 MB 1.2 MB/s eta 0:00:13\n",
      "     --                                       1.0/15.6 MB 1.2 MB/s eta 0:00:13\n",
      "     --                                       1.1/15.6 MB 1.2 MB/s eta 0:00:13\n",
      "     --                                       1.1/15.6 MB 1.2 MB/s eta 0:00:13\n",
      "     --                                       1.2/15.6 MB 1.2 MB/s eta 0:00:13\n",
      "     ---                                      1.2/15.6 MB 1.2 MB/s eta 0:00:12\n",
      "     ---                                      1.3/15.6 MB 1.2 MB/s eta 0:00:13\n",
      "     ---                                      1.4/15.6 MB 1.2 MB/s eta 0:00:12\n",
      "     ---                                      1.4/15.6 MB 1.2 MB/s eta 0:00:12\n",
      "     ---                                      1.5/15.6 MB 1.2 MB/s eta 0:00:12\n",
      "     ----                                     1.6/15.6 MB 1.2 MB/s eta 0:00:12\n",
      "     ----                                     1.6/15.6 MB 1.3 MB/s eta 0:00:12\n",
      "     ----                                     1.7/15.6 MB 1.3 MB/s eta 0:00:12\n",
      "     ----                                     1.8/15.6 MB 1.3 MB/s eta 0:00:11\n",
      "     ----                                     1.9/15.6 MB 1.3 MB/s eta 0:00:11\n",
      "     -----                                    2.0/15.6 MB 1.3 MB/s eta 0:00:11\n",
      "     -----                                    2.0/15.6 MB 1.3 MB/s eta 0:00:11\n",
      "     -----                                    2.1/15.6 MB 1.3 MB/s eta 0:00:11\n",
      "     -----                                    2.2/15.6 MB 1.3 MB/s eta 0:00:11\n",
      "     -----                                    2.2/15.6 MB 1.3 MB/s eta 0:00:11\n",
      "     -----                                    2.2/15.6 MB 1.3 MB/s eta 0:00:11\n",
      "     -----                                    2.2/15.6 MB 1.3 MB/s eta 0:00:11\n",
      "     -----                                    2.2/15.6 MB 1.3 MB/s eta 0:00:11\n",
      "     -----                                    2.3/15.6 MB 1.3 MB/s eta 0:00:11\n",
      "     ------                                   2.4/15.6 MB 1.2 MB/s eta 0:00:11\n",
      "     ------                                   2.4/15.6 MB 1.3 MB/s eta 0:00:11\n",
      "     ------                                   2.5/15.6 MB 1.2 MB/s eta 0:00:11\n",
      "     ------                                   2.5/15.6 MB 1.3 MB/s eta 0:00:11\n",
      "     ------                                   2.6/15.6 MB 1.3 MB/s eta 0:00:11\n",
      "     ------                                   2.7/15.6 MB 1.3 MB/s eta 0:00:11\n",
      "     ------                                   2.7/15.6 MB 1.3 MB/s eta 0:00:11\n",
      "     ------                                   2.7/15.6 MB 1.3 MB/s eta 0:00:11\n",
      "     ------                                   2.7/15.6 MB 1.3 MB/s eta 0:00:11\n",
      "     -------                                  2.8/15.6 MB 1.2 MB/s eta 0:00:11\n",
      "     -------                                  2.8/15.6 MB 1.2 MB/s eta 0:00:11\n",
      "     -------                                  2.9/15.6 MB 1.2 MB/s eta 0:00:11\n",
      "     -------                                  2.9/15.6 MB 1.2 MB/s eta 0:00:11\n",
      "     -------                                  3.0/15.6 MB 1.2 MB/s eta 0:00:11\n",
      "     -------                                  3.0/15.6 MB 1.2 MB/s eta 0:00:11\n",
      "     -------                                  3.1/15.6 MB 1.2 MB/s eta 0:00:11\n",
      "     --------                                 3.2/15.6 MB 1.2 MB/s eta 0:00:11\n",
      "     --------                                 3.3/15.6 MB 1.2 MB/s eta 0:00:11\n",
      "     --------                                 3.3/15.6 MB 1.2 MB/s eta 0:00:11\n",
      "     --------                                 3.4/15.6 MB 1.2 MB/s eta 0:00:11\n",
      "     --------                                 3.5/15.6 MB 1.2 MB/s eta 0:00:11\n",
      "     ---------                                3.5/15.6 MB 1.2 MB/s eta 0:00:10\n",
      "     ---------                                3.6/15.6 MB 1.2 MB/s eta 0:00:10\n",
      "     ---------                                3.7/15.6 MB 1.2 MB/s eta 0:00:10\n",
      "     ---------                                3.7/15.6 MB 1.2 MB/s eta 0:00:10\n",
      "     ---------                                3.8/15.6 MB 1.2 MB/s eta 0:00:10\n",
      "     ---------                                3.9/15.6 MB 1.2 MB/s eta 0:00:10\n",
      "     ----------                               3.9/15.6 MB 1.2 MB/s eta 0:00:10\n",
      "     ----------                               4.0/15.6 MB 1.2 MB/s eta 0:00:10\n",
      "     ----------                               4.0/15.6 MB 1.2 MB/s eta 0:00:10\n",
      "     ----------                               4.1/15.6 MB 1.2 MB/s eta 0:00:10\n",
      "     ----------                               4.1/15.6 MB 1.2 MB/s eta 0:00:10\n",
      "     ----------                               4.2/15.6 MB 1.2 MB/s eta 0:00:10\n",
      "     ----------                               4.2/15.6 MB 1.2 MB/s eta 0:00:10\n",
      "     -----------                              4.3/15.6 MB 1.2 MB/s eta 0:00:10\n",
      "     -----------                              4.3/15.6 MB 1.2 MB/s eta 0:00:10\n",
      "     -----------                              4.4/15.6 MB 1.2 MB/s eta 0:00:10\n",
      "     -----------                              4.4/15.6 MB 1.2 MB/s eta 0:00:10\n",
      "     -----------                              4.5/15.6 MB 1.2 MB/s eta 0:00:10\n",
      "     -----------                              4.6/15.6 MB 1.2 MB/s eta 0:00:10\n",
      "     -----------                              4.6/15.6 MB 1.2 MB/s eta 0:00:09\n",
      "     -----------                              4.7/15.6 MB 1.2 MB/s eta 0:00:09\n",
      "     ------------                             4.7/15.6 MB 1.2 MB/s eta 0:00:09\n",
      "     ------------                             4.8/15.6 MB 1.2 MB/s eta 0:00:09\n",
      "     ------------                             4.8/15.6 MB 1.2 MB/s eta 0:00:09\n",
      "     ------------                             4.9/15.6 MB 1.2 MB/s eta 0:00:09\n",
      "     ------------                             4.9/15.6 MB 1.2 MB/s eta 0:00:09\n",
      "     ------------                             5.0/15.6 MB 1.2 MB/s eta 0:00:09\n",
      "     -------------                            5.1/15.6 MB 1.2 MB/s eta 0:00:09\n",
      "     -------------                            5.2/15.6 MB 1.2 MB/s eta 0:00:09\n",
      "     -------------                            5.2/15.6 MB 1.2 MB/s eta 0:00:09\n",
      "     -------------                            5.3/15.6 MB 1.2 MB/s eta 0:00:09\n",
      "     -------------                            5.3/15.6 MB 1.2 MB/s eta 0:00:09\n",
      "     -------------                            5.4/15.6 MB 1.2 MB/s eta 0:00:09\n",
      "     -------------                            5.4/15.6 MB 1.2 MB/s eta 0:00:09\n",
      "     -------------                            5.4/15.6 MB 1.2 MB/s eta 0:00:09\n",
      "     --------------                           5.5/15.6 MB 1.2 MB/s eta 0:00:09\n",
      "     --------------                           5.5/15.6 MB 1.2 MB/s eta 0:00:09\n",
      "     --------------                           5.6/15.6 MB 1.2 MB/s eta 0:00:09\n",
      "     --------------                           5.6/15.6 MB 1.2 MB/s eta 0:00:09\n",
      "     --------------                           5.6/15.6 MB 1.2 MB/s eta 0:00:09\n",
      "     --------------                           5.7/15.6 MB 1.2 MB/s eta 0:00:09\n",
      "     --------------                           5.7/15.6 MB 1.2 MB/s eta 0:00:09\n",
      "     --------------                           5.7/15.6 MB 1.2 MB/s eta 0:00:09\n",
      "     --------------                           5.7/15.6 MB 1.2 MB/s eta 0:00:09\n",
      "     --------------                           5.8/15.6 MB 1.2 MB/s eta 0:00:09\n",
      "     --------------                           5.8/15.6 MB 1.2 MB/s eta 0:00:09\n",
      "     ---------------                          5.9/15.6 MB 1.2 MB/s eta 0:00:09\n",
      "     ---------------                          6.0/15.6 MB 1.2 MB/s eta 0:00:09\n",
      "     ---------------                          6.1/15.6 MB 1.2 MB/s eta 0:00:09\n",
      "     ---------------                          6.1/15.6 MB 1.2 MB/s eta 0:00:09\n",
      "     ---------------                          6.2/15.6 MB 1.2 MB/s eta 0:00:08\n",
      "     ---------------                          6.2/15.6 MB 1.2 MB/s eta 0:00:08\n",
      "     ----------------                         6.3/15.6 MB 1.2 MB/s eta 0:00:08\n",
      "     ----------------                         6.4/15.6 MB 1.2 MB/s eta 0:00:08\n",
      "     ----------------                         6.4/15.6 MB 1.2 MB/s eta 0:00:08\n",
      "     ----------------                         6.5/15.6 MB 1.2 MB/s eta 0:00:08\n",
      "     ----------------                         6.6/15.6 MB 1.2 MB/s eta 0:00:08\n",
      "     ----------------                         6.6/15.6 MB 1.2 MB/s eta 0:00:08\n",
      "     -----------------                        6.7/15.6 MB 1.2 MB/s eta 0:00:08\n",
      "     -----------------                        6.8/15.6 MB 1.2 MB/s eta 0:00:08\n",
      "     -----------------                        6.9/15.6 MB 1.2 MB/s eta 0:00:08\n",
      "     -----------------                        6.9/15.6 MB 1.2 MB/s eta 0:00:08\n",
      "     -----------------                        7.0/15.6 MB 1.2 MB/s eta 0:00:08\n",
      "     ------------------                       7.1/15.6 MB 1.2 MB/s eta 0:00:08\n",
      "     ------------------                       7.2/15.6 MB 1.2 MB/s eta 0:00:07\n",
      "     ------------------                       7.2/15.6 MB 1.2 MB/s eta 0:00:07\n",
      "     ------------------                       7.3/15.6 MB 1.2 MB/s eta 0:00:07\n",
      "     ------------------                       7.4/15.6 MB 1.2 MB/s eta 0:00:07\n",
      "     -------------------                      7.4/15.6 MB 1.2 MB/s eta 0:00:07\n",
      "     -------------------                      7.5/15.6 MB 1.2 MB/s eta 0:00:07\n",
      "     -------------------                      7.6/15.6 MB 1.2 MB/s eta 0:00:07\n",
      "     -------------------                      7.6/15.6 MB 1.2 MB/s eta 0:00:07\n",
      "     -------------------                      7.7/15.6 MB 1.2 MB/s eta 0:00:07\n",
      "     -------------------                      7.8/15.6 MB 1.2 MB/s eta 0:00:07\n",
      "     --------------------                     7.9/15.6 MB 1.2 MB/s eta 0:00:07\n",
      "     --------------------                     7.9/15.6 MB 1.2 MB/s eta 0:00:07\n",
      "     --------------------                     8.0/15.6 MB 1.2 MB/s eta 0:00:07\n",
      "     --------------------                     8.1/15.6 MB 1.2 MB/s eta 0:00:07\n",
      "     --------------------                     8.2/15.6 MB 1.3 MB/s eta 0:00:06\n",
      "     ---------------------                    8.2/15.6 MB 1.3 MB/s eta 0:00:06\n",
      "     ---------------------                    8.3/15.6 MB 1.3 MB/s eta 0:00:06\n",
      "     ---------------------                    8.4/15.6 MB 1.3 MB/s eta 0:00:06\n",
      "     ---------------------                    8.4/15.6 MB 1.3 MB/s eta 0:00:06\n",
      "     ---------------------                    8.5/15.6 MB 1.3 MB/s eta 0:00:06\n",
      "     ---------------------                    8.6/15.6 MB 1.3 MB/s eta 0:00:06\n",
      "     ----------------------                   8.7/15.6 MB 1.3 MB/s eta 0:00:06\n",
      "     ----------------------                   8.8/15.6 MB 1.3 MB/s eta 0:00:06\n",
      "     ----------------------                   8.8/15.6 MB 1.3 MB/s eta 0:00:06\n",
      "     ----------------------                   8.9/15.6 MB 1.3 MB/s eta 0:00:06\n",
      "     ----------------------                   9.0/15.6 MB 1.3 MB/s eta 0:00:06\n",
      "     -----------------------                  9.1/15.6 MB 1.3 MB/s eta 0:00:06\n",
      "     -----------------------                  9.1/15.6 MB 1.3 MB/s eta 0:00:06\n",
      "     -----------------------                  9.2/15.6 MB 1.3 MB/s eta 0:00:06\n",
      "     -----------------------                  9.2/15.6 MB 1.3 MB/s eta 0:00:05\n",
      "     -----------------------                  9.3/15.6 MB 1.3 MB/s eta 0:00:05\n",
      "     ------------------------                 9.4/15.6 MB 1.3 MB/s eta 0:00:05\n",
      "     ------------------------                 9.5/15.6 MB 1.3 MB/s eta 0:00:05\n",
      "     ------------------------                 9.5/15.6 MB 1.3 MB/s eta 0:00:05\n",
      "     ------------------------                 9.6/15.6 MB 1.3 MB/s eta 0:00:05\n",
      "     ------------------------                 9.6/15.6 MB 1.3 MB/s eta 0:00:05\n",
      "     ------------------------                 9.7/15.6 MB 1.3 MB/s eta 0:00:05\n",
      "     -------------------------                9.8/15.6 MB 1.3 MB/s eta 0:00:05\n",
      "     -------------------------                9.9/15.6 MB 1.3 MB/s eta 0:00:05\n",
      "     -------------------------                10.0/15.6 MB 1.3 MB/s eta 0:00:05\n",
      "     -------------------------                10.0/15.6 MB 1.3 MB/s eta 0:00:05\n",
      "     -------------------------                10.1/15.6 MB 1.3 MB/s eta 0:00:05\n",
      "     --------------------------               10.2/15.6 MB 1.3 MB/s eta 0:00:05\n",
      "     --------------------------               10.3/15.6 MB 1.3 MB/s eta 0:00:05\n",
      "     --------------------------               10.3/15.6 MB 1.3 MB/s eta 0:00:05\n",
      "     --------------------------               10.4/15.6 MB 1.3 MB/s eta 0:00:05\n",
      "     --------------------------               10.4/15.6 MB 1.3 MB/s eta 0:00:04\n",
      "     --------------------------               10.5/15.6 MB 1.3 MB/s eta 0:00:04\n",
      "     ---------------------------              10.6/15.6 MB 1.3 MB/s eta 0:00:04\n",
      "     ---------------------------              10.7/15.6 MB 1.3 MB/s eta 0:00:04\n",
      "     ---------------------------              10.7/15.6 MB 1.3 MB/s eta 0:00:04\n",
      "     ---------------------------              10.8/15.6 MB 1.3 MB/s eta 0:00:04\n",
      "     ---------------------------              10.9/15.6 MB 1.3 MB/s eta 0:00:04\n",
      "     ----------------------------             11.0/15.6 MB 1.3 MB/s eta 0:00:04\n",
      "     ----------------------------             11.0/15.6 MB 1.3 MB/s eta 0:00:04\n",
      "     ----------------------------             11.1/15.6 MB 1.3 MB/s eta 0:00:04\n",
      "     ----------------------------             11.2/15.6 MB 1.3 MB/s eta 0:00:04\n",
      "     ----------------------------             11.3/15.6 MB 1.3 MB/s eta 0:00:04\n",
      "     -----------------------------            11.4/15.6 MB 1.3 MB/s eta 0:00:04\n",
      "     -----------------------------            11.4/15.6 MB 1.3 MB/s eta 0:00:04\n",
      "     -----------------------------            11.5/15.6 MB 1.3 MB/s eta 0:00:04\n",
      "     -----------------------------            11.6/15.6 MB 1.4 MB/s eta 0:00:03\n",
      "     -----------------------------            11.7/15.6 MB 1.3 MB/s eta 0:00:03\n",
      "     ------------------------------           11.7/15.6 MB 1.3 MB/s eta 0:00:03\n",
      "     ------------------------------           11.8/15.6 MB 1.3 MB/s eta 0:00:03\n",
      "     ------------------------------           11.9/15.6 MB 1.3 MB/s eta 0:00:03\n",
      "     ------------------------------           12.0/15.6 MB 1.3 MB/s eta 0:00:03\n",
      "     ------------------------------           12.1/15.6 MB 1.3 MB/s eta 0:00:03\n",
      "     -------------------------------          12.2/15.6 MB 1.3 MB/s eta 0:00:03\n",
      "     -------------------------------          12.2/15.6 MB 1.3 MB/s eta 0:00:03\n",
      "     -------------------------------          12.3/15.6 MB 1.4 MB/s eta 0:00:03\n",
      "     -------------------------------          12.3/15.6 MB 1.4 MB/s eta 0:00:03\n",
      "     -------------------------------          12.3/15.6 MB 1.3 MB/s eta 0:00:03\n",
      "     -------------------------------          12.4/15.6 MB 1.3 MB/s eta 0:00:03\n",
      "     -------------------------------          12.4/15.6 MB 1.4 MB/s eta 0:00:03\n",
      "     -------------------------------          12.5/15.6 MB 1.4 MB/s eta 0:00:03\n",
      "     --------------------------------         12.6/15.6 MB 1.4 MB/s eta 0:00:03\n",
      "     --------------------------------         12.6/15.6 MB 1.4 MB/s eta 0:00:03\n",
      "     --------------------------------         12.7/15.6 MB 1.4 MB/s eta 0:00:03\n",
      "     --------------------------------         12.8/15.6 MB 1.4 MB/s eta 0:00:03\n",
      "     --------------------------------         12.9/15.6 MB 1.4 MB/s eta 0:00:03\n",
      "     ---------------------------------        12.9/15.6 MB 1.4 MB/s eta 0:00:02\n",
      "     ---------------------------------        12.9/15.6 MB 1.4 MB/s eta 0:00:02\n",
      "     ---------------------------------        13.0/15.6 MB 1.4 MB/s eta 0:00:02\n",
      "     ---------------------------------        13.1/15.6 MB 1.4 MB/s eta 0:00:02\n",
      "     ---------------------------------        13.2/15.6 MB 1.4 MB/s eta 0:00:02\n",
      "     ---------------------------------        13.3/15.6 MB 1.4 MB/s eta 0:00:02\n",
      "     ---------------------------------        13.3/15.6 MB 1.4 MB/s eta 0:00:02\n",
      "     ----------------------------------       13.3/15.6 MB 1.4 MB/s eta 0:00:02\n",
      "     ----------------------------------       13.4/15.6 MB 1.4 MB/s eta 0:00:02\n",
      "     ----------------------------------       13.4/15.6 MB 1.4 MB/s eta 0:00:02\n",
      "     ----------------------------------       13.5/15.6 MB 1.4 MB/s eta 0:00:02\n",
      "     ----------------------------------       13.6/15.6 MB 1.4 MB/s eta 0:00:02\n",
      "     ----------------------------------       13.6/15.6 MB 1.4 MB/s eta 0:00:02\n",
      "     ----------------------------------       13.7/15.6 MB 1.4 MB/s eta 0:00:02\n",
      "     -----------------------------------      13.7/15.6 MB 1.4 MB/s eta 0:00:02\n",
      "     -----------------------------------      13.8/15.6 MB 1.4 MB/s eta 0:00:02\n",
      "     -----------------------------------      13.8/15.6 MB 1.4 MB/s eta 0:00:02\n",
      "     -----------------------------------      13.9/15.6 MB 1.4 MB/s eta 0:00:02\n",
      "     -----------------------------------      14.0/15.6 MB 1.4 MB/s eta 0:00:02\n",
      "     -----------------------------------      14.1/15.6 MB 1.4 MB/s eta 0:00:02\n",
      "     ------------------------------------     14.1/15.6 MB 1.4 MB/s eta 0:00:02\n",
      "     ------------------------------------     14.2/15.6 MB 1.4 MB/s eta 0:00:02\n",
      "     ------------------------------------     14.2/15.6 MB 1.4 MB/s eta 0:00:02\n",
      "     ------------------------------------     14.3/15.6 MB 1.4 MB/s eta 0:00:01\n",
      "     ------------------------------------     14.4/15.6 MB 1.4 MB/s eta 0:00:01\n",
      "     ------------------------------------     14.4/15.6 MB 1.4 MB/s eta 0:00:01\n",
      "     -------------------------------------    14.5/15.6 MB 1.4 MB/s eta 0:00:01\n",
      "     -------------------------------------    14.6/15.6 MB 1.4 MB/s eta 0:00:01\n",
      "     -------------------------------------    14.7/15.6 MB 1.4 MB/s eta 0:00:01\n",
      "     -------------------------------------    14.7/15.6 MB 1.4 MB/s eta 0:00:01\n",
      "     -------------------------------------    14.8/15.6 MB 1.4 MB/s eta 0:00:01\n",
      "     --------------------------------------   14.9/15.6 MB 1.4 MB/s eta 0:00:01\n",
      "     --------------------------------------   15.0/15.6 MB 1.4 MB/s eta 0:00:01\n",
      "     --------------------------------------   15.1/15.6 MB 1.4 MB/s eta 0:00:01\n",
      "     --------------------------------------   15.2/15.6 MB 1.4 MB/s eta 0:00:01\n",
      "     --------------------------------------   15.2/15.6 MB 1.4 MB/s eta 0:00:01\n",
      "     ---------------------------------------  15.3/15.6 MB 1.4 MB/s eta 0:00:01\n",
      "     ---------------------------------------  15.4/15.6 MB 1.4 MB/s eta 0:00:01\n",
      "     ---------------------------------------  15.5/15.6 MB 1.4 MB/s eta 0:00:01\n",
      "     ---------------------------------------  15.5/15.6 MB 1.4 MB/s eta 0:00:01\n",
      "     ---------------------------------------  15.6/15.6 MB 1.4 MB/s eta 0:00:01\n",
      "     ---------------------------------------  15.6/15.6 MB 1.4 MB/s eta 0:00:01\n",
      "     ---------------------------------------  15.6/15.6 MB 1.4 MB/s eta 0:00:01\n",
      "     ---------------------------------------- 15.6/15.6 MB 1.4 MB/s eta 0:00:00\n",
      "Collecting tenacity>=6.2.0 (from plotly)\n",
      "  Downloading tenacity-8.2.3-py3-none-any.whl (24 kB)\n",
      "Requirement already satisfied: packaging in c:\\users\\nargi\\appdata\\roaming\\python\\python311\\site-packages (from plotly) (23.1)\n",
      "Installing collected packages: tenacity, plotly\n",
      "Successfully installed plotly-5.17.0 tenacity-8.2.3\n"
     ]
    },
    {
     "name": "stderr",
     "output_type": "stream",
     "text": [
      "\n",
      "[notice] A new release of pip is available: 23.1.2 -> 23.2.1\n",
      "[notice] To update, run: python.exe -m pip install --upgrade pip\n"
     ]
    }
   ],
   "source": [
    "import plotly as px"
   ]
  },
  {
   "attachments": {},
   "cell_type": "markdown",
   "metadata": {},
   "source": [
    "### **Basic Visualizations with Plotly**"
   ]
  },
  {
   "attachments": {},
   "cell_type": "markdown",
   "metadata": {},
   "source": [
    "#### *Line Plots*"
   ]
  },
  {
   "cell_type": "code",
   "execution_count": null,
   "metadata": {},
   "outputs": [],
   "source": []
  },
  {
   "cell_type": "code",
   "execution_count": null,
   "metadata": {},
   "outputs": [],
   "source": []
  },
  {
   "attachments": {},
   "cell_type": "markdown",
   "metadata": {},
   "source": [
    "#### *Bar Chart*"
   ]
  },
  {
   "cell_type": "code",
   "execution_count": null,
   "metadata": {},
   "outputs": [],
   "source": []
  },
  {
   "attachments": {},
   "cell_type": "markdown",
   "metadata": {},
   "source": [
    "#### *Histogram*"
   ]
  },
  {
   "cell_type": "code",
   "execution_count": null,
   "metadata": {},
   "outputs": [],
   "source": []
  },
  {
   "attachments": {},
   "cell_type": "markdown",
   "metadata": {},
   "source": [
    "#### *Heatmap*"
   ]
  },
  {
   "cell_type": "code",
   "execution_count": null,
   "metadata": {},
   "outputs": [],
   "source": []
  },
  {
   "cell_type": "code",
   "execution_count": null,
   "metadata": {},
   "outputs": [],
   "source": []
  },
  {
   "attachments": {},
   "cell_type": "markdown",
   "metadata": {},
   "source": [
    "### **Uncommon Plot Types**\n"
   ]
  },
  {
   "attachments": {},
   "cell_type": "markdown",
   "metadata": {},
   "source": [
    "#### *Box Plot - Basic*"
   ]
  },
  {
   "cell_type": "code",
   "execution_count": null,
   "metadata": {},
   "outputs": [],
   "source": []
  },
  {
   "attachments": {},
   "cell_type": "markdown",
   "metadata": {},
   "source": [
    "#### *Box Plot - Customized*"
   ]
  },
  {
   "cell_type": "code",
   "execution_count": null,
   "metadata": {},
   "outputs": [],
   "source": []
  },
  {
   "attachments": {},
   "cell_type": "markdown",
   "metadata": {},
   "source": [
    "#### *Violin Graph - Basic*"
   ]
  },
  {
   "cell_type": "code",
   "execution_count": null,
   "metadata": {},
   "outputs": [],
   "source": []
  },
  {
   "attachments": {},
   "cell_type": "markdown",
   "metadata": {},
   "source": [
    "#### *Violin Graph - Customized*"
   ]
  },
  {
   "cell_type": "code",
   "execution_count": null,
   "metadata": {},
   "outputs": [],
   "source": []
  },
  {
   "cell_type": "code",
   "execution_count": null,
   "metadata": {},
   "outputs": [],
   "source": []
  },
  {
   "attachments": {},
   "cell_type": "markdown",
   "metadata": {},
   "source": [
    "### **Interactive Controls**\n",
    "\n",
    "![](https://images.plot.ly/plotly-documentation/thumbnail/modebar-icons.png)\n",
    "\n",
    "Plotly has built-in controls on all their graphics. In these controls, we can do things like: \n",
    "* **Download:** Download the current plot as a png file\n",
    "* **Pan:** Move around the plot\n",
    "* **Box Select:** Select a rectangle on the plot to be highlighted\n",
    "* **Lasso Select:** Draw a region on the plot to be highlighted\n",
    "* **AutoScale:** Zoom to a best scale\n",
    "* **Reset Axes:** Return the plot to its original state\n",
    "* **Toggle Spike Lines:** Show or hide lines to the axes whenever you hover over data\n",
    "* **Show Closest Data on Hover:** Show details for the nearest data point\n",
    "* **Compare Data on Hover:** Show the nearest point to the x-coordinate of the mouse"
   ]
  },
  {
   "attachments": {},
   "cell_type": "markdown",
   "metadata": {},
   "source": [
    "### **Customizing Graphs**\n",
    "\n",
    "Plotly comes with a lot of built-in customization options in each graph. We will be covering just a few, so to see more on each, check out [Plotly's Graphing Library](https://plotly.com/python/)!"
   ]
  },
  {
   "cell_type": "code",
   "execution_count": null,
   "metadata": {},
   "outputs": [],
   "source": []
  },
  {
   "cell_type": "code",
   "execution_count": null,
   "metadata": {},
   "outputs": [],
   "source": []
  },
  {
   "cell_type": "code",
   "execution_count": null,
   "metadata": {},
   "outputs": [],
   "source": []
  }
 ],
 "metadata": {
  "kernelspec": {
   "display_name": "Python 3",
   "language": "python",
   "name": "python3"
  },
  "language_info": {
   "codemirror_mode": {
    "name": "ipython",
    "version": 3
   },
   "file_extension": ".py",
   "mimetype": "text/x-python",
   "name": "python",
   "nbconvert_exporter": "python",
   "pygments_lexer": "ipython3",
   "version": "3.11.4"
  },
  "orig_nbformat": 4,
  "vscode": {
   "interpreter": {
    "hash": "26de051ba29f2982a8de78e945f0abaf191376122a1563185a90213a26c5da77"
   }
  }
 },
 "nbformat": 4,
 "nbformat_minor": 2
}
