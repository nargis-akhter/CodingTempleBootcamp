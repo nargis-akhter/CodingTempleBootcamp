{
  "cells": [
    {
      "attachments": {},
      "cell_type": "markdown",
      "metadata": {
        "id": "9bJtKniLrs8X"
      },
      "source": [
        "# Coding Temple's Data Analytics Course\n",
        "---\n",
        "## Python I: Functions, Scoping, Data Collections 1 & List Comprehensions\n",
        "---"
      ]
    },
    {
      "attachments": {},
      "cell_type": "markdown",
      "metadata": {
        "id": "qbED-38grs8a"
      },
      "source": [
        "### Tasks Today:\n",
        "\n",
        "<i>Monday Additions (or, and ... if statements)</i>\n",
        "\n",
        "1) String Manipulation <br>\n",
        " &nbsp;&nbsp;&nbsp;&nbsp; a) strip() <br>\n",
        " &nbsp;&nbsp;&nbsp;&nbsp; b) title() <br>\n",
        "2) Working With Lists <br>\n",
        " &nbsp;&nbsp;&nbsp;&nbsp; a) min() <br>\n",
        " &nbsp;&nbsp;&nbsp;&nbsp; b) max() <br>\n",
        " &nbsp;&nbsp;&nbsp;&nbsp; c) sum() <br>\n",
        " &nbsp;&nbsp;&nbsp;&nbsp; d) sort() <br>\n",
        " &nbsp;&nbsp;&nbsp;&nbsp; e) Copying a List <br>\n",
        " &nbsp;&nbsp;&nbsp;&nbsp; f) 'in' keyword <br>\n",
        " &nbsp;&nbsp;&nbsp;&nbsp; g) 'not in' keyword <br>\n",
        " &nbsp;&nbsp;&nbsp;&nbsp; i) Checking an Empty List <br>\n",
        " &nbsp;&nbsp;&nbsp;&nbsp; j) Removing Instances with a Loop <br>\n",
        "3) List Comprehensions <br>\n",
        "4) Tuples <br>\n",
        " &nbsp;&nbsp;&nbsp;&nbsp; a) sorted() <br>\n",
        "5) Functions <br>\n",
        " &nbsp;&nbsp;&nbsp;&nbsp; a) User-Defined vs. Built-In Functions <br>\n",
        " &nbsp;&nbsp;&nbsp;&nbsp; b) Accepting Parameters <br>\n",
        " &nbsp;&nbsp;&nbsp;&nbsp; c) Default Parameters <br>\n",
        " &nbsp;&nbsp;&nbsp;&nbsp; d) Making an Argument Optional <br>\n",
        " &nbsp;&nbsp;&nbsp;&nbsp; e) Keyword Arguments <br>\n",
        " &nbsp;&nbsp;&nbsp;&nbsp; f) Returning Values <br>\n",
        " &nbsp;&nbsp;&nbsp;&nbsp; g) *args <br>\n",
        " &nbsp;&nbsp;&nbsp;&nbsp; h) Docstring <br>\n",
        " &nbsp;&nbsp;&nbsp;&nbsp; i) Using a User Function in a Loop <br>\n",
        "6) Scope"
      ]
    },
    {
      "attachments": {},
      "cell_type": "markdown",
      "metadata": {
        "id": "WaEiK5Mxrs8b"
      },
      "source": [
        "### String Manipulation"
      ]
    },
    {
      "attachments": {},
      "cell_type": "markdown",
      "metadata": {
        "id": "oAHRIMwirs8c"
      },
      "source": [
        "##### .lstrip()"
      ]
    },
    {
      "cell_type": "code",
      "execution_count": 7,
      "metadata": {
        "id": "67XdgYVYrs8c"
      },
      "outputs": [
        {
          "name": "stdout",
          "output_type": "stream",
          "text": [
            "         hJohn Smith\n"
          ]
        }
      ],
      "source": [
        "#left strip\n",
        "name = '         hJohn Smith'\n",
        "print(name.lstrip(\" \" \"h\"))\n",
        "\n",
        "#Remove any empty spaces and the letter h"
      ]
    },
    {
      "attachments": {},
      "cell_type": "markdown",
      "metadata": {
        "id": "SqdqgTi7rs8d"
      },
      "source": [
        "##### .rstrip()"
      ]
    },
    {
      "cell_type": "code",
      "execution_count": 8,
      "metadata": {
        "id": "W4KfZlUdrs8e"
      },
      "outputs": [
        {
          "name": "stdout",
          "output_type": "stream",
          "text": [
            "Bob Ross\n"
          ]
        }
      ],
      "source": [
        "name = 'Bob Ross      th'\n",
        "print(name.rstrip(\" \" \"th\"))"
      ]
    },
    {
      "attachments": {},
      "cell_type": "markdown",
      "metadata": {
        "id": "gnyAnkkLrs8e"
      },
      "source": [
        "##### .strip()"
      ]
    },
    {
      "cell_type": "code",
      "execution_count": 16,
      "metadata": {
        "id": "ee-X-fZurs8f"
      },
      "outputs": [
        {
          "name": "stdout",
          "output_type": "stream",
          "text": [
            "John Smith\n"
          ]
        }
      ],
      "source": [
        "#Does both ^^\n",
        "\n",
        "name = \"         John Smith     af\"\n",
        "print(name.strip(\" \" \"af\"))"
      ]
    },
    {
      "attachments": {},
      "cell_type": "markdown",
      "metadata": {},
      "source": [
        "#### .upper()\n",
        "#### .lower()"
      ]
    },
    {
      "cell_type": "code",
      "execution_count": 18,
      "metadata": {},
      "outputs": [
        {
          "data": {
            "text/plain": [
              "'joe biden'"
            ]
          },
          "execution_count": 18,
          "metadata": {},
          "output_type": "execute_result"
        }
      ],
      "source": [
        "president = 'joe biden'\n",
        "president.upper()\n",
        "president.lower()"
      ]
    },
    {
      "attachments": {},
      "cell_type": "markdown",
      "metadata": {
        "id": "MiAFvZdPrs8f"
      },
      "source": [
        "##### .title()"
      ]
    },
    {
      "cell_type": "code",
      "execution_count": 19,
      "metadata": {
        "id": "6d21S6C6rs8f"
      },
      "outputs": [
        {
          "data": {
            "text/plain": [
              "'Joe Biden'"
            ]
          },
          "execution_count": 19,
          "metadata": {},
          "output_type": "execute_result"
        }
      ],
      "source": [
        "#Capitalizes first letter of each word\n",
        "president.title()"
      ]
    },
    {
      "attachments": {},
      "cell_type": "markdown",
      "metadata": {
        "id": "D80meSR5rs8g"
      },
      "source": [
        "### String Exercise <br>\n",
        "<p>Strip all white space and capitalize every name in the list given</p>"
      ]
    },
    {
      "cell_type": "code",
      "execution_count": 27,
      "metadata": {
        "id": "wPiqY8qFrs8g"
      },
      "outputs": [
        {
          "name": "stdout",
          "output_type": "stream",
          "text": [
            "Connor\n",
            "Max\n",
            "Evan\n",
            "Jordan\n",
            "['Connor', 'Max', 'Evan', 'Jordan']\n"
          ]
        }
      ],
      "source": [
        "names = ['    coNNor', 'max', ' EVan ', 'JORDAN']\n",
        "# HINT: You will need to use a for loop for iteration\n",
        "\n",
        "#Step 1: Strip access\n",
        "#Step 2: Capitalize letters\n",
        "#Step 3: Print\n",
        "\n",
        "for name in names:\n",
        "    print(name.strip().title())\n",
        "    \n",
        "names_list = []\n",
        "for name in names:\n",
        "    names_list.append(name.strip().title())\n",
        "    \n",
        "print(names_list)\n",
        "\n",
        "\n"
      ]
    },
    {
      "attachments": {},
      "cell_type": "markdown",
      "metadata": {
        "id": "OaW8hdDnrs8g"
      },
      "source": [
        "### Working With Lists"
      ]
    },
    {
      "attachments": {},
      "cell_type": "markdown",
      "metadata": {
        "id": "lsl3saTtrs8g"
      },
      "source": [
        "##### min()"
      ]
    },
    {
      "cell_type": "code",
      "execution_count": 28,
      "metadata": {
        "id": "DfUyTjiUrs8h"
      },
      "outputs": [
        {
          "name": "stdout",
          "output_type": "stream",
          "text": [
            "2\n"
          ]
        }
      ],
      "source": [
        "num_list = [4,2,97,54,16]\n",
        "\n",
        "#min() returns the minimum value of a list:\n",
        "print(min(num_list))"
      ]
    },
    {
      "attachments": {},
      "cell_type": "markdown",
      "metadata": {
        "id": "56woj1myrs8h"
      },
      "source": [
        "##### max()"
      ]
    },
    {
      "cell_type": "code",
      "execution_count": 29,
      "metadata": {
        "id": "4ifb__khrs8h"
      },
      "outputs": [
        {
          "name": "stdout",
          "output_type": "stream",
          "text": [
            "97\n"
          ]
        }
      ],
      "source": [
        "print(max(num_list))"
      ]
    },
    {
      "attachments": {},
      "cell_type": "markdown",
      "metadata": {
        "id": "Q_LhnHozrs8h"
      },
      "source": [
        "##### sum()"
      ]
    },
    {
      "cell_type": "code",
      "execution_count": 30,
      "metadata": {
        "id": "MNBLfI57rs8i"
      },
      "outputs": [
        {
          "name": "stdout",
          "output_type": "stream",
          "text": [
            "173\n"
          ]
        }
      ],
      "source": [
        "print(sum(num_list))"
      ]
    },
    {
      "attachments": {},
      "cell_type": "markdown",
      "metadata": {
        "id": "Pmkxsqcwrs8i"
      },
      "source": [
        "##### sorted()"
      ]
    },
    {
      "cell_type": "code",
      "execution_count": 37,
      "metadata": {
        "id": "_LpP0pYlrs8i"
      },
      "outputs": [
        {
          "name": "stdout",
          "output_type": "stream",
          "text": [
            "[4, 2, 97, 54, 16]\n",
            "Before sorting: [4, 2, 97, 54, 16]\n",
            "After sorting: [2, 4, 16, 54, 97]\n"
          ]
        }
      ],
      "source": [
        "#Doesn't change original list\n",
        "#Function\n",
        "\n",
        "#sorted(list_object)\n",
        "print(num_list)\n",
        "\n",
        "sorted_nums = sorted(num_list)\n",
        "\n",
        "#f is formatted string\n",
        "print(f'Before sorting: {num_list}')\n",
        "print(f'After sorting: {sorted_nums}')"
      ]
    },
    {
      "attachments": {},
      "cell_type": "markdown",
      "metadata": {
        "id": "WUUKnCRHrs8i"
      },
      "source": [
        "##### .sort() <br>\n",
        "<p>Difference between sort and sorted, is that sorted doesn't change original list it returns a copy, while .sort changes the original list</p>"
      ]
    },
    {
      "cell_type": "code",
      "execution_count": 39,
      "metadata": {
        "id": "8easNUqGrs8j"
      },
      "outputs": [
        {
          "data": {
            "text/plain": [
              "[2, 4, 16, 54, 97]"
            ]
          },
          "execution_count": 39,
          "metadata": {},
          "output_type": "execute_result"
        }
      ],
      "source": [
        "#Changes original list\n",
        "#list.sort()\n",
        "#Method - anything that's attached to a class. String is a class.\n",
        "\n",
        "num_list.sort()\n",
        "num_list"
      ]
    },
    {
      "attachments": {},
      "cell_type": "markdown",
      "metadata": {
        "id": "Zk7lrB7qrs8j"
      },
      "source": [
        "##### Copying a List"
      ]
    },
    {
      "cell_type": "code",
      "execution_count": 41,
      "metadata": {
        "id": "XPnSFoGMrs8j"
      },
      "outputs": [
        {
          "name": "stdout",
          "output_type": "stream",
          "text": [
            "[2, 4, 16, 54, 97]\n",
            "[2, 4, 16, 54, 97]\n"
          ]
        }
      ],
      "source": [
        "# [:] copies a list, does not alter the original list at all\n",
        "l_1 = num_list[:]\n",
        "print(l_1)\n",
        "print(num_list)"
      ]
    },
    {
      "attachments": {},
      "cell_type": "markdown",
      "metadata": {
        "id": "RxI0RzOgrs8j"
      },
      "source": [
        "##### 'in' keyword"
      ]
    },
    {
      "cell_type": "code",
      "execution_count": 42,
      "metadata": {
        "id": "kodTed97rs8j"
      },
      "outputs": [
        {
          "name": "stdout",
          "output_type": "stream",
          "text": [
            "Whitney is a student!\n"
          ]
        }
      ],
      "source": [
        "ct_teachers = ['Alex', 'Katie', 'Sarah', 'Shay', 'Kevin']\n",
        "\n",
        "#Use the keyword to check if a name is in a list:\n",
        "#This is one use-case, but is super useful for all 1-D checks\n",
        "\n",
        "if 'Whitney' in ct_teachers:\n",
        "    print(\"Whitney is now an instructor!\")\n",
        "else:\n",
        "    print(\"Whitney is a student!\")"
      ]
    },
    {
      "cell_type": "code",
      "execution_count": 43,
      "metadata": {},
      "outputs": [
        {
          "name": "stdout",
          "output_type": "stream",
          "text": [
            "James is a student!\n"
          ]
        }
      ],
      "source": []
    },
    {
      "attachments": {},
      "cell_type": "markdown",
      "metadata": {
        "id": "FxrCx1KNrs8j"
      },
      "source": [
        "##### 'not in' keyword"
      ]
    },
    {
      "cell_type": "code",
      "execution_count": null,
      "metadata": {
        "id": "xNtSNQiJrs8j"
      },
      "outputs": [],
      "source": [
        "if 'James' not in ct_teachers:\n",
        "    print(\"James is a student!\")"
      ]
    },
    {
      "attachments": {},
      "cell_type": "markdown",
      "metadata": {
        "id": "BUZcIm0jrs8k"
      },
      "source": [
        "##### Checking an Empty List"
      ]
    },
    {
      "cell_type": "code",
      "execution_count": 46,
      "metadata": {
        "id": "0hRGfavzrs8k"
      },
      "outputs": [],
      "source": [
        "l_2 = []"
      ]
    },
    {
      "cell_type": "code",
      "execution_count": 51,
      "metadata": {},
      "outputs": [
        {
          "name": "stdout",
          "output_type": "stream",
          "text": [
            "False\n"
          ]
        }
      ],
      "source": [
        "print(not l_2)\n",
        "if not l_2:\n",
        "    print(\"This is an empty list!\")"
      ]
    },
    {
      "attachments": {},
      "cell_type": "markdown",
      "metadata": {
        "id": "sYkofVKHrs8k"
      },
      "source": [
        "##### Removing Instances with a Loop"
      ]
    },
    {
      "cell_type": "code",
      "execution_count": 54,
      "metadata": {
        "id": "9enOHbb4rs8k"
      },
      "outputs": [
        {
          "name": "stdout",
          "output_type": "stream",
          "text": [
            "['Connor']\n"
          ]
        }
      ],
      "source": [
        "#While loop, remove statement, or method\n",
        "\n",
        "names = ['Connor', 'Joel]\n",
        "\n",
        "#while 'Evan' in names:\n",
        "    #names.remove('Evan')\n",
        "#print(names)\n",
        "\n",
        "for name in names:\n",
        "    if name == 'Evan':\n",
        "        names.remove('Evan')\n",
        "print(names)"
      ]
    },
    {
      "attachments": {},
      "cell_type": "markdown",
      "metadata": {
        "id": "S-x8E0cDrs8k"
      },
      "source": [
        "### List Exercise <br>\n",
        "<p>Remove all duplicates<br><b>Extra: Create a program that will remove any duplicates from a given list</b></p>"
      ]
    },
    {
      "cell_type": "code",
      "execution_count": 59,
      "metadata": {
        "id": "BlrVsVUprs8k"
      },
      "outputs": [
        {
          "name": "stdout",
          "output_type": "stream",
          "text": [
            "['connor', 'bob', 'evan', 'max', 2, 3, 4, 'kevin']\n"
          ]
        }
      ],
      "source": [
        "names = ['connor', 'connor', 'bob', 'connor', 'evan', 'max', 'evan', 2, 2, 2, 3, 3, 4, 'bob', 'kevin']\n",
        "# Hint 1: You will need an append\n",
        "# Hint 2: Using an empty list will make this easier!\n",
        "\n",
        "def solution(lst): #variables are placeholders, lst is nothing but a placeholder\n",
        "\n",
        "    names_dedup = []\n",
        "\n",
        "    for name in lst:\n",
        "        if name not in names_dedup:\n",
        "            names_dedup.append(name)\n",
        "    return names_dedup\n",
        "print(solution(names))"
      ]
    },
    {
      "attachments": {},
      "cell_type": "markdown",
      "metadata": {
        "id": "6Ci7F4P2rs8k"
      },
      "source": [
        "### List Comprehensions <br>\n",
        "<p>Creating a quickly generated list to work with<br>*result*  = [*transform*    *iteration*         *filter*     ]</p>"
      ]
    },
    {
      "cell_type": "markdown",
      "metadata": {},
      "source": []
    },
    {
      "attachments": {},
      "cell_type": "markdown",
      "metadata": {
        "id": "ZnDqczhXrs8l"
      },
      "source": [
        "##### In a list comprehension we have a few pieces:\n",
        "1. The first is the counter/ variable - IN this the variable is x\n",
        "2. then we have a transform for the variable\n",
        "3. The finale part of a list comp is called the condition\n",
        "\n",
        "```python\n",
        "    [variable, transform, condition]\n",
        "```"
      ]
    },
    {
      "cell_type": "code",
      "execution_count": null,
      "metadata": {
        "id": "2fHFPjOOrs8l"
      },
      "outputs": [],
      "source": []
    },
    {
      "cell_type": "code",
      "execution_count": null,
      "metadata": {},
      "outputs": [],
      "source": []
    },
    {
      "attachments": {},
      "cell_type": "markdown",
      "metadata": {
        "id": "3ls5g5A2rs8l"
      },
      "source": [
        "There are a few benefits to using List comprehensions. The most obvious would be that we now have shorter code to work with instead of using 3+ lines of code in the for loop variant.\n",
        "\n",
        "Another is an added benefit to memory usage. Since the list's memory is allocated first before adding elements to it, we don't have to resize the list once we add elements to it.\n",
        "\n",
        "Lastly, list comprehensions are considered the \"pythonic\" way to write code by the PEP8 standards (Python Style Guide)"
      ]
    },
    {
      "cell_type": "code",
      "execution_count": null,
      "metadata": {
        "id": "CPIujsPPrs8l"
      },
      "outputs": [],
      "source": []
    },
    {
      "cell_type": "code",
      "execution_count": null,
      "metadata": {
        "id": "DDWwxsJhrs8l"
      },
      "outputs": [],
      "source": []
    },
    {
      "cell_type": "code",
      "execution_count": null,
      "metadata": {
        "id": "afJhTL0Ars8m"
      },
      "outputs": [],
      "source": [
        "    "
      ]
    },
    {
      "cell_type": "code",
      "execution_count": null,
      "metadata": {
        "id": "QhyfY60Lrs8m"
      },
      "outputs": [],
      "source": []
    },
    {
      "attachments": {},
      "cell_type": "markdown",
      "metadata": {
        "id": "l0OZFm-nrs8m"
      },
      "source": [
        "### Tuples <br>\n",
        "<p><b>Defined as an immutable list</b></p><br>Seperated by commas using parenthesis"
      ]
    },
    {
      "cell_type": "code",
      "execution_count": 60,
      "metadata": {
        "id": "qzrkcZvArs8m"
      },
      "outputs": [
        {
          "name": "stdout",
          "output_type": "stream",
          "text": [
            "<class 'tuple'>\n",
            "<class 'tuple'>\n",
            "1\n",
            "2\n",
            "3\n"
          ]
        }
      ],
      "source": [
        "#Cannot change values in the tuple\n",
        "\n",
        "tup_1 = 1,2,3 #First way I can create a tuple!\n",
        "tup_2 = (1,2,3) #Another way to create a tuple!\n",
        "\n",
        "print(type(tup_1))\n",
        "print(type(tup_2))\n",
        "\n",
        "#We can loop over a tuple:\n",
        "for number in tup_1:\n",
        "    print(number)\n",
        "    \n",
        "#Using the range function:\n",
        "for number in range(len(tup_2)):\n",
        "    print(tup_2[number])"
      ]
    },
    {
      "attachments": {},
      "cell_type": "markdown",
      "metadata": {
        "id": "HyW7twHCrs8m"
      },
      "source": [
        "##### sorted()"
      ]
    },
    {
      "cell_type": "code",
      "execution_count": 61,
      "metadata": {
        "id": "806UVJgFrs8m"
      },
      "outputs": [
        {
          "name": "stdout",
          "output_type": "stream",
          "text": [
            "(1, 3, 5, 9, 20, 45)\n"
          ]
        }
      ],
      "source": [
        "tup_3 = (20, 5, 1, 3, 9, 45)\n",
        "sorted_tup = sorted(tup_3)\n",
        "print(tuple(sorted_tup))"
      ]
    },
    {
      "attachments": {},
      "cell_type": "markdown",
      "metadata": {
        "id": "obuFNiIErs8m"
      },
      "source": [
        "##### Adding values to a Tuple"
      ]
    },
    {
      "cell_type": "code",
      "execution_count": 64,
      "metadata": {
        "id": "ZPkUYr2Trs8m"
      },
      "outputs": [
        {
          "name": "stdout",
          "output_type": "stream",
          "text": [
            "(1, 2, 3, 5)\n",
            "(1, 2, 3, 5, 5)\n"
          ]
        }
      ],
      "source": [
        "print(tup_1)\n",
        "tup_1 = tup_1 + (5,) #Comma denotes this is a tuple object\n",
        "print(tup_1)"
      ]
    },
    {
      "attachments": {},
      "cell_type": "markdown",
      "metadata": {
        "id": "QX0j43L6rs8m"
      },
      "source": [
        "## Functions"
      ]
    },
    {
      "attachments": {},
      "cell_type": "markdown",
      "metadata": {
        "id": "RDYcwCvVrs8n"
      },
      "source": [
        "##### User-Defined vs. Built-In Functions"
      ]
    },
    {
      "cell_type": "code",
      "execution_count": 65,
      "metadata": {
        "id": "z6z8tJiqrs8n"
      },
      "outputs": [
        {
          "name": "stdout",
          "output_type": "stream",
          "text": [
            "Hello, World!\n"
          ]
        }
      ],
      "source": [
        "#DEf tells python I am about to DEFINE a function here:\n",
        "#Function name: After the def keyword, we give life to our function ny naming it!\n",
        "#Invoking parenthesis: Used after the function call and after the naming of the function.\n",
        "#Parameters is a fancy word for variables\n",
        "\n",
        "#USER DEFINED FUNCTION\n",
        "def say_hello():\n",
        "    return 'Hello, World!'\n",
        "\n",
        "#What is going to return from this?\n",
        "#What we get is the function call in it's memory space\n",
        "\n",
        "print(say_hello())"
      ]
    },
    {
      "attachments": {},
      "cell_type": "markdown",
      "metadata": {
        "id": "3EK6Bb7Xrs8n"
      },
      "source": [
        "##### Accepting Parameters"
      ]
    },
    {
      "cell_type": "code",
      "execution_count": null,
      "metadata": {
        "id": "NkgHjPLRrs8n"
      },
      "outputs": [],
      "source": [
        "#One thing to note, is that order matters. Whatever order you place your variables\n",
        "\n"
      ]
    },
    {
      "attachments": {},
      "cell_type": "markdown",
      "metadata": {
        "id": "pZtz8D3ors8n"
      },
      "source": [
        "##### Default Parameters"
      ]
    },
    {
      "cell_type": "code",
      "execution_count": 66,
      "metadata": {
        "id": "mqOXoR2Zrs8n"
      },
      "outputs": [
        {
          "ename": "SyntaxError",
          "evalue": "f-string: invalid syntax. Perhaps you forgot a comma? (2894855744.py, line 2)",
          "output_type": "error",
          "traceback": [
            "\u001b[1;36m  Cell \u001b[1;32mIn[66], line 2\u001b[1;36m\u001b[0m\n\u001b[1;33m    return f'The name is... {last name}...{first_name} {last_name}'\u001b[0m\n\u001b[1;37m    ^\u001b[0m\n\u001b[1;31mSyntaxError\u001b[0m\u001b[1;31m:\u001b[0m f-string: invalid syntax. Perhaps you forgot a comma?\n"
          ]
        }
      ],
      "source": [
        "def print_agent_name(first_name, last_name = 'Bond'):\n",
        "    return f'The name is... {last name}...{first_name} {last_name}'\n",
        "\n",
        "print(print_agent_name('James', '007'))"
      ]
    },
    {
      "cell_type": "code",
      "execution_count": 68,
      "metadata": {},
      "outputs": [
        {
          "name": "stdout",
          "output_type": "stream",
          "text": [
            "Wow! You are 25 years old! That's awesome!\n"
          ]
        }
      ],
      "source": [
        "#Type Casting:\n",
        "def print_age(age: int):\n",
        "    age = int(age)\n",
        "    return f'Wow! You are {age} years old! That\\'s awesome!'\n",
        "\n",
        "print(print_age('25'))"
      ]
    },
    {
      "attachments": {},
      "cell_type": "markdown",
      "metadata": {
        "id": "4OlHa3j3rs8n"
      },
      "source": [
        "##### Making an Argument Optional"
      ]
    },
    {
      "cell_type": "code",
      "execution_count": null,
      "metadata": {
        "id": "v4IqqRW8rs8n"
      },
      "outputs": [],
      "source": [
        "def print_horse_name(first, middle = '', last = 'Ed'):\n",
        "    return f\"Hello {first} {middle} {last}! Good luck in the race today!\""
      ]
    },
    {
      "attachments": {},
      "cell_type": "markdown",
      "metadata": {
        "id": "sJvg1qE3rs8n"
      },
      "source": [
        "##### Keyword Arguments"
      ]
    },
    {
      "cell_type": "code",
      "execution_count": null,
      "metadata": {
        "id": "IazE0eWYrs8o"
      },
      "outputs": [],
      "source": []
    },
    {
      "attachments": {},
      "cell_type": "markdown",
      "metadata": {
        "id": "YVE6ZfCtrs8o"
      },
      "source": [
        "# Creating a start, stop, step function"
      ]
    },
    {
      "cell_type": "code",
      "execution_count": 69,
      "metadata": {
        "id": "WrVaUO6Nrs8o"
      },
      "outputs": [
        {
          "name": "stdout",
          "output_type": "stream",
          "text": [
            "1\n",
            "2\n",
            "3\n",
            "4\n",
            "5\n",
            "6\n",
            "7\n",
            "8\n",
            "9\n",
            "10\n",
            "11\n",
            "12\n",
            "13\n",
            "14\n",
            "15\n",
            "16\n",
            "17\n",
            "18\n",
            "19\n"
          ]
        }
      ],
      "source": [
        "def my_range(stop: int, start:int=0, step:int=1):\n",
        "    for i in range(start, stop, step):\n",
        "        print(i)\n",
        "my_range(20, 1)\n",
        "\n",
        "\n",
        "def my_range(stop: int, start:int=0, step:int=1):\n",
        "    while start < stop:\n",
        "        print(start)\n",
        "my_range(20, 1)"
      ]
    },
    {
      "attachments": {},
      "cell_type": "markdown",
      "metadata": {
        "id": "X9Ec0fiKrs8o"
      },
      "source": [
        "##### Returning Values"
      ]
    },
    {
      "cell_type": "code",
      "execution_count": null,
      "metadata": {
        "id": "tRxhyCRVrs8o"
      },
      "outputs": [],
      "source": [
        "#PRINT DOES NOT EQUAL RETURN\n",
        "#Printing only displays an \"output\" in your terminal. It does not return any actual objects that are associted with the print() function"
      ]
    },
    {
      "attachments": {},
      "cell_type": "markdown",
      "metadata": {
        "id": "Ar3s_91Vrs8o"
      },
      "source": [
        "##### *args"
      ]
    },
    {
      "cell_type": "markdown",
      "metadata": {},
      "source": []
    },
    {
      "cell_type": "code",
      "execution_count": 70,
      "metadata": {
        "id": "FOKAMCwprs8o"
      },
      "outputs": [],
      "source": [
        "#It can take in any argument/arguments as parameters\n",
        "\n",
        "def print_args(num1, *args, **kwargs):\n",
        "    print(num1)"
      ]
    },
    {
      "attachments": {},
      "cell_type": "markdown",
      "metadata": {
        "id": "twSjhVegrs8o"
      },
      "source": [
        "##### Docstring"
      ]
    },
    {
      "cell_type": "code",
      "execution_count": null,
      "metadata": {
        "id": "YqowH4COrs8p"
      },
      "outputs": [],
      "source": [
        "    \"\"\"_summary_\n",
        "    \"\"\""
      ]
    },
    {
      "attachments": {},
      "cell_type": "markdown",
      "metadata": {
        "id": "EkymtL8Brs8p"
      },
      "source": [
        "##### Using a User Function in a Loop"
      ]
    },
    {
      "cell_type": "code",
      "execution_count": 71,
      "metadata": {
        "id": "CX21hhzhrs8p"
      },
      "outputs": [],
      "source": [
        "def print_input(answer:str):\n",
        "    print(answer)\n",
        "response = input(\"Are you ready to quit? Y/N\")\n",
        "while True:\n",
        "    ask = input(\"What do you want to do today?\")\n",
        "    print_input(ask)\n",
        "    \n",
        "    response = input(\"Ready to quit yet? Y/N\")\n",
        "    if response.lower() == 'y':\n",
        "        break"
      ]
    },
    {
      "attachments": {},
      "cell_type": "markdown",
      "metadata": {
        "id": "V7gH_UuPrs8p"
      },
      "source": [
        "## Function Exercise <br>\n",
        "<p>Write a function that loops through a list of first_names and a list of last_names, combines the two and return a list of full_names</p>"
      ]
    },
    {
      "cell_type": "code",
      "execution_count": null,
      "metadata": {},
      "outputs": [],
      "source": []
    },
    {
      "cell_type": "code",
      "execution_count": 3,
      "metadata": {
        "id": "ogvq6xo-rs8p"
      },
      "outputs": [
        {
          "name": "stdout",
          "output_type": "stream",
          "text": [
            "['John', 'Evan', 'Jordan', 'Max', 'Smith', 'Smith', 'Williams', 'Bell']\n"
          ]
        }
      ],
      "source": [
        "first_name = ['John', 'Evan', 'Jordan', 'Max']\n",
        "last_name = ['Smith', 'Smith', 'Williams', 'Bell']\n",
        "# Output: ['John Smith', 'Evan Smith', 'Jordan Williams', 'Max Bell']\n",
        "\n",
        "def method_1(f,1):\n",
        "    for index in range(len(first_name)):\n",
        "        print(first_name[index])\n"
      ]
    },
    {
      "attachments": {},
      "cell_type": "markdown",
      "metadata": {
        "id": "yOjmLQ7Wrs8p"
      },
      "source": [
        "## Scope <br>\n",
        "<p>Scope refers to the ability to access variables, different types of scope include:<br>a) Global<br>b) Function (local)<br>c) Class (local)</p>"
      ]
    },
    {
      "cell_type": "code",
      "execution_count": null,
      "metadata": {
        "id": "Gnb7C0-4rs8p"
      },
      "outputs": [],
      "source": [
        "\n"
      ]
    },
    {
      "cell_type": "code",
      "execution_count": null,
      "metadata": {},
      "outputs": [],
      "source": []
    }
  ],
  "metadata": {
    "colab": {
      "provenance": []
    },
    "kernelspec": {
      "display_name": "Python 3",
      "language": "python",
      "name": "python3"
    },
    "language_info": {
      "codemirror_mode": {
        "name": "ipython",
        "version": 3
      },
      "file_extension": ".py",
      "mimetype": "text/x-python",
      "name": "python",
      "nbconvert_exporter": "python",
      "pygments_lexer": "ipython3",
      "version": "3.11.4"
    },
    "vscode": {
      "interpreter": {
        "hash": "26de051ba29f2982a8de78e945f0abaf191376122a1563185a90213a26c5da77"
      }
    }
  },
  "nbformat": 4,
  "nbformat_minor": 0
}
