{
 "cells": [
  {
   "attachments": {},
   "cell_type": "markdown",
   "metadata": {},
   "source": [
    "# Coding Temple's Data Analytics Course\n",
    "---\n",
    "## Python 1: Assignment 2\n",
    "---"
   ]
  },
  {
   "attachments": {},
   "cell_type": "markdown",
   "metadata": {},
   "source": [
    "### **Task 1: List Comprehension**\n",
    "Given a list as a parameter, write a function named `less_than_10`, that uses list comprehension to returns the input list with all numbers less than 10."
   ]
  },
  {
   "cell_type": "code",
   "execution_count": 2,
   "metadata": {},
   "outputs": [
    {
     "data": {
      "text/plain": [
       "[3, 2, 7, -4]"
      ]
     },
     "execution_count": 2,
     "metadata": {},
     "output_type": "execute_result"
    }
   ],
   "source": [
    "my_list = [3, 20, 13, 2, 7, -4]\n",
    "\n",
    "new_list = [number for number in my_list if number < 10]\n",
    "\n",
    "new_list"
   ]
  },
  {
   "cell_type": "code",
   "execution_count": 3,
   "metadata": {},
   "outputs": [],
   "source": [
    "def less_than_10(user_list):\n",
    "    new_list = [number for number in user_list if number < 10]\n",
    "    return new_list"
   ]
  },
  {
   "cell_type": "code",
   "execution_count": 4,
   "metadata": {},
   "outputs": [
    {
     "data": {
      "text/plain": [
       "[2, 3, 1, 3]"
      ]
     },
     "execution_count": 4,
     "metadata": {},
     "output_type": "execute_result"
    }
   ],
   "source": [
    "less_than_10([2, 3, 1, 3, 21, 22])"
   ]
  },
  {
   "attachments": {},
   "cell_type": "markdown",
   "metadata": {},
   "source": [
    "### **Task 1 Testing**\n",
    "This cell is to test your task 1"
   ]
  },
  {
   "cell_type": "code",
   "execution_count": 5,
   "metadata": {},
   "outputs": [],
   "source": [
    "# DO NOT EDIT THIS CELL\n",
    "a = [1,2,5,9,55,781,25,478,15,7,99]\n",
    "a_test = [1,2,5,9,7]\n",
    "assert less_than_10(a) == a_test, 'Double check that your function is working properly!'"
   ]
  },
  {
   "attachments": {},
   "cell_type": "markdown",
   "metadata": {},
   "source": [
    "### **Task 2: Merge**\n",
    "Write a function named `merge_lists` that takes two seperate lists as arguments and returns the two lists merged together AND sorted."
   ]
  },
  {
   "cell_type": "code",
   "execution_count": 6,
   "metadata": {},
   "outputs": [
    {
     "data": {
      "text/plain": [
       "[1, 1, 3, 4, 5, 9]"
      ]
     },
     "execution_count": 6,
     "metadata": {},
     "output_type": "execute_result"
    }
   ],
   "source": [
    "list_1 = [3, 1, 4]\n",
    "list_2 = [1, 5, 9]\n",
    "#Goal - [1, 1, 3, 4, 5, 9]\n",
    "\n",
    "merged_list = list_1 + list_2\n",
    "sorted(merged_list)"
   ]
  },
  {
   "cell_type": "code",
   "execution_count": 7,
   "metadata": {},
   "outputs": [],
   "source": [
    "# YOUR CODE HERE\n",
    "def merged_lists(list_a, list_b):\n",
    "    merged_list = list_a + list_b\n",
    "    return sorted(merged_list)\n"
   ]
  },
  {
   "cell_type": "code",
   "execution_count": 14,
   "metadata": {},
   "outputs": [
    {
     "data": {
      "text/plain": [
       "[1, 2, 3, 4, 5, 6]"
      ]
     },
     "execution_count": 14,
     "metadata": {},
     "output_type": "execute_result"
    }
   ],
   "source": [
    "merged_lists([1, 3, 5], [2, 4, 6])"
   ]
  },
  {
   "cell_type": "code",
   "execution_count": null,
   "metadata": {},
   "outputs": [],
   "source": []
  },
  {
   "attachments": {},
   "cell_type": "markdown",
   "metadata": {},
   "source": [
    "### **Task 2 Testing**\n",
    "This cell is to test your task 2"
   ]
  },
  {
   "cell_type": "code",
   "execution_count": 9,
   "metadata": {},
   "outputs": [],
   "source": [
    "l_1 = [1,5,4]\n",
    "l_2 = [2,6,3]\n",
    "answer = [1,2,3,4,5,6]\n",
    "assert merged_lists(l_1, l_2) == answer, 'Double Check your function is performing properly!'"
   ]
  },
  {
   "attachments": {},
   "cell_type": "markdown",
   "metadata": {},
   "source": [
    "### **Task 3.1: List Creation**\n",
    "Create a three seperate lists. Save these lists as:\n",
    "* `first_names`: List of 10 first names\n",
    "* `middle_names`: List of 10 middle names\n",
    "* `last_names`: List of 10 last names"
   ]
  },
  {
   "cell_type": "code",
   "execution_count": 15,
   "metadata": {},
   "outputs": [],
   "source": [
    "# YOUR CODE HERE\n",
    "first_names = ['Jaqueline', 'Cesar', 'Bailey', 'Tyrone', 'Semaj', 'Alisha', 'Deisy', 'Dajah', 'Judah', 'Colin']\n",
    "middle_names = ['Theresa', 'Donnie', 'Miriam', 'Arnold', 'Leighton', 'Tori', 'Shayla', 'Annaliese', 'Cole', 'Ronaldo']\n",
    "last_names = ['Gray', 'Shipley', 'Westbrook', 'Dunham', 'Willson', 'Rich', 'Weinberg', 'Rutherford', 'Wheaton', 'Farris']"
   ]
  },
  {
   "attachments": {},
   "cell_type": "markdown",
   "metadata": {},
   "source": [
    "### **Task 3.2: Range Function**\n",
    "Using the three lists you created in the last task, build a function named `name_generator` which takes in each of these lists as an input and performs the following:\n",
    "\n",
    "* Iterates through each list using a range\n",
    "* Creates a `full_name` variable, which has a first, middle, and last name\n",
    "* Saves the `full_name` to the list `full_names`\n",
    "* Returns the `full_names` list"
   ]
  },
  {
   "cell_type": "code",
   "execution_count": 16,
   "metadata": {},
   "outputs": [],
   "source": [
    "# YOUR CODE HERE\n",
    "\n",
    "def name_generator(first_list, middle_list, last_list):\n",
    "    #Create empty list for full names\n",
    "    full_names = []\n",
    "    \n",
    "    #Iterate through the range of the length of these lists (assuming all the same size)\n",
    "    for i in range(len(first_list)):\n",
    "        # Create a full name by combining elements from each list\n",
    "        full_name = f\"{first_list[i]} {middle_list[i]} {last_list[i]}\"\n",
    "        \n",
    "        #Append the full name to the full_name list\n",
    "        full_names.append(full_name)\n",
    "        \n",
    "    return full_names\n"
   ]
  },
  {
   "cell_type": "code",
   "execution_count": 17,
   "metadata": {},
   "outputs": [
    {
     "data": {
      "text/plain": [
       "['Jaqueline Theresa Gray',\n",
       " 'Cesar Donnie Shipley',\n",
       " 'Bailey Miriam Westbrook',\n",
       " 'Tyrone Arnold Dunham',\n",
       " 'Semaj Leighton Willson',\n",
       " 'Alisha Tori Rich',\n",
       " 'Deisy Shayla Weinberg',\n",
       " 'Dajah Annaliese Rutherford',\n",
       " 'Judah Cole Wheaton',\n",
       " 'Colin Ronaldo Farris']"
      ]
     },
     "execution_count": 17,
     "metadata": {},
     "output_type": "execute_result"
    }
   ],
   "source": [
    "name_generator(first_names, middle_names, last_names)"
   ]
  },
  {
   "attachments": {},
   "cell_type": "markdown",
   "metadata": {},
   "source": [
    "### **Task 3 Testing**\n",
    "This cell is to test your task 3"
   ]
  },
  {
   "cell_type": "code",
   "execution_count": 14,
   "metadata": {},
   "outputs": [],
   "source": [
    "# DO NOT EDIT THIS CELL\n",
    "first = ['Alex', 'Brandon', 'Nick']\n",
    "middle = ['The Rock', 'The Paper', 'The Scissors']\n",
    "last = ['Lucchesi', 'Apol', 'Fuentes']\n",
    "answer = ['Alex The Rock Lucchesi','Brandon The Paper Apol','Nick The Scissors Fuentes']\n",
    "assert name_generator(first,middle,last) == answer, 'Double check that your function is performing the way it is supposed to!'"
   ]
  },
  {
   "attachments": {},
   "cell_type": "markdown",
   "metadata": {},
   "source": [
    "### **Task 4: User Functions**\n",
    "For this task, you will create a function named `user_input` which:\n",
    "* Asks a user to input their favorite activity or type 'n'\n",
    "* Repeats until the user types 'n'\n",
    "* Stores all user inputs to a list\n",
    "* Returns that list if a print statement when user types 'n'"
   ]
  },
  {
   "cell_type": "code",
   "execution_count": 10,
   "metadata": {},
   "outputs": [
    {
     "name": "stdout",
     "output_type": "stream",
     "text": [
      "Your activity is makeup\n"
     ]
    }
   ],
   "source": [
    "# YOUR CODE HERE\n",
    "user_activity = input(\"Enter your favorite activity (or 'n) to quit\")\n",
    "print(f\"Your activity is {user_activity}\")"
   ]
  },
  {
   "cell_type": "code",
   "execution_count": 11,
   "metadata": {},
   "outputs": [],
   "source": [
    "def user_input():\n",
    "    #Create an empty list to store favorite activities\n",
    "    user_activities = []\n",
    "    \n",
    "    # Continously ask the user for input\n",
    "    while True:\n",
    "        #Prompt the user to enter their favorite activity\n",
    "        user_activity = input(\"Enter your favorite activity (or 'n) to quit\")\n",
    "        \n",
    "        if user_activity.lower() == 'n':\n",
    "            break #Exit the loop!\n",
    "        \n",
    "        #Add the user's input to the list activities\n",
    "        user_activities.append(user_activity)\n",
    "    return user_activities"
   ]
  },
  {
   "cell_type": "code",
   "execution_count": 12,
   "metadata": {},
   "outputs": [
    {
     "name": "stdout",
     "output_type": "stream",
     "text": [
      "Your favorite activities: ['makeup']\n"
     ]
    }
   ],
   "source": [
    "favorite_activities = user_input()\n",
    "print(f\"Your favorite activities: {favorite_activities}\")"
   ]
  }
 ],
 "metadata": {
  "kernelspec": {
   "display_name": "Python 3",
   "language": "python",
   "name": "python3"
  },
  "language_info": {
   "codemirror_mode": {
    "name": "ipython",
    "version": 3
   },
   "file_extension": ".py",
   "mimetype": "text/x-python",
   "name": "python",
   "nbconvert_exporter": "python",
   "pygments_lexer": "ipython3",
   "version": "3.11.4"
  },
  "orig_nbformat": 4,
  "vscode": {
   "interpreter": {
    "hash": "26de051ba29f2982a8de78e945f0abaf191376122a1563185a90213a26c5da77"
   }
  }
 },
 "nbformat": 4,
 "nbformat_minor": 2
}
