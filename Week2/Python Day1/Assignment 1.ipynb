{
 "cells": [
  {
   "attachments": {},
   "cell_type": "markdown",
   "metadata": {},
   "source": [
    "# Coding Temple's Data Analytics Program\n",
    "---\n",
    "## Python 1: Assignment 1\n",
    "---"
   ]
  },
  {
   "attachments": {},
   "cell_type": "markdown",
   "metadata": {},
   "source": [
    "### Task 1: Cube Number Test\n",
    "Print out all cubed numbers, up to the total value of 1000. If the cubed number is over 1000, break the loop.\n",
    "\n",
    "Save all numbers to a list named `cube`"
   ]
  },
  {
   "cell_type": "code",
   "execution_count": 3,
   "metadata": {},
   "outputs": [
    {
     "data": {
      "text/plain": [
       "[1, 8, 27, 64, 125, 216, 343, 512, 729, 1000]"
      ]
     },
     "execution_count": 3,
     "metadata": {},
     "output_type": "execute_result"
    }
   ],
   "source": [
    "#Goal: cube = [1, 8, 27, 64, 12 ... 1000]\n",
    "cube = [] #Create an empty list to store the cubes\n",
    "\n",
    "for i in range(1, 1000):\n",
    "    cubed_value = i**3\n",
    "    if cubed_value <= 1000:\n",
    "        #print(cubed_value)\n",
    "            cube.append(cubed_value)\n",
    "    else:\n",
    "        break\n",
    "    \n",
    "cube"
   ]
  },
  {
   "cell_type": "code",
   "execution_count": 4,
   "metadata": {},
   "outputs": [
    {
     "data": {
      "text/plain": [
       "[2, 4, 6, 8, 10, 12, 14, 16, 18, 20]"
      ]
     },
     "execution_count": 4,
     "metadata": {},
     "output_type": "execute_result"
    }
   ],
   "source": [
    "#Append practice!\n",
    "#Give me a list of all numbers 1-20 in a list!\n",
    "\n",
    "my_list = []\n",
    "\n",
    "for i in range(2, 21, 2):\n",
    "    my_list.append(i)\n",
    "    \n",
    "my_list"
   ]
  },
  {
   "attachments": {},
   "cell_type": "markdown",
   "metadata": {},
   "source": [
    "### Task 1 Testing\n",
    "This cell is to test your answer in task 1"
   ]
  },
  {
   "cell_type": "code",
   "execution_count": 5,
   "metadata": {},
   "outputs": [],
   "source": [
    "# DO NOT EDIT THIS CELL!!\n",
    "assert len(cube) == 10, 'Double-check your calculations! There should be 9 numbers in this list!'\n",
    "assert cube[-1] == 1000, f\"Your final value should be 1000 and you have {cube[-1]}\""
   ]
  },
  {
   "attachments": {},
   "cell_type": "markdown",
   "metadata": {},
   "source": [
    "### Task 2: Prime Numbers\n",
    "\n",
    "Get all prime numbers up to 100. Add these values to a list named `prime`"
   ]
  },
  {
   "cell_type": "code",
   "execution_count": 10,
   "metadata": {
    "tags": []
   },
   "outputs": [
    {
     "name": "stdout",
     "output_type": "stream",
     "text": [
      "[2, 3, 5, 7, 11, 13, 17, 19, 23, 29, 31, 37, 41, 43, 47, 53, 59, 61, 67, 71, 73, 79, 83, 89, 97]\n"
     ]
    }
   ],
   "source": [
    "prime = []\n",
    "# HINT: Nested loops will help you here\n",
    "\n",
    "for number in range(2, 101): #Loop through numbers 2 to 100 inclusive\n",
    "    is_prime = True #Assume number is prime until proven otherwise\n",
    "    \n",
    "    for divisor in range(2, number): #Check for divisors from 2 to number\n",
    "        if number % divisor == 0:\n",
    "            is_prime = False #If a divisor is found, number is not prime\n",
    "            break\n",
    "        \n",
    "    if is_prime:\n",
    "        prime.append(number)\n",
    "        \n",
    "print(prime)"
   ]
  },
  {
   "attachments": {},
   "cell_type": "markdown",
   "metadata": {},
   "source": [
    "### Task 2 Testing\n",
    "This cell is to test your answers in task 2"
   ]
  },
  {
   "cell_type": "code",
   "execution_count": null,
   "metadata": {},
   "outputs": [],
   "source": [
    "# DO NOT EDIT THIS CELL!!\n",
    "assert len(prime) == 25, 'Make sure you have all the prime numbers from 0-100 in the list \"prime\"'\n",
    "assert prime[-1] == 97, f'Your list should end with the number 97. Yours currently ends at {prime[-1]}'"
   ]
  },
  {
   "attachments": {},
   "cell_type": "markdown",
   "metadata": {},
   "source": [
    "### Task 3: User Inputs\n",
    "Take an input from a user for their age and convert it into an integer type. Save this to a variable to the name age. If the user is younger than 18, print `kids`, if they are 18-65, print `adults`, else, print `seniors`."
   ]
  },
  {
   "cell_type": "code",
   "execution_count": 2,
   "metadata": {},
   "outputs": [
    {
     "name": "stdout",
     "output_type": "stream",
     "text": [
      "adults\n"
     ]
    }
   ],
   "source": [
    "age_str = input(\"Please enter your age: \")\n",
    "age = int(age_str)\n",
    "\n",
    "if age < 18:\n",
    "    print(\"kids\")\n",
    "elif age >= 18 and age <=65:\n",
    "    print(\"adults\")\n",
    "else:\n",
    "    print(\"seniors\")"
   ]
  },
  {
   "attachments": {},
   "cell_type": "markdown",
   "metadata": {},
   "source": [
    "### Task 3 Testing\n",
    "This cell is to test your answers in task 2"
   ]
  },
  {
   "cell_type": "code",
   "execution_count": 6,
   "metadata": {},
   "outputs": [],
   "source": [
    "# DO NOT EDIT THIS CELL!!\n",
    "assert type(age) == int, 'Make sure you saved the age input as an integer!'"
   ]
  }
 ],
 "metadata": {
  "kernelspec": {
   "display_name": "Python 3",
   "language": "python",
   "name": "python3"
  },
  "language_info": {
   "codemirror_mode": {
    "name": "ipython",
    "version": 3
   },
   "file_extension": ".py",
   "mimetype": "text/x-python",
   "name": "python",
   "nbconvert_exporter": "python",
   "pygments_lexer": "ipython3",
   "version": "3.11.4"
  },
  "orig_nbformat": 4,
  "vscode": {
   "interpreter": {
    "hash": "26de051ba29f2982a8de78e945f0abaf191376122a1563185a90213a26c5da77"
   }
  }
 },
 "nbformat": 4,
 "nbformat_minor": 2
}
