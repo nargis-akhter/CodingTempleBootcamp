{
  "cells": [
    {
      "attachments": {},
      "cell_type": "markdown",
      "metadata": {
        "id": "57xaaz1EpigH"
      },
      "source": [
        "# Coding Temple's Data Analytics Course\n",
        "---\n",
        "## Python I: Variable Assignment, Loops, Lists\n",
        "---"
      ]
    },
    {
      "attachments": {},
      "cell_type": "markdown",
      "metadata": {
        "id": "DEMU__ZTpigK"
      },
      "source": [
        "## Tasks Today:\n",
        "\n",
        "1) Int & Float assignments <br>\n",
        " &nbsp;&nbsp;&nbsp;&nbsp; a) Assigning int <br>\n",
        " &nbsp;&nbsp;&nbsp;&nbsp; b) Assigning float <br>\n",
        " &nbsp;&nbsp;&nbsp;&nbsp; c) Performing Calculations on ints and floats <br>\n",
        " &nbsp;&nbsp;&nbsp;&nbsp;&nbsp;&nbsp;&nbsp;&nbsp; - Addition <br>\n",
        " &nbsp;&nbsp;&nbsp;&nbsp;&nbsp;&nbsp;&nbsp;&nbsp; - Subtraction <br>\n",
        " &nbsp;&nbsp;&nbsp;&nbsp;&nbsp;&nbsp;&nbsp;&nbsp; - Multiplication <br>\n",
        " &nbsp;&nbsp;&nbsp;&nbsp;&nbsp;&nbsp;&nbsp;&nbsp; - Division <br>\n",
        " &nbsp;&nbsp;&nbsp;&nbsp;&nbsp;&nbsp;&nbsp;&nbsp; - Floor Division <br>\n",
        " &nbsp;&nbsp;&nbsp;&nbsp;&nbsp;&nbsp;&nbsp;&nbsp; - Modulo <br>\n",
        " &nbsp;&nbsp;&nbsp;&nbsp;&nbsp;&nbsp;&nbsp;&nbsp; - Exponential <br>\n",
        "2) String Input-Output <br>\n",
        " &nbsp;&nbsp;&nbsp;&nbsp; a) String Assignment <br>\n",
        " &nbsp;&nbsp;&nbsp;&nbsp; b) print() <br>\n",
        " &nbsp;&nbsp;&nbsp;&nbsp; c) String Concatenation <br>\n",
        " &nbsp;&nbsp;&nbsp;&nbsp; d) Type Conversion <br>\n",
        " &nbsp;&nbsp;&nbsp;&nbsp; e) input() <br>\n",
        " &nbsp;&nbsp;&nbsp;&nbsp; f) format() <br>\n",
        " &nbsp;&nbsp;&nbsp;&nbsp; g) Old Way (python 2) <br>\n",
        "3) <b>In-Class Exercise #1</b> <br>\n",
        "4) If Statements <br>\n",
        " &nbsp;&nbsp;&nbsp;&nbsp; a) 'is' keyword <br>\n",
        " &nbsp;&nbsp;&nbsp;&nbsp; b) 'in' keyword <br>\n",
        " &nbsp;&nbsp;&nbsp;&nbsp; c) 'not in' keyword <br>\n",
        "5) <b>In-Class Exercise #2</b> <br>\n",
        "6) Elif Statements <br>\n",
        "7) Else Statements <br>\n",
        "8) <b>In-Class Exercise #3</b> <br>\n",
        "9) For Loops <br>\n",
        " &nbsp;&nbsp;&nbsp;&nbsp; a) Using 'in' keyword <br>\n",
        " &nbsp;&nbsp;&nbsp;&nbsp; b) Continue Statement <br>\n",
        " &nbsp;&nbsp;&nbsp;&nbsp; c) Break Statement <br>\n",
        " &nbsp;&nbsp;&nbsp;&nbsp; d) Pass Statement <br>\n",
        " &nbsp;&nbsp;&nbsp;&nbsp; e) Double For Loops <br>\n",
        "10) While Loops <br>\n",
        " &nbsp;&nbsp;&nbsp;&nbsp; a) Looping 'While True' <br>\n",
        " &nbsp;&nbsp;&nbsp;&nbsp; b) While and For Loops Used Together <br>\n",
        "11) Built-In Functions <br>\n",
        " &nbsp;&nbsp;&nbsp;&nbsp; a) range() <br>\n",
        " &nbsp;&nbsp;&nbsp;&nbsp; b) len() <br>\n",
        " &nbsp;&nbsp;&nbsp;&nbsp; c) help() <br>\n",
        " &nbsp;&nbsp;&nbsp;&nbsp; d) isinstance() <br>\n",
        " &nbsp;&nbsp;&nbsp;&nbsp; e) abs() <br>\n",
        "12) Try and Except <br>\n",
        "13) Lists <br>\n",
        " &nbsp;&nbsp;&nbsp;&nbsp; a) Declaring Lists <br>\n",
        " &nbsp;&nbsp;&nbsp;&nbsp; b) Indexing a List <br>\n",
        " &nbsp;&nbsp;&nbsp;&nbsp; c) .append() <br>\n",
        " &nbsp;&nbsp;&nbsp;&nbsp; d) .insert() <br>\n",
        " &nbsp;&nbsp;&nbsp;&nbsp; e) .pop() <br>\n",
        " &nbsp;&nbsp;&nbsp;&nbsp; f) .remove() <br>\n",
        " &nbsp;&nbsp;&nbsp;&nbsp; g) del() <br>\n",
        " &nbsp;&nbsp;&nbsp;&nbsp; h) Concatenating Two Lists <br>\n",
        " &nbsp;&nbsp;&nbsp;&nbsp; i) Lists Within Lists <br>\n",
        " &nbsp;&nbsp;&nbsp;&nbsp; j) Looping Through Lists <br>"
      ]
    },
    {
      "attachments": {},
      "cell_type": "markdown",
      "metadata": {
        "id": "9AQEnYwJpigM"
      },
      "source": [
        "### Int & Float Assignments"
      ]
    },
    {
      "attachments": {},
      "cell_type": "markdown",
      "metadata": {
        "id": "WbMsgFCDpigM"
      },
      "source": [
        "##### Assigning int"
      ]
    },
    {
      "cell_type": "code",
      "execution_count": 44,
      "metadata": {
        "id": "if4FWmqWpigN"
      },
      "outputs": [
        {
          "data": {
            "text/plain": [
              "6"
            ]
          },
          "execution_count": 44,
          "metadata": {},
          "output_type": "execute_result"
        }
      ],
      "source": [
        "#Name the variable first:\n",
        "#Int can be converted into float\n",
        "number = 6\n",
        "number"
      ]
    },
    {
      "attachments": {},
      "cell_type": "markdown",
      "metadata": {
        "id": "BBX5w1FfpigO"
      },
      "source": [
        "##### Assinging float"
      ]
    },
    {
      "cell_type": "code",
      "execution_count": 45,
      "metadata": {
        "id": "w0KpCCeXpigO"
      },
      "outputs": [
        {
          "data": {
            "text/plain": [
              "2.3"
            ]
          },
          "execution_count": 45,
          "metadata": {},
          "output_type": "execute_result"
        }
      ],
      "source": [
        "#Aka floating point value\n",
        "#Float can never be an integer\n",
        "number_float = 2.3\n",
        "number_float"
      ]
    },
    {
      "attachments": {},
      "cell_type": "markdown",
      "metadata": {
        "id": "hZkNTUDApigO"
      },
      "source": [
        "#### Performing Calculations on ints and floats"
      ]
    },
    {
      "attachments": {},
      "cell_type": "markdown",
      "metadata": {
        "id": "0OJrZLB_pigP"
      },
      "source": [
        "##### Addition"
      ]
    },
    {
      "cell_type": "code",
      "execution_count": 46,
      "metadata": {
        "id": "ZplFGDG-pigP"
      },
      "outputs": [
        {
          "name": "stdout",
          "output_type": "stream",
          "text": [
            "7.4\n",
            "12.8\n"
          ]
        }
      ],
      "source": [
        "num_1 = 2\n",
        "num_2 = 5.4\n",
        "\n",
        "#This is one way in which we can perform addition to two different numbers in Python.\n",
        "result = num_1 + num_2\n",
        "print(result)\n",
        "\n",
        "#Pythonic way:\n",
        "result += num_2 # EXACT SAME THING as saying result = result + num_2 (over-writing the existing value of the left hand side)\n",
        "print(result)"
      ]
    },
    {
      "attachments": {},
      "cell_type": "markdown",
      "metadata": {
        "id": "XpRbDiqapigQ"
      },
      "source": [
        "##### Subtraction"
      ]
    },
    {
      "cell_type": "code",
      "execution_count": 47,
      "metadata": {
        "id": "4ty9SIlqpigQ"
      },
      "outputs": [
        {
          "name": "stdout",
          "output_type": "stream",
          "text": [
            "3.4000000000000004\n",
            "2.4000000000000004\n"
          ]
        }
      ],
      "source": [
        "result_diff = num_2 - num_1\n",
        "print(result_diff)\n",
        "\n",
        "result_diff -= 1\n",
        "print(result_diff)"
      ]
    },
    {
      "attachments": {},
      "cell_type": "markdown",
      "metadata": {
        "id": "2l8PJyt1pigQ"
      },
      "source": [
        "##### Multiplication"
      ]
    },
    {
      "cell_type": "code",
      "execution_count": 48,
      "metadata": {
        "id": "ihgp2XUCpigQ"
      },
      "outputs": [
        {
          "name": "stdout",
          "output_type": "stream",
          "text": [
            "10.8\n",
            "12.8\n"
          ]
        }
      ],
      "source": [
        "result_mult = num_1 * num_2\n",
        "print(result_mult)\n",
        "\n",
        "result_mult += 2\n",
        "print(result_mult)"
      ]
    },
    {
      "attachments": {},
      "cell_type": "markdown",
      "metadata": {
        "id": "BX9eRTAtpigQ"
      },
      "source": [
        "##### Division"
      ]
    },
    {
      "cell_type": "code",
      "execution_count": 49,
      "metadata": {
        "id": "xmH2irBvpigR"
      },
      "outputs": [
        {
          "name": "stdout",
          "output_type": "stream",
          "text": [
            "2.7\n",
            "1.35\n"
          ]
        }
      ],
      "source": [
        "result_div = num_2 / num_1\n",
        "print(result_div) \n",
        "\n",
        "result_div /= 2\n",
        "print(result_div)"
      ]
    },
    {
      "attachments": {},
      "cell_type": "markdown",
      "metadata": {
        "id": "wRDQbO74pigR"
      },
      "source": [
        "##### Floor Division"
      ]
    },
    {
      "cell_type": "code",
      "execution_count": 50,
      "metadata": {
        "id": "ug00LrlRpigR"
      },
      "outputs": [
        {
          "name": "stdout",
          "output_type": "stream",
          "text": [
            "1.0\n"
          ]
        }
      ],
      "source": [
        "result_floor = num_2 // num_1\n",
        "\n",
        "result_floor //= 2\n",
        "print(result_floor)"
      ]
    },
    {
      "attachments": {},
      "cell_type": "markdown",
      "metadata": {
        "id": "xrF0YNLRpigR"
      },
      "source": [
        "##### Modulo"
      ]
    },
    {
      "cell_type": "code",
      "execution_count": 51,
      "metadata": {
        "id": "KJbeV5W8pigR"
      },
      "outputs": [
        {
          "name": "stdout",
          "output_type": "stream",
          "text": [
            "1.4000000000000004\n"
          ]
        }
      ],
      "source": [
        "result_mod = num_2 % num_1\n",
        "print(result_mod)"
      ]
    },
    {
      "attachments": {},
      "cell_type": "markdown",
      "metadata": {
        "id": "mV3tz9_4pigS"
      },
      "source": [
        "##### Exponential"
      ]
    },
    {
      "cell_type": "code",
      "execution_count": 52,
      "metadata": {
        "id": "HkDfvywxpigS"
      },
      "outputs": [
        {
          "name": "stdout",
          "output_type": "stream",
          "text": [
            "25\n",
            "625\n"
          ]
        }
      ],
      "source": [
        "squared = 5**2\n",
        "print(squared)\n",
        "\n",
        "#Pythonic version:\n",
        "squared **=2\n",
        "print(squared)"
      ]
    },
    {
      "attachments": {},
      "cell_type": "markdown",
      "metadata": {
        "id": "dryy0pBFpigS"
      },
      "source": [
        "### String Input-Output"
      ]
    },
    {
      "attachments": {},
      "cell_type": "markdown",
      "metadata": {
        "id": "Xjfphv3UpigS"
      },
      "source": [
        "##### String Assignment"
      ]
    },
    {
      "cell_type": "code",
      "execution_count": 70,
      "metadata": {
        "id": "QQA_K7eppigS"
      },
      "outputs": [],
      "source": [
        "#name = 'This is Python. It\\'s great'\n",
        "#print(name)\n",
        "\n",
        "name = 'Nargis'"
      ]
    },
    {
      "attachments": {},
      "cell_type": "markdown",
      "metadata": {
        "id": "x6Fx1auepigS"
      },
      "source": [
        "##### print() <br>\n",
        "<p>Don't forget about end=' '</p>"
      ]
    },
    {
      "cell_type": "code",
      "execution_count": 54,
      "metadata": {
        "id": "Z4SCUqIVpigS"
      },
      "outputs": [
        {
          "name": "stdout",
          "output_type": "stream",
          "text": [
            "This is my first name: Nargis\n",
            "Full name: Nargis Akhter"
          ]
        }
      ],
      "source": [
        "#print(\"This is my first name:\", name)\n",
        "\n",
        "print(\"This is my first name:\", name)\n",
        "print(\"Full name:\", name, end = ' Akhter')"
      ]
    },
    {
      "attachments": {},
      "cell_type": "markdown",
      "metadata": {
        "id": "0rvl648hpigT"
      },
      "source": [
        "##### String Concatenation"
      ]
    },
    {
      "cell_type": "code",
      "execution_count": 73,
      "metadata": {
        "id": "S3Y5p6N8pigT"
      },
      "outputs": [
        {
          "name": "stdout",
          "output_type": "stream",
          "text": [
            "John Smith\n"
          ]
        },
        {
          "data": {
            "text/plain": [
              "'John Smith Jr.'"
            ]
          },
          "execution_count": 73,
          "metadata": {},
          "output_type": "execute_result"
        }
      ],
      "source": [
        "first_name = 'John'\n",
        "last_name = 'Smith'\n",
        "\n",
        "full_name = first_name + ' ' + last_name\n",
        "print(full_name)\n",
        "\n",
        "#Pythonic way to add items to a string\n",
        "full_name += \" Jr.\"\n",
        "full_name"
      ]
    },
    {
      "attachments": {},
      "cell_type": "markdown",
      "metadata": {
        "id": "XlQAnJBbpigT"
      },
      "source": [
        "##### Type Conversion"
      ]
    },
    {
      "cell_type": "code",
      "execution_count": 74,
      "metadata": {
        "id": "LczVxyFmpigT"
      },
      "outputs": [
        {
          "name": "stdout",
          "output_type": "stream",
          "text": [
            "32\n",
            "32\n",
            "<class 'str'>\n",
            "55\n"
          ]
        }
      ],
      "source": [
        "number = '32'\n",
        "change_type_num = int(number)\n",
        "print(number)\n",
        "print(change_type_num)\n",
        "\n",
        "print(type(number))\n",
        "print(str(change_type_num + 23))"
      ]
    },
    {
      "attachments": {},
      "cell_type": "markdown",
      "metadata": {
        "id": "D5r5bba4pigT"
      },
      "source": [
        "##### input()"
      ]
    },
    {
      "cell_type": "code",
      "execution_count": 2,
      "metadata": {
        "id": "93t1CFRdpigT"
      },
      "outputs": [
        {
          "name": "stdout",
          "output_type": "stream",
          "text": [
            "Nargis\n",
            "23\n"
          ]
        }
      ],
      "source": [
        "#Input is a function. What this function does is ask for input in the terminal:\n",
        "\n",
        "name = input('What is your name?')\n",
        "print(name)\n",
        "\n",
        "#Important thing to note:\n",
        "#Input always outputs a string object!\n",
        "age = input('What is your age?')\n",
        "print((age))"
      ]
    },
    {
      "attachments": {},
      "cell_type": "markdown",
      "metadata": {
        "id": "TkEhAU61pigT"
      },
      "source": [
        "format()"
      ]
    },
    {
      "cell_type": "code",
      "execution_count": 3,
      "metadata": {
        "id": "T656F6u4pigU"
      },
      "outputs": [
        {
          "name": "stdout",
          "output_type": "stream",
          "text": [
            "You are 23 Nargis and you are getting wiser!\n",
            "23 is a great time in life!\n"
          ]
        }
      ],
      "source": [
        "age = input(\"What is your age?\")\n",
        "result_str = \"You are {} {} and you are getting wiser!\".format(age, name)\n",
        "print(result_str)\n",
        "\n",
        "#The f-string:\n",
        "result_again = f'{age} is a great time in life!'\n",
        "print(result_again)"
      ]
    },
    {
      "attachments": {},
      "cell_type": "markdown",
      "metadata": {
        "id": "7IOvBGXapigU"
      },
      "source": [
        "##### Old Way (python 2)"
      ]
    },
    {
      "cell_type": "code",
      "execution_count": 79,
      "metadata": {
        "id": "x1NsLPo6pigU"
      },
      "outputs": [
        {
          "data": {
            "text/plain": [
              "'You are 23 and you look great for your age!'"
            ]
          },
          "execution_count": 79,
          "metadata": {},
          "output_type": "execute_result"
        }
      ],
      "source": [
        "result_str_2 = \"You are %s and you look great for your age!\" %age\n",
        "result_str_2"
      ]
    },
    {
      "attachments": {},
      "cell_type": "markdown",
      "metadata": {
        "id": "Jfh2Y6qwpigU"
      },
      "source": [
        "# In-Class Exercise 1 <br>\n",
        "<p>Create a format statement that asks for color, year, make, model and prints out the results</p>"
      ]
    },
    {
      "cell_type": "code",
      "execution_count": null,
      "metadata": {
        "id": "XEkCn2tHpigU"
      },
      "outputs": [
        {
          "name": "stdout",
          "output_type": "stream",
          "text": [
            "The color of your car is black. The year of your car is 2012. The make of your car is honda. The model of your car is civic.\n"
          ]
        }
      ],
      "source": [
        "# Uses input function to ask for color, year, make, and model of vehicle.\n",
        "# Then, you will use a .format() or f-string to print those values back to your user.\n",
        "\n",
        "vehicle_color = input(\"What is the color of your vehicle?\")\n",
        "vehicle_year = input(\"What is the year of your vehicle?\")\n",
        "vehicle_make = input(\"What is the make of your vehicle?\")\n",
        "vehicle_model = input(\"What is the model of your vehicle?\")\n",
        "\n",
        "result_str = f\"The color of your car is {vehicle_color}. The year of your car is {vehicle_year}. The make of your car is {vehicle_make}. The model of your car is {vehicle_model}.\"\n",
        "print(result_str)"
      ]
    },
    {
      "attachments": {},
      "cell_type": "markdown",
      "metadata": {
        "id": "7rBu-8S0pigU"
      },
      "source": [
        "### If Statements"
      ]
    },
    {
      "cell_type": "code",
      "execution_count": 4,
      "metadata": {
        "id": "mbHj2C8QpigV"
      },
      "outputs": [
        {
          "name": "stdout",
          "output_type": "stream",
          "text": [
            "Not Equal\n",
            "Low Number\n",
            "Low Number with or statement\n"
          ]
        }
      ],
      "source": [
        "#Available operands: >, <, ==, >=, <=\n",
        "\n",
        "#Truth Three:\n",
        "#T && F = F always returns false\n",
        "#T && T = T\n",
        "#T || F = T\n",
        "#F || F = F\n",
        "\n",
        "num_1 = 5\n",
        "num_2 = 10\n",
        "\n",
        "if num_2 == num_1:\n",
        "    print('Equal Values')\n",
        "else: \n",
        "    print('Not Equal')\n",
        "    \n",
        "if num_2 > num_1 and num_1 < 20:\n",
        "    print('Low Number')\n",
        "    \n",
        "if num_2 > num_1 | num_1 < 20:\n",
        "    print('Low Number with or statement')"
      ]
    },
    {
      "attachments": {},
      "cell_type": "markdown",
      "metadata": {
        "id": "qkYer6qtpigV"
      },
      "source": [
        "##### 'is' keyword"
      ]
    },
    {
      "cell_type": "code",
      "execution_count": null,
      "metadata": {
        "id": "FHbOkfRJpigV",
        "scrolled": true
      },
      "outputs": [
        {
          "name": "stdout",
          "output_type": "stream",
          "text": [
            "This is the exact number/object\n"
          ]
        },
        {
          "name": "stderr",
          "output_type": "stream",
          "text": [
            "<>:3: SyntaxWarning: \"is\" with a literal. Did you mean \"==\"?\n",
            "<>:3: SyntaxWarning: \"is\" with a literal. Did you mean \"==\"?\n",
            "C:\\Users\\nargi\\AppData\\Local\\Temp\\ipykernel_16596\\2953768761.py:3: SyntaxWarning: \"is\" with a literal. Did you mean \"==\"?\n",
            "  if num_3 is 55:\n"
          ]
        }
      ],
      "source": [
        "#Used when we check if something is the same/similar to an object.\n",
        "num_3 = 55\n",
        "\n",
        "if num_3 is 55:\n",
        "    print(\"This is the exact number/object\")"
      ]
    },
    {
      "attachments": {},
      "cell_type": "markdown",
      "metadata": {
        "id": "GYrLnQv3pigW"
      },
      "source": [
        "##### 'in' keyword"
      ]
    },
    {
      "cell_type": "code",
      "execution_count": null,
      "metadata": {
        "id": "0LglfRfDpigW"
      },
      "outputs": [
        {
          "name": "stdout",
          "output_type": "stream",
          "text": [
            "The character that lost everything\n"
          ]
        }
      ],
      "source": [
        "char_name = 'Max Payne'\n",
        "\n",
        "if 'Max' in char_name:\n",
        "    print('The character that lost everything')"
      ]
    },
    {
      "attachments": {},
      "cell_type": "markdown",
      "metadata": {
        "id": "O3YwJKEgpigW"
      },
      "source": [
        "##### 'not in' keyword'"
      ]
    },
    {
      "cell_type": "code",
      "execution_count": null,
      "metadata": {
        "id": "sgIzj-vopigW"
      },
      "outputs": [
        {
          "name": "stdout",
          "output_type": "stream",
          "text": [
            "The character named  is not present in this list\n"
          ]
        }
      ],
      "source": [
        "char_list = [char_name, 'Sonic', 'Tails', 'Knuckles']\n",
        "name = input('Character name:')\n",
        "if name not in char_list:\n",
        "    print(f'The character named {name} is not present in this list')\n",
        "else:\n",
        "    print(f'Here is the character you asked for: {name}')"
      ]
    },
    {
      "attachments": {},
      "cell_type": "markdown",
      "metadata": {
        "id": "U064bQXGpigW"
      },
      "source": [
        "# In-Class Exercise 2 <br>\n",
        "<p>Ask a user for input, check to see if the letter 'p' is in the input</p>"
      ]
    },
    {
      "cell_type": "code",
      "execution_count": null,
      "metadata": {
        "id": "IW9tVkRYpigW"
      },
      "outputs": [
        {
          "name": "stdout",
          "output_type": "stream",
          "text": [
            "Oops. 'p' is not in your name.\n"
          ]
        },
        {
          "data": {
            "text/plain": [
              "True"
            ]
          },
          "execution_count": 12,
          "metadata": {},
          "output_type": "execute_result"
        }
      ],
      "source": [
        "user_input = input(\"What is your name?\")\n",
        "\n",
        "if 'p' in user_input:\n",
        "    print(\"Congrats! 'p' is in your name.\")\n",
        "else:\n",
        "    print(\"Oops. 'p' is not in your name.\")\n",
        "    \n",
        "    \n",
        "def city_p(city):\n",
        "    return 'p' in city.lower()\n",
        "\n",
        "city_p('Philly')"
      ]
    },
    {
      "attachments": {},
      "cell_type": "markdown",
      "metadata": {
        "id": "5-UuzohapigW"
      },
      "source": [
        "## Using 'and'/'or' with If Statements"
      ]
    },
    {
      "cell_type": "code",
      "execution_count": 7,
      "metadata": {
        "id": "LnxGb7aQpigW"
      },
      "outputs": [
        {
          "name": "stdout",
          "output_type": "stream",
          "text": [
            "True and True\n",
            "True and True\n",
            "True and False\n",
            "True and False\n"
          ]
        }
      ],
      "source": [
        "num_1 = 15\n",
        "num_2 = 3\n",
        "num_3 = 10\n",
        "num_4 = 3\n",
        "\n",
        "#If with \"and\" statement\n",
        "if num_1 / 5 == num_2 and num_3 - 7 == num_4:\n",
        "    print(\"True and True\")\n",
        "    \n",
        "#These are the same thing\n",
        "if num_1 / 5 == num_2 and num_3 - 7 == num_4:\n",
        "    print(\"True and True\")\n",
        "    \n",
        "#If with \"or\" statement\n",
        "if num_1 / 5 == num_2 or num_3 - 7 == num_4:\n",
        "    print(\"True and False\")\n",
        "    \n",
        "#These are the same thing    \n",
        "if num_1 / 5 == num_2 | num_3 - 7 == num_4:\n",
        "    print(\"True and False\")"
      ]
    },
    {
      "attachments": {},
      "cell_type": "markdown",
      "metadata": {
        "id": "whxY1xwwpigX"
      },
      "source": [
        "### Elif Statements"
      ]
    },
    {
      "cell_type": "code",
      "execution_count": 9,
      "metadata": {
        "id": "Td62fi2FpigX"
      },
      "outputs": [
        {
          "name": "stdout",
          "output_type": "stream",
          "text": [
            "The name is Alex\n"
          ]
        }
      ],
      "source": [
        "\n",
        "first_name = 'Alex'\n",
        "\n",
        "#Step 1: Checks first conditional\n",
        "if first_name == 'Katie':\n",
        "    # Does this if first conditional met\n",
        "    print(\"Your name is Katie\")\n",
        "\n",
        "#Step 2: If the first is not met, check this one next\n",
        "elif first_name != 'Alex':\n",
        "    #Do this if this conditional is met\n",
        "    print(\"Your name is NOT Alex!\")\n",
        "    \n",
        "#Otherwise, do this: \n",
        "else:\n",
        "    print(\"The name is Alex\")\n",
        "    "
      ]
    },
    {
      "attachments": {},
      "cell_type": "markdown",
      "metadata": {
        "id": "ASN3ooropigX"
      },
      "source": [
        "### Else Statements"
      ]
    },
    {
      "cell_type": "code",
      "execution_count": null,
      "metadata": {
        "id": "PFNuu-vupigX"
      },
      "outputs": [],
      "source": [
        "# See above"
      ]
    },
    {
      "attachments": {},
      "cell_type": "markdown",
      "metadata": {
        "id": "Ck0z9vNipigX"
      },
      "source": [
        "### For Loops"
      ]
    },
    {
      "cell_type": "code",
      "execution_count": 15,
      "metadata": {
        "id": "d39ZrrARpigX"
      },
      "outputs": [
        {
          "name": "stdout",
          "output_type": "stream",
          "text": [
            "A\n",
            "l\n",
            "e\n",
            "x\n",
            " \n",
            "L\n",
            "u\n",
            "c\n",
            "h\n",
            "e\n",
            "s\n",
            "s\n",
            "i\n"
          ]
        }
      ],
      "source": [
        "#Iterables: An iterable is anything that can be parsed over in smaller chunks. For example, we can break a word down into individual letters.\n",
        "#We break a list of words down to each individual word\n",
        "\n",
        "name = 'Alex Luchessi'\n",
        "\n",
        "for letter in name:\n",
        "    print(letter)"
      ]
    },
    {
      "cell_type": "code",
      "execution_count": 14,
      "metadata": {},
      "outputs": [
        {
          "name": "stdout",
          "output_type": "stream",
          "text": [
            "A\n",
            "l\n",
            "e\n",
            "x\n",
            " \n",
            "L\n",
            "u\n",
            "c\n",
            "h\n",
            "e\n",
            "s\n",
            "s\n",
            "i\n"
          ]
        }
      ],
      "source": [
        "#Another method of a for loop looks over a RANGE of values, to access index positions and gather back values that way:\n",
        "for index_position in range(len(name)):\n",
        "    print(name[index_position])"
      ]
    },
    {
      "attachments": {},
      "cell_type": "markdown",
      "metadata": {
        "id": "5S0I8aINpigY"
      },
      "source": [
        "##### Continue Statement"
      ]
    },
    {
      "cell_type": "code",
      "execution_count": null,
      "metadata": {
        "id": "J_kRqgj5pigY"
      },
      "outputs": [
        {
          "name": "stdout",
          "output_type": "stream",
          "text": [
            "0\n",
            "1\n",
            "2\n",
            "3\n",
            "4\n",
            "6\n",
            "7\n",
            "8\n",
            "9\n",
            "10\n",
            "11\n",
            "12\n",
            "13\n",
            "14\n",
            "15\n",
            "16\n",
            "17\n",
            "18\n",
            "19\n"
          ]
        }
      ],
      "source": [
        "#Continues to the next iteration, bypassing any other values or actions in which you would want to take:\n",
        "for i in range(20):\n",
        "    if i == 5:\n",
        "        continue\n",
        "    print(i)"
      ]
    },
    {
      "attachments": {},
      "cell_type": "markdown",
      "metadata": {
        "id": "ayhahusHpigY"
      },
      "source": [
        "##### Break Statement"
      ]
    },
    {
      "cell_type": "code",
      "execution_count": null,
      "metadata": {
        "id": "rVZD2dL1pigY"
      },
      "outputs": [
        {
          "name": "stdout",
          "output_type": "stream",
          "text": [
            "0\n",
            "1\n",
            "2\n",
            "3\n",
            "4\n"
          ]
        }
      ],
      "source": [
        "\n",
        "for i in range(20):\n",
        "    if i == 5:\n",
        "        break\n",
        "    print(i)"
      ]
    },
    {
      "attachments": {},
      "cell_type": "markdown",
      "metadata": {
        "id": "TNq5R0MJpigY"
      },
      "source": [
        "##### Pass Statement"
      ]
    },
    {
      "cell_type": "code",
      "execution_count": null,
      "metadata": {
        "id": "Z8IVvwtdpigY"
      },
      "outputs": [
        {
          "name": "stdout",
          "output_type": "stream",
          "text": [
            "A\n",
            "l\n",
            "e\n",
            "x\n",
            " \n",
            "L\n",
            "u\n",
            "c\n",
            "h\n",
            "e\n",
            "s\n",
            "s\n",
            "i\n"
          ]
        }
      ],
      "source": [
        "#Mostly used as a placeholder and will continue onto the same iteration:\n",
        "for i in name:\n",
        "    pass #TODO: COME BACK AND FINISH CODE\n",
        "    print(i)"
      ]
    },
    {
      "attachments": {},
      "cell_type": "markdown",
      "metadata": {
        "id": "aiccDYGIpigZ"
      },
      "source": [
        "##### Double For Loops"
      ]
    },
    {
      "cell_type": "code",
      "execution_count": null,
      "metadata": {
        "id": "AfOZQ6CPpigZ"
      },
      "outputs": [
        {
          "name": "stdout",
          "output_type": "stream",
          "text": [
            "i = 0 j =  0\n",
            "i = 0 j =  1\n",
            "i = 0 j =  2\n",
            "i = 0 j =  3\n",
            "i = 0 j =  4\n",
            "i = 1 j =  0\n",
            "i = 1 j =  1\n",
            "i = 1 j =  2\n",
            "i = 1 j =  3\n",
            "i = 1 j =  4\n",
            "i = 2 j =  0\n",
            "i = 2 j =  1\n",
            "i = 2 j =  2\n",
            "i = 2 j =  3\n",
            "i = 2 j =  4\n",
            "i = 3 j =  0\n",
            "i = 3 j =  1\n",
            "i = 3 j =  2\n",
            "i = 3 j =  3\n",
            "i = 3 j =  4\n",
            "i = 4 j =  0\n",
            "i = 4 j =  1\n",
            "i = 4 j =  2\n",
            "i = 4 j =  3\n",
            "i = 4 j =  4\n"
          ]
        }
      ],
      "source": [
        "#Aka nested loops\n",
        "#Starts down one loop then starts another loop. \n",
        "#It finishes the second loop.\n",
        "#Then it does another iteration of the first loop.\n",
        "#Then does the second loop again.\n",
        "for i in range(5):\n",
        "    for j in range(5):\n",
        "        print('i =', i, 'j = ', j)"
      ]
    },
    {
      "attachments": {},
      "cell_type": "markdown",
      "metadata": {
        "id": "YSJaEYX8pigZ"
      },
      "source": [
        "### While Loops"
      ]
    },
    {
      "cell_type": "code",
      "execution_count": 19,
      "metadata": {
        "id": "AanJpMEOpigZ"
      },
      "outputs": [
        {
          "name": "stdout",
          "output_type": "stream",
          "text": [
            "0\n",
            "1\n",
            "2\n",
            "3\n",
            "4\n",
            "5\n",
            "6\n",
            "7\n",
            "8\n",
            "9\n"
          ]
        }
      ],
      "source": [
        "#While keyboard, conditional statement\n",
        "#Based on that conditional statement, the loop will either continue or stop\n",
        "\n",
        "num = 0\n",
        "while num < 10: \n",
        "    print(num)\n",
        "    num += 1"
      ]
    },
    {
      "attachments": {},
      "cell_type": "markdown",
      "metadata": {
        "id": "lKGkgn6npigZ"
      },
      "source": [
        "##### Looping 'While True'"
      ]
    },
    {
      "cell_type": "code",
      "execution_count": null,
      "metadata": {
        "id": "q_7GHK21pigZ"
      },
      "outputs": [
        {
          "name": "stdout",
          "output_type": "stream",
          "text": [
            "Infinite Loop\n"
          ]
        }
      ],
      "source": [
        "game_over = False\n",
        "\n",
        "while True:\n",
        "    print(\"Infinite Loop\")\n",
        "    \n",
        "    if game_over == False:\n",
        "        break\n",
        "    \n",
        "    "
      ]
    },
    {
      "attachments": {},
      "cell_type": "markdown",
      "metadata": {
        "id": "mIR2glbrpigZ"
      },
      "source": [
        "##### While & For Loops Used Together"
      ]
    },
    {
      "cell_type": "code",
      "execution_count": 21,
      "metadata": {
        "id": "xVRDp4cspigZ"
      },
      "outputs": [
        {
          "name": "stdout",
          "output_type": "stream",
          "text": [
            "\n",
            "While Loop Iteration #: 0\n",
            "For Loop Iteration #: 0\n",
            "For Loop Iteration #: 1\n",
            "\n",
            "While Loop Iteration #: 1\n",
            "For Loop Iteration #: 0\n",
            "For Loop Iteration #: 1\n",
            "\n",
            "While Loop Iteration #: 2\n",
            "For Loop Iteration #: 0\n",
            "For Loop Iteration #: 1\n",
            "\n",
            "While Loop Iteration #: 3\n",
            "For Loop Iteration #: 0\n",
            "For Loop Iteration #: 1\n",
            "\n",
            "While Loop Iteration #: 4\n",
            "For Loop Iteration #: 0\n",
            "For Loop Iteration #: 1\n"
          ]
        }
      ],
      "source": [
        "num = 0\n",
        "\n",
        "while num < 5:\n",
        "    print(\"\\nWhile Loop Iteration #:\", num)\n",
        "    \n",
        "    for i in range(2):\n",
        "        print('For Loop Iteration #:', i)\n",
        "        \n",
        "    num += 1"
      ]
    },
    {
      "attachments": {},
      "cell_type": "markdown",
      "metadata": {
        "id": "mdZEfa2ppiga"
      },
      "source": [
        "### Built-In Functions"
      ]
    },
    {
      "attachments": {},
      "cell_type": "markdown",
      "metadata": {
        "id": "TePeW8K4piga"
      },
      "source": [
        "##### range()"
      ]
    },
    {
      "cell_type": "code",
      "execution_count": null,
      "metadata": {
        "id": "ic7Mz-e1piga"
      },
      "outputs": [
        {
          "name": "stdout",
          "output_type": "stream",
          "text": [
            "2\n",
            "4\n",
            "6\n",
            "8\n",
            "10\n",
            "12\n",
            "14\n",
            "16\n",
            "18\n"
          ]
        }
      ],
      "source": [
        "#Start, stop, step\n",
        "\n",
        "#The start is inferred at the value of 0, the step is inferred as the value of 1\n",
        "#So, from 0 to your defined stopping point(non-inclusive), at a step size, or increase of 1 value per iteration\n",
        "\n",
        "#range(5)\n",
        "for i in range(2, 20, 2):\n",
        "    print(i)"
      ]
    },
    {
      "attachments": {},
      "cell_type": "markdown",
      "metadata": {
        "id": "A_grIbGIpiga"
      },
      "source": [
        "##### len()"
      ]
    },
    {
      "cell_type": "code",
      "execution_count": null,
      "metadata": {
        "id": "s2CBPduMpiga"
      },
      "outputs": [
        {
          "data": {
            "text/plain": [
              "13"
            ]
          },
          "execution_count": 33,
          "metadata": {},
          "output_type": "execute_result"
        }
      ],
      "source": [
        "name_length = len(name)\n",
        "\n",
        "char_list_len = len(char_list)\n",
        "print(char_list_len)"
      ]
    },
    {
      "attachments": {},
      "cell_type": "markdown",
      "metadata": {
        "id": "dFyB7vgSpiga"
      },
      "source": [
        "##### help()"
      ]
    },
    {
      "cell_type": "code",
      "execution_count": null,
      "metadata": {
        "id": "AEMbQIlCpiga"
      },
      "outputs": [
        {
          "name": "stdout",
          "output_type": "stream",
          "text": [
            "Help on class range in module builtins:\n",
            "\n",
            "class range(object)\n",
            " |  range(stop) -> range object\n",
            " |  range(start, stop[, step]) -> range object\n",
            " |  \n",
            " |  Return an object that produces a sequence of integers from start (inclusive)\n",
            " |  to stop (exclusive) by step.  range(i, j) produces i, i+1, i+2, ..., j-1.\n",
            " |  start defaults to 0, and stop is omitted!  range(4) produces 0, 1, 2, 3.\n",
            " |  These are exactly the valid indices for a list of 4 elements.\n",
            " |  When step is given, it specifies the increment (or decrement).\n",
            " |  \n",
            " |  Methods defined here:\n",
            " |  \n",
            " |  __bool__(self, /)\n",
            " |      True if self else False\n",
            " |  \n",
            " |  __contains__(self, key, /)\n",
            " |      Return key in self.\n",
            " |  \n",
            " |  __eq__(self, value, /)\n",
            " |      Return self==value.\n",
            " |  \n",
            " |  __ge__(self, value, /)\n",
            " |      Return self>=value.\n",
            " |  \n",
            " |  __getattribute__(self, name, /)\n",
            " |      Return getattr(self, name).\n",
            " |  \n",
            " |  __getitem__(self, key, /)\n",
            " |      Return self[key].\n",
            " |  \n",
            " |  __gt__(self, value, /)\n",
            " |      Return self>value.\n",
            " |  \n",
            " |  __hash__(self, /)\n",
            " |      Return hash(self).\n",
            " |  \n",
            " |  __iter__(self, /)\n",
            " |      Implement iter(self).\n",
            " |  \n",
            " |  __le__(self, value, /)\n",
            " |      Return self<=value.\n",
            " |  \n",
            " |  __len__(self, /)\n",
            " |      Return len(self).\n",
            " |  \n",
            " |  __lt__(self, value, /)\n",
            " |      Return self<value.\n",
            " |  \n",
            " |  __ne__(self, value, /)\n",
            " |      Return self!=value.\n",
            " |  \n",
            " |  __reduce__(...)\n",
            " |      Helper for pickle.\n",
            " |  \n",
            " |  __repr__(self, /)\n",
            " |      Return repr(self).\n",
            " |  \n",
            " |  __reversed__(...)\n",
            " |      Return a reverse iterator.\n",
            " |  \n",
            " |  count(...)\n",
            " |      rangeobject.count(value) -> integer -- return number of occurrences of value\n",
            " |  \n",
            " |  index(...)\n",
            " |      rangeobject.index(value) -> integer -- return index of value.\n",
            " |      Raise ValueError if the value is not present.\n",
            " |  \n",
            " |  ----------------------------------------------------------------------\n",
            " |  Static methods defined here:\n",
            " |  \n",
            " |  __new__(*args, **kwargs) from builtins.type\n",
            " |      Create and return a new object.  See help(type) for accurate signature.\n",
            " |  \n",
            " |  ----------------------------------------------------------------------\n",
            " |  Data descriptors defined here:\n",
            " |  \n",
            " |  start\n",
            " |  \n",
            " |  step\n",
            " |  \n",
            " |  stop\n",
            "\n"
          ]
        }
      ],
      "source": [
        "help(range)"
      ]
    },
    {
      "attachments": {},
      "cell_type": "markdown",
      "metadata": {
        "id": "9OWMPi2cpiga"
      },
      "source": [
        "##### isinstance()"
      ]
    },
    {
      "cell_type": "code",
      "execution_count": null,
      "metadata": {
        "id": "hdt_QRVlpigb"
      },
      "outputs": [
        {
          "name": "stdout",
          "output_type": "stream",
          "text": [
            "This number is definitely a floating point value\n"
          ]
        }
      ],
      "source": [
        "# isinstance(var, type)\n",
        "isinstance(4.5, int)\n",
        "\n",
        "if isinstance(4.5, float):\n",
        "    print(\"This number is definitely a floating point value\")"
      ]
    },
    {
      "attachments": {},
      "cell_type": "markdown",
      "metadata": {
        "id": "pFWkGjappigb"
      },
      "source": [
        "##### abs()"
      ]
    },
    {
      "cell_type": "code",
      "execution_count": null,
      "metadata": {
        "id": "_--tP9mppigb"
      },
      "outputs": [
        {
          "data": {
            "text/plain": [
              "5"
            ]
          },
          "execution_count": 36,
          "metadata": {},
          "output_type": "execute_result"
        }
      ],
      "source": [
        "#absolute value \n",
        "\n",
        "abs(-5)"
      ]
    },
    {
      "attachments": {},
      "cell_type": "markdown",
      "metadata": {
        "id": "BBW-bZlMpigb"
      },
      "source": [
        "### Try and Except"
      ]
    },
    {
      "cell_type": "code",
      "execution_count": null,
      "metadata": {
        "id": "1D69EKPDpigb"
      },
      "outputs": [],
      "source": [
        "#Useful if you are trying to make sure user never encounters the error messages"
      ]
    },
    {
      "attachments": {},
      "cell_type": "markdown",
      "metadata": {
        "id": "KfNu45y9pigb"
      },
      "source": [
        "### Lists"
      ]
    },
    {
      "cell_type": "markdown",
      "metadata": {},
      "source": []
    },
    {
      "attachments": {},
      "cell_type": "markdown",
      "metadata": {
        "id": "_pQYGjf-pigb"
      },
      "source": [
        "##### Declaring Lists"
      ]
    },
    {
      "cell_type": "code",
      "execution_count": null,
      "metadata": {
        "id": "DfaAbDkupigb"
      },
      "outputs": [],
      "source": [
        "#1 - D data structure. 1-D means that there is a magnitude, or a caliber of existence on the X-axis, however, there is no y.\n",
        "#Declare an empty list using square barackets:\n",
        "1_1 = []\n",
        "\n",
        "#Alternatively, I can declare a list using the list(function)"
      ]
    },
    {
      "attachments": {},
      "cell_type": "markdown",
      "metadata": {
        "id": "FRrW8cwkpigb"
      },
      "source": [
        "##### Indexing a List"
      ]
    },
    {
      "cell_type": "code",
      "execution_count": null,
      "metadata": {
        "id": "G7dNYCC7pigc"
      },
      "outputs": [],
      "source": [
        "#[start:stop:step]\n",
        "\n",
        "#Single Index -- Very first value:\n",
        "print(names[0])\n",
        "\n",
        "print(names[1:])\n",
        "\n",
        "print(names[:2])"
      ]
    },
    {
      "attachments": {},
      "cell_type": "markdown",
      "metadata": {
        "id": "t__TV9J3pigc"
      },
      "source": [
        "##### .append()"
      ]
    },
    {
      "cell_type": "code",
      "execution_count": null,
      "metadata": {
        "id": "WYNIdv2ppigc"
      },
      "outputs": [],
      "source": []
    },
    {
      "attachments": {},
      "cell_type": "markdown",
      "metadata": {
        "id": "JqK9rNXipigc"
      },
      "source": [
        "##### .insert()"
      ]
    },
    {
      "cell_type": "code",
      "execution_count": null,
      "metadata": {
        "id": "CUBDbaxHpigc"
      },
      "outputs": [],
      "source": []
    },
    {
      "attachments": {},
      "cell_type": "markdown",
      "metadata": {
        "id": "wrykYThKpigc"
      },
      "source": [
        "##### .pop()"
      ]
    },
    {
      "cell_type": "code",
      "execution_count": null,
      "metadata": {
        "id": "M2vsYThtpigc"
      },
      "outputs": [],
      "source": []
    },
    {
      "attachments": {},
      "cell_type": "markdown",
      "metadata": {
        "id": "f7HSgrpBpigc"
      },
      "source": [
        "\n",
        "##### .remove()"
      ]
    },
    {
      "cell_type": "code",
      "execution_count": null,
      "metadata": {
        "id": "Yy1Fntqfpigc"
      },
      "outputs": [],
      "source": []
    },
    {
      "attachments": {},
      "cell_type": "markdown",
      "metadata": {
        "id": "lQmj8afmpigc"
      },
      "source": [
        "##### del()"
      ]
    },
    {
      "cell_type": "code",
      "execution_count": null,
      "metadata": {
        "id": "bNzO04zgpigd"
      },
      "outputs": [],
      "source": []
    },
    {
      "attachments": {},
      "cell_type": "markdown",
      "metadata": {
        "id": "gBmrIDmEpigd"
      },
      "source": [
        "##### Concatenating Two Lists"
      ]
    },
    {
      "cell_type": "code",
      "execution_count": null,
      "metadata": {
        "id": "EhY6ViTgpigd"
      },
      "outputs": [],
      "source": []
    },
    {
      "attachments": {},
      "cell_type": "markdown",
      "metadata": {
        "id": "qFFI7yWvpigd"
      },
      "source": [
        "##### Lists Within Lists"
      ]
    },
    {
      "cell_type": "code",
      "execution_count": null,
      "metadata": {
        "id": "kEdQnK2dpigd"
      },
      "outputs": [],
      "source": []
    },
    {
      "attachments": {},
      "cell_type": "markdown",
      "metadata": {
        "id": "WtbhHB8Dpigd"
      },
      "source": [
        "##### Looping Through Lists"
      ]
    },
    {
      "cell_type": "code",
      "execution_count": null,
      "metadata": {
        "id": "l-8Lv_6ipigd"
      },
      "outputs": [],
      "source": [
        "#Lists are able to house any and all data types at one time. This includes other data stores. Other lists, other dictionaries, sets, etc."
      ]
    },
    {
      "cell_type": "markdown",
      "metadata": {},
      "source": [
        "Suppose you are processing the results of a health test. The test is scored from 0 to 100, where 100 is perfect health.\n",
        "\n",
        "If the person's health is above 70, print something encouraging. Otherwise, print \"Go to the doctor, now!\""
      ]
    },
    {
      "cell_type": "markdown",
      "metadata": {},
      "source": []
    },
    {
      "cell_type": "markdown",
      "metadata": {},
      "source": [
        "Say hello to each name in the list!"
      ]
    },
    {
      "cell_type": "code",
      "execution_count": null,
      "metadata": {},
      "outputs": [
        {
          "name": "stdout",
          "output_type": "stream",
          "text": [
            "Hello, Alex!\n",
            "Hello, Katie!\n",
            "Hello, Tommy!\n",
            "Hello, Kevin!\n",
            "Hello, Shay!\n"
          ]
        }
      ],
      "source": [
        "names = ['Alex', 'Katie', 'Tommy', 'Kevin', 'Shay']\n",
        "\n",
        "for name in names:\n",
        "    #Goal: \"Hello, {name}\"\n",
        "    print(f\"Hello, {name}!\")"
      ]
    },
    {
      "cell_type": "markdown",
      "metadata": {},
      "source": [
        "ONLY say hello to the names that start with K"
      ]
    },
    {
      "cell_type": "code",
      "execution_count": 58,
      "metadata": {},
      "outputs": [
        {
          "data": {
            "text/plain": [
              "'K'"
            ]
          },
          "execution_count": 58,
          "metadata": {},
          "output_type": "execute_result"
        }
      ],
      "source": [
        "my_name = 'Katie'\n",
        "my_name[0]"
      ]
    },
    {
      "cell_type": "code",
      "execution_count": 60,
      "metadata": {},
      "outputs": [
        {
          "name": "stdout",
          "output_type": "stream",
          "text": [
            "Hello, Katie\n",
            "Hello, Kevin\n"
          ]
        }
      ],
      "source": [
        "for name in names:\n",
        "    if name[0] == 'K':\n",
        "        print(f\"Hello, {name}\")"
      ]
    },
    {
      "cell_type": "markdown",
      "metadata": {},
      "source": [
        "Write a loop that prints all of the numbers between 10 and 20 (inclusive)."
      ]
    },
    {
      "cell_type": "code",
      "execution_count": 63,
      "metadata": {},
      "outputs": [
        {
          "name": "stdout",
          "output_type": "stream",
          "text": [
            "10\n",
            "11\n",
            "12\n",
            "13\n",
            "14\n",
            "15\n",
            "16\n",
            "17\n",
            "18\n",
            "19\n",
            "20\n"
          ]
        }
      ],
      "source": [
        "#common to use i when using range\n",
        "for i in range(10, 21):\n",
        "    print(i)"
      ]
    },
    {
      "cell_type": "markdown",
      "metadata": {},
      "source": [
        "Write a loop that prints all of the EVEN numbers between 10 and 20 (inclusive)."
      ]
    },
    {
      "cell_type": "code",
      "execution_count": 69,
      "metadata": {},
      "outputs": [
        {
          "name": "stdout",
          "output_type": "stream",
          "text": [
            "10\n",
            "12\n",
            "14\n",
            "16\n",
            "18\n",
            "20\n",
            "10\n",
            "12\n",
            "14\n",
            "16\n",
            "18\n",
            "20\n"
          ]
        }
      ],
      "source": [
        "#Method #1\n",
        "for i in range(10, 21, 2):\n",
        "    print(i)\n",
        "    \n",
        "#Method #2\n",
        "for i in range(10, 21):\n",
        "    if i % 2 == 0:\n",
        "        print(i)"
      ]
    }
  ],
  "metadata": {
    "colab": {
      "provenance": []
    },
    "kernelspec": {
      "display_name": "Python 3",
      "language": "python",
      "name": "python3"
    },
    "language_info": {
      "codemirror_mode": {
        "name": "ipython",
        "version": 3
      },
      "file_extension": ".py",
      "mimetype": "text/x-python",
      "name": "python",
      "nbconvert_exporter": "python",
      "pygments_lexer": "ipython3",
      "version": "3.11.4"
    },
    "vscode": {
      "interpreter": {
        "hash": "26de051ba29f2982a8de78e945f0abaf191376122a1563185a90213a26c5da77"
      }
    }
  },
  "nbformat": 4,
  "nbformat_minor": 0
}
