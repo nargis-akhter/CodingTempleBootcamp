{
 "cells": [
  {
   "cell_type": "markdown",
   "metadata": {},
   "source": [
    "## Dictionary Practice w/ Katie!"
   ]
  },
  {
   "cell_type": "markdown",
   "metadata": {},
   "source": [
    "Dictionaries can get really big and really complicated, like the one below. You might think this is excessive, but it's very common. This is a very efficient way to store complicated data that don't fit neatly in a spreadsheet. In fact, dictionaries are the data type used by most web APIs! We'll need to parse big dictionaries to get data from the internet!"
   ]
  },
  {
   "cell_type": "code",
   "execution_count": 3,
   "metadata": {},
   "outputs": [],
   "source": [
    "\n",
    "authors = {\n",
    "    \"J.R.R. Tolkien\": {\n",
    "        \"genre\": \"fantasy\",\n",
    "        \"books\": [\n",
    "            \"The Fellowship of the Ring\",\n",
    "            \"The Two Towers\",\n",
    "            \"The Return of the King\"\n",
    "        ],\n",
    "        \"active\": False\n",
    "    },\n",
    "    \"Brandon Sanderson\": {\n",
    "        \"genre\": \"fantasy\",\n",
    "        \"books\": [\n",
    "            \"The Way of Kings\",\n",
    "            \"Words of Radiance\",\n",
    "            \"Oathbringer\"\n",
    "        ],\n",
    "        \"active\": True,\n",
    "        \"phone\": {\n",
    "            \"home\": \"(281) 330-8004\",\n",
    "            \"work\": \"(877) CASH-NOW\"\n",
    "        }\n",
    "    },\n",
    "    \"Frank Herbert\": {\n",
    "        \"genre\": \"science fiction\",\n",
    "        \"books\": [\"Dune\"],\n",
    "        \"phone\": None,\n",
    "        \"active\": False\n",
    "    }\n",
    "}"
   ]
  },
  {
   "cell_type": "code",
   "execution_count": 5,
   "metadata": {},
   "outputs": [
    {
     "data": {
      "text/plain": [
       "'The Two Towers'"
      ]
     },
     "execution_count": 5,
     "metadata": {},
     "output_type": "execute_result"
    }
   ],
   "source": [
    "# Exercise 1: Get me Tokien's second book\n",
    "authors[\"J.R.R. Tolkien\"][\"books\"][1]"
   ]
  },
  {
   "cell_type": "code",
   "execution_count": 10,
   "metadata": {},
   "outputs": [
    {
     "data": {
      "text/plain": [
       "'(877) CASH-NOW'"
      ]
     },
     "execution_count": 10,
     "metadata": {},
     "output_type": "execute_result"
    }
   ],
   "source": [
    "# Exercise 2: I need to call Brandon Sanderson about an idea for a screenplay. Can you get me his work number?\n",
    "authors[\"Brandon Sanderson\"][\"phone\"][\"work\"]"
   ]
  },
  {
   "cell_type": "markdown",
   "metadata": {},
   "source": [
    "Here we have a dictionary of heights in inches. Create a list of the names and ONLY the names of the people who are tall enough to ride the roller coaster (they must be at least 60 inches tall)."
   ]
  },
  {
   "cell_type": "code",
   "execution_count": 19,
   "metadata": {},
   "outputs": [],
   "source": [
    "people = {\n",
    "    'Aaron': 58,\n",
    "    'Barbara': 66,\n",
    "    'Clarence': 62,\n",
    "    'Donovan': 55,\n",
    "    'Erika': 70,\n",
    "    'Fernando': 72\n",
    "}"
   ]
  },
  {
   "cell_type": "code",
   "execution_count": 20,
   "metadata": {},
   "outputs": [
    {
     "data": {
      "text/plain": [
       "['Barbara', 'Clarence', 'Erika', 'Fernando']"
      ]
     },
     "execution_count": 20,
     "metadata": {},
     "output_type": "execute_result"
    }
   ],
   "source": [
    "# Exercise 3: Create a list of the names and ONLY the names of the \n",
    "# people who are tall enough to ride the roller coaster.\n",
    "\n",
    "#Method #1 - For loop \n",
    "# \n",
    "tall_enough_names = []\n",
    "\n",
    "#iterate the dictionary\n",
    "\n",
    "for name, height in people.items():\n",
    "    if height >= 60:\n",
    "        tall_enough_names.append(name)\n",
    "        \n",
    "tall_enough_names"
   ]
  },
  {
   "cell_type": "code",
   "execution_count": 21,
   "metadata": {},
   "outputs": [
    {
     "data": {
      "text/plain": [
       "60"
      ]
     },
     "execution_count": 21,
     "metadata": {},
     "output_type": "execute_result"
    }
   ],
   "source": [
    "x, y = 10, 50\n",
    "\n",
    "x+y"
   ]
  },
  {
   "cell_type": "code",
   "execution_count": 22,
   "metadata": {},
   "outputs": [
    {
     "name": "stdout",
     "output_type": "stream",
     "text": [
      "Aaron 58\n",
      "Barbara 66\n",
      "Clarence 62\n",
      "Donovan 55\n",
      "Erika 70\n",
      "Fernando 72\n"
     ]
    }
   ],
   "source": [
    "#Under the hood - scrap paper\n",
    "for name, height in people.items():\n",
    "    print(f\"{name} {height}\")"
   ]
  },
  {
   "cell_type": "code",
   "execution_count": 23,
   "metadata": {},
   "outputs": [
    {
     "data": {
      "text/plain": [
       "['Barbara', 'Clarence', 'Erika', 'Fernando']"
      ]
     },
     "execution_count": 23,
     "metadata": {},
     "output_type": "execute_result"
    }
   ],
   "source": [
    "# List comp if feeling ~fancy~\n",
    "\n",
    "tall_enough_names = [name for name, height in people.items() if height >= 60]\n",
    "tall_enough_names"
   ]
  }
 ],
 "metadata": {
  "kernelspec": {
   "display_name": "Python 3",
   "language": "python",
   "name": "python3"
  },
  "language_info": {
   "codemirror_mode": {
    "name": "ipython",
    "version": 3
   },
   "file_extension": ".py",
   "mimetype": "text/x-python",
   "name": "python",
   "nbconvert_exporter": "python",
   "pygments_lexer": "ipython3",
   "version": "3.11.4"
  },
  "orig_nbformat": 4
 },
 "nbformat": 4,
 "nbformat_minor": 2
}
