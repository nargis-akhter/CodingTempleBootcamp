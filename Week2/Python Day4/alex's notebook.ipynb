{
 "cells": [
  {
   "attachments": {},
   "cell_type": "markdown",
   "metadata": {
    "id": "giAbN1rzE1Ai"
   },
   "source": [
    "# Coding Temple's Data Analytics Program                                        \n",
    "---\n",
    "## Python I: Object-Oriented-Programming (OOP)\n",
    "---"
   ]
  },
  {
   "attachments": {},
   "cell_type": "markdown",
   "metadata": {
    "id": "gEt2hxqGE1An"
   },
   "source": [
    "## Tasks Today:\n",
    "\n",
    "   \n",
    "\n",
    "1) <b>Creating a Class (Initializing/Declaring)</b> <br>\n",
    "2) <b>Using a Class (Instantiating)</b> <br>\n",
    " &nbsp;&nbsp;&nbsp;&nbsp; a) Creating One Instance <br>\n",
    " &nbsp;&nbsp;&nbsp;&nbsp; b) Creating Multiple Instances <br>\n",
    " &nbsp;&nbsp;&nbsp;&nbsp; c) In-Class Exercise #1 - Create a Class 'Car' and instantiate three different makes of cars <br>\n",
    "3) <b>The \\__init\\__() Method</b> <br>\n",
    " &nbsp;&nbsp;&nbsp;&nbsp; a) The 'self' Attribute <br>\n",
    "4) <b>Class Attributes</b> <br>\n",
    " &nbsp;&nbsp;&nbsp;&nbsp; a) Initializing Attributes <br>\n",
    " &nbsp;&nbsp;&nbsp;&nbsp; b) Setting an Attribute Outside of the \\__init\\__() Method <br>\n",
    " &nbsp;&nbsp;&nbsp;&nbsp; c) Setting Defaults for Attributes <br>\n",
    " &nbsp;&nbsp;&nbsp;&nbsp; d) Accessing Class Attributes <br>\n",
    " &nbsp;&nbsp;&nbsp;&nbsp; e) Changing Class Attributes <br>\n",
    " &nbsp;&nbsp;&nbsp;&nbsp; f) In-Class Exercise #2 - Add a color and wheels attribute to your 'Car' class <br>\n",
    "5) <b>Class Methods</b> <br>\n",
    " &nbsp;&nbsp;&nbsp;&nbsp; a) Creating <br>\n",
    " &nbsp;&nbsp;&nbsp;&nbsp; b) Calling <br>\n",
    " &nbsp;&nbsp;&nbsp;&nbsp; c) Modifying an Attribute's Value Through a Method <br>\n",
    " &nbsp;&nbsp;&nbsp;&nbsp; d) Incrementing an Attribute's Value Through a Method <br>\n",
    " &nbsp;&nbsp;&nbsp;&nbsp; e) In-Class Exercise #3 - Add a method that prints the cars color and wheel number, then call them <br>"
   ]
  },
  {
   "attachments": {},
   "cell_type": "markdown",
   "metadata": {
    "id": "qgEWxaC0E1Ao"
   },
   "source": [
    "## Creating a Class (Initializing/Declaring)\n",
    "<p>When creating a class, function, or even a variable you are initializing that object. Initializing and Declaring occur at the same time in Python, whereas in lower level languages you have to declare an object before initializing it. This is the first step in the process of using a class.</p>"
   ]
  },
  {
   "cell_type": "code",
   "execution_count": null,
   "metadata": {
    "id": "KSw6qoU4E1Ap"
   },
   "outputs": [],
   "source": [
    "# We use the class keyword when declaring a class object\n",
    "class Car:\n",
    "    # When we create a variable inside of a class, we call this an attribute.\n",
    "    wheels = 4\n",
    "    color = 'blue'\n",
    "    engine = 'front'"
   ]
  },
  {
   "attachments": {},
   "cell_type": "markdown",
   "metadata": {
    "id": "Y0lj3nB3E1Aq"
   },
   "source": [
    "## Using a Class (Instantiating)\n",
    "<p>The process of creating a class is called <i>Instantiating</i>. Each time you create a variable of that type of class, it is referred to as an <i>Instance</i> of that class. This is the second step in the process of using a class.</p>"
   ]
  },
  {
   "attachments": {},
   "cell_type": "markdown",
   "metadata": {
    "id": "vc-gH2E1E1Ar"
   },
   "source": [
    "##### Creating One Instance"
   ]
  },
  {
   "cell_type": "code",
   "execution_count": null,
   "metadata": {
    "id": "rxPg5dy9E1As"
   },
   "outputs": [],
   "source": [
    "ford = Car()"
   ]
  },
  {
   "cell_type": "code",
   "execution_count": null,
   "metadata": {},
   "outputs": [],
   "source": [
    "# Accessed using dot notation. (.)\n",
    "ford.wheels"
   ]
  },
  {
   "cell_type": "code",
   "execution_count": null,
   "metadata": {},
   "outputs": [],
   "source": [
    "chevy = Car()\n",
    "honda = Car()\n",
    "porshe = Car()\n",
    "\n",
    "print(porshe.color)\n",
    "porshe.bumper"
   ]
  },
  {
   "attachments": {},
   "cell_type": "markdown",
   "metadata": {},
   "source": [
    "#### Difference between a method/function and an attribute"
   ]
  },
  {
   "cell_type": "code",
   "execution_count": null,
   "metadata": {},
   "outputs": [],
   "source": [
    "class Car:\n",
    "    # Attribute is a characteristic of the object we are refering to\n",
    "    color = 'blue'\n",
    "    wheels = 4\n",
    "    \n",
    "    # An action that the object can make\n",
    "    def honk():\n",
    "        return 'HOOOOOOONNNKKKKK!'\n",
    "    \n",
    "    def start_up():\n",
    "        pass"
   ]
  },
  {
   "cell_type": "code",
   "execution_count": null,
   "metadata": {},
   "outputs": [],
   "source": [
    "Car.honk()"
   ]
  },
  {
   "attachments": {},
   "cell_type": "markdown",
   "metadata": {
    "id": "mwkSVukCE1As"
   },
   "source": [
    "##### Creating Multiple Instances"
   ]
  },
  {
   "cell_type": "code",
   "execution_count": null,
   "metadata": {
    "id": "J-NBGcc1E1At"
   },
   "outputs": [],
   "source": [
    "chevy = Car()\n",
    "honda = Car()\n",
    "porshe = Car()\n",
    "\n",
    "print(porshe.color)\n",
    "# porshe.bumper"
   ]
  },
  {
   "attachments": {},
   "cell_type": "markdown",
   "metadata": {
    "id": "orHPhAdCE1At"
   },
   "source": [
    "##### In-Class Exercise #1 - Create a Class 'Car' and Instantiate three different makes of cars"
   ]
  },
  {
   "cell_type": "code",
   "execution_count": null,
   "metadata": {
    "id": "aSsTqQAFE1Au"
   },
   "outputs": [],
   "source": []
  },
  {
   "attachments": {},
   "cell_type": "markdown",
   "metadata": {},
   "source": [
    "#### Object ID's and Class Instantiations"
   ]
  },
  {
   "cell_type": "code",
   "execution_count": null,
   "metadata": {},
   "outputs": [],
   "source": [
    "# One thing to note is that each class is independent of one another. Meaning that each class instantiation\n",
    "# Is a seperate instantion from the one made previously.\n",
    "# All static, or global attributes of the class will however be shared between ALL instances of that class. Meaning if the default value for one changes, \n",
    "# The default value for ALL changes.\n",
    "\n",
    "print(chevy.color)\n",
    "chevy.color = 'red'\n",
    "print(chevy.color)"
   ]
  },
  {
   "attachments": {},
   "cell_type": "markdown",
   "metadata": {
    "id": "lJh0fFLME1Au"
   },
   "source": [
    "## The \\__init\\__() Method <br>\n",
    "<p>This method is used in almost every created class, and called only once upon the creation of the class instance. This method will initialize all variables needed for the object.</p>"
   ]
  },
  {
   "cell_type": "code",
   "execution_count": null,
   "metadata": {
    "id": "ef5s6vbaE1Au"
   },
   "outputs": [],
   "source": [
    "class Car:\n",
    "    engine = '4.7L' # Constant Attribute/Static Attribute Shared between each instance of the class and predefined in a way that requires instantiation before we can change this value\n",
    "    \n",
    "    def __init__(self, wheels, color): # Self keyword keeping track of each unique instances attributes\n",
    "        self.wheels = wheels # Dynamic Attribute. Attribute is unique to each instance of the class and requires an input from a user when they instantiate the class. \n",
    "        self.color = color\n",
    "    \n",
    "\n",
    "class Cup:\n",
    "    def __init__(self, color, size, volume, handles, material):\n",
    "        self.color = color\n",
    "        self.size = size\n",
    "        self.volume = volume\n",
    "        self.handles = handles\n",
    "        self.material = material\n",
    "\n",
    "\n",
    "# Test with cup:\n",
    "alex_cup = Cup('blue', 16, '160ml', False, 'Glass')\n",
    "print(alex_cup.color)\n",
    "alex_cup.color = 'red'\n",
    "print(alex_cup.color)\n",
    "\n",
    "katie_cup = Cup('red', 8, '100ml', True, 'Cermaic')\n",
    "print(katie_cup.color)\n",
    "\n",
    "# Test with the car:\n",
    "ford = Car(4, 'red')\n",
    "print(ford.wheels)\n",
    "\n",
    "chevy = Car(6, 'black')\n",
    "print(chevy.wheels)"
   ]
  },
  {
   "attachments": {},
   "cell_type": "markdown",
   "metadata": {
    "id": "YSCUixxTE1Av"
   },
   "source": [
    "##### The 'self' Attribute <br>\n",
    "<p>This attribute is required to keep track of specific instance's attributes. Without the self attribute, the program would not know how to reference or keep track of an instance's attributes.</p>"
   ]
  },
  {
   "cell_type": "code",
   "execution_count": null,
   "metadata": {
    "id": "8rfFnKp3E1Av"
   },
   "outputs": [],
   "source": [
    "# see above where we create the self.attributes"
   ]
  },
  {
   "attachments": {},
   "cell_type": "markdown",
   "metadata": {
    "id": "FHAW6utmE1Av"
   },
   "source": [
    "## Class Attributes <br>\n",
    "<p>While variables are inside of a class, they are referred to as attributes and not variables. When someone says 'attribute' you know they're speaking about a class. Attributes can be initialized through the init method, or outside of it.</p>"
   ]
  },
  {
   "attachments": {},
   "cell_type": "markdown",
   "metadata": {
    "id": "sf-B77pbE1Av"
   },
   "source": [
    "##### Initializing Attributes"
   ]
  },
  {
   "cell_type": "code",
   "execution_count": null,
   "metadata": {
    "id": "D2L5_hVdE1Av"
   },
   "outputs": [],
   "source": [
    "class Toy:\n",
    "    kind = 'car' # Static Attribute - Constant/Changes extremely infrequently\n",
    "    \n",
    "    # __init__ method: These will be all dynamic attributes. We expect every toy to have differing values for these attributes, or need a way to uniquely track them.\n",
    "    # In programming, most of your attributes will be defined this way.\n",
    "    def __init__(self, rooftop: int, horn:bool, wheels:int):\n",
    "        self.rooftop = rooftop\n",
    "        self.horn = horn\n",
    "        self.wheels = wheels\n",
    "        \n",
    "tonka_truck = Toy(1, True, 8) # 1 roof, has a horn, 8 wheels\n",
    "hotwheels_car = Toy(1, False, 4) # 1 roof, does NOT have a horn, 4 wheels"
   ]
  },
  {
   "attachments": {},
   "cell_type": "markdown",
   "metadata": {
    "id": "8k0rnG1dE1Av"
   },
   "source": [
    "##### Accessing Class Attributes"
   ]
  },
  {
   "cell_type": "code",
   "execution_count": null,
   "metadata": {
    "id": "_PKUR78BE1Av",
    "scrolled": true
   },
   "outputs": [],
   "source": [
    "tonka_truck.horn"
   ]
  },
  {
   "cell_type": "code",
   "execution_count": null,
   "metadata": {},
   "outputs": [],
   "source": [
    "class Phone:\n",
    "    \n",
    "    # Company, type of phone, color, dimensions, network type\n",
    "    def __init__(self, company, phone_type, color, dimensions, network_type):\n",
    "        self.company = company\n",
    "        self.phone_type = phone_type\n",
    "        self.color = color\n",
    "        self.dimensions = dimensions\n",
    "        self.network_type = network_type\n",
    "        \n",
    "        \n",
    "iPhone_14 = Phone('Apple', 'IPhone', 'Purple', '10.6\" x 5.2\"', '5G')\n",
    "iPhone_14.dimensions"
   ]
  },
  {
   "attachments": {},
   "cell_type": "markdown",
   "metadata": {
    "id": "0LG1jwWcE1Aw"
   },
   "source": [
    "##### Setting Defaults for Attributes"
   ]
  },
  {
   "attachments": {},
   "cell_type": "markdown",
   "metadata": {},
   "source": [
    "##### **INIT STANDS FOR INITIALIZATION!**\n",
    "When we call the class, we end up having to provide the values for the attributes of the init function. Which means, that this run AS SOON as we call the class"
   ]
  },
  {
   "cell_type": "code",
   "execution_count": 60,
   "metadata": {
    "id": "jz0KEMHDE1Aw"
   },
   "outputs": [
    {
     "data": {
      "text/plain": [
       "<__main__.Car at 0x2a2648bff90>"
      ]
     },
     "execution_count": 60,
     "metadata": {},
     "output_type": "execute_result"
    }
   ],
   "source": [
    "# While this is one method, it's just not very dynamic in it's ability to swap between values\n",
    "class Car:\n",
    "    engine = '4.7L' # Constant attribute\n",
    "    \n",
    "    def __init__(self, wheels):\n",
    "        self.wheels = wheels\n",
    "        self.color = 'Blue' # Default attribute\n",
    "        \n",
    "honda = Car(4)\n",
    "honda.color = 'White'\n",
    "honda.color\n",
    "\n",
    "\n",
    "# Method #2: Which is completely dynamic in it's nature\n",
    "class Car:\n",
    "    engine = '4.7L' # Constant attribute\n",
    "    \n",
    "    def __init__(self, wheels, color = 'Blue'):\n",
    "        self.wheels = wheels\n",
    "        self.color = color # Default attribute\n",
    "\n",
    "\n",
    "honda = Car(4, 'White')\n",
    "honda"
   ]
  },
  {
   "cell_type": "code",
   "execution_count": null,
   "metadata": {},
   "outputs": [],
   "source": []
  },
  {
   "attachments": {},
   "cell_type": "markdown",
   "metadata": {
    "id": "P7zeGxM0E1Aw"
   },
   "source": [
    "##### Changing Class Attributes <br>\n",
    "<p>Keep in mind there are global class attributes and then there are attributes only available to each class instance which won't effect other classes.</p>"
   ]
  },
  {
   "cell_type": "code",
   "execution_count": null,
   "metadata": {
    "id": "PJBegn_JE1Aw"
   },
   "outputs": [],
   "source": [
    "honda = Car(4)\n",
    "print(f'BEFORE THE CHANGE: {honda.engine}')\n",
    "honda.engine = '1.4L'\n",
    "print(f'AFTER THE CHANGE: {honda.engine}')"
   ]
  },
  {
   "attachments": {},
   "cell_type": "markdown",
   "metadata": {
    "id": "dUUbmR3SE1Aw"
   },
   "source": [
    "##### In-Class Exercise #2 - Add a doors and seats attribute to your 'Car' class then print out two different instances with different doors and seats"
   ]
  },
  {
   "cell_type": "code",
   "execution_count": null,
   "metadata": {
    "id": "ol8-7dFJE1Aw"
   },
   "outputs": [],
   "source": []
  },
  {
   "attachments": {},
   "cell_type": "markdown",
   "metadata": {
    "id": "fIN43CNqE1Aw"
   },
   "source": [
    "## Class Methods <br>\n",
    "<p>While inside of a class, functions are referred to as 'methods'. If you hear someone mention methods, they're speaking about classes. Methods are essentially functions, but only callable on the instances of a class.</p>"
   ]
  },
  {
   "attachments": {},
   "cell_type": "markdown",
   "metadata": {
    "id": "C4t23Xw-E1Aw"
   },
   "source": [
    "##### Creating"
   ]
  },
  {
   "cell_type": "code",
   "execution_count": null,
   "metadata": {
    "id": "nxJWEyQeE1Ax"
   },
   "outputs": [],
   "source": [
    "class Printer:\n",
    "    # An action that the object could take or could be taken against it\n",
    "    def print_string(stri):\n",
    "        return stri"
   ]
  },
  {
   "cell_type": "code",
   "execution_count": 52,
   "metadata": {},
   "outputs": [],
   "source": [
    "class ShoppingBag:\n",
    "    '''\n",
    "        The ShoppingBag class will have attributes such as: handles, capacity, and items to place inside.\n",
    "        \n",
    "        Attributes for this class:\n",
    "        - handles: expected as int input, denotes number of handles on bag\n",
    "        - capacity: expected to be an int or a string, denotes the overall size of the bag\n",
    "        - items: expected to be in list, denotes all items to be added to the bag\n",
    "        \n",
    "        Methods of this class:\n",
    "        - show_shopping_bag: print all items within the bag\n",
    "        - show_capacity: print the overal capacity of the bag\n",
    "        - add_to_shopping_bag: Allow users to input an item in the bag\n",
    "        - change_bag_capacity: Allow us to change the overall capacity\n",
    "        - increase_capacity: Allow us to increase overall capacity by a specified int input\n",
    "    '''\n",
    "    # Initialize the attributes of our class dynamically\n",
    "    def __init__(self, handles, capacity, items):\n",
    "        self.handles = handles\n",
    "        self.capacity = capacity\n",
    "        self.items = items\n",
    "    \n",
    "    # Define all our class methods\n",
    "    # Method that shows the shopping bag items:\n",
    "    def show_shopping_bag(self):\n",
    "        ''' Prints off current shopping bag list.'''\n",
    "        print('You have items in your bag!')\n",
    "        for item in self.items:\n",
    "            print(item)\n",
    "            \n",
    "    # Method to show the capacity of the shopping bag\n",
    "    def show_capacity(self):\n",
    "        ''' Prints current overall capacity limit.'''\n",
    "        print(f'Your current capacity is: {self.capacity}')\n",
    "        \n",
    "    # Method to add item(s) to the item list for the shopping bag:\n",
    "    def add_to_shopping_bag(self):\n",
    "        ''' Allows user to input items into shopping bag'''\n",
    "        products = input(\"What would you like to add?\")\n",
    "        self.items.append(products)\n",
    "    \n",
    "    # Method to change the capacity of the shopping bag (dynamically)\n",
    "    def change_bag_capacity(self, capacity):\n",
    "        ''' Dynamically changes bag capacity for unique instance of class instantiation.'''\n",
    "        self.capacity = capacity\n",
    "    \n",
    "    # Method to increase the capacity, default to an increase of 10\n",
    "    def alter_capacity(self, changed_capacity=10, direction='increasing'):\n",
    "        '''Increase the capacity of the bag by a specified increment. If no increment is specified, will increase by 10.'''\n",
    "        \n",
    "        if direction == 'increasing':\n",
    "            self.capacity += changed_capacity\n",
    "        elif direction == 'decreasing':\n",
    "            self.capacity -= changed_capacity"
   ]
  },
  {
   "attachments": {},
   "cell_type": "markdown",
   "metadata": {
    "id": "kJ4mLPg5E1Ax"
   },
   "source": [
    "##### Calling"
   ]
  },
  {
   "cell_type": "code",
   "execution_count": 53,
   "metadata": {
    "id": "D_I5p-aTE1Ax"
   },
   "outputs": [
    {
     "name": "stdout",
     "output_type": "stream",
     "text": [
      "You have items in your bag!\n",
      "Eggs\n",
      "You have items in your bag!\n",
      "Eggs\n",
      "Thanks for shopping at Whole Foods today!\n"
     ]
    }
   ],
   "source": [
    "# Create an instance of our class from above!\n",
    "whole_foods_bag = ShoppingBag(2,10,[])\n",
    "\n",
    "# Create another function to RUN my class:\n",
    "def run():\n",
    "    while True:\n",
    "        response = input('What would you like to do? Add/Show/or Quit?')\n",
    "        \n",
    "        if response.lower() == 'quit':\n",
    "            whole_foods_bag.show_shopping_bag()\n",
    "            print('Thanks for shopping at Whole Foods today!')\n",
    "            break\n",
    "        elif response.lower() == 'add':\n",
    "            whole_foods_bag.add_to_shopping_bag()\n",
    "        \n",
    "        elif response.lower() == 'show':\n",
    "            whole_foods_bag.show_shopping_bag()\n",
    "run()"
   ]
  },
  {
   "attachments": {},
   "cell_type": "markdown",
   "metadata": {
    "id": "0ZllA5keE1Ax"
   },
   "source": [
    "##### Modifying an Attribute's Value Through a Method"
   ]
  },
  {
   "cell_type": "code",
   "execution_count": 54,
   "metadata": {
    "id": "jT_iOoUcE1Ax"
   },
   "outputs": [
    {
     "name": "stdout",
     "output_type": "stream",
     "text": [
      "Capacity BEFORE the change: 10\n",
      "Capacity AFTER the change: 40\n"
     ]
    }
   ],
   "source": [
    "# Show our capacity:\n",
    "print(f'Capacity BEFORE the change: {whole_foods_bag.capacity}')\n",
    "whole_foods_bag.change_bag_capacity(40) # Change the overall capacity of our current bag to hold 40 items instead\n",
    "print(f'Capacity AFTER the change: {whole_foods_bag.capacity}')"
   ]
  },
  {
   "attachments": {},
   "cell_type": "markdown",
   "metadata": {
    "id": "pV9obOHAE1Ax"
   },
   "source": [
    "##### Incrementing an Attribute's Value Through a Method"
   ]
  },
  {
   "cell_type": "code",
   "execution_count": 55,
   "metadata": {
    "id": "-usVaZplE1Ax"
   },
   "outputs": [
    {
     "name": "stdout",
     "output_type": "stream",
     "text": [
      "Capacity BEFORE the change: 40\n",
      "Capacity AFTER the change: 55\n"
     ]
    }
   ],
   "source": [
    "# Show our capacity:\n",
    "print(f'Capacity BEFORE the change: {whole_foods_bag.capacity}')\n",
    "whole_foods_bag.increase_capacity(15)\n",
    "print(f'Capacity AFTER the change: {whole_foods_bag.capacity}')"
   ]
  },
  {
   "attachments": {},
   "cell_type": "markdown",
   "metadata": {
    "id": "d5P9d_B7E1Ax"
   },
   "source": [
    "##### In-Class Exercise #3 - Add a method that takes in three parameters of year, doors and seats and prints out a formatted print statement with make, model, year, seats, and doors"
   ]
  },
  {
   "cell_type": "code",
   "execution_count": 61,
   "metadata": {
    "id": "u5Tjs1foE1Ax"
   },
   "outputs": [
    {
     "data": {
      "text/plain": [
       "This car is a 2023 and is a Ford Focus with 4 doors and 5 seats"
      ]
     },
     "execution_count": 61,
     "metadata": {},
     "output_type": "execute_result"
    }
   ],
   "source": [
    "# Create a class with 2 parameters inside of the init function: make, model\n",
    "\n",
    "# Inside my class, I need to create a function (method) that takes 4 parameters in total (self, year, door, seats)\n",
    "\n",
    "# Output: This car is from 2019 and is a Make Model and has NUM doors and NUM seats\n",
    "class Car:\n",
    "    def __init__(self, make, model):\n",
    "        self.make = make\n",
    "        self.model = model\n",
    "        \n",
    "        \n",
    "    def add_details(self, year, door, seats):\n",
    "        self.year = year\n",
    "        self.door = door\n",
    "        self.seats = seats\n",
    "        return f'This car is a {self.year} and is a {self.make} {self.model} with {self.door} doors and {self.seats} seats'\n",
    "\n",
    "\n",
    "my_car = Car('Ford', 'Focus')\n",
    "my_car.add_details(2023, 4, 5)\n",
    "my_car.year\n",
    "\n",
    "\n",
    "# __repr__ method - returns is a string representation of your class object\n",
    "\n",
    "class Car:\n",
    "    def __init__(self, make, model,year, door, seats):\n",
    "        self.make = make\n",
    "        self.model = model\n",
    "        self.year = year\n",
    "        self.door = door\n",
    "        self.seats = seats      \n",
    "        \n",
    "    def __repr__(self):\n",
    "        return f'This car is a {self.year} and is a {self.make} {self.model} with {self.door} doors and {self.seats} seats'\n",
    "    \n",
    "my_car = Car('Ford', 'Focus',2023, 4, 5)\n",
    "my_car"
   ]
  },
  {
   "attachments": {},
   "cell_type": "markdown",
   "metadata": {},
   "source": [
    "### Class Inheritance"
   ]
  },
  {
   "attachments": {},
   "cell_type": "markdown",
   "metadata": {},
   "source": [
    "When we program in OOP(Object Oriented Programming), we create classes that encompass the entirety of a group or populous. For example, car. Cars come in many shapes and forms, however, we are generalizing each into a class named car, based off of attributes and methods that are similar. What happens when we have something that is technically a car, but is so unique, it should have it's own class, with it's own attributes and methods, yet still retain information that it is a car?\n",
    "\n",
    "This is where inheritance comes into play. Just like how we inherit features and attributes from our parents (skin tone, eye shape, body composition), we can have classes inherit from one another. When we talk about inheritance, we typically talk about a child class and a parent class, where the parent class is the class giving attributes and the child class is the one inheriting those attributes.\n",
    "\n",
    "There are multiple types of inheritance:\n",
    "\n",
    "* **Single Inheritance**\n",
    "    * One child-class inherits the features of one parent-class\n",
    "    \n",
    "    ![](https://www.softwaretestinghelp.com/wp-content/qa/uploads/2019/06/Single-inheritance.png)"
   ]
  },
  {
   "cell_type": "code",
   "execution_count": 69,
   "metadata": {},
   "outputs": [
    {
     "data": {
      "text/plain": [
       "The Dog has 15mph in speed and 9.8 in acceleration"
      ]
     },
     "execution_count": 69,
     "metadata": {},
     "output_type": "execute_result"
    }
   ],
   "source": [
    "# Creation of the parent class:\n",
    "class Animal:\n",
    "    acceleration = 9.8 # Static Attribute of the parent class\n",
    "    \n",
    "    def __init__(self, name, species, legs = 4):\n",
    "        self.name = name # Dynamic attributes of our parent class\n",
    "        self.species = species\n",
    "        self.legs = legs\n",
    "    \n",
    "    def make_some_noise(self):\n",
    "        return 'Some Generic Sound'\n",
    "    \n",
    "# Create a child class that will inherit from my parent class:\n",
    "class Dog(Animal):\n",
    "    def __init__(self, name, species = 'dog'):\n",
    "        super().__init__(name, species)\n",
    "    speed = 15\n",
    "    \n",
    "    def __repr__(self):\n",
    "        return f'The Dog has {self.speed}mph in speed and {self.acceleration} in acceleration'\n",
    "\n",
    "# Test this all out:\n",
    "horse = Animal('Seabiscuit', 'Horse')\n",
    "horse.legs\n",
    "\n",
    "# Test the child class:\n",
    "lassie = Dog('Lassie')\n",
    "lassie"
   ]
  },
  {
   "attachments": {},
   "cell_type": "markdown",
   "metadata": {},
   "source": [
    "* **Multiple Inheritance**\n",
    "    * One child-class inherits from from multiple parent-classes\n",
    "\n",
    "    ![](https://media.geeksforgeeks.org/wp-content/uploads/sc1-1.png)"
   ]
  },
  {
   "cell_type": "code",
   "execution_count": 74,
   "metadata": {},
   "outputs": [
    {
     "data": {
      "text/plain": [
       "The Dog has 15mph in speed and 9.8 in acceleration and the capacity it has to lay eggs is considered: False"
      ]
     },
     "execution_count": 74,
     "metadata": {},
     "output_type": "execute_result"
    }
   ],
   "source": [
    "# Creation of the parent class:\n",
    "class Animal:\n",
    "    acceleration = 9.8 # Static Attribute of the parent class\n",
    "    \n",
    "    def __init__(self, name, species, legs = 4):\n",
    "        self.name = name # Dynamic attributes of our parent class\n",
    "        self.species = species\n",
    "        self.legs = legs\n",
    "    \n",
    "    def make_some_noise(self):\n",
    "        return 'Some Generic Sound'\n",
    "\n",
    "# Creating my Parent B Class\n",
    "class Mammal:\n",
    "    def __init__(self, lays_eggs=False, hibernation_need = False):\n",
    "        self.lays_eggs = lays_eggs\n",
    "        self.hibernation_need = hibernation_need\n",
    "        \n",
    "# Create a child class that will inherit from both of my parent classes:\n",
    "class Dog(Animal, Mammal):\n",
    "    def __init__(self, name, species = 'dog'):\n",
    "        super().__init__(name, species)\n",
    "        Mammal.__init__(self)\n",
    "    speed = 15\n",
    "    \n",
    "    def __repr__(self):\n",
    "        return f'The Dog has {self.speed}mph in speed and {self.acceleration} in acceleration and the capacity it has to lay eggs is considered: {self.lays_eggs}'\n",
    "    \n",
    "    \n",
    "# Test the child class:\n",
    "lassie = Dog('Lassie')\n",
    "lassie"
   ]
  },
  {
   "attachments": {},
   "cell_type": "markdown",
   "metadata": {},
   "source": [
    "* **Multi-level Inheritance**\n",
    "    * A base class provides inheritance to a parent class, which provides inheritance to a child class, just like lineage is passed down from generation to generation\n",
    "    * This allows the child class to be derived of the base, without ever accessing the base class.\n",
    "\n",
    "     ![](https://upload.wikimedia.org/wikipedia/en/0/0e/Multilevel_Inheritance.jpg)"
   ]
  },
  {
   "cell_type": "code",
   "execution_count": 75,
   "metadata": {},
   "outputs": [],
   "source": [
    "# Creation of the parent class:\n",
    "class Animal:\n",
    "    acceleration = 9.8 # Static Attribute of the parent class\n",
    "    \n",
    "    def __init__(self, name, species, legs = 4):\n",
    "        self.name = name # Dynamic attributes of our parent class\n",
    "        self.species = species\n",
    "        self.legs = legs\n",
    "    \n",
    "    def make_some_noise(self):\n",
    "        return 'Some Generic Sound'\n",
    "    \n",
    "# Create a child class that will inherit from my parent class:\n",
    "class Dog(Animal):\n",
    "    def __init__(self, name, species = 'dog'):\n",
    "        super().__init__(name, species)\n",
    "    speed = 15\n",
    "    \n",
    "    def __repr__(self):\n",
    "        return f'The Dog has {self.speed}mph in speed and {self.acceleration} in acceleration'\n",
    "    \n",
    "\n",
    "class Mutt(Dog):\n",
    "    \n",
    "    # Constructor override inside of the child inheritance:\n",
    "    def __init__(self, name, species, color='black & brown', legs = 4):\n",
    "        Dog.__init__(self, name, species)\n",
    "        self.color = color\n",
    "        \n",
    "    def make_some_noise(self):\n",
    "        return 'BORK'\n",
    "    \n",
    "    def __repr__(self):\n",
    "        return f'This Mutt has {self.speed}mph in speed, {self.acceleration} in acceleration, and can make some really awesome {self.make_some_noise()} noises'\n",
    "    \n",
    "\n",
    "buster = Mutt('Buster', 'Mutt', 'Black')"
   ]
  },
  {
   "cell_type": "code",
   "execution_count": 76,
   "metadata": {},
   "outputs": [
    {
     "data": {
      "text/plain": [
       "'Buster'"
      ]
     },
     "execution_count": 76,
     "metadata": {},
     "output_type": "execute_result"
    }
   ],
   "source": [
    "buster.name"
   ]
  },
  {
   "cell_type": "code",
   "execution_count": 77,
   "metadata": {},
   "outputs": [
    {
     "data": {
      "text/plain": [
       "This Mutt has 15mph in speed, 9.8 in acceleration, and can make some really awesome BORK noises"
      ]
     },
     "execution_count": 77,
     "metadata": {},
     "output_type": "execute_result"
    }
   ],
   "source": [
    "buster"
   ]
  }
 ],
 "metadata": {
  "colab": {
   "provenance": [
    {
     "file_id": "1wDmopKqYDjbH4FtK1wEWVsTIdqRGRJYq",
     "timestamp": 1675696515120
    }
   ]
  },
  "kernelspec": {
   "display_name": "Python 3 (ipykernel)",
   "language": "python",
   "name": "python3"
  },
  "language_info": {
   "codemirror_mode": {
    "name": "ipython",
    "version": 3
   },
   "file_extension": ".py",
   "mimetype": "text/x-python",
   "name": "python",
   "nbconvert_exporter": "python",
   "pygments_lexer": "ipython3",
   "version": "3.11.5"
  },
  "vscode": {
   "interpreter": {
    "hash": "26de051ba29f2982a8de78e945f0abaf191376122a1563185a90213a26c5da77"
   }
  }
 },
 "nbformat": 4,
 "nbformat_minor": 1
}
