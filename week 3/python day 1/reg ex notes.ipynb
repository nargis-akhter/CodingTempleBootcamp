{
  "cells": [
    {
      "attachments": {},
      "cell_type": "markdown",
      "metadata": {
        "id": "A3jUapQsAZn-"
      },
      "source": [
        "# Coding Temple's Data Analytics Course\n",
        "---\n",
        "## Python II: Regular Expressions"
      ]
    },
    {
      "attachments": {},
      "cell_type": "markdown",
      "metadata": {
        "id": "PdLjKD4UAZn_"
      },
      "source": [
        "## Tasks today:\n",
        "1) <b>Importing</b> <br>\n",
        "2) <b>Using Regular Expressions</b> <br>\n",
        " &nbsp;&nbsp;&nbsp;&nbsp; a) re.compile() <br>\n",
        " &nbsp;&nbsp;&nbsp;&nbsp; b) re.match() <br>\n",
        " &nbsp;&nbsp;&nbsp;&nbsp; c) re.findall() <br>\n",
        " &nbsp;&nbsp;&nbsp;&nbsp; d) re.search() <br>\n",
        "3) <b>Sets</b> <br>\n",
        " &nbsp;&nbsp;&nbsp;&nbsp; a) Integer Ranges <br>\n",
        " &nbsp;&nbsp;&nbsp;&nbsp; b) Character Ranges <br>\n",
        "4) <b>Counting Occurences</b> <br>\n",
        " &nbsp;&nbsp;&nbsp;&nbsp; a) {x} <br>\n",
        " &nbsp;&nbsp;&nbsp;&nbsp; b) {, x} <br>\n",
        " &nbsp;&nbsp;&nbsp;&nbsp; c) {?} <br>\n",
        " &nbsp;&nbsp;&nbsp;&nbsp; d) {*} <br>\n",
        " &nbsp;&nbsp;&nbsp;&nbsp; e) {+} <br>\n",
        "5) <b>In-Class Exercise #1</b> <br>\n",
        "6) <b>Escaping Characters</b> <br>\n",
        "7) <b>Grouping</b> <br>\n",
        "8) <b>In-Class Exercise #2</b> <br>\n",
        "9) <b>Opening a File</b> <br>\n",
        " &nbsp;&nbsp;&nbsp;&nbsp; a) open() <br>\n",
        " &nbsp;&nbsp;&nbsp;&nbsp; b) with open() <br>\n",
        " &nbsp;&nbsp;&nbsp;&nbsp; c) re.match() <br>\n",
        " &nbsp;&nbsp;&nbsp;&nbsp; d) re.search() <br>\n",
        " &nbsp;&nbsp;&nbsp;&nbsp; e) Store the String in a Variable <br>"
      ]
    },
    {
      "attachments": {},
      "cell_type": "markdown",
      "metadata": {
        "id": "PAC04z0nAZoA"
      },
      "source": [
        "### Importing <br>\n",
        "<p>Regular Expressions are universal throughout most programming languages... They are generally imported through the module 're'.</p>"
      ]
    },
    {
      "cell_type": "code",
      "execution_count": 3,
      "metadata": {
        "id": "SxP-cmPsAZoA"
      },
      "outputs": [],
      "source": [
        "# Import statements always go at the TOP of a notebook.\n",
        "import re\n"
      ]
    },
    {
      "attachments": {},
      "cell_type": "markdown",
      "metadata": {
        "id": "M7A6o9vXAZoB"
      },
      "source": [
        "### Using Regular Expressions <br>\n",
        "<p>Regular expressions give us the ability to search for patterns within text, strings, files, etc. They serve several uses, such as; security measures, searching, filtering, pattern recognition, and more...</p>"
      ]
    },
    {
      "attachments": {},
      "cell_type": "markdown",
      "metadata": {
        "id": "LwC1v9vRAZoB"
      },
      "source": [
        "##### re.compile()"
      ]
    },
    {
      "cell_type": "code",
      "execution_count": 3,
      "metadata": {
        "id": "ldZfAB8FAZoB"
      },
      "outputs": [
        {
          "name": "stdout",
          "output_type": "stream",
          "text": [
            "Help on function compile in module re:\n",
            "\n",
            "compile(pattern, flags=0)\n",
            "    Compile a regular expression pattern, returning a Pattern object.\n",
            "\n",
            "None\n"
          ]
        }
      ],
      "source": [
        "# Using compile, we pre determine the string we want to search for inside of regex methods:\n",
        "print(help(re.compile))\n",
        "\n",
        "pattern = re.compile('abcd')"
      ]
    },
    {
      "attachments": {},
      "cell_type": "markdown",
      "metadata": {
        "id": "CvfW_ms2AZoC"
      },
      "source": [
        "##### re.match()"
      ]
    },
    {
      "cell_type": "code",
      "execution_count": 7,
      "metadata": {
        "id": "-zJbcV12AZoC"
      },
      "outputs": [
        {
          "name": "stdout",
          "output_type": "stream",
          "text": [
            "Help on function match in module re:\n",
            "\n",
            "match(pattern, string, flags=0)\n",
            "    Try to apply the pattern at the start of the string, returning\n",
            "    a Match object, or None if no match was found.\n",
            "\n",
            "None\n"
          ]
        },
        {
          "data": {
            "text/plain": [
              "(0, 4)"
            ]
          },
          "execution_count": 7,
          "metadata": {},
          "output_type": "execute_result"
        }
      ],
      "source": [
        "# In order to access pieces of a string and use the pattern to parse over a doc, string, etc., we would use the .match() function\n",
        "print(help(re.match))\n",
        "\n",
        "# This line of code:\n",
        "re.match(pattern, 'abcd123')\n",
        "\n",
        "# Same as this line:\n",
        "match = pattern.match('abcd123')\n",
        "\n",
        "match.span()"
      ]
    },
    {
      "attachments": {},
      "cell_type": "markdown",
      "metadata": {
        "id": "b10Z-_c0AZoC"
      },
      "source": [
        "##### re.findall()"
      ]
    },
    {
      "cell_type": "code",
      "execution_count": 10,
      "metadata": {
        "id": "Edc4cN4yAZoC"
      },
      "outputs": [
        {
          "name": "stdout",
          "output_type": "stream",
          "text": [
            "Help on function findall in module re:\n",
            "\n",
            "findall(pattern, string, flags=0)\n",
            "    Return a list of all non-overlapping matches in the string.\n",
            "    \n",
            "    If one or more capturing groups are present in the pattern, return\n",
            "    a list of groups; this will be a list of tuples if the pattern\n",
            "    has more than one group.\n",
            "    \n",
            "    Empty matches are included in the result.\n",
            "\n",
            "None\n"
          ]
        },
        {
          "data": {
            "text/plain": [
              "['abcd', 'abcd']"
            ]
          },
          "execution_count": 10,
          "metadata": {},
          "output_type": "execute_result"
        }
      ],
      "source": [
        "# What happens when I have multiple matches in a single string or text document?\n",
        "# findall() comes into play\n",
        "print(help(re.findall))\n",
        "\n",
        "pattern.findall('abcd123abcd')"
      ]
    },
    {
      "attachments": {},
      "cell_type": "markdown",
      "metadata": {
        "id": "YGpNo_XZAZoC"
      },
      "source": [
        "##### re.search()"
      ]
    },
    {
      "cell_type": "code",
      "execution_count": 17,
      "metadata": {
        "id": "0DolcygtAZoD"
      },
      "outputs": [
        {
          "name": "stdout",
          "output_type": "stream",
          "text": [
            "<re.Match object; span=(12, 16), match='abcd'>\n",
            "(12, 16) <class 'tuple'>\n",
            " abc\n",
            "abcd\n",
            "12\n"
          ]
        }
      ],
      "source": [
        "# Search object will return the singular match of the string wherever it matches at\n",
        "# The return object from a search function is also still a match object!\n",
        "\n",
        "# Instatiated a random string\n",
        "random_string = '123 123 234 abcd abc'\n",
        "\n",
        "# Search the string for a pattern:\n",
        "search = pattern.search(random_string)\n",
        "print(search)\n",
        "\n",
        "# Grab the resulting indicies and return them:\n",
        "span = search.span()\n",
        "print(span, type(span))\n",
        "\n",
        "# What if I wanted to return the actual match instead of just this match object here?:\n",
        "# Hard-Coding: Non-reproducible code. No matter how the string or the indicies for the match change, by hard coding in values, my program will always remain static in it's reference point:\n",
        "print(random_string[16:20]) # 16 will always equal 16. No matter how the string changes, this reference value will NEVER change!\n",
        "\n",
        "# Reproducible method: No matter how my string object changes, if the match is found, the refrence point of this statement will dynamically change as that point does.\n",
        "print(random_string[span[0]:span[1]]) # 16 does not always equal 16. As the strings shifts, so does this point of reference\n",
        "print(span[0])"
      ]
    },
    {
      "attachments": {},
      "cell_type": "markdown",
      "metadata": {
        "id": "KbKNBUxLAZoD"
      },
      "source": [
        "### Sets <br>\n",
        "<p>The following cells will allow you to use regular expressions to search for certain values within a range such as numbers 1 through 4.</p>"
      ]
    },
    {
      "attachments": {},
      "cell_type": "markdown",
      "metadata": {
        "id": "_2G-uS27AZoD"
      },
      "source": [
        "##### [a-z] or [A-Z] - any lowercase/uppercase letters from a to z<br/>[^2] - anything that's not 2"
      ]
    },
    {
      "attachments": {},
      "cell_type": "markdown",
      "metadata": {
        "id": "H6y2Ls9aAZoD"
      },
      "source": [
        "##### Integer Ranges"
      ]
    },
    {
      "cell_type": "code",
      "execution_count": 20,
      "metadata": {
        "id": "FGn5mZlzAZoD"
      },
      "outputs": [
        {
          "name": "stdout",
          "output_type": "stream",
          "text": [
            "<re.Match object; span=(0, 3), match='383'>\n"
          ]
        }
      ],
      "source": [
        "# We are searching phone numbers for an area code that is between 0-4 for the first digit, 7-9 for the second digit, and 0-3 for the third digit:\n",
        "pattern_int = re.compile('[0-4][7-9][0-3]')\n",
        "phone_num = '383 838 6788'\n",
        "\n",
        "# Search the string for the matching numbers in our set and return them:\n",
        "random_num = pattern_int.search(phone_num)\n",
        "print(random_num)"
      ]
    },
    {
      "cell_type": "code",
      "execution_count": 28,
      "metadata": {},
      "outputs": [
        {
          "name": "stdout",
          "output_type": "stream",
          "text": [
            "<re.Match object; span=(2, 5), match='393'>\n",
            "393\n"
          ]
        }
      ],
      "source": [
        "# Can also iterate over integer values:\n",
        "# Compile an integer pattern and create an integer variable:\n",
        "pattern_int = re.compile('[0-4][7-9][0-3]')\n",
        "int_value = 67393\n",
        "\n",
        "# Search the value for all matching numbers:\n",
        "random_num = pattern_int.search(str(int_value))\n",
        "print(random_num)\n",
        "\n",
        "# Return this match:\n",
        "span = random_num.span()\n",
        "print(int(str(int_value)[span[0]:span[1]]))"
      ]
    },
    {
      "attachments": {},
      "cell_type": "markdown",
      "metadata": {
        "id": "PgBHuJW2AZoD"
      },
      "source": [
        "##### Character Ranges"
      ]
    },
    {
      "cell_type": "code",
      "execution_count": 31,
      "metadata": {
        "id": "DPU6DLtZAZoD"
      },
      "outputs": [
        {
          "data": {
            "text/plain": [
              "['el', 'er', 'en', 'io', 'An', 'er', 'on']"
            ]
          },
          "execution_count": 31,
          "metadata": {},
          "output_type": "execute_result"
        }
      ],
      "source": [
        "# Compile a character pattern and create a string object:\n",
        "char_pattern = re.compile('[AEIOUaeiou][a-z]')\n",
        "my_str = 'Hello There Senior Anderson'\n",
        "\n",
        "# Search the string for all matching characters in the pattern and return them:\n",
        "char_pattern.findall(my_str)"
      ]
    },
    {
      "attachments": {},
      "cell_type": "markdown",
      "metadata": {
        "id": "cNrmcRxBAZoE"
      },
      "source": [
        "### Counting Occurences"
      ]
    },
    {
      "attachments": {},
      "cell_type": "markdown",
      "metadata": {
        "id": "52zJm_dTAZoE"
      },
      "source": [
        "##### {x} - something that occurs {num_of_times}"
      ]
    },
    {
      "cell_type": "code",
      "execution_count": 37,
      "metadata": {
        "id": "OfFlvkxaAZoE"
      },
      "outputs": [
        {
          "name": "stdout",
          "output_type": "stream",
          "text": [
            "Your search query returned no matching values\n"
          ]
        }
      ],
      "source": [
        "\"\"\"\n",
        "What does this .compile do?\n",
        "\n",
        "Creating a pattern that is looking for an uppercase letter, a lowercase letter, \n",
        "and then two digits between 0-3\n",
        "\"\"\"\n",
        "# Establised our search parameters:\n",
        "char_pattern_count = re.compile('[A-Z][a-z][0-3]{2}')\n",
        "\n",
        "# Search the string object for values matching the pattern and return them:\n",
        "found_count = char_pattern_count.findall('Hello Mr. An3derson')\n",
        "\n",
        "# Populated lists return True when looked at like this:\n",
        "if found_count:\n",
        "    print(found_count)\n",
        "    \n",
        "# Non-populated lists will return False when looked at like this:\n",
        "elif not found_count:\n",
        "    print('Your search query returned no matching values')"
      ]
    },
    {
      "attachments": {},
      "cell_type": "markdown",
      "metadata": {
        "id": "S0BYqWlLAZoE"
      },
      "source": [
        "##### {x, x} - something that occurs between x and x times"
      ]
    },
    {
      "cell_type": "code",
      "execution_count": 6,
      "metadata": {
        "id": "YfOZVHsXAZoE"
      },
      "outputs": [
        {
          "name": "stdout",
          "output_type": "stream",
          "text": [
            "['m', 'mm', 'mmmmm', 'mmmm', 'm', 'm']\n"
          ]
        }
      ],
      "source": [
        "\"\"\"\n",
        "What is this compile statement doing???\n",
        "\n",
        "Creating a pattern that looks for any occurances of the letter 'm' where it occurs\n",
        "anywhere between 1-5 times.\n",
        "\"\"\"\n",
        "\n",
        "random_pattern = re.compile('m{1,5}')\n",
        "\n",
        "random_statment = random_pattern.findall('m mm mmmmmmmmm this was a great soup! I am in love with Tomato Soup!')\n",
        "print(random_statment)"
      ]
    },
    {
      "attachments": {},
      "cell_type": "markdown",
      "metadata": {
        "id": "3B6Nre9mAZoE"
      },
      "source": [
        "##### ? - something that occurs 0 or 1 time"
      ]
    },
    {
      "cell_type": "code",
      "execution_count": 42,
      "metadata": {
        "id": "_XAtCwCLAZoE"
      },
      "outputs": [
        {
          "name": "stdout",
          "output_type": "stream",
          "text": [
            "['Mr', 'Mrs']\n"
          ]
        }
      ],
      "source": [
        "'''\n",
        "What does this compile statement do?\n",
        "\n",
        "Create a pattern of \"Mr\" and search for an occurance of the letter 's' to follow after it.\n",
        "If the letter 's' does not occur, will still return all matches of \"Mr\".\n",
        "'''\n",
        "\n",
        "# Compile the string pattern to search for\n",
        "pattern = re.compile('Mrs?')\n",
        "\n",
        "# Search the string for values matching the pattern and return them:\n",
        "found_pat = pattern.findall('Hello M there Mr. Anderson. How is Mrs. Anderson and Ms. Anderson?')\n",
        "print(found_pat)"
      ]
    },
    {
      "attachments": {},
      "cell_type": "markdown",
      "metadata": {
        "id": "gP5_jLEpAZoE"
      },
      "source": [
        "##### * - something that occurs at least 0 times"
      ]
    },
    {
      "cell_type": "code",
      "execution_count": 43,
      "metadata": {
        "id": "5pf3JL1cAZoE"
      },
      "outputs": [
        {
          "name": "stdout",
          "output_type": "stream",
          "text": [
            "['MMMs', 's', 'Ms', 's', 's', 'Ms', 's', 's', 's', 's']\n"
          ]
        }
      ],
      "source": [
        "'''\n",
        "What does this compile statment do?\n",
        "\n",
        "Create a pattern that will search for a s with any number of \"M\"'s preceding it.\n",
        "This pattern will also return ANY singular s values as the M is NOT required to preceed it\n",
        "in order to trigger the pattern.\n",
        "'''\n",
        "\n",
        "pattern_m = re.compile('M*s')\n",
        "\n",
        "found_m = pattern_m.findall('MMMs name is Ms. Smith. This is Msssss')\n",
        "print(found_m)"
      ]
    },
    {
      "attachments": {},
      "cell_type": "markdown",
      "metadata": {
        "id": "9S37A82sAZoE"
      },
      "source": [
        "##### + - something that occurs at least once"
      ]
    },
    {
      "cell_type": "code",
      "execution_count": 44,
      "metadata": {
        "id": "PfyTRw_OAZoF"
      },
      "outputs": [
        {
          "name": "stdout",
          "output_type": "stream",
          "text": [
            "['MMMs', 'Ms', 'Ms']\n"
          ]
        }
      ],
      "source": [
        "'''\n",
        "What does this compile statement do?\n",
        "\n",
        "Create a pattern that will search for all singular s values. When it an s value, it will look in front of it and see if there are any M in front. If there is, it will return that match.\n",
        "If not, it is NOT a match.\n",
        "'''\n",
        "\n",
        "pattern_again = re.compile('M+s')\n",
        "\n",
        "found_m = pattern_again.findall('MMMs name is Ms. Smith. This is Msssss')\n",
        "print(found_m)"
      ]
    },
    {
      "attachments": {},
      "cell_type": "markdown",
      "metadata": {
        "id": "KpVslvyuAZoF"
      },
      "source": [
        "##### In-class exercise 1: \n",
        "\n",
        "Use a regular expression to find every number in the given string"
      ]
    },
    {
      "cell_type": "code",
      "execution_count": 49,
      "metadata": {
        "id": "IyVgLkCSAZoF"
      },
      "outputs": [
        {
          "data": {
            "text/plain": [
              "['10909090', '1', '2']"
            ]
          },
          "execution_count": 49,
          "metadata": {},
          "output_type": "execute_result"
        }
      ],
      "source": [
        "my_string = 'This string has 10909090 numbers, but it is only 1 string. I hope you solve this 2day'\n",
        "# Output: ['10909090', '1', '2']\n",
        "\n",
        "pattern = re.compile('[0-9]+')\n",
        "pattern.findall(my_string)"
      ]
    },
    {
      "attachments": {},
      "cell_type": "markdown",
      "metadata": {
        "id": "h0NrOe0OAZoF"
      },
      "source": [
        "### Escaping Characters"
      ]
    },
    {
      "attachments": {},
      "cell_type": "markdown",
      "metadata": {
        "id": "h4orJZqnAZoF"
      },
      "source": [
        "##### \\w - look for any Unicode character<br/>\\W - look for anything that isnt a Unicode character\n",
        "\n",
        "[History on Unicode](http://unicode.org/standard/WhatIsUnicode.html)\n",
        "\n",
        "[More on Unicode Characters](https://en.wikipedia.org/wiki/List_of_Unicode_characters)"
      ]
    },
    {
      "cell_type": "code",
      "execution_count": 60,
      "metadata": {
        "id": "Plsf-e0bAZoF"
      },
      "outputs": [
        {
          "name": "stdout",
          "output_type": "stream",
          "text": [
            "🔥\n",
            "🌊\n",
            "♠\n",
            "♥\n"
          ]
        }
      ],
      "source": [
        "print('\\U0001f525')\n",
        "print('\\U0001f30a')\n",
        "print('\\U00002660')\n",
        "print('\\U00002665')"
      ]
    },
    {
      "cell_type": "code",
      "execution_count": 54,
      "metadata": {},
      "outputs": [
        {
          "name": "stdout",
          "output_type": "stream",
          "text": [
            "['This', 'is', 'a', 'sentence', 'This', 'sentence', 'has', 'an', 'exclamation', 'point', 'at', 'the', 'end']\n",
            "[' ', ' ', ' ', '. ', ' ', ' ', ' ', ' ', ' ', ' ', ' ', ' ', '!']\n"
          ]
        }
      ],
      "source": [
        "# Anything that is a unicode object:\n",
        "# Plus means I want everything that matches afterwards to also be returned as part of the group or set:\n",
        "pattern_uni = re.compile('[\\w]+')\n",
        "found_uni = pattern_uni.findall('This is a sentence. This sentence has an exclamation point at the end!')\n",
        "print(found_uni)\n",
        "\n",
        "# Anything that isn't a unicode object or character:\n",
        "pattern_not_uni = re.compile('[\\W]+')\n",
        "found_non_uni = pattern_not_uni.findall('This is a sentence. This sentence has an exclamation point at the end!')\n",
        "print(found_non_uni)"
      ]
    },
    {
      "attachments": {},
      "cell_type": "markdown",
      "metadata": {
        "id": "0iUynUmbAZoF"
      },
      "source": [
        "##### \\d - look for any digit 0-9<br/>\\D - look for anything that isnt a digit"
      ]
    },
    {
      "cell_type": "code",
      "execution_count": 65,
      "metadata": {
        "id": "day5uczJAZoF"
      },
      "outputs": [
        {
          "name": "stdout",
          "output_type": "stream",
          "text": [
            "['25th', '1st']\n"
          ]
        }
      ],
      "source": [
        "date = 'Today is the 25th. Here soon, it will be the 1st.'\n",
        "\n",
        "'''\n",
        "What does this compile statement do?\n",
        "\n",
        "We are searching for any numerical value that occurs 1-2 times, then\n",
        "is proceeded by a non-numerical value 2 times.\n",
        "\n",
        "25th would fall under this purview. Where 20OCT2015\n",
        "'''\n",
        "pattern_num = re.compile('\\d{1,2}[\\D]{2}')\n",
        "found_date = pattern_num.findall(date)\n",
        "print(found_date)"
      ]
    },
    {
      "attachments": {},
      "cell_type": "markdown",
      "metadata": {
        "id": "s40MLh_BAZoF"
      },
      "source": [
        "##### \\s - look for any white space<br/>\\S - look for anything that isnt whitespace"
      ]
    },
    {
      "cell_type": "code",
      "execution_count": 84,
      "metadata": {
        "id": "7iygJ50-AZoG"
      },
      "outputs": [
        {
          "name": "stdout",
          "output_type": "stream",
          "text": [
            "['Are', 'you', 'and', 'afraid', 'aint', 'of', 'the', 'dark']\n",
            "[' ', ' ', ' ', '    ', ' ', ' ', ' ', ' ']\n"
          ]
        }
      ],
      "source": [
        "string_1 = 'Are you 11 and    afraid aint of the dark?'\n",
        "\n",
        "# What is whitespace?\n",
        "# Whitespace is any form of space within a string. Either leading, trailing, or in between words.\n",
        "# Pattern with no whitespaces:\n",
        "pattern_no_space = re.compile('\\S[a-z]+')\n",
        "found_dark = pattern_no_space.findall(string_1)\n",
        "print(found_dark)\n",
        "\n",
        "# Pattern with whitespaces:\n",
        "pattern_with_space = re.compile('\\s+')\n",
        "found_space = pattern_with_space.findall(string_1)\n",
        "print(found_space)"
      ]
    },
    {
      "attachments": {},
      "cell_type": "markdown",
      "metadata": {
        "id": "ocOxfZxHAZoG"
      },
      "source": [
        "##### \\b - look for boundaries or edges of a word<br/>\\B - look for anything that isnt a boundary"
      ]
    },
    {
      "cell_type": "code",
      "execution_count": 88,
      "metadata": {
        "id": "f_qVKVvsAZoG"
      },
      "outputs": [
        {
          "name": "stdout",
          "output_type": "stream",
          "text": [
            "['TheCodingTemple']\n",
            "[]\n"
          ]
        }
      ],
      "source": [
        "pattern_bound = re.compile(r'\\bTheCodingTemple\\b') # r in front of a string means I want to read this as a literal instead.\n",
        "found_pat = pattern_bound.findall('Welcome to TheCodingTemple')\n",
        "print(found_pat)\n",
        "\n",
        "pattern_bound = re.compile(r'\\BTheCodingTemple\\B') # r in front of a string means I want to read this as a literal instead.\n",
        "found_pat = pattern_bound.findall('Welcome to TheCodingTemple')\n",
        "print(found_pat)"
      ]
    },
    {
      "attachments": {},
      "cell_type": "markdown",
      "metadata": {
        "id": "M69Sj-rDAZoG"
      },
      "source": [
        "### Grouping"
      ]
    },
    {
      "cell_type": "code",
      "execution_count": 94,
      "metadata": {
        "id": "yWMQqGQkAZoG"
      },
      "outputs": [
        {
          "name": "stdout",
          "output_type": "stream",
          "text": [
            "[('Max', 'Smith'), ('Sam', 'Darnold'), ('LeBron', 'James'), ('Michael', 'Jordan'), ('Kevin', 'Durant'), ('Patrick', 'McCormik')]\n",
            "('Max', 'Smith')\n",
            "The name did not work! Looks like the name:  aaron rodgers may not be a valid format for first and last name\n",
            "('Sam', 'Darnold')\n",
            "('LeBron', 'James')\n",
            "('Michael', 'Jordan')\n",
            "('Kevin', 'Durant')\n",
            "('Patrick', 'McCormik')\n"
          ]
        }
      ],
      "source": [
        "my_string_again = 'Max Smith, aaron rodgers, Sam Darnold, LeBron James, Michael Jordan, Kevin Durant, Patrick McCormik'\n",
        "\n",
        "'''\n",
        "What does this compile statement do?\n",
        "\n",
        "We search for patterns matching either one of our grouped patterns in the compile statement.\n",
        "Pattern group 1, (first set of parenthesis), searches for name exceptions (ex. LeBron, McCormik),\n",
        "searching for a capital letter, followed by a lowercase letter, then another capital and lowercase to follow.\n",
        "\n",
        "The second pattern searches for where there is a capital letter, and any capital or lowercase letters to follow.\n",
        "'''\n",
        "# The parenthesis create the grouping saying \"Here is a list of how I want this specific search parameter to look.\"\n",
        "pattern_name = re.compile('([A-Z][a-zA-Z-a-z]+) ([A-Z][A-Za-z]+)')\n",
        "found_names = pattern_name.findall(my_string_again)\n",
        "print(found_names)\n",
        "\n",
        "# What if I wanted to break this down even further and see when I am not adding a name or skipping it?\n",
        "\n",
        "'''\n",
        "What is my loop doing?\n",
        "\n",
        "I am splitting the string by first and last name. I am separating the string into a list, where each element of that list\n",
        "should be the first name and last name as a single string. \n",
        "\n",
        "Then, we search the string for the name using regex. If it meets our conditional filter, it gets returned!\n",
        "If it doesn't, our program let's us know!\n",
        "'''\n",
        "for name in my_string_again.split(','):\n",
        "    match = pattern_name.search(name)\n",
        "    if match:\n",
        "        print(match.groups(2))\n",
        "    else:\n",
        "        print(f'The name did not work! Looks like the name: {name} may not be a valid format for first and last name')"
      ]
    },
    {
      "attachments": {},
      "cell_type": "markdown",
      "metadata": {
        "id": "_9k6rLgMAZoG"
      },
      "source": [
        "##### In-class Exercise 2:\n",
        "\n",
        "Write a function using regular expressions to find the domain name in the given email addresses (and return None for the invalid email addresses)<br><b>HINT: Use '|' for either or</b>"
      ]
    },
    {
      "cell_type": "code",
      "execution_count": 101,
      "metadata": {
        "id": "H6q94xwIAZoG"
      },
      "outputs": [
        {
          "name": "stdout",
          "output_type": "stream",
          "text": [
            "None\n",
            "pocohontas1776@gmail.com\n",
            "None\n",
            "yourfavoriteband@g6.org\n",
            "None\n"
          ]
        }
      ],
      "source": [
        "my_emails = [\"jordanw@codingtemple.orgcom\", \"pocohontas1776@gmail.com\", \"helloworld@aol..com\",\n",
        "             \"yourfavoriteband@g6.org\", \"@codingtemple.com\"]\n",
        "\n",
        "# You can also use the $ at the end of your compile expression -- this stops the search\n",
        "#.com OR .org => com|org\n",
        "\n",
        "# Define our function:\n",
        "def validate_email(emails):\n",
        "    pattern = re.compile(\"([A-Za-z0-9]+)@([A-Za-z0-9]+).(org|com)$\")\n",
        "    \n",
        "    # When we look at the match object like this, if a match is found, this triggers\n",
        "    if pattern.match(email):\n",
        "        return email\n",
        "    else:\n",
        "        return None\n",
        "    \n",
        "    \n",
        "# Expected Output:\n",
        "# None\n",
        "# \"pocohontas1776@gmail.com\"\n",
        "# None\n",
        "# \"yourfavoriteband@g6.org\"\n",
        "# None\n",
        "\n",
        "for email in my_emails:\n",
        "    print(validate_email(email))"
      ]
    },
    {
      "attachments": {},
      "cell_type": "markdown",
      "metadata": {
        "id": "7SvPDEPUAZoH"
      },
      "source": [
        "### Opening a File <br>\n",
        "<p>Python gives us a couple ways to import files, below are the two used most often.</p>"
      ]
    },
    {
      "attachments": {},
      "cell_type": "markdown",
      "metadata": {
        "id": "7NshyCNvAZoH"
      },
      "source": [
        "##### open()"
      ]
    },
    {
      "cell_type": "code",
      "execution_count": 108,
      "metadata": {
        "id": "R06Sh5-FAZoH"
      },
      "outputs": [
        {
          "name": "stdout",
          "output_type": "stream",
          "text": [
            "ï»¿Hawkins, Derek        derek@codingtemple.com        (555) 555-5555        Teacher, Coding Temple        @derekhawkins\n",
            "Zhai, Mo        mozhai@codingtemple.com        (555) 555-5554        Teacher, Coding Temple\n",
            "Johnson, Joe        joejohnson@codingtemple.com                Johson, Joe\n",
            "Osterberg, Sven-Erik        governor@norrbotten.co.se                Governor, Norrbotten        @sverik\n",
            ", Tim        tim@killerrabbit.com                Enchanter, Killer Rabbit Cave\n",
            "Butz, Ryan        ryanb@codingtemple.com        (555) 555-5543        CEO, Coding Temple        @ryanbutz\n",
            "Doctor, The        doctor+companion@tardis.co.uk                Time Lord, Gallifrey\n",
            "Exampleson, Example        me@example.com        555-555-5552        Example, Example Co.        @example\n",
            "Pael, Ripal        ripalp@codingtemple.com        (555) 555-5553        Teacher, Coding Temple        @ripalp\n",
            "Vader, Darth        darth-vader@empire.gov        (555) 555-4444        Sith Lord, Galactic Empire        @darthvader\n",
            "Fernandez de la Vega Sanz, Maria Teresa        mtfvs@spain.gov                First Deputy Prime Minister, Spanish Gov\n",
            "<class 'str'>\n"
          ]
        }
      ],
      "source": [
        "# Open a file\n",
        "f = open(r'C:\\Users\\Alex Lucchesi\\coding-temple\\coding_temple_data_analytics_ft\\week-3\\data\\names.txt')\n",
        "\n",
        "# Read in the data:\n",
        "data = f.read()\n",
        "\n",
        "# Print out the data and the type of the data\n",
        "print(data)\n",
        "print(type(data))\n",
        "\n",
        "\n",
        "# When using this method:\n",
        "# ALWAY CLOSE YOUR FILE\n",
        "f.close()"
      ]
    },
    {
      "attachments": {},
      "cell_type": "markdown",
      "metadata": {
        "id": "ACOU8PwzAZoH"
      },
      "source": [
        "##### with open()"
      ]
    },
    {
      "cell_type": "code",
      "execution_count": 109,
      "metadata": {
        "id": "WTo40P6FAZoH"
      },
      "outputs": [
        {
          "name": "stdout",
          "output_type": "stream",
          "text": [
            "Hawkins, Derek        derek@codingtemple.com        (555) 555-5555        Teacher, Coding Temple        @derekhawkins\n",
            "Zhai, Mo        mozhai@codingtemple.com        (555) 555-5554        Teacher, Coding Temple\n",
            "Johnson, Joe        joejohnson@codingtemple.com                Johson, Joe\n",
            "Osterberg, Sven-Erik        governor@norrbotten.co.se                Governor, Norrbotten        @sverik\n",
            ", Tim        tim@killerrabbit.com                Enchanter, Killer Rabbit Cave\n",
            "Butz, Ryan        ryanb@codingtemple.com        (555) 555-5543        CEO, Coding Temple        @ryanbutz\n",
            "Doctor, The        doctor+companion@tardis.co.uk                Time Lord, Gallifrey\n",
            "Exampleson, Example        me@example.com        555-555-5552        Example, Example Co.        @example\n",
            "Pael, Ripal        ripalp@codingtemple.com        (555) 555-5553        Teacher, Coding Temple        @ripalp\n",
            "Vader, Darth        darth-vader@empire.gov        (555) 555-4444        Sith Lord, Galactic Empire        @darthvader\n",
            "Fernandez de la Vega Sanz, Maria Teresa        mtfvs@spain.gov                First Deputy Prime Minister, Spanish Gov\n"
          ]
        }
      ],
      "source": [
        "# When using with open(), you do not have to close the file! It does it for you!\n",
        "with open(r'C:\\Users\\Alex Lucchesi\\coding-temple\\coding_temple_data_analytics_ft\\week-3\\data\\names.txt', encoding='utf-8') as f:\n",
        "    data = f.read()\n",
        "    print(data)\n"
      ]
    },
    {
      "attachments": {},
      "cell_type": "markdown",
      "metadata": {
        "id": "LeX9ZH_nAZoH"
      },
      "source": [
        "##### re.search()"
      ]
    },
    {
      "cell_type": "code",
      "execution_count": 111,
      "metadata": {
        "id": "UE5h5Z59AZoH"
      },
      "outputs": [
        {
          "data": {
            "text/plain": [
              "<re.Match object; span=(786, 809), match='ripalp@codingtemple.com'>"
            ]
          },
          "execution_count": 111,
          "metadata": {},
          "output_type": "execute_result"
        }
      ],
      "source": [
        "re.search('ripalp@codingtemple.com', data)"
      ]
    },
    {
      "attachments": {},
      "cell_type": "markdown",
      "metadata": {
        "id": "89ATa2GmAZoI"
      },
      "source": [
        "##### Store the String to a Variable"
      ]
    },
    {
      "cell_type": "code",
      "execution_count": 113,
      "metadata": {
        "id": "eVZ7Ly1qAZoI"
      },
      "outputs": [
        {
          "name": "stdout",
          "output_type": "stream",
          "text": [
            "[]\n",
            "Nothing to see here folks!\n"
          ]
        }
      ],
      "source": [
        "answer = input('What name would you like to search for?: ')\n",
        "found = re.findall(answer, data)\n",
        "print(found)\n",
        "if found:\n",
        "    print(f'I found your data!: {found}')\n",
        "else:\n",
        "    print('Nothing to see here folks!')\n",
        "\n"
      ]
    },
    {
      "attachments": {},
      "cell_type": "markdown",
      "metadata": {
        "id": "SSiDJtVyAZoI"
      },
      "source": [
        "### In-Class Exercise #3 <br>\n",
        "<p>Print each persons name and twitter handle, using groups, should look like:</p>\n",
        "<p>==============<br>\n",
        "   Full Name / Twitter<br>\n",
        "   ==============</p>\n",
        "Derek Hawkins / @derekhawkins\n",
        "\n",
        " Erik Sven-Osterberg / @sverik\n",
        "\n",
        " Ryan Butz / @ryanbutz\n",
        "\n",
        " Example Exampleson / @example\n",
        "\n",
        " Ripal Pael / @ripalp\n",
        "\n",
        " Darth Vader / @darthvader"
      ]
    },
    {
      "cell_type": "code",
      "execution_count": 116,
      "metadata": {},
      "outputs": [
        {
          "name": "stdout",
          "output_type": "stream",
          "text": [
            "Derek Hawkins / @derekhawkins\n",
            "Sven-Erik Osterberg / @sverik\n",
            "Ryan Butz / @ryanbutz\n",
            "Example Exampleson / @example\n",
            "Ripal Pael / @ripalp\n",
            "Darth Vader / @darthvader\n",
            "None\n"
          ]
        }
      ],
      "source": [
        "with open(r'C:\\Users\\Alex Lucchesi\\coding-temple\\coding_temple_data_analytics_ft\\week-3\\data\\names.txt') as f:\n",
        "    data = f.read()\n",
        "    \n",
        "# Match to the first name, last name, and twitter handle:\n",
        "# Account for those objects alone.\n",
        "def accounts(data):\n",
        "    pattern = re.compile(r\"([A-Za-z-]+), ([A-Za-z-]+).*(@[A-Za-z0-9_-]+)$\", re.MULTILINE)\n",
        "    matches = pattern.findall(data)\n",
        "    for match in matches:\n",
        "        # rearrange the matches to follow the format I want to return\n",
        "        print(f'{match[1]} {match[0]} / {match[2]}')\n",
        "        \n",
        "print(accounts(data))"
      ]
    },
    {
      "cell_type": "code",
      "execution_count": null,
      "metadata": {},
      "outputs": [],
      "source": []
    }
  ],
  "metadata": {
    "colab": {
      "provenance": []
    },
    "kernelspec": {
      "display_name": "Python 3",
      "language": "python",
      "name": "python3"
    },
    "language_info": {
      "codemirror_mode": {
        "name": "ipython",
        "version": 3
      },
      "file_extension": ".py",
      "mimetype": "text/x-python",
      "name": "python",
      "nbconvert_exporter": "python",
      "pygments_lexer": "ipython3",
      "version": "3.11.4"
    },
    "vscode": {
      "interpreter": {
        "hash": "26de051ba29f2982a8de78e945f0abaf191376122a1563185a90213a26c5da77"
      }
    }
  },
  "nbformat": 4,
  "nbformat_minor": 0
}
