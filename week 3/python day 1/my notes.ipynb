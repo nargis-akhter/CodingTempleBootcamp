{
  "cells": [
    {
      "attachments": {},
      "cell_type": "markdown",
      "metadata": {
        "id": "A3jUapQsAZn-"
      },
      "source": [
        "# Coding Temple's Data Analytics Course\n",
        "---\n",
        "## Python II: Regular Expressions"
      ]
    },
    {
      "attachments": {},
      "cell_type": "markdown",
      "metadata": {
        "id": "PdLjKD4UAZn_"
      },
      "source": [
        "## Tasks today:\n",
        "1) <b>Importing</b> <br>\n",
        "2) <b>Using Regular Expressions</b> <br>\n",
        " &nbsp;&nbsp;&nbsp;&nbsp; a) re.compile() <br>\n",
        " &nbsp;&nbsp;&nbsp;&nbsp; b) re.match() <br>\n",
        " &nbsp;&nbsp;&nbsp;&nbsp; c) re.findall() <br>\n",
        " &nbsp;&nbsp;&nbsp;&nbsp; d) re.search() <br>\n",
        "3) <b>Sets</b> <br>\n",
        " &nbsp;&nbsp;&nbsp;&nbsp; a) Integer Ranges <br>\n",
        " &nbsp;&nbsp;&nbsp;&nbsp; b) Character Ranges <br>\n",
        "4) <b>Counting Occurences</b> <br>\n",
        " &nbsp;&nbsp;&nbsp;&nbsp; a) {x} <br>\n",
        " &nbsp;&nbsp;&nbsp;&nbsp; b) {, x} <br>\n",
        " &nbsp;&nbsp;&nbsp;&nbsp; c) {?} <br>\n",
        " &nbsp;&nbsp;&nbsp;&nbsp; d) {*} <br>\n",
        " &nbsp;&nbsp;&nbsp;&nbsp; e) {+} <br>\n",
        "5) <b>In-Class Exercise #1</b> <br>\n",
        "6) <b>Escaping Characters</b> <br>\n",
        "7) <b>Grouping</b> <br>\n",
        "8) <b>In-Class Exercise #2</b> <br>\n",
        "9) <b>Opening a File</b> <br>\n",
        " &nbsp;&nbsp;&nbsp;&nbsp; a) open() <br>\n",
        " &nbsp;&nbsp;&nbsp;&nbsp; b) with open() <br>\n",
        " &nbsp;&nbsp;&nbsp;&nbsp; c) re.match() <br>\n",
        " &nbsp;&nbsp;&nbsp;&nbsp; d) re.search() <br>\n",
        " &nbsp;&nbsp;&nbsp;&nbsp; e) Store the String in a Variable <br>"
      ]
    },
    {
      "attachments": {},
      "cell_type": "markdown",
      "metadata": {
        "id": "PAC04z0nAZoA"
      },
      "source": [
        "### Importing <br>\n",
        "<p>Regular Expressions are universal throughout most programming languages... They are generally imported through the module 're'.</p>"
      ]
    },
    {
      "cell_type": "code",
      "execution_count": 4,
      "metadata": {
        "id": "SxP-cmPsAZoA"
      },
      "outputs": [],
      "source": [
        "import re"
      ]
    },
    {
      "attachments": {},
      "cell_type": "markdown",
      "metadata": {
        "id": "M7A6o9vXAZoB"
      },
      "source": [
        "### Using Regular Expressions <br>\n",
        "<p>Regular expressions give us the ability to search for patterns within text, strings, files, etc. They serve several uses, such as; security measures, searching, filtering, pattern recognition, and more...</p>"
      ]
    },
    {
      "attachments": {},
      "cell_type": "markdown",
      "metadata": {
        "id": "LwC1v9vRAZoB"
      },
      "source": [
        "##### re.compile()"
      ]
    },
    {
      "cell_type": "code",
      "execution_count": 2,
      "metadata": {
        "id": "ldZfAB8FAZoB"
      },
      "outputs": [],
      "source": [
        "# we pre determine the string we want to search for \n",
        "\n",
        "pattern = re.compile('abcd')"
      ]
    },
    {
      "attachments": {},
      "cell_type": "markdown",
      "metadata": {
        "id": "CvfW_ms2AZoC"
      },
      "source": [
        "##### re.match()"
      ]
    },
    {
      "cell_type": "code",
      "execution_count": 6,
      "metadata": {
        "id": "-zJbcV12AZoC"
      },
      "outputs": [
        {
          "name": "stdout",
          "output_type": "stream",
          "text": [
            "Help on function match in module re:\n",
            "\n",
            "match(pattern, string, flags=0)\n",
            "    Try to apply the pattern at the start of the string, returning\n",
            "    a Match object, or None if no match was found.\n",
            "\n",
            "None\n"
          ]
        },
        {
          "data": {
            "text/plain": [
              "(0, 4)"
            ]
          },
          "execution_count": 6,
          "metadata": {},
          "output_type": "execute_result"
        }
      ],
      "source": [
        "print(help(re.match))\n",
        "\n",
        "re.match(pattern, 'abcd123') \n",
        "#same as ^^:\n",
        "pattern.match('abcd123')\n",
        "\n",
        "match = pattern.match('abcd124')\n",
        "match.span()\n"
      ]
    },
    {
      "attachments": {},
      "cell_type": "markdown",
      "metadata": {
        "id": "b10Z-_c0AZoC"
      },
      "source": [
        "##### re.findall()"
      ]
    },
    {
      "cell_type": "code",
      "execution_count": 7,
      "metadata": {
        "id": "Edc4cN4yAZoC"
      },
      "outputs": [
        {
          "name": "stdout",
          "output_type": "stream",
          "text": [
            "Help on function findall in module re:\n",
            "\n",
            "findall(pattern, string, flags=0)\n",
            "    Return a list of all non-overlapping matches in the string.\n",
            "    \n",
            "    If one or more capturing groups are present in the pattern, return\n",
            "    a list of groups; this will be a list of tuples if the pattern\n",
            "    has more than one group.\n",
            "    \n",
            "    Empty matches are included in the result.\n",
            "\n",
            "None\n"
          ]
        },
        {
          "data": {
            "text/plain": [
              "['abcd', 'abcd']"
            ]
          },
          "execution_count": 7,
          "metadata": {},
          "output_type": "execute_result"
        }
      ],
      "source": [
        "#multiple matches in a single string or text document\n",
        "#non-overlapping matches: does not share the same index positions\n",
        "\n",
        "print(help(re.findall))\n",
        "\n",
        "pattern.findall('abcd123abcd')"
      ]
    },
    {
      "attachments": {},
      "cell_type": "markdown",
      "metadata": {
        "id": "YGpNo_XZAZoC"
      },
      "source": [
        "##### re.search()"
      ]
    },
    {
      "cell_type": "code",
      "execution_count": 14,
      "metadata": {
        "id": "0DolcygtAZoD"
      },
      "outputs": [
        {
          "name": "stdout",
          "output_type": "stream",
          "text": [
            "<re.Match object; span=(16, 20), match='abcd'>\n",
            "<class 'tuple'>\n",
            "abcd\n",
            "abcd\n",
            "(16, 20)\n",
            "16\n"
          ]
        }
      ],
      "source": [
        "#return the singular match of the string wherever it matches at\n",
        "\n",
        "random_string = '123 123 234 abc abcd'\n",
        "\n",
        "search = pattern.search(random_string)\n",
        "print(search)\n",
        "\n",
        "span = search.span()\n",
        "print(type(span))\n",
        "\n",
        "#non-reproducible method - program never changes \n",
        "print(random_string[16:20]) #16 always equals 16\n",
        "\n",
        "#reproducible method - program may change\n",
        "print(random_string[span[0]:span[1]]) #16 does not always equal 16 \n",
        "print(span)\n",
        "print(span[0])"
      ]
    },
    {
      "attachments": {},
      "cell_type": "markdown",
      "metadata": {
        "id": "KbKNBUxLAZoD"
      },
      "source": [
        "### Sets <br>\n",
        "<p>The following cells will allow you to use regular expressions to search for certain values within a range such as numbers 1 through 4.</p>"
      ]
    },
    {
      "attachments": {},
      "cell_type": "markdown",
      "metadata": {
        "id": "_2G-uS27AZoD"
      },
      "source": [
        "##### [a-z] or [A-Z] - any lowercase/uppercase letters from a to z<br/>[^2] - anything that's not 2"
      ]
    },
    {
      "attachments": {},
      "cell_type": "markdown",
      "metadata": {
        "id": "H6y2Ls9aAZoD"
      },
      "source": [
        "##### Integer Ranges"
      ]
    },
    {
      "cell_type": "code",
      "execution_count": 18,
      "metadata": {
        "id": "FGn5mZlzAZoD"
      },
      "outputs": [
        {
          "name": "stdout",
          "output_type": "stream",
          "text": [
            "<re.Match object; span=(0, 3), match='383'>\n"
          ]
        }
      ],
      "source": [
        "#phone numbers - area code\n",
        "pattern_int = re.compile('[0-4][7-9][0-3]')\n",
        "phone_num = '383 838 6788'\n",
        "\n",
        "#search for matching numbers\n",
        "random_num = pattern_int.search(phone_num)\n",
        "random_num = pattern_int.search(phone_num[0:3])\n",
        "print(random_num)"
      ]
    },
    {
      "cell_type": "code",
      "execution_count": 22,
      "metadata": {},
      "outputs": [
        {
          "name": "stdout",
          "output_type": "stream",
          "text": [
            "383\n"
          ]
        }
      ],
      "source": [
        "#can iterate over integer values\n",
        "pattern_int = re.compile('[0-4][7-9][0-3]')\n",
        "int_value = 67383\n",
        "\n",
        "#search value for all matching numbers\n",
        "random_num = pattern_int.search(str(int_value))\n",
        "\n",
        "#return match:\n",
        "span = random_num.span()\n",
        "print((int(str(int_value)[span[0]:span[1]])))\n"
      ]
    },
    {
      "attachments": {},
      "cell_type": "markdown",
      "metadata": {
        "id": "PgBHuJW2AZoD"
      },
      "source": [
        "##### Character Ranges"
      ]
    },
    {
      "cell_type": "code",
      "execution_count": 4,
      "metadata": {
        "id": "DPU6DLtZAZoD"
      },
      "outputs": [
        {
          "data": {
            "text/plain": [
              "['He', 'll']"
            ]
          },
          "execution_count": 4,
          "metadata": {},
          "output_type": "execute_result"
        }
      ],
      "source": [
        "                            #[AEIOUaeiou]\n",
        "char_pattern = re.compile('[A-Z0-9a-z][a-z]') \n",
        "my_str = \"Hello\"\n",
        "\n",
        "#search for all matching characters in the patterns and return:\n",
        "char_pattern.findall(my_str)"
      ]
    },
    {
      "attachments": {},
      "cell_type": "markdown",
      "metadata": {
        "id": "cNrmcRxBAZoE"
      },
      "source": [
        "### Counting Occurences"
      ]
    },
    {
      "attachments": {},
      "cell_type": "markdown",
      "metadata": {
        "id": "52zJm_dTAZoE"
      },
      "source": [
        "##### {x} - something that occurs {num_of_times}"
      ]
    },
    {
      "cell_type": "code",
      "execution_count": 10,
      "metadata": {
        "id": "OfFlvkxaAZoE"
      },
      "outputs": [
        {
          "name": "stdout",
          "output_type": "stream",
          "text": [
            "['An33']\n",
            "['An33']\n"
          ]
        }
      ],
      "source": [
        "#looking for an uppercase letter, a lowercase letter, and then two digits between 0-3\"\n",
        "\n",
        "char_pattern_count = re.compile('[A-Z][a-z][0-3]{2}')\n",
        "\n",
        "# Search the string object for values matching the pattern and return them:\n",
        "found_count = char_pattern_count.findall('Hello mr. An33derson')\n",
        "print(found_count)\n",
        "\n",
        "\n",
        "if found_count:\n",
        "    print(found_count)  \n",
        "else:\n",
        "    print('Your search query returned no matching values')                                       #baracket: looking for 0-3 at least two times\n"
      ]
    },
    {
      "attachments": {},
      "cell_type": "markdown",
      "metadata": {
        "id": "S0BYqWlLAZoE"
      },
      "source": [
        "##### {x, x} - something that occurs between x and x times"
      ]
    },
    {
      "cell_type": "code",
      "execution_count": 30,
      "metadata": {
        "id": "YfOZVHsXAZoE"
      },
      "outputs": [
        {
          "name": "stdout",
          "output_type": "stream",
          "text": [
            "['m', 'mm', 'mmmmm', 'mmmm', 'm', 'm']\n",
            "0\n",
            "2\n",
            "5\n",
            "5\n",
            "0\n",
            "0\n"
          ]
        }
      ],
      "source": [
        "# m occurs between 1 to 5 times\n",
        "random_pattern = re.compile('m{1,5}')\n",
        "\n",
        "rs = 'm mm mmmmmmmmm this was a great soup! I am in love with Tomato Soup!'\n",
        "\n",
        "random_statment = random_pattern.findall('m mm mmmmmmmmm this was a great soup! I am in love with Tomato Soup!')\n",
        "print(random_statment)\n",
        "\n",
        "for val in random_statment:\n",
        "    print(rs.index(val))"
      ]
    },
    {
      "attachments": {},
      "cell_type": "markdown",
      "metadata": {
        "id": "3B6Nre9mAZoE"
      },
      "source": [
        "##### ? - something that occurs 0 or 1 time"
      ]
    },
    {
      "cell_type": "code",
      "execution_count": 18,
      "metadata": {
        "id": "_XAtCwCLAZoE"
      },
      "outputs": [
        {
          "name": "stdout",
          "output_type": "stream",
          "text": [
            "['Mr', 'Mrs']\n"
          ]
        }
      ],
      "source": [
        "pattern = re.compile('Mrs?')\n",
        "\n",
        "found_pat = pattern.findall('Hello M there Mr. Anderson. How is Mrs. Anderson and Ms. Anderson?')\n",
        "print(found_pat)"
      ]
    },
    {
      "attachments": {},
      "cell_type": "markdown",
      "metadata": {
        "id": "gP5_jLEpAZoE"
      },
      "source": [
        "##### * - something that occurs at least 0 times"
      ]
    },
    {
      "cell_type": "code",
      "execution_count": 34,
      "metadata": {
        "id": "5pf3JL1cAZoE"
      },
      "outputs": [
        {
          "name": "stdout",
          "output_type": "stream",
          "text": [
            "['MMMs', 's', 'Ms', 's', 's', 'Ms', 's', 's', 's', 's']\n"
          ]
        }
      ],
      "source": [
        "#if it occurs at all\n",
        "#pattern that will search for a s with any number of \"M\"'s preceding it.\n",
        "#pattern will also return ANY singular s values as the M is NOT required to preceed it\n",
        "#f the letter 's' does not occur, will still return all matches of \"Mr\".\n",
        "\n",
        "pattern_m = re.compile('M*s')\n",
        "\n",
        "found_m = pattern_m.findall('MMMs name is Ms. Smith. This is Msssss')\n",
        "print(found_m)"
      ]
    },
    {
      "attachments": {},
      "cell_type": "markdown",
      "metadata": {
        "id": "9S37A82sAZoE"
      },
      "source": [
        "##### + - something that occurs at least once"
      ]
    },
    {
      "cell_type": "code",
      "execution_count": 35,
      "metadata": {
        "id": "PfyTRw_OAZoF"
      },
      "outputs": [
        {
          "name": "stdout",
          "output_type": "stream",
          "text": [
            "['MMMs', 'Ms', 'Ms']\n"
          ]
        }
      ],
      "source": [
        "#pattern that will search for all singular s values. \n",
        "#when it an s value, it will look in front of it and see if there are any M in front. If there is, it will return that match. If not, it is NOT a match.\n",
        "\n",
        "pattern_again = re.compile('M+s')\n",
        "\n",
        "found_m = pattern_again.findall('MMMs name is Ms. Smith. This is Msssss')\n",
        "print(found_m)"
      ]
    },
    {
      "attachments": {},
      "cell_type": "markdown",
      "metadata": {
        "id": "KpVslvyuAZoF"
      },
      "source": [
        "##### In-class exercise 1: \n",
        "\n",
        "Use a regular expression to find every number in the given string"
      ]
    },
    {
      "cell_type": "code",
      "execution_count": 17,
      "metadata": {
        "id": "IyVgLkCSAZoF"
      },
      "outputs": [
        {
          "name": "stdout",
          "output_type": "stream",
          "text": [
            "['10909090', '1', '2']\n"
          ]
        }
      ],
      "source": [
        "my_string = 'This string has 10909090 numbers, but it is only 1 string. I hope you solve this 2day'\n",
        "# Output: ['10909090', '1', '2']\n",
        "\n",
        "find_number = re.compile('[0-9]+')\n",
        "numbers = find_number.findall(my_string)\n",
        "print(numbers)\n",
        "\n"
      ]
    },
    {
      "attachments": {},
      "cell_type": "markdown",
      "metadata": {
        "id": "h0NrOe0OAZoF"
      },
      "source": [
        "### Escaping Characters"
      ]
    },
    {
      "attachments": {},
      "cell_type": "markdown",
      "metadata": {
        "id": "h4orJZqnAZoF"
      },
      "source": [
        "##### \\w - look for any Unicode character<br/>\\W - look for anything that isnt a Unicode character\n",
        "\n",
        "[History on Unicode](http://unicode.org/standard/WhatIsUnicode.html)\n",
        "\n",
        "[More on Unicode Characters](https://en.wikipedia.org/wiki/List_of_Unicode_characters)"
      ]
    },
    {
      "cell_type": "code",
      "execution_count": 36,
      "metadata": {
        "id": "Plsf-e0bAZoF"
      },
      "outputs": [
        {
          "name": "stdout",
          "output_type": "stream",
          "text": [
            "🔥\n",
            "🌊\n",
            "♠\n",
            "♥\n"
          ]
        }
      ],
      "source": [
        "print('\\U0001f525')\n",
        "print('\\U0001f30a')\n",
        "print('\\U00002660')\n",
        "print('\\U00002665')"
      ]
    },
    {
      "attachments": {},
      "cell_type": "markdown",
      "metadata": {
        "id": "0iUynUmbAZoF"
      },
      "source": [
        "##### \\d - look for any digit 0-9<br/>\\D - look for anything that isnt a digit"
      ]
    },
    {
      "cell_type": "code",
      "execution_count": 45,
      "metadata": {
        "id": "day5uczJAZoF"
      },
      "outputs": [
        {
          "name": "stdout",
          "output_type": "stream",
          "text": [
            "['25th', '1st']\n"
          ]
        }
      ],
      "source": [
        "date = 'Today is the 25th. Here soon, it will be the 1st.'\n",
        "\n",
        "#numerical value that occurs 1-2 times, then is proceeded by a non-numerical value 2 times.\n",
        "pattern_num = re.compile('\\d{1,2}[\\D]{2}')\n",
        "found_date = pattern_num.findall(date)\n",
        "print(found_date)"
      ]
    },
    {
      "attachments": {},
      "cell_type": "markdown",
      "metadata": {
        "id": "s40MLh_BAZoF"
      },
      "source": [
        "##### \\s - look for any white space<br/>\\S - look for anything that isnt whitespace"
      ]
    },
    {
      "cell_type": "code",
      "execution_count": 46,
      "metadata": {
        "id": "7iygJ50-AZoG"
      },
      "outputs": [
        {
          "name": "stdout",
          "output_type": "stream",
          "text": [
            "['Are', 'you', 'and', 'afraid', 'aint', 'of', 'the', 'dark']\n",
            "[' ', ' ', ' ', '    ', ' ', ' ', ' ', ' ']\n"
          ]
        }
      ],
      "source": [
        "string_1 = 'Are you 11 and    afraid aint of the dark?'\n",
        "\n",
        "pattern_no_space = re.compile('\\S[a-z]+') #\\S+\\w+\n",
        "found_dark = pattern_no_space.findall(string_1)\n",
        "print(found_dark)\n",
        "\n",
        "# Pattern with whitespaces:\n",
        "pattern_with_space = re.compile('\\s+')\n",
        "found_space = pattern_with_space.findall(string_1)\n",
        "print(found_space)"
      ]
    },
    {
      "attachments": {},
      "cell_type": "markdown",
      "metadata": {
        "id": "ocOxfZxHAZoG"
      },
      "source": [
        "##### \\b - look for boundaries or edges of a word<br/>\\B - look for anything that isnt a boundary"
      ]
    },
    {
      "cell_type": "code",
      "execution_count": 47,
      "metadata": {
        "id": "f_qVKVvsAZoG"
      },
      "outputs": [
        {
          "name": "stdout",
          "output_type": "stream",
          "text": [
            "['TheCodingTemple']\n",
            "[]\n"
          ]
        }
      ],
      "source": [
        "pattern_bound = re.compile(r'\\bTheCodingTemple\\b') \n",
        "found_pat = pattern_bound.findall('Welcome to TheCodingTemple')\n",
        "print(found_pat)\n",
        "\n",
        "pattern_bound = re.compile(r'\\BTheCodingTemple\\B')\n",
        "found_pat = pattern_bound.findall('Welcome to TheCodingTemple')\n",
        "print(found_pat)"
      ]
    },
    {
      "attachments": {},
      "cell_type": "markdown",
      "metadata": {
        "id": "M69Sj-rDAZoG"
      },
      "source": [
        "### Grouping"
      ]
    },
    {
      "cell_type": "code",
      "execution_count": 53,
      "metadata": {
        "id": "yWMQqGQkAZoG"
      },
      "outputs": [
        {
          "name": "stdout",
          "output_type": "stream",
          "text": [
            "[('Max', 'Smith'), ('Sam', 'Darnold'), ('LeBron', 'James'), ('Michael', 'Jordan'), ('Kevin', 'Durant'), ('Patrick', 'McCormik')]\n",
            "('Max', 'Smith')\n",
            "The name did not work! Looks like the name:  aaron rodgers may not be a valid format for first and last name\n",
            "('Sam', 'Darnold')\n",
            "('LeBron', 'James')\n",
            "('Michael', 'Jordan')\n",
            "('Kevin', 'Durant')\n",
            "('Patrick', 'McCormik')\n"
          ]
        }
      ],
      "source": [
        "#multiple pattern\n",
        "my_string_again = 'Max Smith, aaron rodgers, Sam Darnold, LeBron James, Michael Jordan, Kevin Durant, Patrick McCormik'\n",
        "\n",
        "#first pattern is searching for a capital letter, followed by a lowercase letter, then another capital and any lowercase to follow\n",
        "#second pattern is search for where there is a capital letter, and any capital or lowercase letters to follow.\n",
        "pattern_name = re.compile('([A-Z][a-zA-Z-a-z]+) ([A-Z][A-Za-z]+)')\n",
        "found_names = pattern_name.findall(my_string_again)\n",
        "print(found_names)\n",
        "\n",
        "'''\n",
        "What is my loop doing?\n",
        "\n",
        "I am splitting the string by first and last name. I am separating the string into a list, where each element of that list\n",
        "should be the first name and last name as a single string. \n",
        "\n",
        "Then, we search the string for the name using regex. If it meets our conditional filter, it gets returned!\n",
        "If it doesn't, our program let's us know!\n",
        "'''\n",
        "for name in my_string_again.split(','):\n",
        "    match = pattern_name.search(name)\n",
        "    if match:\n",
        "        print(match.groups(2))\n",
        "    else:\n",
        "        print(f'The name did not work! Looks like the name: {name} may not be a valid format for first and last name')\n",
        "\n"
      ]
    },
    {
      "attachments": {},
      "cell_type": "markdown",
      "metadata": {
        "id": "_9k6rLgMAZoG"
      },
      "source": [
        "##### In-class Exercise 2:\n",
        "\n",
        "Write a function using regular expressions to find the domain name in the given email addresses (and return None for the invalid email addresses)<br><b>HINT: Use '|' for either or</b>"
      ]
    },
    {
      "cell_type": "code",
      "execution_count": 54,
      "metadata": {
        "id": "H6q94xwIAZoG"
      },
      "outputs": [
        {
          "name": "stdout",
          "output_type": "stream",
          "text": [
            "re.compile('[a-zA-z0-9]+')\n"
          ]
        }
      ],
      "source": [
        "my_emails = [\"jordanw@codingtemple.orgcom\", \"pocohontas1776@gmail.com\", \"helloworld@aol..com\",\n",
        "             \"yourfavoriteband@g6.org\", \"@codingtemple.com\"]\n",
        "\n",
        "# You can also use the $ at the end of your compile expression -- this stops the search\n",
        "\n",
        "good_domain = re.compile('[a-zA-z0-9]+')\n",
        "print(good_domain)\n",
        "\n",
        "\n",
        "#.com OR .org => com|org"
      ]
    },
    {
      "attachments": {},
      "cell_type": "markdown",
      "metadata": {
        "id": "7SvPDEPUAZoH"
      },
      "source": [
        "### Opening a File <br>\n",
        "<p>Python gives us a couple ways to import files, below are the two used most often.</p>"
      ]
    },
    {
      "attachments": {},
      "cell_type": "markdown",
      "metadata": {
        "id": "7NshyCNvAZoH"
      },
      "source": [
        "##### open()"
      ]
    },
    {
      "cell_type": "code",
      "execution_count": 58,
      "metadata": {
        "id": "R06Sh5-FAZoH"
      },
      "outputs": [
        {
          "name": "stdout",
          "output_type": "stream",
          "text": [
            "ï»¿Hawkins, Derek        derek@codingtemple.com        (555) 555-5555        Teacher, Coding Temple        @derekhawkins\n",
            "Zhai, Mo        mozhai@codingtemple.com        (555) 555-5554        Teacher, Coding Temple\n",
            "Johnson, Joe        joejohnson@codingtemple.com                Johson, Joe\n",
            "Osterberg, Sven-Erik        governor@norrbotten.co.se                Governor, Norrbotten        @sverik\n",
            ", Tim        tim@killerrabbit.com                Enchanter, Killer Rabbit Cave\n",
            "Butz, Ryan        ryanb@codingtemple.com        (555) 555-5543        CEO, Coding Temple        @ryanbutz\n",
            "Doctor, The        doctor+companion@tardis.co.uk                Time Lord, Gallifrey\n",
            "Exampleson, Example        me@example.com        555-555-5552        Example, Example Co.        @example\n",
            "Pael, Ripal        ripalp@codingtemple.com        (555) 555-5553        Teacher, Coding Temple        @ripalp\n",
            "Vader, Darth        darth-vader@empire.gov        (555) 555-4444        Sith Lord, Galactic Empire        @darthvader\n",
            "Fernandez de la Vega Sanz, Maria Teresa        mtfvs@spain.gov                First Deputy Prime Minister, Spanish Gov\n",
            "<class 'str'>\n"
          ]
        }
      ],
      "source": [
        "#open a file\n",
        "f = open(r'C:\\Users\\nargi\\Documents\\CodingTempleBootcamp\\Week3\\Python Day1\\names.txt')\n",
        "\n",
        "#read in the data:\n",
        "data = f.read()\n",
        "\n",
        "#Print out data and the type of data\n",
        "print(data)\n",
        "print(type(data))\n",
        "\n",
        "# When using this method:\n",
        "# ALWAY CLOSE YOUR FILE\n",
        "f.close()"
      ]
    },
    {
      "attachments": {},
      "cell_type": "markdown",
      "metadata": {
        "id": "ACOU8PwzAZoH"
      },
      "source": [
        "##### with open()"
      ]
    },
    {
      "cell_type": "code",
      "execution_count": 59,
      "metadata": {
        "id": "WTo40P6FAZoH"
      },
      "outputs": [
        {
          "name": "stdout",
          "output_type": "stream",
          "text": [
            "Hawkins, Derek        derek@codingtemple.com        (555) 555-5555        Teacher, Coding Temple        @derekhawkins\n",
            "Zhai, Mo        mozhai@codingtemple.com        (555) 555-5554        Teacher, Coding Temple\n",
            "Johnson, Joe        joejohnson@codingtemple.com                Johson, Joe\n",
            "Osterberg, Sven-Erik        governor@norrbotten.co.se                Governor, Norrbotten        @sverik\n",
            ", Tim        tim@killerrabbit.com                Enchanter, Killer Rabbit Cave\n",
            "Butz, Ryan        ryanb@codingtemple.com        (555) 555-5543        CEO, Coding Temple        @ryanbutz\n",
            "Doctor, The        doctor+companion@tardis.co.uk                Time Lord, Gallifrey\n",
            "Exampleson, Example        me@example.com        555-555-5552        Example, Example Co.        @example\n",
            "Pael, Ripal        ripalp@codingtemple.com        (555) 555-5553        Teacher, Coding Temple        @ripalp\n",
            "Vader, Darth        darth-vader@empire.gov        (555) 555-4444        Sith Lord, Galactic Empire        @darthvader\n",
            "Fernandez de la Vega Sanz, Maria Teresa        mtfvs@spain.gov                First Deputy Prime Minister, Spanish Gov\n"
          ]
        }
      ],
      "source": [
        "# When using with open(), you do not have to close the file! It does it for you!\n",
        "with open(r'C:\\Users\\nargi\\Documents\\CodingTempleBootcamp\\Week3\\Python Day1\\names.txt', encoding='utf-8') as f:\n",
        "    data = f.read()\n",
        "    print(data)\n"
      ]
    },
    {
      "attachments": {},
      "cell_type": "markdown",
      "metadata": {
        "id": "LeX9ZH_nAZoH"
      },
      "source": [
        "##### re.search()"
      ]
    },
    {
      "cell_type": "code",
      "execution_count": 61,
      "metadata": {
        "id": "UE5h5Z59AZoH"
      },
      "outputs": [
        {
          "data": {
            "text/plain": [
              "<re.Match object; span=(786, 809), match='ripalp@codingtemple.com'>"
            ]
          },
          "execution_count": 61,
          "metadata": {},
          "output_type": "execute_result"
        }
      ],
      "source": [
        "re.search(r'ripalp@codingtemple.com', data)"
      ]
    },
    {
      "attachments": {},
      "cell_type": "markdown",
      "metadata": {
        "id": "89ATa2GmAZoI"
      },
      "source": [
        "##### Store the String to a Variable"
      ]
    },
    {
      "cell_type": "code",
      "execution_count": null,
      "metadata": {
        "id": "eVZ7Ly1qAZoI"
      },
      "outputs": [],
      "source": [
        "  \n",
        "    "
      ]
    },
    {
      "attachments": {},
      "cell_type": "markdown",
      "metadata": {
        "id": "SSiDJtVyAZoI"
      },
      "source": [
        "### In-Class Exercise #3 <br>\n",
        "<p>Print each persons name and twitter handle, using groups, should look like:</p>\n",
        "<p>==============<br>\n",
        "   Full Name / Twitter<br>\n",
        "   ==============</p>\n",
        "Derek Hawkins / @derekhawkins\n",
        "\n",
        " Erik Sven-Osterberg / @sverik\n",
        "\n",
        " Ryan Butz / @ryanbutz\n",
        "\n",
        " Example Exampleson / @example\n",
        "\n",
        " Ripal Pael / @ripalp\n",
        "\n",
        " Darth Vader / @darthvader"
      ]
    },
    {
      "cell_type": "code",
      "execution_count": null,
      "metadata": {},
      "outputs": [],
      "source": []
    }
  ],
  "metadata": {
    "colab": {
      "provenance": []
    },
    "kernelspec": {
      "display_name": "Python 3",
      "language": "python",
      "name": "python3"
    },
    "language_info": {
      "codemirror_mode": {
        "name": "ipython",
        "version": 3
      },
      "file_extension": ".py",
      "mimetype": "text/x-python",
      "name": "python",
      "nbconvert_exporter": "python",
      "pygments_lexer": "ipython3",
      "version": "3.11.4"
    },
    "vscode": {
      "interpreter": {
        "hash": "26de051ba29f2982a8de78e945f0abaf191376122a1563185a90213a26c5da77"
      }
    }
  },
  "nbformat": 4,
  "nbformat_minor": 0
}
