{
 "cells": [
  {
   "attachments": {},
   "cell_type": "markdown",
   "metadata": {},
   "source": [
    "# Coding Temple's Data Analytics Course\n",
    "---\n",
    "## Python II: Numpy & CSV's"
   ]
  },
  {
   "attachments": {},
   "cell_type": "markdown",
   "metadata": {},
   "source": [
    "## Tasks Today:\n",
    "\n",
    "1) <b>Lambda Functions</b> <br>\n",
    " &nbsp;&nbsp;&nbsp;&nbsp; a) Syntax <br>\n",
    " &nbsp;&nbsp;&nbsp;&nbsp; b) Saving to a Variable <br>\n",
    " &nbsp;&nbsp;&nbsp;&nbsp; c) Multiple Inputs <br>\n",
    " &nbsp;&nbsp;&nbsp;&nbsp; d) Passing a Lambda into a Function <br>\n",
    " &nbsp;&nbsp;&nbsp;&nbsp; e) Returning a Lambda from a Function <br>\n",
    " &nbsp;&nbsp;&nbsp;&nbsp; f) In-Class Exercise #1 <br>\n",
    "2) <b>Map</b> <br>\n",
    " &nbsp;&nbsp;&nbsp;&nbsp; a) Syntax <br>\n",
    " &nbsp;&nbsp;&nbsp;&nbsp; b) Using Lambda's with Map <br>\n",
    " &nbsp;&nbsp;&nbsp;&nbsp; c) In-Class Exercise #2 <br>\n",
    "3) <b>Filter</b> <br>\n",
    " &nbsp;&nbsp;&nbsp;&nbsp; a) Syntax <br>\n",
    " &nbsp;&nbsp;&nbsp;&nbsp; b) Using Lambda's with Filter <br>\n",
    " &nbsp;&nbsp;&nbsp;&nbsp; c) In-Class Exercise #3 <br>\n",
    "4) <b>Recursion</b> <br>\n",
    " &nbsp;&nbsp;&nbsp;&nbsp; a) Implementing a Base <br>\n",
    " &nbsp;&nbsp;&nbsp;&nbsp; b) Writing a Factorial Function <br>\n",
    " &nbsp;&nbsp;&nbsp;&nbsp; c) In-Class Exercise #4 <br>\n",
    "5) <b>Generators & Iterators</b> <br>\n",
    " &nbsp;&nbsp;&nbsp;&nbsp; a) Yield Keyword <br>\n",
    " &nbsp;&nbsp;&nbsp;&nbsp; c) In-Class Exercise #5 <br>\n",
    "\n",
    "\n",
    "6) <b>Numpy</b> <br>\n",
    " &nbsp;&nbsp;&nbsp;&nbsp; a) Python List Comparison <br>\n",
    " &nbsp;&nbsp;&nbsp;&nbsp; b) In-Class Exercise #6 <br>\n",
    " &nbsp;&nbsp;&nbsp;&nbsp; c) Importing <br>\n",
    " &nbsp;&nbsp;&nbsp;&nbsp; d) Creating an NDArray <br>\n",
    " &nbsp;&nbsp;&nbsp;&nbsp;&nbsp;&nbsp;&nbsp;&nbsp; - np.array() <br>\n",
    " &nbsp;&nbsp;&nbsp;&nbsp;&nbsp;&nbsp;&nbsp;&nbsp; - np.zeros() <br>\n",
    " &nbsp;&nbsp;&nbsp;&nbsp;&nbsp;&nbsp;&nbsp;&nbsp; - np.ones() <br>\n",
    " &nbsp;&nbsp;&nbsp;&nbsp;&nbsp;&nbsp;&nbsp;&nbsp; - np.arange() <br>\n",
    " &nbsp;&nbsp;&nbsp;&nbsp;&nbsp;&nbsp;&nbsp;&nbsp; - Making Lists into NDArrays <br>\n",
    " &nbsp;&nbsp;&nbsp;&nbsp; e) Performing Calculations on NDArrays <br>\n",
    " &nbsp;&nbsp;&nbsp;&nbsp;&nbsp;&nbsp;&nbsp;&nbsp; - Summation <br>\n",
    " &nbsp;&nbsp;&nbsp;&nbsp;&nbsp;&nbsp;&nbsp;&nbsp; - Difference <br>\n",
    " &nbsp;&nbsp;&nbsp;&nbsp;&nbsp;&nbsp;&nbsp;&nbsp; - Multiplication <br>\n",
    " &nbsp;&nbsp;&nbsp;&nbsp;&nbsp;&nbsp;&nbsp;&nbsp; - Division <br>\n",
    " &nbsp;&nbsp;&nbsp;&nbsp;&nbsp;&nbsp;&nbsp;&nbsp; - Standard Distribution <br>\n",
    " &nbsp;&nbsp;&nbsp;&nbsp;&nbsp;&nbsp;&nbsp;&nbsp; - Mean <br>\n",
    " &nbsp;&nbsp;&nbsp;&nbsp;&nbsp;&nbsp;&nbsp;&nbsp; - Median <br> \n",
    " &nbsp;&nbsp;&nbsp;&nbsp; f) Numpy Subsetting <br>\n",
    " &nbsp;&nbsp;&nbsp;&nbsp; g) Multi-dimensional Arrays <br>\n",
    " &nbsp;&nbsp;&nbsp;&nbsp; h) Indexing NDArrays <br>\n",
    " &nbsp;&nbsp;&nbsp;&nbsp; i) Checking NDArray Type <br>\n",
    " &nbsp;&nbsp;&nbsp;&nbsp; j) Altering NDArray Type <br>\n",
    " &nbsp;&nbsp;&nbsp;&nbsp; k) Checking the Shape <br>\n",
    " &nbsp;&nbsp;&nbsp;&nbsp; l) Altering the Shape <br>\n",
    " &nbsp;&nbsp;&nbsp;&nbsp; m) In-Class Exercise #7 <br>\n",
    " &nbsp;&nbsp;&nbsp;&nbsp; n) Complex Indexing & Assigning <br>\n",
    " &nbsp;&nbsp;&nbsp;&nbsp; o) Elementwise Multplication <br>\n",
    " &nbsp;&nbsp;&nbsp;&nbsp; p) np.where() <br>\n",
    " &nbsp;&nbsp;&nbsp;&nbsp; q) Random Sampling <br>\n",
    "\n",
    "7) <b>Working With CSV's</b> <br>\n",
    " &nbsp;&nbsp;&nbsp;&nbsp; a) Imports <br>\n",
    " &nbsp;&nbsp;&nbsp;&nbsp; b) Reading a CSV <br>\n",
    " &nbsp;&nbsp;&nbsp;&nbsp; c) Loading a CSV's Data <br>\n",
    " &nbsp;&nbsp;&nbsp;&nbsp; d) Checking Number of Records <br>"
   ]
  },
  {
   "cell_type": "markdown",
   "metadata": {},
   "source": [
    "## Lambda Functions <br>\n",
    "<p>Lambda functions... or \"Anonymous Functions\" are referring to inline functions with no name. The keyword lambda denotes the no name function, and executes within a single line. Without saving it to a variable; however, it is not able to be used, unless passed in either as a paramater or within list comprehension.<br>Written as \"(keyword lambda) (one or more inputs) (colon) (function to be executed)\"</p>"
   ]
  },
  {
   "cell_type": "markdown",
   "metadata": {},
   "source": [
    "#### Syntax"
   ]
  },
  {
   "cell_type": "code",
   "execution_count": 4,
   "metadata": {},
   "outputs": [
    {
     "name": "stdout",
     "output_type": "stream",
     "text": [
      "6\n"
     ]
    }
   ],
   "source": [
    "def add_two(x):\n",
    "    return x + 2\n",
    "\n",
    "print(add_two(4))"
   ]
  },
  {
   "cell_type": "code",
   "execution_count": 3,
   "metadata": {},
   "outputs": [
    {
     "name": "stdout",
     "output_type": "stream",
     "text": [
      "6\n"
     ]
    }
   ],
   "source": [
    "#for single use\n",
    "a_var = 4\n",
    "print((lambda x: x+2)(a_var))"
   ]
  },
  {
   "cell_type": "markdown",
   "metadata": {},
   "source": [
    "#### Saving to a Variable"
   ]
  },
  {
   "cell_type": "code",
   "execution_count": 5,
   "metadata": {},
   "outputs": [
    {
     "data": {
      "text/plain": [
       "6"
      ]
     },
     "execution_count": 5,
     "metadata": {},
     "output_type": "execute_result"
    }
   ],
   "source": [
    "f_test = lambda x: x+2\n",
    "\n",
    "f_test(4)"
   ]
  },
  {
   "cell_type": "code",
   "execution_count": 6,
   "metadata": {},
   "outputs": [
    {
     "data": {
      "text/plain": [
       "80"
      ]
     },
     "execution_count": 6,
     "metadata": {},
     "output_type": "execute_result"
    }
   ],
   "source": [
    "f_test(78)"
   ]
  },
  {
   "cell_type": "markdown",
   "metadata": {},
   "source": [
    "#### Multiple Inputs"
   ]
  },
  {
   "cell_type": "code",
   "execution_count": 7,
   "metadata": {},
   "outputs": [],
   "source": [
    "def product(x,y,z):\n",
    "    return x*y*z"
   ]
  },
  {
   "cell_type": "markdown",
   "metadata": {},
   "source": [
    "#### Passing a Lambda into a Function"
   ]
  },
  {
   "cell_type": "code",
   "execution_count": 8,
   "metadata": {},
   "outputs": [
    {
     "name": "stdout",
     "output_type": "stream",
     "text": [
      "16\n",
      "16\n"
     ]
    }
   ],
   "source": [
    "def multiply(function, num):\n",
    "    \"\"\" function expects to see a function\"\"\"\n",
    "    return function(num)\n",
    "\n",
    "print(multiply(lambda x: x*x, 4))\n",
    "\n",
    "#ordinary functions\n",
    "def squared_nums(num):\n",
    "    return num ** 2\n",
    "\n",
    "print(multiply(squared_nums, 4))"
   ]
  },
  {
   "cell_type": "markdown",
   "metadata": {},
   "source": [
    "#### Returning a Lambda from a Function"
   ]
  },
  {
   "cell_type": "code",
   "execution_count": 11,
   "metadata": {},
   "outputs": [
    {
     "name": "stdout",
     "output_type": "stream",
     "text": [
      "8\n",
      "<function return_lambs.<locals>.<lambda> at 0x000001CA4627ED40>\n",
      "23\n"
     ]
    }
   ],
   "source": [
    "def multiply_test(num):\n",
    "    return num * 4\n",
    "\n",
    "def return_func():\n",
    "    test = 4\n",
    "    def multiply(num):\n",
    "        return num * 2\n",
    "    return multiply(test)\n",
    "\n",
    "print(return_func())\n",
    "\n",
    "#lambda:\n",
    "def return_lambs(b,c):\n",
    "    return lambda x,a: x+a+b+c\n",
    "\n",
    "r_lamb = return_lambs(4,5)\n",
    "print(r_lamb)\n",
    "print(r_lamb(5, 9))"
   ]
  },
  {
   "cell_type": "markdown",
   "metadata": {},
   "source": [
    "#### If Statements within Lambdas"
   ]
  },
  {
   "cell_type": "code",
   "execution_count": 12,
   "metadata": {},
   "outputs": [
    {
     "name": "stdout",
     "output_type": "stream",
     "text": [
      "10\n",
      "40\n"
     ]
    }
   ],
   "source": [
    "#Lambda x: True if (conditional) e;se False\n",
    "#Lambda x: do something if (conditional is True) else, do something else\n",
    "f_conditional = lambda num: num * 2 if num > 10 else num + 2\n",
    "\n",
    "print(f_conditional(8))\n",
    "print(f_conditional(20))"
   ]
  },
  {
   "cell_type": "code",
   "execution_count": 14,
   "metadata": {},
   "outputs": [
    {
     "name": "stdout",
     "output_type": "stream",
     "text": [
      "3\n",
      "4\n",
      "5\n",
      "6\n",
      "7\n",
      "8\n",
      "9\n",
      "10\n",
      "11\n",
      "12\n",
      "22\n",
      "24\n",
      "26\n",
      "28\n"
     ]
    }
   ],
   "source": [
    "lst = [1,2,3,4,5,6,7,8,9,10,11,12,13,14]\n",
    "\n",
    "#run the lambda on the list:\n",
    "[f_conditional(num) for num in lst]"
   ]
  },
  {
   "cell_type": "code",
   "execution_count": 15,
   "metadata": {},
   "outputs": [
    {
     "name": "stdout",
     "output_type": "stream",
     "text": [
      "3\n",
      "4\n",
      "5\n",
      "6\n",
      "7\n",
      "8\n",
      "9\n",
      "10\n",
      "11\n",
      "12\n",
      "22\n",
      "24\n",
      "26\n",
      "28\n"
     ]
    }
   ],
   "source": [
    "for num in lst:\n",
    "    print(f_conditional(num))"
   ]
  },
  {
   "cell_type": "markdown",
   "metadata": {},
   "source": [
    "#### In-Class Exercise #1 <br>\n",
    "<p>Write an anonymous function that cubes the arguments passed in and assign the anonymous function to a variable 'f'.</p>"
   ]
  },
  {
   "cell_type": "code",
   "execution_count": 16,
   "metadata": {},
   "outputs": [
    {
     "ename": "TypeError",
     "evalue": "<lambda>() missing 1 required positional argument: 'x'",
     "output_type": "error",
     "traceback": [
      "\u001b[1;31m---------------------------------------------------------------------------\u001b[0m",
      "\u001b[1;31mTypeError\u001b[0m                                 Traceback (most recent call last)",
      "\u001b[1;32mc:\\Users\\nargi\\Documents\\coding temple\\week 3\\python day 3\\my notebook.ipynb Cell 21\u001b[0m line \u001b[0;36m2\n\u001b[0;32m      <a href='vscode-notebook-cell:/c%3A/Users/nargi/Documents/coding%20temple/week%203/python%20day%203/my%20notebook.ipynb#X25sZmlsZQ%3D%3D?line=0'>1</a>\u001b[0m f \u001b[39m=\u001b[39m \u001b[39mlambda\u001b[39;00m x: x\u001b[39m*\u001b[39m\u001b[39m*\u001b[39m\u001b[39m3\u001b[39m\n\u001b[1;32m----> <a href='vscode-notebook-cell:/c%3A/Users/nargi/Documents/coding%20temple/week%203/python%20day%203/my%20notebook.ipynb#X25sZmlsZQ%3D%3D?line=1'>2</a>\u001b[0m f()\n",
      "\u001b[1;31mTypeError\u001b[0m: <lambda>() missing 1 required positional argument: 'x'"
     ]
    }
   ],
   "source": [
    "f = lambda x: x**3\n",
    "f()"
   ]
  },
  {
   "cell_type": "markdown",
   "metadata": {},
   "source": [
    "## Map <br>\n",
    "<p>The map function allows you to iterate over an entire list while running a function on each item of the list. This is why the map function works well with lambda's, because it simplifies things and you write less lines of code.<br>The syntax for a map function is \"map(function to be used, list to be used)\"<br>However, you must be careful, as the map function returns a map object, not a list. To turn it into a list we use the list() type conversion.</p>"
   ]
  },
  {
   "cell_type": "markdown",
   "metadata": {},
   "source": [
    "#### Syntax"
   ]
  },
  {
   "cell_type": "code",
   "execution_count": 24,
   "metadata": {},
   "outputs": [],
   "source": [
    "numbers = [4,11,20,3,15,20,11,3,2,6,51,44,1]"
   ]
  },
  {
   "cell_type": "code",
   "execution_count": 25,
   "metadata": {},
   "outputs": [
    {
     "name": "stdout",
     "output_type": "stream",
     "text": [
      "[16, 121, 400, 9, 225, 400, 121, 9, 4, 36, 2601, 1936, 1]\n"
     ]
    }
   ],
   "source": [
    "def squared_normal(val):\n",
    "    return val ** 2\n",
    "\n",
    "lst = []\n",
    "\n",
    "for num in numbers:\n",
    "    lst.append(squared_normal(num))\n",
    "    \n",
    "print(lst)"
   ]
  },
  {
   "cell_type": "markdown",
   "metadata": {},
   "source": [
    "#### Using Lambda's with Map"
   ]
  },
  {
   "cell_type": "code",
   "execution_count": 26,
   "metadata": {},
   "outputs": [
    {
     "name": "stdout",
     "output_type": "stream",
     "text": [
      "(16, 16)\n",
      "(11, 10)\n"
     ]
    }
   ],
   "source": [
    "def squared_map(num, num1):\n",
    "    if num < 10 and num < 10:\n",
    "        return num ** 2, num **2\n",
    "    else:\n",
    "        return num, num1\n",
    "    \n",
    "numbers = [4,11,20,3,15,20,11,3,2,6,51,44,1]\n",
    "more_nums = [4,10]\n",
    "\n",
    "for val1, val2 in zip(numbers, more_nums):\n",
    "    print(squared_map(val1, val2))"
   ]
  },
  {
   "cell_type": "code",
   "execution_count": null,
   "metadata": {},
   "outputs": [],
   "source": [
    "#expecting a function\n",
    "list(map(squared_map, numbers, more_nums))"
   ]
  },
  {
   "cell_type": "markdown",
   "metadata": {},
   "source": [
    "#### In-Class Exercise #2 <br>\n",
    "<p>Use the map function to double each number and minus it by one in the list by using a lambda function</p>"
   ]
  },
  {
   "cell_type": "code",
   "execution_count": null,
   "metadata": {},
   "outputs": [],
   "source": []
  },
  {
   "cell_type": "markdown",
   "metadata": {},
   "source": [
    "## Filter() <br>\n",
    "<p>Filter's are similar to the map function, where you're able to pass a function argument and a list argument and filter out something from the list based on the conditions passed. Similar to the map function, it returns a filter object, so you need to type convert it to a list()</p>"
   ]
  },
  {
   "cell_type": "markdown",
   "metadata": {},
   "source": [
    "#### Syntax"
   ]
  },
  {
   "cell_type": "code",
   "execution_count": null,
   "metadata": {},
   "outputs": [],
   "source": []
  },
  {
   "cell_type": "markdown",
   "metadata": {},
   "source": [
    "#### Using Lambda's with Filter()"
   ]
  },
  {
   "cell_type": "code",
   "execution_count": null,
   "metadata": {},
   "outputs": [],
   "source": [
    "list(filter(lambda name: True if name[0].lower()) ==)"
   ]
  },
  {
   "cell_type": "markdown",
   "metadata": {},
   "source": [
    "#### In-Class Exercise #3 <br>\n",
    "<p>Filter out all the numbers that are below the mean of the list.<br><b>Hint: Import the 'statistics' module</b></p>"
   ]
  },
  {
   "cell_type": "code",
   "execution_count": null,
   "metadata": {},
   "outputs": [],
   "source": [
    "import statistics\n",
    "statistics.mean(numbers)\n"
   ]
  },
  {
   "cell_type": "markdown",
   "metadata": {},
   "source": [
    "## Recursion <br>\n",
    "<p>Recursion means that a function is calling itself, so it contanstly executes until a base case is reached. It will then push the returning values back up the chain until the function is complete. A prime example of recursion is computing factorials... such that 5! (factorial) is 5*4*3*2*1 which equals 120.</p>"
   ]
  },
  {
   "cell_type": "markdown",
   "metadata": {},
   "source": [
    "#### Implementing a Base Case"
   ]
  },
  {
   "cell_type": "code",
   "execution_count": null,
   "metadata": {},
   "outputs": [],
   "source": []
  },
  {
   "cell_type": "markdown",
   "metadata": {},
   "source": [
    "#### Writing a Factorial Function"
   ]
  },
  {
   "cell_type": "code",
   "execution_count": null,
   "metadata": {},
   "outputs": [],
   "source": []
  },
  {
   "cell_type": "code",
   "execution_count": null,
   "metadata": {},
   "outputs": [],
   "source": []
  },
  {
   "cell_type": "markdown",
   "metadata": {},
   "source": [
    "#### In-Class Exercise #4 <br>\n",
    "<p>Write a recursive function that subtracts all numbers to the argument given.</p>"
   ]
  },
  {
   "cell_type": "markdown",
   "metadata": {},
   "source": [
    "## Generators <br>\n",
    "<p>Generators are a type of iterable, like lists or tuples. They do not allow indexing, but they can still be iterated through with for loops. They are created using functions and the yield statement.</p>"
   ]
  },
  {
   "cell_type": "markdown",
   "metadata": {},
   "source": [
    "#### Yield Keyword <br>\n",
    "<p>The yield keyword denotes a generator, it doesn't return so it won't leave the function and reset all variables in the function scope, instead it yields the number back to the caller.</p>"
   ]
  },
  {
   "cell_type": "code",
   "execution_count": 32,
   "metadata": {},
   "outputs": [
    {
     "name": "stdout",
     "output_type": "stream",
     "text": [
      "[0, 1, 2, 3, 4, 5, 6, 7, 8, 9]\n"
     ]
    }
   ],
   "source": [
    "[i for i in range(10)]\n",
    "\n",
    "def my_range(stop, start=0, step=1):\n",
    "    while start < stop:\n",
    "        yield start\n",
    "        start += step\n",
    "print([i for i in my_range(10)])"
   ]
  },
  {
   "cell_type": "markdown",
   "metadata": {},
   "source": [
    "#### In-Class Exercise #5 <br>\n",
    "<p>Create a generator that takes a number argument and yields that number squared, then prints each number squared until zero is reached.</p>"
   ]
  },
  {
   "cell_type": "code",
   "execution_count": 34,
   "metadata": {},
   "outputs": [
    {
     "data": {
      "text/plain": [
       "<generator object squared_nums at 0x000001CA46810340>"
      ]
     },
     "execution_count": 34,
     "metadata": {},
     "output_type": "execute_result"
    }
   ],
   "source": [
    "#5 ** 2, 5-1, 4**2\n",
    "\n",
    "def squared_nums(num):\n",
    "    while num > 0:\n",
    "        yield num ** 2\n",
    "        num -= 1\n",
    "        \n",
    "[i for i in squared_nums(5)]"
   ]
  },
  {
   "attachments": {},
   "cell_type": "markdown",
   "metadata": {},
   "source": [
    "## Numpy <br>\n",
    "\n",
    "<p>NumPy is a library for the Python programming language, adding support for large, multi-dimensional arrays and matrices, along with a large collection of high-level mathematical functions to operate on these arrays.</p>\n",
    "<ul>\n",
    "    <li>Shape = Rows & Columns</li>\n",
    "    <li>Matrix = Entire Array</li>\n",
    "    <li>Vector = Variables to be applied (same vector as the one used in physics)</li>\n",
    "    <li>Array = Similar to lists</li>\n",
    "</ul>"
   ]
  },
  {
   "attachments": {},
   "cell_type": "markdown",
   "metadata": {},
   "source": [
    "#### Python List Comparison"
   ]
  },
  {
   "attachments": {},
   "cell_type": "markdown",
   "metadata": {},
   "source": [
    "Lists are flexible, dynamic python objects that do their job quite well. But they do not support some mathematical operations in an intuitive way. Consider the summation of two lists, $l_1$ and $l_2$"
   ]
  },
  {
   "cell_type": "code",
   "execution_count": null,
   "metadata": {},
   "outputs": [],
   "source": []
  },
  {
   "attachments": {},
   "cell_type": "markdown",
   "metadata": {},
   "source": [
    "<p>If we wanted to sum lists elementwise, we could write our own function that does the job entirely within the framework of python</p>"
   ]
  },
  {
   "attachments": {},
   "cell_type": "markdown",
   "metadata": {},
   "source": [
    "#### In-Class Exercise #6 - Write a function that sums the indexes of two lists <br>\n",
    "<p>Ex: [2, 3, 4] + [1, 5, 2] = [3, 8, 6]</p>"
   ]
  },
  {
   "cell_type": "code",
   "execution_count": null,
   "metadata": {},
   "outputs": [],
   "source": [
    "list1 = [5,5,10]\n",
    "list2 = [2,4,1]\n",
    "\n",
    "# Output: [7,9,11]\n"
   ]
  },
  {
   "attachments": {},
   "cell_type": "markdown",
   "metadata": {},
   "source": [
    "We would have to write a similar function for all the possible operands that we could consider for list arithmatic. This is time consuming and inefficient. Moreover, once the lists in question become nested, mimicing the behavior of true matrices, the problem gets worse. Complicated indexing is necessary, just to allow for the most basic matrix operations common throughout science and engineering. Imagine writing a matrix multiplication function using python syntax in a general way, such that it returns a matrix-matrix or matrix-vector product:\n",
    "\n",
    "\\begin{align}\n",
    "(n \\times x) \\times (x \\times m) \\rightarrow (n \\times m)\n",
    "\\end{align}\n",
    "\n",
    "\\begin{align}\n",
    "\\begin{bmatrix}\n",
    "c_{0,0} & ... & c_{0,n} \\\\\n",
    "\\vdots & \\ddots & \\vdots \\\\\n",
    "c_{m,0} & ... & c_{m,n}\n",
    "\\end{bmatrix}\n",
    "=\n",
    "\\begin{bmatrix}\n",
    "a_{0,0} & ... & a_{0,x} \\\\\n",
    "\\vdots & \\ddots & \\vdots \\\\\n",
    "a_{n,0} & ... & a_{n,x}\n",
    "\\end{bmatrix}\n",
    "\\begin{bmatrix}\n",
    "b_{0,0} & ... & b_{0,m} \\\\\n",
    "\\vdots & \\ddots & \\vdots \\\\\n",
    "b_{x,0} & ... & b_{x,m}\n",
    "\\end{bmatrix}\n",
    "\\end{align}\n",
    "\n",
    "Another Example:\n",
    "\n",
    "<img src=\"https://www.mathsisfun.com/algebra/images/matrix-multiply-a.svg\">\n",
    "\n",
    "---\n",
    "\n",
    "The \"Dot Product\" is where we multiply matching members, then sum up:\n",
    "\n",
    "(1, 2, 3) • (7, 9, 11) = 1×7 + 2×9 + 3×11\n",
    "    = 58\n",
    "\n",
    "We match the 1st members (1 and 7), multiply them, likewise for the 2nd members (2 and 9) and the 3rd members (3 and 11), and finally sum them up.\n",
    "\n",
    "<hr>\n",
    "\n",
    "So, let's instantiate a matrix $\\mathcal{M}$ and a vector $\\vec{v}$ and write a function that does the multiplication ourselves."
   ]
  },
  {
   "cell_type": "code",
   "execution_count": 36,
   "metadata": {},
   "outputs": [
    {
     "ename": "TypeError",
     "evalue": "matrix_multiplication() takes 2 positional arguments but 4 were given",
     "output_type": "error",
     "traceback": [
      "\u001b[1;31m---------------------------------------------------------------------------\u001b[0m",
      "\u001b[1;31mTypeError\u001b[0m                                 Traceback (most recent call last)",
      "\u001b[1;32mc:\\Users\\nargi\\Documents\\coding temple\\week 3\\python day 3\\my notebook.ipynb Cell 58\u001b[0m line \u001b[0;36m5\n\u001b[0;32m      <a href='vscode-notebook-cell:/c%3A/Users/nargi/Documents/coding%20temple/week%203/python%20day%203/my%20notebook.ipynb#Y106sZmlsZQ%3D%3D?line=1'>2</a>\u001b[0m     zero_list \u001b[39m=\u001b[39m [(\u001b[39m0\u001b[39m \u001b[39mfor\u001b[39;00m i \u001b[39min\u001b[39;00m \u001b[39mrange\u001b[39m(\u001b[39mlen\u001b[39m(B[\u001b[39m0\u001b[39m]))) \u001b[39mfor\u001b[39;00m i \u001b[39min\u001b[39;00m \u001b[39mrange\u001b[39m(\u001b[39mlen\u001b[39m(A))]\n\u001b[0;32m      <a href='vscode-notebook-cell:/c%3A/Users/nargi/Documents/coding%20temple/week%203/python%20day%203/my%20notebook.ipynb#Y106sZmlsZQ%3D%3D?line=2'>3</a>\u001b[0m     \u001b[39mprint\u001b[39m(zero_list)\n\u001b[1;32m----> <a href='vscode-notebook-cell:/c%3A/Users/nargi/Documents/coding%20temple/week%203/python%20day%203/my%20notebook.ipynb#Y106sZmlsZQ%3D%3D?line=4'>5</a>\u001b[0m \u001b[39mprint\u001b[39m(matrix_multiplication([\u001b[39m0\u001b[39;49m,\u001b[39m1\u001b[39;49m,\u001b[39m0\u001b[39;49m], [\u001b[39m0\u001b[39;49m,\u001b[39m2\u001b[39;49m,\u001b[39m0\u001b[39;49m], [\u001b[39m0\u001b[39;49m,\u001b[39m3\u001b[39;49m,\u001b[39m0\u001b[39;49m], [[\u001b[39m1\u001b[39;49m], [\u001b[39m2\u001b[39;49m], [\u001b[39m3\u001b[39;49m]]))\n",
      "\u001b[1;31mTypeError\u001b[0m: matrix_multiplication() takes 2 positional arguments but 4 were given"
     ]
    }
   ],
   "source": [
    "def matrix_multiplication(A,B): #use capital letters\n",
    "    zero_list = [(0 for i in range(len(B[0]))) for i in range(len(A))]\n",
    "    print(zero_list)\n",
    "    \n",
    "print(matrix_multiplication([0,1,0], [0,2,0], [0,3,0], [[1], [2], [3]]))\n",
    "    "
   ]
  },
  {
   "attachments": {},
   "cell_type": "markdown",
   "metadata": {},
   "source": [
    "#### Importing"
   ]
  },
  {
   "cell_type": "code",
   "execution_count": null,
   "metadata": {},
   "outputs": [],
   "source": [
    "#! pip intstall numpy"
   ]
  },
  {
   "cell_type": "code",
   "execution_count": 1,
   "metadata": {},
   "outputs": [],
   "source": [
    "import numpy as np #Aliasing"
   ]
  },
  {
   "attachments": {},
   "cell_type": "markdown",
   "metadata": {},
   "source": [
    "#### Creating an NDArray <br>\n",
    "NumPy is based around a class called the $\\textit{NDArray}$, which is a flexible vector / matrix class that implements the intuitive matrix and vector arithmatic lacking in basic Python. Let's start by creating some NDArrays:"
   ]
  },
  {
   "attachments": {},
   "cell_type": "markdown",
   "metadata": {},
   "source": [
    "##### - np.array()"
   ]
  },
  {
   "cell_type": "code",
   "execution_count": 2,
   "metadata": {},
   "outputs": [
    {
     "name": "stdout",
     "output_type": "stream",
     "text": [
      "[1 2 3]\n",
      "<class 'numpy.ndarray'>\n"
     ]
    }
   ],
   "source": [
    "arr_1 = np.array([1,2,3])\n",
    "print(arr_1)\n",
    "print(type(arr_1))"
   ]
  },
  {
   "attachments": {},
   "cell_type": "markdown",
   "metadata": {},
   "source": [
    "##### - np.zeros()"
   ]
  },
  {
   "cell_type": "code",
   "execution_count": null,
   "metadata": {},
   "outputs": [],
   "source": [
    "shape = (3,3)"
   ]
  },
  {
   "attachments": {},
   "cell_type": "markdown",
   "metadata": {},
   "source": [
    "##### - np.ones()"
   ]
  },
  {
   "cell_type": "code",
   "execution_count": null,
   "metadata": {},
   "outputs": [],
   "source": []
  },
  {
   "attachments": {},
   "cell_type": "markdown",
   "metadata": {},
   "source": [
    "##### - np.arange()"
   ]
  },
  {
   "cell_type": "code",
   "execution_count": null,
   "metadata": {},
   "outputs": [],
   "source": []
  },
  {
   "attachments": {},
   "cell_type": "markdown",
   "metadata": {},
   "source": [
    "##### - Making Lists into NDArrays"
   ]
  },
  {
   "cell_type": "code",
   "execution_count": null,
   "metadata": {},
   "outputs": [],
   "source": [
    "l3 = [4,5,6]\n",
    "\n",
    "arr_list = np.array(13)"
   ]
  },
  {
   "attachments": {},
   "cell_type": "markdown",
   "metadata": {},
   "source": [
    "#### Performing Calculations on NDArrays"
   ]
  },
  {
   "attachments": {},
   "cell_type": "markdown",
   "metadata": {},
   "source": [
    "##### - Summation"
   ]
  },
  {
   "cell_type": "code",
   "execution_count": null,
   "metadata": {
    "scrolled": true
   },
   "outputs": [],
   "source": []
  },
  {
   "attachments": {},
   "cell_type": "markdown",
   "metadata": {},
   "source": [
    "##### - Difference"
   ]
  },
  {
   "cell_type": "code",
   "execution_count": null,
   "metadata": {},
   "outputs": [],
   "source": []
  },
  {
   "attachments": {},
   "cell_type": "markdown",
   "metadata": {},
   "source": [
    "##### - Multiplication"
   ]
  },
  {
   "cell_type": "code",
   "execution_count": null,
   "metadata": {},
   "outputs": [],
   "source": []
  },
  {
   "attachments": {},
   "cell_type": "markdown",
   "metadata": {},
   "source": [
    "##### - Division"
   ]
  },
  {
   "cell_type": "code",
   "execution_count": null,
   "metadata": {},
   "outputs": [],
   "source": []
  },
  {
   "attachments": {},
   "cell_type": "markdown",
   "metadata": {},
   "source": [
    "##### - Standard Deviation"
   ]
  },
  {
   "cell_type": "code",
   "execution_count": null,
   "metadata": {},
   "outputs": [],
   "source": []
  },
  {
   "attachments": {},
   "cell_type": "markdown",
   "metadata": {},
   "source": [
    "##### - Mean"
   ]
  },
  {
   "cell_type": "code",
   "execution_count": null,
   "metadata": {},
   "outputs": [],
   "source": []
  },
  {
   "attachments": {},
   "cell_type": "markdown",
   "metadata": {},
   "source": [
    "##### - Median"
   ]
  },
  {
   "cell_type": "code",
   "execution_count": 3,
   "metadata": {},
   "outputs": [
    {
     "ename": "NameError",
     "evalue": "name 'arrS' is not defined",
     "output_type": "error",
     "traceback": [
      "\u001b[1;31m---------------------------------------------------------------------------\u001b[0m",
      "\u001b[1;31mNameError\u001b[0m                                 Traceback (most recent call last)",
      "\u001b[1;32mc:\\Users\\nargi\\Documents\\coding temple\\week 3\\python day 3\\my notebook.ipynb Cell 87\u001b[0m line \u001b[0;36m1\n\u001b[1;32m----> <a href='vscode-notebook-cell:/c%3A/Users/nargi/Documents/coding%20temple/week%203/python%20day%203/my%20notebook.ipynb#Y151sZmlsZQ%3D%3D?line=0'>1</a>\u001b[0m \u001b[39mint\u001b[39m(np\u001b[39m.\u001b[39mmedian(arrS))\n",
      "\u001b[1;31mNameError\u001b[0m: name 'arrS' is not defined"
     ]
    }
   ],
   "source": [
    "int(np.median(arrS))"
   ]
  },
  {
   "attachments": {},
   "cell_type": "markdown",
   "metadata": {},
   "source": [
    "#### Numpy Subsetting"
   ]
  },
  {
   "cell_type": "code",
   "execution_count": 4,
   "metadata": {},
   "outputs": [
    {
     "ename": "NameError",
     "evalue": "name 'arr10' is not defined",
     "output_type": "error",
     "traceback": [
      "\u001b[1;31m---------------------------------------------------------------------------\u001b[0m",
      "\u001b[1;31mNameError\u001b[0m                                 Traceback (most recent call last)",
      "\u001b[1;32mc:\\Users\\nargi\\Documents\\coding temple\\week 3\\python day 3\\my notebook.ipynb Cell 89\u001b[0m line \u001b[0;36m1\n\u001b[1;32m----> <a href='vscode-notebook-cell:/c%3A/Users/nargi/Documents/coding%20temple/week%203/python%20day%203/my%20notebook.ipynb#Y153sZmlsZQ%3D%3D?line=0'>1</a>\u001b[0m mask \u001b[39m=\u001b[39m arr10 \u001b[39m>\u001b[39m \u001b[39m20\u001b[39m\n\u001b[0;32m      <a href='vscode-notebook-cell:/c%3A/Users/nargi/Documents/coding%20temple/week%203/python%20day%203/my%20notebook.ipynb#Y153sZmlsZQ%3D%3D?line=1'>2</a>\u001b[0m arr10[mask]\n",
      "\u001b[1;31mNameError\u001b[0m: name 'arr10' is not defined"
     ]
    }
   ],
   "source": [
    "mask = arr10 > 20\n",
    "arr10[mask]"
   ]
  },
  {
   "attachments": {},
   "cell_type": "markdown",
   "metadata": {},
   "source": [
    "#### Multi-dimensional Arrays <br>\n",
    "NumPy seamlessly supports multidimensional arrays and matrices of arbitrary dimension without nesting NDArrays. NDArrays themselves are flexible and extensible and may be defined with such dimensions, with a rich API of common functions to facilitate their use. Let's start by building a two dimensional 3x3 matrix by conversion from a nested group of core python lists $M = [l_0, l_1, l_2]$:"
   ]
  },
  {
   "cell_type": "code",
   "execution_count": null,
   "metadata": {},
   "outputs": [],
   "source": []
  },
  {
   "attachments": {},
   "cell_type": "markdown",
   "metadata": {},
   "source": [
    "#### Indexing NDArrays <br>\n",
    "<p> Similar to lists within lists; however, the syntax looks more like C programming language.... It is [1, 2] to access the second row, third element.</p>"
   ]
  },
  {
   "cell_type": "code",
   "execution_count": null,
   "metadata": {},
   "outputs": [],
   "source": []
  },
  {
   "attachments": {},
   "cell_type": "markdown",
   "metadata": {},
   "source": [
    "#### Assigning Values in NDArrays"
   ]
  },
  {
   "cell_type": "code",
   "execution_count": null,
   "metadata": {},
   "outputs": [],
   "source": []
  },
  {
   "attachments": {},
   "cell_type": "markdown",
   "metadata": {},
   "source": [
    "<p>Notice above how we ended up with a 1 in the target element's place. This is a data type issue. The .dtype() method is supported by all NDArrays, as well as the .astype() method for casting between data types:</p>"
   ]
  },
  {
   "attachments": {},
   "cell_type": "markdown",
   "metadata": {},
   "source": [
    "#### Checking NDArray Type"
   ]
  },
  {
   "cell_type": "code",
   "execution_count": null,
   "metadata": {},
   "outputs": [],
   "source": []
  },
  {
   "attachments": {},
   "cell_type": "markdown",
   "metadata": {},
   "source": [
    "#### Altering NDArray Type"
   ]
  },
  {
   "cell_type": "code",
   "execution_count": null,
   "metadata": {},
   "outputs": [],
   "source": [
    "t = M"
   ]
  },
  {
   "attachments": {},
   "cell_type": "markdown",
   "metadata": {},
   "source": [
    "#### Checking the Shape <br>\n",
    "The behavior and properties of an NDArray are often sensitively dependent on the $\\textit{shape}$ of the NDArray itself. The shape of an array can be found by calling the .shape method, which will return a tuple containing the array's dimensions:"
   ]
  },
  {
   "cell_type": "code",
   "execution_count": null,
   "metadata": {},
   "outputs": [],
   "source": [
    "\n",
    "print(changed, shape)"
   ]
  },
  {
   "cell_type": "code",
   "execution_count": null,
   "metadata": {},
   "outputs": [],
   "source": []
  },
  {
   "attachments": {},
   "cell_type": "markdown",
   "metadata": {},
   "source": [
    "#### Altering the Shape <br>\n",
    "<p>As long as the number of elements remains fixed, we can reshape NDArrays at will:</p>"
   ]
  },
  {
   "cell_type": "code",
   "execution_count": null,
   "metadata": {},
   "outputs": [],
   "source": []
  },
  {
   "cell_type": "code",
   "execution_count": null,
   "metadata": {},
   "outputs": [],
   "source": []
  },
  {
   "attachments": {},
   "cell_type": "markdown",
   "metadata": {},
   "source": [
    "#### In-Class Exercise #7 - Create a matrix of range 0 up to 16 and reshape it into a 4x4 matrice"
   ]
  },
  {
   "cell_type": "code",
   "execution_count": null,
   "metadata": {},
   "outputs": [],
   "source": []
  },
  {
   "attachments": {},
   "cell_type": "markdown",
   "metadata": {},
   "source": [
    "#### Complex Indexing & Assinging"
   ]
  },
  {
   "cell_type": "code",
   "execution_count": null,
   "metadata": {},
   "outputs": [],
   "source": []
  },
  {
   "attachments": {},
   "cell_type": "markdown",
   "metadata": {},
   "source": [
    "#### Elementwise Multiplication"
   ]
  },
  {
   "attachments": {},
   "cell_type": "markdown",
   "metadata": {},
   "source": [
    "<p>As long as the shapes of NDArrays are 'compatible', they can be multiplied elementwise, broadcasted, used in inner products, and much much more. 'Compatible' in this context can mean compatible in the linear algebraic sense, i.e. for inner products and other matrix multiplication, or simply sharing a dimension in such a manner that broadcasting 'makes sense'. Here are some examples of this:</p>"
   ]
  },
  {
   "cell_type": "code",
   "execution_count": null,
   "metadata": {},
   "outputs": [],
   "source": []
  },
  {
   "attachments": {},
   "cell_type": "markdown",
   "metadata": {},
   "source": [
    "#### np.where() <br>\n",
    "<p>If statement within NDArrays that allows you to run conditionals on the entire array</p>"
   ]
  },
  {
   "cell_type": "code",
   "execution_count": null,
   "metadata": {},
   "outputs": [],
   "source": []
  },
  {
   "attachments": {},
   "cell_type": "markdown",
   "metadata": {},
   "source": [
    "#### Random Sampling <br>\n",
    "<p>NumPy provides machinery to work with random numbers - something often needed in a broad spectrum of data science applications.</p>"
   ]
  },
  {
   "cell_type": "code",
   "execution_count": null,
   "metadata": {},
   "outputs": [],
   "source": []
  },
  {
   "attachments": {},
   "cell_type": "markdown",
   "metadata": {},
   "source": [
    "## Working With CSV's"
   ]
  },
  {
   "attachments": {},
   "cell_type": "markdown",
   "metadata": {},
   "source": [
    "#### Imports"
   ]
  },
  {
   "cell_type": "code",
   "execution_count": 5,
   "metadata": {},
   "outputs": [],
   "source": [
    "import csv"
   ]
  },
  {
   "attachments": {},
   "cell_type": "markdown",
   "metadata": {},
   "source": [
    "#### Reading a CSV"
   ]
  },
  {
   "cell_type": "code",
   "execution_count": 8,
   "metadata": {},
   "outputs": [
    {
     "data": {
      "text/plain": [
       "[['Rk',\n",
       "  'Pos',\n",
       "  'Name',\n",
       "  'Age',\n",
       "  'G',\n",
       "  'PA',\n",
       "  'AB',\n",
       "  'R',\n",
       "  'H',\n",
       "  '2B',\n",
       "  '3B',\n",
       "  'HR',\n",
       "  'RBI',\n",
       "  'SB',\n",
       "  'CS',\n",
       "  'BB',\n",
       "  'SO',\n",
       "  'BA',\n",
       "  'OBP',\n",
       "  'SLG',\n",
       "  'OPS',\n",
       "  'OPS+',\n",
       "  'TB',\n",
       "  'GDP',\n",
       "  'HBP',\n",
       "  'SH',\n",
       "  'SF',\n",
       "  'IBB'],\n",
       " ['1',\n",
       "  'C',\n",
       "  'Christian Vazquez',\n",
       "  '26',\n",
       "  '99',\n",
       "  '345',\n",
       "  '324',\n",
       "  '43',\n",
       "  '94',\n",
       "  '18',\n",
       "  '2',\n",
       "  '5',\n",
       "  '32',\n",
       "  '7',\n",
       "  '2',\n",
       "  '17',\n",
       "  '64',\n",
       "  '.290',\n",
       "  '.330',\n",
       "  '.404',\n",
       "  '.735',\n",
       "  '91',\n",
       "  '131',\n",
       "  '14',\n",
       "  '3',\n",
       "  '0',\n",
       "  '1',\n",
       "  '0'],\n",
       " ['2',\n",
       "  '1B',\n",
       "  'Mitch Moreland',\n",
       "  '31',\n",
       "  '149',\n",
       "  '576',\n",
       "  '508',\n",
       "  '73',\n",
       "  '125',\n",
       "  '34',\n",
       "  '0',\n",
       "  '22',\n",
       "  '79',\n",
       "  '0',\n",
       "  '1',\n",
       "  '57',\n",
       "  '120',\n",
       "  '.246',\n",
       "  '.326',\n",
       "  '.443',\n",
       "  '.769',\n",
       "  '99',\n",
       "  '225',\n",
       "  '14',\n",
       "  '6',\n",
       "  '0',\n",
       "  '5',\n",
       "  '6'],\n",
       " ['3',\n",
       "  '2B',\n",
       "  'Dustin Pedroia',\n",
       "  '33',\n",
       "  '105',\n",
       "  '463',\n",
       "  '406',\n",
       "  '46',\n",
       "  '119',\n",
       "  '19',\n",
       "  '0',\n",
       "  '7',\n",
       "  '62',\n",
       "  '4',\n",
       "  '3',\n",
       "  '49',\n",
       "  '48',\n",
       "  '.293',\n",
       "  '.369',\n",
       "  '.392',\n",
       "  '.760',\n",
       "  '100',\n",
       "  '159',\n",
       "  '11',\n",
       "  '2',\n",
       "  '2',\n",
       "  '4',\n",
       "  '4'],\n",
       " ['4',\n",
       "  'SS',\n",
       "  'Xander Bogaerts',\n",
       "  '24',\n",
       "  '148',\n",
       "  '635',\n",
       "  '571',\n",
       "  '94',\n",
       "  '156',\n",
       "  '32',\n",
       "  '6',\n",
       "  '10',\n",
       "  '62',\n",
       "  '15',\n",
       "  '1',\n",
       "  '56',\n",
       "  '116',\n",
       "  '.273',\n",
       "  '.343',\n",
       "  '.403',\n",
       "  '.746',\n",
       "  '95',\n",
       "  '230',\n",
       "  '17',\n",
       "  '6',\n",
       "  '0',\n",
       "  '2',\n",
       "  '6'],\n",
       " ['5',\n",
       "  '3B',\n",
       "  'Rafael Devers',\n",
       "  '20',\n",
       "  '58',\n",
       "  '240',\n",
       "  '222',\n",
       "  '34',\n",
       "  '63',\n",
       "  '14',\n",
       "  '0',\n",
       "  '10',\n",
       "  '30',\n",
       "  '3',\n",
       "  '1',\n",
       "  '18',\n",
       "  '57',\n",
       "  '.284',\n",
       "  '.338',\n",
       "  '.482',\n",
       "  '.819',\n",
       "  '111',\n",
       "  '107',\n",
       "  '5',\n",
       "  '0',\n",
       "  '0',\n",
       "  '0',\n",
       "  '3'],\n",
       " ['6',\n",
       "  'LF',\n",
       "  'Andrew Benintendi',\n",
       "  '22',\n",
       "  '151',\n",
       "  '658',\n",
       "  '573',\n",
       "  '84',\n",
       "  '155',\n",
       "  '26',\n",
       "  '1',\n",
       "  '20',\n",
       "  '90',\n",
       "  '20',\n",
       "  '5',\n",
       "  '70',\n",
       "  '112',\n",
       "  '.271',\n",
       "  '.352',\n",
       "  '.424',\n",
       "  '.776',\n",
       "  '102',\n",
       "  '243',\n",
       "  '16',\n",
       "  '6',\n",
       "  '1',\n",
       "  '8',\n",
       "  '7'],\n",
       " ['7',\n",
       "  'CF',\n",
       "  'Jackie Bradley Jr.',\n",
       "  '27',\n",
       "  '133',\n",
       "  '541',\n",
       "  '482',\n",
       "  '58',\n",
       "  '118',\n",
       "  '19',\n",
       "  '3',\n",
       "  '17',\n",
       "  '63',\n",
       "  '8',\n",
       "  '3',\n",
       "  '48',\n",
       "  '124',\n",
       "  '.245',\n",
       "  '.323',\n",
       "  '.402',\n",
       "  '.726',\n",
       "  '89',\n",
       "  '194',\n",
       "  '8',\n",
       "  '9',\n",
       "  '0',\n",
       "  '2',\n",
       "  '4'],\n",
       " ['8',\n",
       "  'RF',\n",
       "  'Mookie Betts',\n",
       "  '24',\n",
       "  '153',\n",
       "  '712',\n",
       "  '628',\n",
       "  '101',\n",
       "  '166',\n",
       "  '46',\n",
       "  '2',\n",
       "  '24',\n",
       "  '102',\n",
       "  '26',\n",
       "  '3',\n",
       "  '77',\n",
       "  '79',\n",
       "  '.264',\n",
       "  '.344',\n",
       "  '.459',\n",
       "  '.803',\n",
       "  '108',\n",
       "  '288',\n",
       "  '9',\n",
       "  '2',\n",
       "  '0',\n",
       "  '5',\n",
       "  '9'],\n",
       " ['9',\n",
       "  'DH',\n",
       "  'Hanley Ramirez',\n",
       "  '33',\n",
       "  '133',\n",
       "  '553',\n",
       "  '496',\n",
       "  '58',\n",
       "  '120',\n",
       "  '24',\n",
       "  '0',\n",
       "  '23',\n",
       "  '62',\n",
       "  '1',\n",
       "  '3',\n",
       "  '51',\n",
       "  '116',\n",
       "  '.242',\n",
       "  '.320',\n",
       "  '.429',\n",
       "  '.750',\n",
       "  '94',\n",
       "  '213',\n",
       "  '15',\n",
       "  '6',\n",
       "  '0',\n",
       "  '0',\n",
       "  '8'],\n",
       " ['10',\n",
       "  'C',\n",
       "  'Sandy Leon',\n",
       "  '28',\n",
       "  '85',\n",
       "  '301',\n",
       "  '271',\n",
       "  '32',\n",
       "  '61',\n",
       "  '14',\n",
       "  '0',\n",
       "  '7',\n",
       "  '39',\n",
       "  '0',\n",
       "  '0',\n",
       "  '25',\n",
       "  '74',\n",
       "  '.225',\n",
       "  '.290',\n",
       "  '.354',\n",
       "  '.644',\n",
       "  '68',\n",
       "  '96',\n",
       "  '5',\n",
       "  '1',\n",
       "  '1',\n",
       "  '3',\n",
       "  '1'],\n",
       " ['11',\n",
       "  'UT',\n",
       "  'Chris Young',\n",
       "  '33',\n",
       "  '90',\n",
       "  '276',\n",
       "  '243',\n",
       "  '30',\n",
       "  '57',\n",
       "  '12',\n",
       "  '2',\n",
       "  '7',\n",
       "  '25',\n",
       "  '3',\n",
       "  '2',\n",
       "  '30',\n",
       "  '55',\n",
       "  '.235',\n",
       "  '.322',\n",
       "  '.387',\n",
       "  '.709',\n",
       "  '85',\n",
       "  '94',\n",
       "  '4',\n",
       "  '2',\n",
       "  '0',\n",
       "  '1',\n",
       "  '0'],\n",
       " ['12',\n",
       "  '3B',\n",
       "  'Deven Marrero',\n",
       "  '26',\n",
       "  '71',\n",
       "  '188',\n",
       "  '171',\n",
       "  '32',\n",
       "  '36',\n",
       "  '9',\n",
       "  '0',\n",
       "  '4',\n",
       "  '27',\n",
       "  '5',\n",
       "  '0',\n",
       "  '12',\n",
       "  '61',\n",
       "  '.211',\n",
       "  '.259',\n",
       "  '.333',\n",
       "  '.593',\n",
       "  '54',\n",
       "  '57',\n",
       "  '8',\n",
       "  '0',\n",
       "  '3',\n",
       "  '2',\n",
       "  '0'],\n",
       " ['13',\n",
       "  '2B',\n",
       "  'Eduardo Nunez',\n",
       "  '30',\n",
       "  '38',\n",
       "  '173',\n",
       "  '165',\n",
       "  '23',\n",
       "  '53',\n",
       "  '12',\n",
       "  '0',\n",
       "  '8',\n",
       "  '27',\n",
       "  '6',\n",
       "  '2',\n",
       "  '6',\n",
       "  '25',\n",
       "  '.321',\n",
       "  '.353',\n",
       "  '.539',\n",
       "  '.892',\n",
       "  '128',\n",
       "  '89',\n",
       "  '3',\n",
       "  '2',\n",
       "  '0',\n",
       "  '0',\n",
       "  '0'],\n",
       " ['14',\n",
       "  '2B',\n",
       "  'Brock Holt',\n",
       "  '29',\n",
       "  '64',\n",
       "  '164',\n",
       "  '140',\n",
       "  '20',\n",
       "  '28',\n",
       "  '6',\n",
       "  '0',\n",
       "  '0',\n",
       "  '7',\n",
       "  '2',\n",
       "  '1',\n",
       "  '19',\n",
       "  '34',\n",
       "  '.200',\n",
       "  '.305',\n",
       "  '.243',\n",
       "  '.548',\n",
       "  '47',\n",
       "  '34',\n",
       "  '3',\n",
       "  '3',\n",
       "  '0',\n",
       "  '2',\n",
       "  '0'],\n",
       " ['15',\n",
       "  'IF',\n",
       "  'Josh Rutledge',\n",
       "  '28',\n",
       "  '37',\n",
       "  '118',\n",
       "  '107',\n",
       "  '10',\n",
       "  '24',\n",
       "  '2',\n",
       "  '1',\n",
       "  '0',\n",
       "  '9',\n",
       "  '1',\n",
       "  '0',\n",
       "  '9',\n",
       "  '31',\n",
       "  '.224',\n",
       "  '.297',\n",
       "  '.262',\n",
       "  '.558',\n",
       "  '49',\n",
       "  '28',\n",
       "  '1',\n",
       "  '2',\n",
       "  '0',\n",
       "  '0',\n",
       "  '0'],\n",
       " ['16',\n",
       "  '3B',\n",
       "  'Pablo Sandoval',\n",
       "  '30',\n",
       "  '32',\n",
       "  '108',\n",
       "  '99',\n",
       "  '10',\n",
       "  '21',\n",
       "  '2',\n",
       "  '0',\n",
       "  '4',\n",
       "  '12',\n",
       "  '0',\n",
       "  '1',\n",
       "  '8',\n",
       "  '24',\n",
       "  '.212',\n",
       "  '.269',\n",
       "  '.354',\n",
       "  '.622',\n",
       "  '61',\n",
       "  '35',\n",
       "  '4',\n",
       "  '0',\n",
       "  '0',\n",
       "  '1',\n",
       "  '0'],\n",
       " ['17',\n",
       "  'UT',\n",
       "  'Sam Travis',\n",
       "  '23',\n",
       "  '33',\n",
       "  '83',\n",
       "  '76',\n",
       "  '13',\n",
       "  '20',\n",
       "  '6',\n",
       "  '0',\n",
       "  '0',\n",
       "  '1',\n",
       "  '1',\n",
       "  '0',\n",
       "  '6',\n",
       "  '23',\n",
       "  '.263',\n",
       "  '.325',\n",
       "  '.342',\n",
       "  '.667',\n",
       "  '75',\n",
       "  '26',\n",
       "  '2',\n",
       "  '1',\n",
       "  '0',\n",
       "  '0',\n",
       "  '0'],\n",
       " ['18',\n",
       "  'UT',\n",
       "  'Tzu-Wei Lin',\n",
       "  '23',\n",
       "  '25',\n",
       "  '66',\n",
       "  '56',\n",
       "  '7',\n",
       "  '15',\n",
       "  '0',\n",
       "  '2',\n",
       "  '0',\n",
       "  '2',\n",
       "  '1',\n",
       "  '1',\n",
       "  '9',\n",
       "  '17',\n",
       "  '.268',\n",
       "  '.369',\n",
       "  '.339',\n",
       "  '.709',\n",
       "  '88',\n",
       "  '19',\n",
       "  '0',\n",
       "  '0',\n",
       "  '1',\n",
       "  '0',\n",
       "  '0'],\n",
       " ['19',\n",
       "  'IF',\n",
       "  'Marco Hernandez',\n",
       "  '24',\n",
       "  '21',\n",
       "  '60',\n",
       "  '58',\n",
       "  '7',\n",
       "  '16',\n",
       "  '3',\n",
       "  '0',\n",
       "  '0',\n",
       "  '2',\n",
       "  '0',\n",
       "  '1',\n",
       "  '1',\n",
       "  '15',\n",
       "  '.276',\n",
       "  '.300',\n",
       "  '.328',\n",
       "  '.628',\n",
       "  '65',\n",
       "  '19',\n",
       "  '0',\n",
       "  '1',\n",
       "  '0',\n",
       "  '0',\n",
       "  '0'],\n",
       " ['20',\n",
       "  'UT',\n",
       "  'Rajai Davis',\n",
       "  '36',\n",
       "  '17',\n",
       "  '38',\n",
       "  '36',\n",
       "  '7',\n",
       "  '9',\n",
       "  '2',\n",
       "  '0',\n",
       "  '0',\n",
       "  '2',\n",
       "  '3',\n",
       "  '1',\n",
       "  '1',\n",
       "  '13',\n",
       "  '.250',\n",
       "  '.289',\n",
       "  '.306',\n",
       "  '.595',\n",
       "  '56',\n",
       "  '11',\n",
       "  '2',\n",
       "  '1',\n",
       "  '0',\n",
       "  '0',\n",
       "  '0'],\n",
       " ['21',\n",
       "  'UT',\n",
       "  'Steve Selsky',\n",
       "  '27',\n",
       "  '8',\n",
       "  '9',\n",
       "  '9',\n",
       "  '0',\n",
       "  '1',\n",
       "  '1',\n",
       "  '0',\n",
       "  '0',\n",
       "  '0',\n",
       "  '0',\n",
       "  '0',\n",
       "  '0',\n",
       "  '5',\n",
       "  '.111',\n",
       "  '.111',\n",
       "  '.222',\n",
       "  '.333',\n",
       "  '-16',\n",
       "  '2',\n",
       "  '0',\n",
       "  '0',\n",
       "  '0',\n",
       "  '0',\n",
       "  '0'],\n",
       " ['22',\n",
       "  'UT',\n",
       "  'Blake Swihart',\n",
       "  '25',\n",
       "  '6',\n",
       "  '7',\n",
       "  '5',\n",
       "  '1',\n",
       "  '1',\n",
       "  '0',\n",
       "  '0',\n",
       "  '0',\n",
       "  '0',\n",
       "  '0',\n",
       "  '0',\n",
       "  '2',\n",
       "  '3',\n",
       "  '.200',\n",
       "  '.429',\n",
       "  '.200',\n",
       "  '.629',\n",
       "  '74',\n",
       "  '1',\n",
       "  '0',\n",
       "  '0',\n",
       "  '0',\n",
       "  '0',\n",
       "  '0'],\n",
       " ['23',\n",
       "  '2B',\n",
       "  \"Chase d'Arnaud\",\n",
       "  '30',\n",
       "  '2',\n",
       "  '1',\n",
       "  '1',\n",
       "  '2',\n",
       "  '1',\n",
       "  '0',\n",
       "  '0',\n",
       "  '0',\n",
       "  '0',\n",
       "  '0',\n",
       "  '0',\n",
       "  '0',\n",
       "  '0',\n",
       "  '1.000',\n",
       "  '1.000',\n",
       "  '1.000',\n",
       "  '2.000',\n",
       "  '428',\n",
       "  '1',\n",
       "  '0',\n",
       "  '0',\n",
       "  '0',\n",
       "  '0',\n",
       "  '0']]"
      ]
     },
     "execution_count": 8,
     "metadata": {},
     "output_type": "execute_result"
    }
   ],
   "source": [
    "def open_csv(filepath, d = ','):\n",
    "    data = []\n",
    "    \n",
    "    with open(filepath, encoding = 'utf-8-sig') as my_data:\n",
    "        info = csv.reader(my_data, delimiter=d)\n",
    "        for row in info:\n",
    "            data.append(row)\n",
    "            \n",
    "    return data\n",
    "csv_data = open_csv(r'C:\\Users\\nargi\\Documents\\coding temple\\data\\redsox_2017_hitting.txt')\n",
    "csv_data\n"
   ]
  },
  {
   "attachments": {},
   "cell_type": "markdown",
   "metadata": {},
   "source": [
    "#### Loading a CSV's Data "
   ]
  },
  {
   "cell_type": "code",
   "execution_count": null,
   "metadata": {},
   "outputs": [],
   "source": []
  },
  {
   "cell_type": "code",
   "execution_count": null,
   "metadata": {},
   "outputs": [],
   "source": []
  },
  {
   "attachments": {},
   "cell_type": "markdown",
   "metadata": {},
   "source": [
    "#### Summing the top 5 hitters for HR's"
   ]
  },
  {
   "cell_type": "code",
   "execution_count": null,
   "metadata": {},
   "outputs": [],
   "source": []
  },
  {
   "cell_type": "code",
   "execution_count": null,
   "metadata": {},
   "outputs": [],
   "source": []
  }
 ],
 "metadata": {
  "kernelspec": {
   "display_name": "Python 3",
   "language": "python",
   "name": "python3"
  },
  "language_info": {
   "codemirror_mode": {
    "name": "ipython",
    "version": 3
   },
   "file_extension": ".py",
   "mimetype": "text/x-python",
   "name": "python",
   "nbconvert_exporter": "python",
   "pygments_lexer": "ipython3",
   "version": "3.11.4"
  },
  "vscode": {
   "interpreter": {
    "hash": "26de051ba29f2982a8de78e945f0abaf191376122a1563185a90213a26c5da77"
   }
  }
 },
 "nbformat": 4,
 "nbformat_minor": 2
}
