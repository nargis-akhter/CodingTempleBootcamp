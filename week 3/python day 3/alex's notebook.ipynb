{
 "cells": [
  {
   "attachments": {},
   "cell_type": "markdown",
   "metadata": {},
   "source": [
    "# Coding Temple's Data Analytics Course\n",
    "---\n",
    "## Python II: Numpy & CSV's"
   ]
  },
  {
   "attachments": {},
   "cell_type": "markdown",
   "metadata": {},
   "source": [
    "## Tasks Today:\n",
    "\n",
    "1) <b>Lambda Functions</b> <br>\n",
    " &nbsp;&nbsp;&nbsp;&nbsp; a) Syntax <br>\n",
    " &nbsp;&nbsp;&nbsp;&nbsp; b) Saving to a Variable <br>\n",
    " &nbsp;&nbsp;&nbsp;&nbsp; c) Multiple Inputs <br>\n",
    " &nbsp;&nbsp;&nbsp;&nbsp; d) Passing a Lambda into a Function <br>\n",
    " &nbsp;&nbsp;&nbsp;&nbsp; e) Returning a Lambda from a Function <br>\n",
    " &nbsp;&nbsp;&nbsp;&nbsp; f) In-Class Exercise #1 <br>\n",
    "2) <b>Map</b> <br>\n",
    " &nbsp;&nbsp;&nbsp;&nbsp; a) Syntax <br>\n",
    " &nbsp;&nbsp;&nbsp;&nbsp; b) Using Lambda's with Map <br>\n",
    " &nbsp;&nbsp;&nbsp;&nbsp; c) In-Class Exercise #2 <br>\n",
    "3) <b>Filter</b> <br>\n",
    " &nbsp;&nbsp;&nbsp;&nbsp; a) Syntax <br>\n",
    " &nbsp;&nbsp;&nbsp;&nbsp; b) Using Lambda's with Filter <br>\n",
    " &nbsp;&nbsp;&nbsp;&nbsp; c) In-Class Exercise #3 <br>\n",
    "4) <b>Recursion</b> <br>\n",
    " &nbsp;&nbsp;&nbsp;&nbsp; a) Implementing a Base <br>\n",
    " &nbsp;&nbsp;&nbsp;&nbsp; b) Writing a Factorial Function <br>\n",
    " &nbsp;&nbsp;&nbsp;&nbsp; c) In-Class Exercise #4 <br>\n",
    "5) <b>Generators & Iterators</b> <br>\n",
    " &nbsp;&nbsp;&nbsp;&nbsp; a) Yield Keyword <br>\n",
    " &nbsp;&nbsp;&nbsp;&nbsp; c) In-Class Exercise #5 <br>\n",
    "\n",
    "\n",
    "6) <b>Numpy</b> <br>\n",
    " &nbsp;&nbsp;&nbsp;&nbsp; a) Python List Comparison <br>\n",
    " &nbsp;&nbsp;&nbsp;&nbsp; b) In-Class Exercise #6 <br>\n",
    " &nbsp;&nbsp;&nbsp;&nbsp; c) Importing <br>\n",
    " &nbsp;&nbsp;&nbsp;&nbsp; d) Creating an NDArray <br>\n",
    " &nbsp;&nbsp;&nbsp;&nbsp;&nbsp;&nbsp;&nbsp;&nbsp; - np.array() <br>\n",
    " &nbsp;&nbsp;&nbsp;&nbsp;&nbsp;&nbsp;&nbsp;&nbsp; - np.zeros() <br>\n",
    " &nbsp;&nbsp;&nbsp;&nbsp;&nbsp;&nbsp;&nbsp;&nbsp; - np.ones() <br>\n",
    " &nbsp;&nbsp;&nbsp;&nbsp;&nbsp;&nbsp;&nbsp;&nbsp; - np.arange() <br>\n",
    " &nbsp;&nbsp;&nbsp;&nbsp;&nbsp;&nbsp;&nbsp;&nbsp; - Making Lists into NDArrays <br>\n",
    " &nbsp;&nbsp;&nbsp;&nbsp; e) Performing Calculations on NDArrays <br>\n",
    " &nbsp;&nbsp;&nbsp;&nbsp;&nbsp;&nbsp;&nbsp;&nbsp; - Summation <br>\n",
    " &nbsp;&nbsp;&nbsp;&nbsp;&nbsp;&nbsp;&nbsp;&nbsp; - Difference <br>\n",
    " &nbsp;&nbsp;&nbsp;&nbsp;&nbsp;&nbsp;&nbsp;&nbsp; - Multiplication <br>\n",
    " &nbsp;&nbsp;&nbsp;&nbsp;&nbsp;&nbsp;&nbsp;&nbsp; - Division <br>\n",
    " &nbsp;&nbsp;&nbsp;&nbsp;&nbsp;&nbsp;&nbsp;&nbsp; - Standard Distribution <br>\n",
    " &nbsp;&nbsp;&nbsp;&nbsp;&nbsp;&nbsp;&nbsp;&nbsp; - Mean <br>\n",
    " &nbsp;&nbsp;&nbsp;&nbsp;&nbsp;&nbsp;&nbsp;&nbsp; - Median <br> \n",
    " &nbsp;&nbsp;&nbsp;&nbsp; f) Numpy Subsetting <br>\n",
    " &nbsp;&nbsp;&nbsp;&nbsp; g) Multi-dimensional Arrays <br>\n",
    " &nbsp;&nbsp;&nbsp;&nbsp; h) Indexing NDArrays <br>\n",
    " &nbsp;&nbsp;&nbsp;&nbsp; i) Checking NDArray Type <br>\n",
    " &nbsp;&nbsp;&nbsp;&nbsp; j) Altering NDArray Type <br>\n",
    " &nbsp;&nbsp;&nbsp;&nbsp; k) Checking the Shape <br>\n",
    " &nbsp;&nbsp;&nbsp;&nbsp; l) Altering the Shape <br>\n",
    " &nbsp;&nbsp;&nbsp;&nbsp; m) In-Class Exercise #7 <br>\n",
    " &nbsp;&nbsp;&nbsp;&nbsp; n) Complex Indexing & Assigning <br>\n",
    " &nbsp;&nbsp;&nbsp;&nbsp; o) Elementwise Multplication <br>\n",
    " &nbsp;&nbsp;&nbsp;&nbsp; p) np.where() <br>\n",
    " &nbsp;&nbsp;&nbsp;&nbsp; q) Random Sampling <br>\n",
    "\n",
    "7) <b>Working With CSV's</b> <br>\n",
    " &nbsp;&nbsp;&nbsp;&nbsp; a) Imports <br>\n",
    " &nbsp;&nbsp;&nbsp;&nbsp; b) Reading a CSV <br>\n",
    " &nbsp;&nbsp;&nbsp;&nbsp; c) Loading a CSV's Data <br>\n",
    " &nbsp;&nbsp;&nbsp;&nbsp; d) Checking Number of Records <br>"
   ]
  },
  {
   "cell_type": "markdown",
   "metadata": {},
   "source": [
    "## Lambda Functions <br>\n",
    "<p>Lambda functions... or \"Anonymous Functions\" are referring to inline functions with no name. The keyword lambda denotes the no name function, and executes within a single line. Without saving it to a variable; however, it is not able to be used, unless passed in either as a paramater or within list comprehension.<br>Written as \"(keyword lambda) (one or more inputs) (colon) (function to be executed)\"</p>"
   ]
  },
  {
   "cell_type": "markdown",
   "metadata": {},
   "source": [
    "#### Syntax"
   ]
  },
  {
   "cell_type": "code",
   "execution_count": 2,
   "metadata": {},
   "outputs": [
    {
     "name": "stdout",
     "output_type": "stream",
     "text": [
      "6\n",
      "6\n"
     ]
    }
   ],
   "source": [
    "# Let's take a look at how we can create a function to add two to a variable:\n",
    "def add_two(x):\n",
    "    return x + 2\n",
    "\n",
    "# Then we would test it:\n",
    "print(add_two(4))\n",
    "\n",
    "# This is great when I am looking to reuse a function. But what if I only needed it for a single use app?\n",
    "# This is where lambda can come into play!\n",
    "a_var = 4\n",
    "\n",
    "# lambda >input variable<: whatever we want to do\n",
    "print((lambda x: x+2)(a_var))"
   ]
  },
  {
   "cell_type": "code",
   "execution_count": null,
   "metadata": {},
   "outputs": [],
   "source": []
  },
  {
   "cell_type": "markdown",
   "metadata": {},
   "source": [
    "#### Saving to a Variable"
   ]
  },
  {
   "cell_type": "code",
   "execution_count": 4,
   "metadata": {},
   "outputs": [
    {
     "data": {
      "text/plain": [
       "6"
      ]
     },
     "execution_count": 4,
     "metadata": {},
     "output_type": "execute_result"
    }
   ],
   "source": [
    "# We can save lambda functions to a variable to make them more reusable:\n",
    "f_test = lambda x: x+2\n",
    "\n",
    "f_test(4)"
   ]
  },
  {
   "cell_type": "code",
   "execution_count": 5,
   "metadata": {},
   "outputs": [
    {
     "data": {
      "text/plain": [
       "80"
      ]
     },
     "execution_count": 5,
     "metadata": {},
     "output_type": "execute_result"
    }
   ],
   "source": [
    "f_test(78)"
   ]
  },
  {
   "cell_type": "markdown",
   "metadata": {},
   "source": [
    "#### Multiple Inputs"
   ]
  },
  {
   "cell_type": "code",
   "execution_count": 6,
   "metadata": {},
   "outputs": [
    {
     "name": "stdout",
     "output_type": "stream",
     "text": [
      "120\n"
     ]
    }
   ],
   "source": [
    "# What if we had 3 numbers and we wanted to be able to take the product of all those numbers?\n",
    "\n",
    "# EXACTLY the same as a normal function:\n",
    "def product(x,y,z):\n",
    "    return x*y*z\n",
    "\n",
    "\n",
    "print((lambda x,y,z: z* y * x)(3,5,8))"
   ]
  },
  {
   "cell_type": "markdown",
   "metadata": {},
   "source": [
    "#### Passing a Lambda into a Function"
   ]
  },
  {
   "cell_type": "code",
   "execution_count": 7,
   "metadata": {},
   "outputs": [
    {
     "name": "stdout",
     "output_type": "stream",
     "text": [
      "16\n"
     ]
    }
   ],
   "source": [
    "def multiply(function, num):\n",
    "    \"\"\"\n",
    "    function expects to see a function. (Lambda function)\n",
    "    num expects to see a single integer input\n",
    "    \"\"\"\n",
    "    return function(num)\n",
    "\n",
    "print(multiply(lambda x: x*x, 4))\n",
    "\n",
    "# Not only can I do this with lambda, but I can use ordinary functions as well!\n",
    "def squared_nums(num):\n",
    "    return num ** 2\n",
    "\n",
    "print(multiply(squared_nums, 4))"
   ]
  },
  {
   "cell_type": "markdown",
   "metadata": {},
   "source": [
    "#### Returning a Lambda from a Function"
   ]
  },
  {
   "cell_type": "code",
   "execution_count": 10,
   "metadata": {},
   "outputs": [
    {
     "name": "stdout",
     "output_type": "stream",
     "text": [
      "8\n",
      "<function return_lambs.<locals>.<lambda> at 0x00000206B0BE3880>\n",
      "23\n"
     ]
    }
   ],
   "source": [
    "def multiply_test(num):\n",
    "    return num * 4\n",
    "\n",
    "# Take this function, and run it inside another function:\n",
    "def return_func():\n",
    "    test = 4\n",
    "    def multiply(num):\n",
    "        return num * 2\n",
    "    return multiply(test)\n",
    "\n",
    "print(return_func())\n",
    "\n",
    "# I can do the same thing using lambda:\n",
    "def return_lambs(b,c):\n",
    "    return lambda x,a: x+a+b+c\n",
    "\n",
    "r_lamb = return_lambs(4,5)\n",
    "print(r_lamb)\n",
    "print(r_lamb(5,9))"
   ]
  },
  {
   "cell_type": "markdown",
   "metadata": {},
   "source": [
    "#### If Statements within Lambdas"
   ]
  },
  {
   "cell_type": "code",
   "execution_count": 12,
   "metadata": {},
   "outputs": [
    {
     "name": "stdout",
     "output_type": "stream",
     "text": [
      "10\n",
      "40\n"
     ]
    }
   ],
   "source": [
    "# Lambda functions are set up to be able to take in conditional statements!\n",
    "# Lambda x: True if (conditional) else False\n",
    "# Lambda x: do something if (conditional is True) else, do something else\n",
    "# An example:\n",
    "f_conditional = lambda num: num * 2 if num > 10 else num + 2\n",
    "\n",
    "print(f_conditional(8))\n",
    "print(f_conditional(20))"
   ]
  },
  {
   "cell_type": "code",
   "execution_count": 15,
   "metadata": {},
   "outputs": [
    {
     "data": {
      "text/plain": [
       "[3, 4, 5, 6, 7, 8, 9, 10, 11, 12, 22, 24, 26, 28]"
      ]
     },
     "execution_count": 15,
     "metadata": {},
     "output_type": "execute_result"
    }
   ],
   "source": [
    "lst = [1,2,3,4,5,6,7,8,9,10,11,12,13,14]\n",
    "\n",
    "# Run the lambda on the list:\n",
    "[f_conditional(num) for num in lst]"
   ]
  },
  {
   "cell_type": "markdown",
   "metadata": {},
   "source": [
    "#### In-Class Exercise #1 <br>\n",
    "<p>Write an anonymous function that cubes the arguments passed in and assign the anonymous function to a variable 'f'.</p>"
   ]
  },
  {
   "cell_type": "code",
   "execution_count": 16,
   "metadata": {},
   "outputs": [
    {
     "data": {
      "text/plain": [
       "1000"
      ]
     },
     "execution_count": 16,
     "metadata": {},
     "output_type": "execute_result"
    }
   ],
   "source": [
    "# Write out the function:\n",
    "f = lambda x: x ** 3\n",
    "\n",
    "# Invoke the function:\n",
    "f(10)"
   ]
  },
  {
   "cell_type": "markdown",
   "metadata": {},
   "source": [
    "## Map <br>\n",
    "<p>The map function allows you to iterate over an entire list while running a function on each item of the list. This is why the map function works well with lambda's, because it simplifies things and you write less lines of code.<br>The syntax for a map function is \"map(function to be used, list to be used)\"<br>However, you must be careful, as the map function returns a map object, not a list. To turn it into a list we use the list() type conversion.</p>"
   ]
  },
  {
   "cell_type": "markdown",
   "metadata": {},
   "source": [
    "#### Syntax"
   ]
  },
  {
   "cell_type": "code",
   "execution_count": 17,
   "metadata": {},
   "outputs": [
    {
     "name": "stdout",
     "output_type": "stream",
     "text": [
      "[16, 121, 400, 9, 225, 400, 121, 9, 4, 36, 25, 1, 1936, 1]\n"
     ]
    }
   ],
   "source": [
    "numbers = [4,11,20,3,15,20,11,3,2,6,5,1,44,1]\n",
    "\n",
    "# Normally, in order to use a function on this, we would need to iterate through:\n",
    "def squared_normal(val):\n",
    "    return val ** 2\n",
    "lst = []\n",
    "for num in numbers:\n",
    "    lst.append(squared_normal(num))\n",
    "    \n",
    "print(lst)"
   ]
  },
  {
   "cell_type": "code",
   "execution_count": 22,
   "metadata": {},
   "outputs": [
    {
     "data": {
      "text/plain": [
       "[(16, 16),\n",
       " (11, 10),\n",
       " (20, 3),\n",
       " (9, 4),\n",
       " (15, 6),\n",
       " (20, 10),\n",
       " (11, 15),\n",
       " (9, 9),\n",
       " (4, 16),\n",
       " (36, 49),\n",
       " (25, 36),\n",
       " (1, 0),\n",
       " (44, 42),\n",
       " (1, 1)]"
      ]
     },
     "execution_count": 22,
     "metadata": {},
     "output_type": "execute_result"
    }
   ],
   "source": [
    "'''\n",
    "map(function, iterable)\n",
    "An iterable is something we can loop over; such as a list, dict, tuple, set, or a string!\n",
    "Normally, you would use map with a predefined function, but we can also use it directly with a lambda statement!\n",
    "'''\n",
    "\n",
    "def squared_map(num, num1):\n",
    "    if num < 10 and num1 < 10:\n",
    "        return num ** 2, num1 **2\n",
    "    else:\n",
    "        return num, num1\n",
    "    \n",
    "numbers = [4,11,20,3,15,20,11,3,2,6,5,1,44,1]\n",
    "more_nums = [4,10,3,2,6,10,15,3,4,7,6,0,42,1]\n",
    "\n",
    "# In order to use the squared_map function without a map statement, we would need to iterate through both lists at once.\n",
    "# To do so effectively, we will utlize the zip() function, which brings together two iterable objects and \n",
    "# Returns the values at each index position, up till the end of the shortest length of the iterables.\n",
    "# for val1, val2 in zip(numbers, more_nums):\n",
    "#     print(squared_map(val1, val2))\n",
    "    \n",
    "list(map(squared_map, numbers, more_nums))"
   ]
  },
  {
   "cell_type": "markdown",
   "metadata": {},
   "source": [
    "#### Using Lambda's with Map"
   ]
  },
  {
   "cell_type": "code",
   "execution_count": 24,
   "metadata": {},
   "outputs": [
    {
     "data": {
      "text/plain": [
       "[(16, 16),\n",
       " (11, 10),\n",
       " (20, 3),\n",
       " (9, 4),\n",
       " (15, 6),\n",
       " (20, 10),\n",
       " (11, 15),\n",
       " (9, 9),\n",
       " (4, 16),\n",
       " (36, 49),\n",
       " (25, 36),\n",
       " (1, 0),\n",
       " (44, 42),\n",
       " (1, 1)]"
      ]
     },
     "execution_count": 24,
     "metadata": {},
     "output_type": "execute_result"
    }
   ],
   "source": [
    "\"\"\"\n",
    "Instead of having to build out a function that we plan on using one time,\n",
    "We can use a lambda inside the map function itself instead. This allows us\n",
    "to do everything we need to do in a single line of code\n",
    "\n",
    "Syntax for this would look like:\n",
    "map(lambda x: do something, iterable)\n",
    "\"\"\"\n",
    "#Remember to always use the list function with the map function!\n",
    "# Run Lambda over two lists, based on conditional\n",
    "list(map(lambda x,y: (x **2, y **2) if x < 10 and y < 10 else (x,y), numbers, more_nums))"
   ]
  },
  {
   "cell_type": "markdown",
   "metadata": {},
   "source": [
    "#### In-Class Exercise #2 <br>\n",
    "<p>Use the map function to double each number and minus it by one in the list by using a lambda function</p>"
   ]
  },
  {
   "cell_type": "code",
   "execution_count": 25,
   "metadata": {},
   "outputs": [
    {
     "data": {
      "text/plain": [
       "[7, 21, 39, 5, 29, 39, 21, 5, 3, 11, 9, 1, 87, 1]"
      ]
     },
     "execution_count": 25,
     "metadata": {},
     "output_type": "execute_result"
    }
   ],
   "source": [
    "list(map(lambda x: x * 2 - 1, numbers))"
   ]
  },
  {
   "cell_type": "markdown",
   "metadata": {},
   "source": [
    "## Filter() <br>\n",
    "<p>Filter's are similar to the map function, where you're able to pass a function argument and a list argument and filter out something from the list based on the conditions passed. Similar to the map function, it returns a filter object, so you need to type convert it to a list()</p>"
   ]
  },
  {
   "cell_type": "markdown",
   "metadata": {},
   "source": [
    "#### Syntax"
   ]
  },
  {
   "cell_type": "code",
   "execution_count": 28,
   "metadata": {},
   "outputs": [
    {
     "data": {
      "text/plain": [
       "['Andy', 'Angela']"
      ]
     },
     "execution_count": 28,
     "metadata": {},
     "output_type": "execute_result"
    }
   ],
   "source": [
    "# Syntax for this looks like:\n",
    "# list(filter(function, iterable(s)))\n",
    "# A lot like a mask\n",
    "names = ['Bob', 'Andy', 'Max','Evan', 'Angela']\n",
    "\n",
    "def a_names(name):\n",
    "    # In this function, we will check to see if the first letter of each name begins with an 'A' \n",
    "    if name[0].lower() == 'a':\n",
    "        return True\n",
    "    else:\n",
    "        return False\n",
    "\n",
    "# Our function here returns a boolean as a value, just like any other conditional filter.\n",
    "# We can use this inside a filter to filter out our information with ease\n",
    "list(filter(a_names, names))"
   ]
  },
  {
   "cell_type": "markdown",
   "metadata": {},
   "source": [
    "#### Using Lambda's with Filter()"
   ]
  },
  {
   "cell_type": "code",
   "execution_count": 30,
   "metadata": {},
   "outputs": [
    {
     "data": {
      "text/plain": [
       "['Andy', 'Angela']"
      ]
     },
     "execution_count": 30,
     "metadata": {},
     "output_type": "execute_result"
    }
   ],
   "source": [
    "# We can also use lambdas!\n",
    "# This is great if you are trying to filter data with a single-use function instead of having to define one\n",
    "\n",
    "# When we use a lambda, or comprehension, we will typically write out the value first, then the conditional\n",
    "# The best way to think about this is like a reversed for-loop\n",
    "list(filter(lambda name: True if name[0].lower() == 'a' else False, names))\n",
    "\n",
    "# List comprehension:\n",
    "[True if name[0].lower() == 'a' else False for name in names]"
   ]
  },
  {
   "cell_type": "markdown",
   "metadata": {},
   "source": [
    "#### In-Class Exercise #3 <br>\n",
    "<p>Filter out all the numbers that are below the mean of the list.<br><b>Hint: Import the 'statistics' module</b></p>"
   ]
  },
  {
   "cell_type": "code",
   "execution_count": 33,
   "metadata": {},
   "outputs": [
    {
     "name": "stdout",
     "output_type": "stream",
     "text": [
      "[11, 20, 15, 20, 11, 44]\n",
      "[11, 20, 15, 20, 11, 44]\n"
     ]
    }
   ],
   "source": [
    "import statistics\n",
    "statistics.mean(numbers)\n",
    "\n",
    "# Number 1: Using vanilla Python:\n",
    "print(list(filter(lambda x: True if x >= sum(numbers) / len(numbers) else False, numbers)))\n",
    "\n",
    "# Number 2: Using the statistics module:\n",
    "print(list(filter(lambda x: True if x >= statistics.mean(numbers) else False, numbers)))"
   ]
  },
  {
   "cell_type": "markdown",
   "metadata": {},
   "source": [
    "## Recursion <br>\n",
    "<p>Recursion means that a function is calling itself, so it contanstly executes until a base case is reached. It will then push the returning values back up the chain until the function is complete. A prime example of recursion is computing factorials... such that 5! (factorial) is 5*4*3*2*1 which equals 120.</p>"
   ]
  },
  {
   "cell_type": "markdown",
   "metadata": {},
   "source": [
    "#### Implementing a Base Case"
   ]
  },
  {
   "cell_type": "code",
   "execution_count": null,
   "metadata": {},
   "outputs": [],
   "source": [
    "# Start off with defining the function:\n",
    "def add_nums_breakable(num):\n",
    "    # Without a base case, we will end up infinitely looping through our program\n",
    "    if num >= 20000:\n",
    "        return num + add_nums_breakable(num -1)\n",
    "    else:\n",
    "        return num"
   ]
  },
  {
   "cell_type": "code",
   "execution_count": 34,
   "metadata": {},
   "outputs": [
    {
     "name": "stdout",
     "output_type": "stream",
     "text": [
      "add_nums(5) = 5 + add_nums(4)\n",
      "add_nums(4) = 4 + add_nums(3)\n",
      "add_nums(3) = 3 + add_nums(2)\n",
      "add_nums(2) = 2 + add_nums(1)\n",
      "add_nums(1) = 1\n"
     ]
    },
    {
     "data": {
      "text/plain": [
       "15"
      ]
     },
     "execution_count": 34,
     "metadata": {},
     "output_type": "execute_result"
    }
   ],
   "source": [
    "def add_nums(num):\n",
    "    if num <=1:\n",
    "        print('add_nums(1) = 1')\n",
    "        return num\n",
    "    else:\n",
    "        print(f'add_nums({num}) = {num} + add_nums({num - 1})')\n",
    "        return num + add_nums(num-1)\n",
    "\n",
    "add_nums(5)"
   ]
  },
  {
   "cell_type": "markdown",
   "metadata": {},
   "source": [
    "#### Writing a Factorial Function"
   ]
  },
  {
   "cell_type": "code",
   "execution_count": 35,
   "metadata": {},
   "outputs": [
    {
     "name": "stdout",
     "output_type": "stream",
     "text": [
      "factorial(5) = 5 * factorial(4)\n",
      "factorial(4) = 4 * factorial(3)\n",
      "factorial(3) = 3 * factorial(2)\n",
      "factorial(2) = 2 * factorial(1)\n",
      "factorial(1) = (1)\n",
      "120\n"
     ]
    }
   ],
   "source": [
    "# 5! = 5 * 4 * 3 * 2 * 1\n",
    "def factorial(num):\n",
    "    # Base Case!\n",
    "    if num <=1:\n",
    "        print('factorial(1) = (1)')\n",
    "        return num\n",
    "    else:\n",
    "        print(f'factorial({num}) = {num} * factorial({num - 1})')\n",
    "        return num * factorial(num -1)\n",
    "    \n",
    "print(factorial(5))"
   ]
  },
  {
   "cell_type": "markdown",
   "metadata": {},
   "source": [
    "#### In-Class Exercise #4 <br>\n",
    "<p>Write a recursive function that subtracts all numbers to the argument given.</p>"
   ]
  },
  {
   "cell_type": "code",
   "execution_count": 36,
   "metadata": {},
   "outputs": [
    {
     "name": "stdout",
     "output_type": "stream",
     "text": [
      "25 5\n",
      "24 4\n",
      "23 3\n",
      "22 2\n",
      "21 1\n"
     ]
    },
    {
     "data": {
      "text/plain": [
       "20"
      ]
     },
     "execution_count": 36,
     "metadata": {},
     "output_type": "execute_result"
    }
   ],
   "source": [
    "def subtract(num1, num2):\n",
    "    if num2 == 0:\n",
    "        return num1\n",
    "    else:\n",
    "        print(num1, num2)\n",
    "        return subtract(num1-1, num2 - 1)\n",
    "\n",
    "subtract(25,5)"
   ]
  },
  {
   "cell_type": "markdown",
   "metadata": {},
   "source": [
    "## Generators <br>\n",
    "<p>Generators are a type of iterable, like lists or tuples. They do not allow indexing, but they can still be iterated through with for loops. They are created using functions and the yield statement.</p>"
   ]
  },
  {
   "cell_type": "markdown",
   "metadata": {},
   "source": [
    "#### Yield Keyword <br>\n",
    "<p>The yield keyword denotes a generator, it doesn't return so it won't leave the function and reset all variables in the function scope, instead it yields the number back to the caller.</p>"
   ]
  },
  {
   "cell_type": "code",
   "execution_count": 42,
   "metadata": {},
   "outputs": [
    {
     "name": "stdout",
     "output_type": "stream",
     "text": [
      "[0, 1, 2, 3, 4, 5, 6, 7, 8, 9]\n"
     ]
    }
   ],
   "source": [
    "[i for i in range(10)]\n",
    "\n",
    "def my_range(stop, start=0, step=1):\n",
    "    while start < stop:\n",
    "        yield start\n",
    "        start += step\n",
    "        \n",
    "        \n",
    "        \n",
    "print([i for i in my_range(10)])"
   ]
  },
  {
   "cell_type": "markdown",
   "metadata": {},
   "source": [
    "#### In-Class Exercise #5 <br>\n",
    "<p>Create a generator that takes a number argument and yields that number squared, then prints each number squared until zero is reached.</p>"
   ]
  },
  {
   "cell_type": "code",
   "execution_count": 44,
   "metadata": {},
   "outputs": [
    {
     "data": {
      "text/plain": [
       "[25, 16, 9, 4, 1]"
      ]
     },
     "execution_count": 44,
     "metadata": {},
     "output_type": "execute_result"
    }
   ],
   "source": [
    "def squared_nums(num):\n",
    "    while num > 0:\n",
    "        yield num ** 2\n",
    "        num -= 1\n",
    "        \n",
    "[i for i in squared_nums(5)]"
   ]
  },
  {
   "attachments": {},
   "cell_type": "markdown",
   "metadata": {},
   "source": [
    "## Numpy <br>\n",
    "\n",
    "<p>NumPy is a library for the Python programming language, adding support for large, multi-dimensional arrays and matrices, along with a large collection of high-level mathematical functions to operate on these arrays.</p>\n",
    "<ul>\n",
    "    <li>Shape = Rows & Columns</li>\n",
    "    <li>Matrix = Entire Array</li>\n",
    "    <li>Vector = Variables to be applied (same vector as the one used in physics)</li>\n",
    "    <li>Array = Similar to lists</li>\n",
    "</ul>"
   ]
  },
  {
   "attachments": {},
   "cell_type": "markdown",
   "metadata": {},
   "source": [
    "#### Python List Comparison"
   ]
  },
  {
   "attachments": {},
   "cell_type": "markdown",
   "metadata": {},
   "source": [
    "Lists are flexible, dynamic python objects that do their job quite well. But they do not support some mathematical operations in an intuitive way. Consider the summation of two lists, $l_1$ and $l_2$"
   ]
  },
  {
   "cell_type": "code",
   "execution_count": 46,
   "metadata": {},
   "outputs": [
    {
     "name": "stdout",
     "output_type": "stream",
     "text": [
      "Sum of the lists: [1, 2, 3, 4, 5, 6]\n"
     ]
    },
    {
     "ename": "TypeError",
     "evalue": "unsupported operand type(s) for -: 'list' and 'list'",
     "output_type": "error",
     "traceback": [
      "\u001b[1;31m---------------------------------------------------------------------------\u001b[0m",
      "\u001b[1;31mTypeError\u001b[0m                                 Traceback (most recent call last)",
      "\u001b[1;32mc:\\Users\\Alex Lucchesi\\coding-temple\\coding_temple_data_analytics_ft\\week-3\\lectures\\Python II Day III.ipynb Cell 52\u001b[0m line \u001b[0;36m7\n\u001b[0;32m      <a href='vscode-notebook-cell:/c%3A/Users/Alex%20Lucchesi/coding-temple/coding_temple_data_analytics_ft/week-3/lectures/Python%20II%20Day%20III.ipynb#Y101sZmlsZQ%3D%3D?line=3'>4</a>\u001b[0m \u001b[39mprint\u001b[39m(\u001b[39mf\u001b[39m\u001b[39m'\u001b[39m\u001b[39mSum of the lists: \u001b[39m\u001b[39m{\u001b[39;00ml1\u001b[39m+\u001b[39ml2\u001b[39m}\u001b[39;00m\u001b[39m'\u001b[39m)\n\u001b[0;32m      <a href='vscode-notebook-cell:/c%3A/Users/Alex%20Lucchesi/coding-temple/coding_temple_data_analytics_ft/week-3/lectures/Python%20II%20Day%20III.ipynb#Y101sZmlsZQ%3D%3D?line=5'>6</a>\u001b[0m \u001b[39m# Apply a subtraction element-wise to the list:\u001b[39;00m\n\u001b[1;32m----> <a href='vscode-notebook-cell:/c%3A/Users/Alex%20Lucchesi/coding-temple/coding_temple_data_analytics_ft/week-3/lectures/Python%20II%20Day%20III.ipynb#Y101sZmlsZQ%3D%3D?line=6'>7</a>\u001b[0m \u001b[39mprint\u001b[39m(\u001b[39mf\u001b[39m\u001b[39m'\u001b[39m\u001b[39mTry to subtract like this: \u001b[39m\u001b[39m{\u001b[39;00ml1\u001b[39m-\u001b[39;49ml2\u001b[39m}\u001b[39;00m\u001b[39m'\u001b[39m)\n",
      "\u001b[1;31mTypeError\u001b[0m: unsupported operand type(s) for -: 'list' and 'list'"
     ]
    }
   ],
   "source": [
    "l1 = [1,2,3]\n",
    "l2 = [4,5,6]\n",
    "\n",
    "print(f'Sum of the lists: {l1+l2}')\n",
    "\n",
    "# Apply a subtraction element-wise to the list:\n",
    "print(f'Try to subtract like this: {l1-l2}')"
   ]
  },
  {
   "attachments": {},
   "cell_type": "markdown",
   "metadata": {},
   "source": [
    "<p>If we wanted to sum lists elementwise, we could write our own function that does the job entirely within the framework of python</p>"
   ]
  },
  {
   "attachments": {},
   "cell_type": "markdown",
   "metadata": {},
   "source": [
    "#### In-Class Exercise #6 - Write a function that sums the indexes of two lists <br>\n",
    "<p>Ex: [2, 3, 4] + [1, 5, 2] = [3, 8, 6]</p>"
   ]
  },
  {
   "cell_type": "code",
   "execution_count": 48,
   "metadata": {},
   "outputs": [
    {
     "name": "stdout",
     "output_type": "stream",
     "text": [
      "[7, 9, 11]\n",
      "[7, 9, 11]\n"
     ]
    }
   ],
   "source": [
    "list1 = [5,5,10]\n",
    "list2 = [2,4,1]\n",
    "\n",
    "# Output: [7,9,11]\n",
    "def sum_list(l1,l2):\n",
    "    final = [] # Create an empty list\n",
    "    i = 0 # Index counter:\n",
    "    while i < len(l1):\n",
    "        final.append(l1[i] + l2[i])\n",
    "        i += 1\n",
    "    return final\n",
    "\n",
    "print(sum_list(list1, list2))\n",
    "\n",
    "def sum_list_comp(l1, l2):\n",
    "    return [l1[i] + l2[i] for i in range(len(l1))]\n",
    "\n",
    "print(sum_list_comp(list1, list2))"
   ]
  },
  {
   "attachments": {},
   "cell_type": "markdown",
   "metadata": {},
   "source": [
    "We would have to write a similar function for all the possible operands that we could consider for list arithmatic. This is time consuming and inefficient. Moreover, once the lists in question become nested, mimicing the behavior of true matrices, the problem gets worse. Complicated indexing is necessary, just to allow for the most basic matrix operations common throughout science and engineering. Imagine writing a matrix multiplication function using python syntax in a general way, such that it returns a matrix-matrix or matrix-vector product:\n",
    "\n",
    "\\begin{align}\n",
    "(n \\times x) \\times (x \\times m) \\rightarrow (n \\times m)\n",
    "\\end{align}\n",
    "\n",
    "\\begin{align}\n",
    "\\begin{bmatrix}\n",
    "c_{0,0} & ... & c_{0,n} \\\\\n",
    "\\vdots & \\ddots & \\vdots \\\\\n",
    "c_{m,0} & ... & c_{m,n}\n",
    "\\end{bmatrix}\n",
    "=\n",
    "\\begin{bmatrix}\n",
    "a_{0,0} & ... & a_{0,x} \\\\\n",
    "\\vdots & \\ddots & \\vdots \\\\\n",
    "a_{n,0} & ... & a_{n,x}\n",
    "\\end{bmatrix}\n",
    "\\begin{bmatrix}\n",
    "b_{0,0} & ... & b_{0,m} \\\\\n",
    "\\vdots & \\ddots & \\vdots \\\\\n",
    "b_{x,0} & ... & b_{x,m}\n",
    "\\end{bmatrix}\n",
    "\\end{align}\n",
    "\n",
    "Another Example:\n",
    "\n",
    "<img src=\"https://www.mathsisfun.com/algebra/images/matrix-multiply-a.svg\">\n",
    "\n",
    "---\n",
    "\n",
    "The \"Dot Product\" is where we multiply matching members, then sum up:\n",
    "\n",
    "(1, 2, 3) • (7, 9, 11) = 1×7 + 2×9 + 3×11\n",
    "    = 58\n",
    "\n",
    "We match the 1st members (1 and 7), multiply them, likewise for the 2nd members (2 and 9) and the 3rd members (3 and 11), and finally sum them up.\n",
    "\n",
    "<hr>\n",
    "\n",
    "So, let's instantiate a matrix $\\mathcal{M}$ and a vector $\\vec{v}$ and write a function that does the multiplication ourselves."
   ]
  },
  {
   "cell_type": "code",
   "execution_count": 51,
   "metadata": {},
   "outputs": [
    {
     "name": "stdout",
     "output_type": "stream",
     "text": [
      "[[0], [0], [0]]\n",
      "3\n",
      "3\n",
      "1\n",
      "[[2], [4], [6]]\n"
     ]
    }
   ],
   "source": [
    "def matrix_multiplication(A,B):\n",
    "    zero_list = [[0 for i in range(len(B[0]))] for i in range(len(A))]\n",
    "    print(zero_list)\n",
    "    inner_dimensions = len(A[0])\n",
    "    print(inner_dimensions)\n",
    "    n_dimension = len(zero_list)    \n",
    "    print(n_dimension)\n",
    "    m_dimension = len(zero_list[0])\n",
    "    print(m_dimension)\n",
    "    \n",
    "    # Now we can loop through our matrix using the dimensions:\n",
    "    for i in range(n_dimension):\n",
    "        for j in range(m_dimension):\n",
    "            element = 0\n",
    "            for x in range(inner_dimensions):\n",
    "                element += A[i][x] * B[x][j]\n",
    "            zero_list[i][j] = element\n",
    "    return zero_list\n",
    "print(matrix_multiplication([[0,1,0],[0,2,0],[0,3,0]], [[1],[2],[3]]))"
   ]
  },
  {
   "attachments": {},
   "cell_type": "markdown",
   "metadata": {},
   "source": [
    "#### Importing"
   ]
  },
  {
   "cell_type": "code",
   "execution_count": 52,
   "metadata": {},
   "outputs": [],
   "source": [
    "import numpy as np # Aliasing"
   ]
  },
  {
   "attachments": {},
   "cell_type": "markdown",
   "metadata": {},
   "source": [
    "#### Creating an NDArray <br>\n",
    "NumPy is based around a class called the $\\textit{NDArray}$, which is a flexible vector / matrix class that implements the intuitive matrix and vector arithmatic lacking in basic Python. Let's start by creating some NDArrays:"
   ]
  },
  {
   "attachments": {},
   "cell_type": "markdown",
   "metadata": {},
   "source": [
    "##### - np.array()"
   ]
  },
  {
   "cell_type": "code",
   "execution_count": 53,
   "metadata": {},
   "outputs": [
    {
     "name": "stdout",
     "output_type": "stream",
     "text": [
      "[1 2 3]\n",
      "<class 'numpy.ndarray'>\n"
     ]
    }
   ],
   "source": [
    "arr_1 = np.array([1,2,3])\n",
    "print(arr_1)\n",
    "print(type(arr_1))"
   ]
  },
  {
   "attachments": {},
   "cell_type": "markdown",
   "metadata": {},
   "source": [
    "##### - np.zeros()"
   ]
  },
  {
   "cell_type": "code",
   "execution_count": 56,
   "metadata": {},
   "outputs": [
    {
     "data": {
      "text/plain": [
       "array([[0, 0, 0],\n",
       "       [0, 0, 0],\n",
       "       [0, 0, 0]])"
      ]
     },
     "execution_count": 56,
     "metadata": {},
     "output_type": "execute_result"
    }
   ],
   "source": [
    "# Create a shape variable. It will reference the 2-D shape I want my matrix to have:\n",
    "shape = (3,3)\n",
    "# We create the matrix!\n",
    "M = np.zeros(shape, int)\n",
    "M"
   ]
  },
  {
   "attachments": {},
   "cell_type": "markdown",
   "metadata": {},
   "source": [
    "##### - np.ones()"
   ]
  },
  {
   "cell_type": "code",
   "execution_count": 57,
   "metadata": {},
   "outputs": [
    {
     "name": "stdout",
     "output_type": "stream",
     "text": [
      "[[1 1 1]\n",
      " [1 1 1]\n",
      " [1 1 1]]\n"
     ]
    }
   ],
   "source": [
    "arr2 = np.ones(shape, int)\n",
    "print(arr2)"
   ]
  },
  {
   "attachments": {},
   "cell_type": "markdown",
   "metadata": {},
   "source": [
    "##### - np.arange()"
   ]
  },
  {
   "cell_type": "code",
   "execution_count": 58,
   "metadata": {},
   "outputs": [
    {
     "data": {
      "text/plain": [
       "array([ 1,  2,  3,  4,  5,  6,  7,  8,  9, 10, 11])"
      ]
     },
     "execution_count": 58,
     "metadata": {},
     "output_type": "execute_result"
    }
   ],
   "source": [
    "np.arange(1,12)"
   ]
  },
  {
   "attachments": {},
   "cell_type": "markdown",
   "metadata": {},
   "source": [
    "##### - Making Lists into NDArrays"
   ]
  },
  {
   "cell_type": "code",
   "execution_count": 59,
   "metadata": {},
   "outputs": [
    {
     "data": {
      "text/plain": [
       "array([4, 5, 6])"
      ]
     },
     "execution_count": 59,
     "metadata": {},
     "output_type": "execute_result"
    }
   ],
   "source": [
    "l3 = [4,5,6]\n",
    "\n",
    "# We just use the .array() function to turn this list into an array instead:\n",
    "arr_list = np.array(l3)\n",
    "arr_list"
   ]
  },
  {
   "attachments": {},
   "cell_type": "markdown",
   "metadata": {},
   "source": [
    "#### Performing Calculations on NDArrays"
   ]
  },
  {
   "attachments": {},
   "cell_type": "markdown",
   "metadata": {},
   "source": [
    "##### - Summation"
   ]
  },
  {
   "cell_type": "code",
   "execution_count": 63,
   "metadata": {
    "scrolled": true
   },
   "outputs": [
    {
     "data": {
      "text/plain": [
       "array([15, 30, 45, 60, 75])"
      ]
     },
     "execution_count": 63,
     "metadata": {},
     "output_type": "execute_result"
    }
   ],
   "source": [
    "arr5 = np.array([5,10,15,20,25])\n",
    "arr10 = np.array([10,20,30,40,50])\n",
    "arr5 + arr10"
   ]
  },
  {
   "attachments": {},
   "cell_type": "markdown",
   "metadata": {},
   "source": [
    "##### - Difference"
   ]
  },
  {
   "cell_type": "code",
   "execution_count": 61,
   "metadata": {},
   "outputs": [
    {
     "data": {
      "text/plain": [
       "array([ 5, 10, 15, 20, 25])"
      ]
     },
     "execution_count": 61,
     "metadata": {},
     "output_type": "execute_result"
    }
   ],
   "source": [
    "arr10 - arr5"
   ]
  },
  {
   "attachments": {},
   "cell_type": "markdown",
   "metadata": {},
   "source": [
    "##### - Multiplication"
   ]
  },
  {
   "cell_type": "code",
   "execution_count": 64,
   "metadata": {},
   "outputs": [
    {
     "data": {
      "text/plain": [
       "array([  50,  200,  450,  800, 1250])"
      ]
     },
     "execution_count": 64,
     "metadata": {},
     "output_type": "execute_result"
    }
   ],
   "source": [
    "arr5 * arr10"
   ]
  },
  {
   "attachments": {},
   "cell_type": "markdown",
   "metadata": {},
   "source": [
    "##### - Division"
   ]
  },
  {
   "cell_type": "code",
   "execution_count": 68,
   "metadata": {},
   "outputs": [
    {
     "data": {
      "text/plain": [
       "array([2, 2, 2, 2, 2])"
      ]
     },
     "execution_count": 68,
     "metadata": {},
     "output_type": "execute_result"
    }
   ],
   "source": [
    "(arr10 / arr5).astype(int)\n"
   ]
  },
  {
   "attachments": {},
   "cell_type": "markdown",
   "metadata": {},
   "source": [
    "##### - Standard Deviation"
   ]
  },
  {
   "cell_type": "code",
   "execution_count": 69,
   "metadata": {},
   "outputs": [
    {
     "name": "stdout",
     "output_type": "stream",
     "text": [
      "14.142135623730951\n"
     ]
    }
   ],
   "source": [
    "print(np.std(arr10))"
   ]
  },
  {
   "attachments": {},
   "cell_type": "markdown",
   "metadata": {},
   "source": [
    "##### - Mean"
   ]
  },
  {
   "cell_type": "code",
   "execution_count": 71,
   "metadata": {},
   "outputs": [
    {
     "data": {
      "text/plain": [
       "15"
      ]
     },
     "execution_count": 71,
     "metadata": {},
     "output_type": "execute_result"
    }
   ],
   "source": [
    "int(np.mean(arr5))"
   ]
  },
  {
   "attachments": {},
   "cell_type": "markdown",
   "metadata": {},
   "source": [
    "##### - Median"
   ]
  },
  {
   "cell_type": "code",
   "execution_count": 73,
   "metadata": {},
   "outputs": [
    {
     "data": {
      "text/plain": [
       "15"
      ]
     },
     "execution_count": 73,
     "metadata": {},
     "output_type": "execute_result"
    }
   ],
   "source": [
    "int(np.median(arr5))"
   ]
  },
  {
   "attachments": {},
   "cell_type": "markdown",
   "metadata": {},
   "source": [
    "#### Numpy Subsetting"
   ]
  },
  {
   "cell_type": "code",
   "execution_count": 74,
   "metadata": {},
   "outputs": [
    {
     "data": {
      "text/plain": [
       "array([30, 40, 50])"
      ]
     },
     "execution_count": 74,
     "metadata": {},
     "output_type": "execute_result"
    }
   ],
   "source": [
    "mask = arr10 > 20\n",
    "arr10[mask]"
   ]
  },
  {
   "attachments": {},
   "cell_type": "markdown",
   "metadata": {},
   "source": [
    "#### Multi-dimensional Arrays <br>\n",
    "NumPy seamlessly supports multidimensional arrays and matrices of arbitrary dimension without nesting NDArrays. NDArrays themselves are flexible and extensible and may be defined with such dimensions, with a rich API of common functions to facilitate their use. Let's start by building a two dimensional 3x3 matrix by conversion from a nested group of core python lists $M = [l_0, l_1, l_2]$:"
   ]
  },
  {
   "cell_type": "code",
   "execution_count": 75,
   "metadata": {},
   "outputs": [
    {
     "name": "stdout",
     "output_type": "stream",
     "text": [
      "This is a nested list structure: [[0, 1, 2], [3, 4, 5], [6, 7, 8]]\n",
      "Matrix Structure: [[0 1 2]\n",
      " [3 4 5]\n",
      " [6 7 8]]\n"
     ]
    }
   ],
   "source": [
    "a_list = [0,1,2]\n",
    "b_list = [3,4,5]\n",
    "c_list = [6,7,8]\n",
    "\n",
    "# Step 1: Convert the lists into a matrix that we can actually work with:\n",
    "M = [a_list, b_list, c_list]\n",
    "print(f'This is a nested list structure: {M}')\n",
    "\n",
    "# Step 2: We can cast it directly into a matrix now. \n",
    "# When I do so, the dimensions of that matrix are inferred by Numpy for us.\n",
    "M = np.array(M)\n",
    "print(f'Matrix Structure: {M}')"
   ]
  },
  {
   "attachments": {},
   "cell_type": "markdown",
   "metadata": {},
   "source": [
    "#### Indexing NDArrays <br>\n",
    "<p> Similar to lists within lists; however, the syntax looks more like C programming language.... It is [1, 2] to access the second row, third element.</p>"
   ]
  },
  {
   "cell_type": "code",
   "execution_count": 77,
   "metadata": {},
   "outputs": [
    {
     "name": "stdout",
     "output_type": "stream",
     "text": [
      "Get the first array out of the matrix: [0 1 2]\n",
      "Get the middle value of the array: 4\n"
     ]
    }
   ],
   "source": [
    "# Because of the two dimensional structure, single level indexing is going to return values in the entire row:\n",
    "print(f'Get the first array out of the matrix: {M[0]}')\n",
    "\n",
    "# Multi-level indexing:\n",
    "print(f'Get the middle value of the array: {M[1][1]}')"
   ]
  },
  {
   "attachments": {},
   "cell_type": "markdown",
   "metadata": {},
   "source": [
    "#### Assigning Values in NDArrays"
   ]
  },
  {
   "cell_type": "code",
   "execution_count": 80,
   "metadata": {},
   "outputs": [
    {
     "name": "stdout",
     "output_type": "stream",
     "text": [
      "[[0 8 2]\n",
      " [3 9 5]\n",
      " [6 7 8]]\n",
      "\n",
      "\n",
      "[[0 8 2]\n",
      " [3 9 5]\n",
      " [6 7 8]]\n"
     ]
    }
   ],
   "source": [
    "# We can assign values to array in a Matrix in two different ways\n",
    "\n",
    "# Multi-level indexing way\n",
    "# This separates out the statement into two indicies\n",
    "M[1][1] = 9\n",
    "# print(M)\n",
    "\n",
    "# Another way to go about this is the give a list of indicies. \n",
    "# The list has the first index, then the second index.\n",
    "M[0,1] = 8\n",
    "print(M)"
   ]
  },
  {
   "attachments": {},
   "cell_type": "markdown",
   "metadata": {},
   "source": [
    "<p>Notice above how we ended up with a 1 in the target element's place. This is a data type issue. The .dtype() method is supported by all NDArrays, as well as the .astype() method for casting between data types:</p>"
   ]
  },
  {
   "attachments": {},
   "cell_type": "markdown",
   "metadata": {},
   "source": [
    "#### Checking NDArray Type"
   ]
  },
  {
   "cell_type": "code",
   "execution_count": 81,
   "metadata": {},
   "outputs": [
    {
     "data": {
      "text/plain": [
       "dtype('int32')"
      ]
     },
     "execution_count": 81,
     "metadata": {},
     "output_type": "execute_result"
    }
   ],
   "source": [
    "M.dtype"
   ]
  },
  {
   "attachments": {},
   "cell_type": "markdown",
   "metadata": {},
   "source": [
    "#### Altering NDArray Type"
   ]
  },
  {
   "cell_type": "code",
   "execution_count": 83,
   "metadata": {},
   "outputs": [
    {
     "name": "stdout",
     "output_type": "stream",
     "text": [
      "Type before changes: int32\n",
      "[[0. 8. 2.]\n",
      " [3. 9. 5.]\n",
      " [6. 7. 8.]]\n",
      "Type after the change: float32\n"
     ]
    }
   ],
   "source": [
    "# Let's take a look at the type of the data before we make any changes:\n",
    "t = M\n",
    "print(f'Type before changes: {t.dtype}')\n",
    "\n",
    "# Change the data to be a float instead?\n",
    "# We will utilize the .astype() function\n",
    "changed = t.astype(np.float32)\n",
    "print(changed)\n",
    "print(f'Type after the change: {changed.dtype}')"
   ]
  },
  {
   "attachments": {},
   "cell_type": "markdown",
   "metadata": {},
   "source": [
    "#### Checking the Shape <br>\n",
    "The behavior and properties of an NDArray are often sensitively dependent on the $\\textit{shape}$ of the NDArray itself. The shape of an array can be found by calling the .shape method, which will return a tuple containing the array's dimensions:"
   ]
  },
  {
   "cell_type": "code",
   "execution_count": 85,
   "metadata": {},
   "outputs": [
    {
     "name": "stdout",
     "output_type": "stream",
     "text": [
      "(3, 3)\n",
      "(5,)\n"
     ]
    }
   ],
   "source": [
    "# In a 2-D structure, the shape will displayed as: (rows, columns) or (rows x columns)\n",
    "print(changed.shape)\n",
    "\n",
    "# 1-D structure, or a vector. When the shape is displayed, the information returned is: (rows,) or (rows). \n",
    "# These do not contain an actual shape, but rather a magnitude\n",
    "print(arr5.shape)"
   ]
  },
  {
   "cell_type": "code",
   "execution_count": null,
   "metadata": {},
   "outputs": [],
   "source": []
  },
  {
   "attachments": {},
   "cell_type": "markdown",
   "metadata": {},
   "source": [
    "#### Altering the Shape <br>\n",
    "<p>As long as the number of elements remains fixed, we can reshape NDArrays at will:</p>"
   ]
  },
  {
   "cell_type": "code",
   "execution_count": 86,
   "metadata": {},
   "outputs": [
    {
     "name": "stdout",
     "output_type": "stream",
     "text": [
      "(3, 3)\n",
      "Now we will reshape the matrix into a vector: [[0]\n",
      " [8]\n",
      " [2]\n",
      " [3]\n",
      " [9]\n",
      " [5]\n",
      " [6]\n",
      " [7]\n",
      " [8]]\n"
     ]
    }
   ],
   "source": [
    "# To do so, we can use the .reshape() function from numpy.\n",
    "# The syntax for this is .reshape((rows,columns))\n",
    "print(changed.shape)\n",
    "print(f'Now we will reshape the matrix into a vector: {changed.reshape(9,1).astype(int)}')"
   ]
  },
  {
   "cell_type": "code",
   "execution_count": null,
   "metadata": {},
   "outputs": [],
   "source": [
    "# Keep in mind: When we reshape a matrix, the shape of the numbers do matter\n",
    "# (9,1) is much different than that of a (1,9)\n",
    "print(changed.reshape(1,9).astype(int))"
   ]
  },
  {
   "attachments": {},
   "cell_type": "markdown",
   "metadata": {},
   "source": [
    "#### In-Class Exercise #7 - Create a matrix of range 0 up to 16 and reshape it into a 4x4 matrice"
   ]
  },
  {
   "cell_type": "code",
   "execution_count": null,
   "metadata": {},
   "outputs": [],
   "source": [
    "# IF YOU GET THIS DONE BEFORE TIME IS UP:\n",
    "# Try to create a matrix of floating point values from 0-16 and reshape that into 4x4\n",
    "\n",
    "# One way using Python built-ins\n",
    "x = np.array(range(0, 16)).reshape(4,4)\n",
    "print(x)\n",
    "\n",
    "# Another way using Numpy functions\n",
    "y = np.arange(0, 16).reshape(4,4)\n",
    "print('\\n',y)"
   ]
  },
  {
   "attachments": {},
   "cell_type": "markdown",
   "metadata": {},
   "source": [
    "#### Complex Indexing & Assinging"
   ]
  },
  {
   "cell_type": "code",
   "execution_count": 90,
   "metadata": {},
   "outputs": [
    {
     "name": "stdout",
     "output_type": "stream",
     "text": [
      "Resetting the Matrix... Please wait:\n",
      "Before assigning values:\n",
      " [[0 0 0 0 0 0]\n",
      " [0 0 0 0 0 0]\n",
      " [0 0 0 0 0 0]\n",
      " [0 0 0 0 0 0]\n",
      " [0 0 0 0 0 0]\n",
      " [0 0 0 0 0 0]]\n",
      "\n",
      "After assigning 1 to the first column:\n",
      "[[1 0 0 0 0 0]\n",
      " [1 0 0 0 0 0]\n",
      " [1 0 0 0 0 0]\n",
      " [1 0 0 0 0 0]\n",
      " [1 0 0 0 0 0]\n",
      " [1 0 0 0 0 0]]\n",
      "\n",
      "After assigning 5:\n",
      "[[1 0 0 0 0 0]\n",
      " [1 0 0 0 0 0]\n",
      " [5 5 5 5 5 5]\n",
      " [5 5 5 5 5 5]\n",
      " [5 5 5 5 5 5]\n",
      " [1 0 0 0 0 0]]\n",
      "Reset was confirmed:\n",
      "[[0 0 0 0 0 0]\n",
      " [0 0 0 0 0 0]\n",
      " [0 0 0 0 0 0]\n",
      " [0 0 0 0 0 0]\n",
      " [0 0 0 0 0 0]\n",
      " [0 0 0 0 0 0]]\n",
      "Assigning 2 to the second and third columns:\n",
      "[[0 2 2 0 0 0]\n",
      " [0 2 2 0 0 0]\n",
      " [0 2 2 0 0 0]\n",
      " [0 2 2 0 0 0]\n",
      " [0 2 2 0 0 0]\n",
      " [0 2 2 0 0 0]]\n"
     ]
    }
   ],
   "source": [
    "# Reset the matrix:\n",
    "M = np.zeros((6,6)).astype(int)\n",
    "print('Resetting the Matrix... Please wait:')\n",
    "print(f'Before assigning values:\\n {M}')\n",
    "\n",
    "# Set every first element in each column to the value of 1:\n",
    "M[:,0] = 1\n",
    "print(f'\\nAfter assigning 1 to the first column:\\n{M}')\n",
    "\n",
    "# set all elements in the axis 3 to 5 to be equal to the value of 5\n",
    "M[2:5, :] = 5\n",
    "print(f'\\nAfter assigning 5:\\n{M}')\n",
    "\n",
    "# Reset back to zero!\n",
    "# This will be an example of the element-wise multiplication of a Matrix object:\n",
    "M = M * 0\n",
    "print(f'Reset was confirmed:\\n{M}')\n",
    "\n",
    "# set the 2nd and 3rd columns equal to the value of 2:\n",
    "M[:, 1:3] = 2\n",
    "print(f'Assigning 2 to the second and third columns:\\n{M}')"
   ]
  },
  {
   "attachments": {},
   "cell_type": "markdown",
   "metadata": {},
   "source": [
    "#### Elementwise Multiplication"
   ]
  },
  {
   "attachments": {},
   "cell_type": "markdown",
   "metadata": {},
   "source": [
    "<p>As long as the shapes of NDArrays are 'compatible', they can be multiplied elementwise, broadcasted, used in inner products, and much much more. 'Compatible' in this context can mean compatible in the linear algebraic sense, i.e. for inner products and other matrix multiplication, or simply sharing a dimension in such a manner that broadcasting 'makes sense'. Here are some examples of this:</p>"
   ]
  },
  {
   "cell_type": "code",
   "execution_count": 96,
   "metadata": {},
   "outputs": [
    {
     "name": "stdout",
     "output_type": "stream",
     "text": [
      "[[0 0 0 0 0 0]\n",
      " [0 0 0 0 0 0]\n",
      " [0 0 0 0 0 0]\n",
      " [0 0 0 0 0 0]\n",
      " [0 0 0 0 0 0]\n",
      " [0 0 0 0 0 0]]\n",
      "\n",
      "\n",
      "[0 1 2 3 4 5]\n",
      "[[0 1 2 3 4 5]\n",
      " [0 0 0 0 0 0]\n",
      " [0 0 0 0 0 0]\n",
      " [0 0 0 0 0 0]\n",
      " [0 0 0 0 0 0]\n",
      " [0 0 0 0 0 0]]\n",
      "[[ 0  1  4  9 16 25]\n",
      " [ 0  0  0  0  0  0]\n",
      " [ 0  0  0  0  0  0]\n",
      " [ 0  0  0  0  0  0]\n",
      " [ 0  0  0  0  0  0]\n",
      " [ 0  0  0  0  0  0]]\n"
     ]
    }
   ],
   "source": [
    "M *= 0 \n",
    "matrix = M\n",
    "\n",
    "# Create the vector of range 6:\n",
    "vector = np.arange(6)\n",
    "print(matrix)\n",
    "print('\\n')\n",
    "print(vector)\n",
    "\n",
    "matrix[0] += vector\n",
    "print(matrix)\n",
    "\n",
    "matrix *= vector\n",
    "print(matrix)"
   ]
  },
  {
   "attachments": {},
   "cell_type": "markdown",
   "metadata": {},
   "source": [
    "#### np.where() <br>\n",
    "<p>If statement within NDArrays that allows you to run conditionals on the entire array</p>"
   ]
  },
  {
   "cell_type": "code",
   "execution_count": 99,
   "metadata": {},
   "outputs": [
    {
     "name": "stdout",
     "output_type": "stream",
     "text": [
      "(array([0, 0, 0, 0], dtype=int64), array([2, 3, 4, 5], dtype=int64))\n",
      "[[ 0  2  4  9 16 25]\n",
      " [ 0  0  0  0  0  0]\n",
      " [ 0  0  0  0  0  0]\n",
      " [ 0  0  0  0  0  0]\n",
      " [ 0  0  0  0  0  0]\n",
      " [ 0  0  0  0  0  0]]\n"
     ]
    }
   ],
   "source": [
    "print(f'{np.where(M>2)}')\n",
    "\n",
    "# Conditional masking\n",
    "mask = np.where(M==1)\n",
    "M[mask] = 2\n",
    "print(M)"
   ]
  },
  {
   "attachments": {},
   "cell_type": "markdown",
   "metadata": {},
   "source": [
    "#### Random Sampling <br>\n",
    "<p>NumPy provides machinery to work with random numbers - something often needed in a broad spectrum of data science applications.</p>"
   ]
  },
  {
   "cell_type": "code",
   "execution_count": 129,
   "metadata": {},
   "outputs": [
    {
     "name": "stdout",
     "output_type": "stream",
     "text": [
      "0.3745401188473625\n",
      "950714.3064099161\n",
      "[7.58794548 6.38792636 2.40416776]\n",
      "[[3 7 8 5 4 8]\n",
      " [8 3 6 5 2 8]\n",
      " [6 2 5 1 6 9]\n",
      " [1 3 7 4 9 3]\n",
      " [5 3 7 5 9 7]\n",
      " [2 4 9 2 9 5]]\n"
     ]
    }
   ],
   "source": [
    "# np.random.uniform(), uniform creates a floating point value\n",
    "# np.random.randint(), creates a random integer value\n",
    "\n",
    "# To start, we will set a random seed. A random seed allows us to reproduce our random code. Meaning everytime we run it,\n",
    "# Instead of getting new random numbers, we will end up with the same numbers.\n",
    "np.random.seed(42)\n",
    "\n",
    "# A single call to generate a single random number between 0 and 1\n",
    "# Remember that this is a floating point value!\n",
    "print(f'Here is a random float: {np.random.uniform()}')\n",
    "\n",
    "# We can also pass in some parameters and bounds\n",
    "print(f'Here is a random float between 0 and 1 million: {np.random.uniform(0, 1e6)}')\n",
    "\n",
    "# We can generate a multitude of random numbers using uniform!\n",
    "print(f'Here are three random floats between 0 and 10: {np.random.uniform(0,10,3)}')\n",
    "print(type(np.random.uniform(0,10,3)))\n",
    "\n",
    "# What if I wanted to generate a Matrix instead of an array?\n",
    "print(f'Here is a 3x3 matrix with floats between 0 and 10: \\n{np.random.uniform(0,10, (3,3))}')\n",
    "\n",
    "# What if I needed integer values instead of floats?\n",
    "print(f'Here is how we can generate random integer values instead!:\\n{np.random.randint(0,10, (3,3))}')"
   ]
  },
  {
   "attachments": {},
   "cell_type": "markdown",
   "metadata": {},
   "source": [
    "## Working With CSV's"
   ]
  },
  {
   "attachments": {},
   "cell_type": "markdown",
   "metadata": {},
   "source": [
    "#### Imports"
   ]
  },
  {
   "cell_type": "code",
   "execution_count": 130,
   "metadata": {},
   "outputs": [],
   "source": [
    "import csv"
   ]
  },
  {
   "attachments": {},
   "cell_type": "markdown",
   "metadata": {},
   "source": [
    "#### Reading a CSV"
   ]
  },
  {
   "cell_type": "code",
   "execution_count": 131,
   "metadata": {},
   "outputs": [
    {
     "data": {
      "text/plain": [
       "[['Rk',\n",
       "  'Pos',\n",
       "  'Name',\n",
       "  'Age',\n",
       "  'G',\n",
       "  'PA',\n",
       "  'AB',\n",
       "  'R',\n",
       "  'H',\n",
       "  '2B',\n",
       "  '3B',\n",
       "  'HR',\n",
       "  'RBI',\n",
       "  'SB',\n",
       "  'CS',\n",
       "  'BB',\n",
       "  'SO',\n",
       "  'BA',\n",
       "  'OBP',\n",
       "  'SLG',\n",
       "  'OPS',\n",
       "  'OPS+',\n",
       "  'TB',\n",
       "  'GDP',\n",
       "  'HBP',\n",
       "  'SH',\n",
       "  'SF',\n",
       "  'IBB'],\n",
       " ['1',\n",
       "  'C',\n",
       "  'Christian Vazquez',\n",
       "  '26',\n",
       "  '99',\n",
       "  '345',\n",
       "  '324',\n",
       "  '43',\n",
       "  '94',\n",
       "  '18',\n",
       "  '2',\n",
       "  '5',\n",
       "  '32',\n",
       "  '7',\n",
       "  '2',\n",
       "  '17',\n",
       "  '64',\n",
       "  '.290',\n",
       "  '.330',\n",
       "  '.404',\n",
       "  '.735',\n",
       "  '91',\n",
       "  '131',\n",
       "  '14',\n",
       "  '3',\n",
       "  '0',\n",
       "  '1',\n",
       "  '0'],\n",
       " ['2',\n",
       "  '1B',\n",
       "  'Mitch Moreland',\n",
       "  '31',\n",
       "  '149',\n",
       "  '576',\n",
       "  '508',\n",
       "  '73',\n",
       "  '125',\n",
       "  '34',\n",
       "  '0',\n",
       "  '22',\n",
       "  '79',\n",
       "  '0',\n",
       "  '1',\n",
       "  '57',\n",
       "  '120',\n",
       "  '.246',\n",
       "  '.326',\n",
       "  '.443',\n",
       "  '.769',\n",
       "  '99',\n",
       "  '225',\n",
       "  '14',\n",
       "  '6',\n",
       "  '0',\n",
       "  '5',\n",
       "  '6'],\n",
       " ['3',\n",
       "  '2B',\n",
       "  'Dustin Pedroia',\n",
       "  '33',\n",
       "  '105',\n",
       "  '463',\n",
       "  '406',\n",
       "  '46',\n",
       "  '119',\n",
       "  '19',\n",
       "  '0',\n",
       "  '7',\n",
       "  '62',\n",
       "  '4',\n",
       "  '3',\n",
       "  '49',\n",
       "  '48',\n",
       "  '.293',\n",
       "  '.369',\n",
       "  '.392',\n",
       "  '.760',\n",
       "  '100',\n",
       "  '159',\n",
       "  '11',\n",
       "  '2',\n",
       "  '2',\n",
       "  '4',\n",
       "  '4'],\n",
       " ['4',\n",
       "  'SS',\n",
       "  'Xander Bogaerts',\n",
       "  '24',\n",
       "  '148',\n",
       "  '635',\n",
       "  '571',\n",
       "  '94',\n",
       "  '156',\n",
       "  '32',\n",
       "  '6',\n",
       "  '10',\n",
       "  '62',\n",
       "  '15',\n",
       "  '1',\n",
       "  '56',\n",
       "  '116',\n",
       "  '.273',\n",
       "  '.343',\n",
       "  '.403',\n",
       "  '.746',\n",
       "  '95',\n",
       "  '230',\n",
       "  '17',\n",
       "  '6',\n",
       "  '0',\n",
       "  '2',\n",
       "  '6'],\n",
       " ['5',\n",
       "  '3B',\n",
       "  'Rafael Devers',\n",
       "  '20',\n",
       "  '58',\n",
       "  '240',\n",
       "  '222',\n",
       "  '34',\n",
       "  '63',\n",
       "  '14',\n",
       "  '0',\n",
       "  '10',\n",
       "  '30',\n",
       "  '3',\n",
       "  '1',\n",
       "  '18',\n",
       "  '57',\n",
       "  '.284',\n",
       "  '.338',\n",
       "  '.482',\n",
       "  '.819',\n",
       "  '111',\n",
       "  '107',\n",
       "  '5',\n",
       "  '0',\n",
       "  '0',\n",
       "  '0',\n",
       "  '3'],\n",
       " ['6',\n",
       "  'LF',\n",
       "  'Andrew Benintendi',\n",
       "  '22',\n",
       "  '151',\n",
       "  '658',\n",
       "  '573',\n",
       "  '84',\n",
       "  '155',\n",
       "  '26',\n",
       "  '1',\n",
       "  '20',\n",
       "  '90',\n",
       "  '20',\n",
       "  '5',\n",
       "  '70',\n",
       "  '112',\n",
       "  '.271',\n",
       "  '.352',\n",
       "  '.424',\n",
       "  '.776',\n",
       "  '102',\n",
       "  '243',\n",
       "  '16',\n",
       "  '6',\n",
       "  '1',\n",
       "  '8',\n",
       "  '7'],\n",
       " ['7',\n",
       "  'CF',\n",
       "  'Jackie Bradley Jr.',\n",
       "  '27',\n",
       "  '133',\n",
       "  '541',\n",
       "  '482',\n",
       "  '58',\n",
       "  '118',\n",
       "  '19',\n",
       "  '3',\n",
       "  '17',\n",
       "  '63',\n",
       "  '8',\n",
       "  '3',\n",
       "  '48',\n",
       "  '124',\n",
       "  '.245',\n",
       "  '.323',\n",
       "  '.402',\n",
       "  '.726',\n",
       "  '89',\n",
       "  '194',\n",
       "  '8',\n",
       "  '9',\n",
       "  '0',\n",
       "  '2',\n",
       "  '4'],\n",
       " ['8',\n",
       "  'RF',\n",
       "  'Mookie Betts',\n",
       "  '24',\n",
       "  '153',\n",
       "  '712',\n",
       "  '628',\n",
       "  '101',\n",
       "  '166',\n",
       "  '46',\n",
       "  '2',\n",
       "  '24',\n",
       "  '102',\n",
       "  '26',\n",
       "  '3',\n",
       "  '77',\n",
       "  '79',\n",
       "  '.264',\n",
       "  '.344',\n",
       "  '.459',\n",
       "  '.803',\n",
       "  '108',\n",
       "  '288',\n",
       "  '9',\n",
       "  '2',\n",
       "  '0',\n",
       "  '5',\n",
       "  '9'],\n",
       " ['9',\n",
       "  'DH',\n",
       "  'Hanley Ramirez',\n",
       "  '33',\n",
       "  '133',\n",
       "  '553',\n",
       "  '496',\n",
       "  '58',\n",
       "  '120',\n",
       "  '24',\n",
       "  '0',\n",
       "  '23',\n",
       "  '62',\n",
       "  '1',\n",
       "  '3',\n",
       "  '51',\n",
       "  '116',\n",
       "  '.242',\n",
       "  '.320',\n",
       "  '.429',\n",
       "  '.750',\n",
       "  '94',\n",
       "  '213',\n",
       "  '15',\n",
       "  '6',\n",
       "  '0',\n",
       "  '0',\n",
       "  '8'],\n",
       " ['10',\n",
       "  'C',\n",
       "  'Sandy Leon',\n",
       "  '28',\n",
       "  '85',\n",
       "  '301',\n",
       "  '271',\n",
       "  '32',\n",
       "  '61',\n",
       "  '14',\n",
       "  '0',\n",
       "  '7',\n",
       "  '39',\n",
       "  '0',\n",
       "  '0',\n",
       "  '25',\n",
       "  '74',\n",
       "  '.225',\n",
       "  '.290',\n",
       "  '.354',\n",
       "  '.644',\n",
       "  '68',\n",
       "  '96',\n",
       "  '5',\n",
       "  '1',\n",
       "  '1',\n",
       "  '3',\n",
       "  '1'],\n",
       " ['11',\n",
       "  'UT',\n",
       "  'Chris Young',\n",
       "  '33',\n",
       "  '90',\n",
       "  '276',\n",
       "  '243',\n",
       "  '30',\n",
       "  '57',\n",
       "  '12',\n",
       "  '2',\n",
       "  '7',\n",
       "  '25',\n",
       "  '3',\n",
       "  '2',\n",
       "  '30',\n",
       "  '55',\n",
       "  '.235',\n",
       "  '.322',\n",
       "  '.387',\n",
       "  '.709',\n",
       "  '85',\n",
       "  '94',\n",
       "  '4',\n",
       "  '2',\n",
       "  '0',\n",
       "  '1',\n",
       "  '0'],\n",
       " ['12',\n",
       "  '3B',\n",
       "  'Deven Marrero',\n",
       "  '26',\n",
       "  '71',\n",
       "  '188',\n",
       "  '171',\n",
       "  '32',\n",
       "  '36',\n",
       "  '9',\n",
       "  '0',\n",
       "  '4',\n",
       "  '27',\n",
       "  '5',\n",
       "  '0',\n",
       "  '12',\n",
       "  '61',\n",
       "  '.211',\n",
       "  '.259',\n",
       "  '.333',\n",
       "  '.593',\n",
       "  '54',\n",
       "  '57',\n",
       "  '8',\n",
       "  '0',\n",
       "  '3',\n",
       "  '2',\n",
       "  '0'],\n",
       " ['13',\n",
       "  '2B',\n",
       "  'Eduardo Nunez',\n",
       "  '30',\n",
       "  '38',\n",
       "  '173',\n",
       "  '165',\n",
       "  '23',\n",
       "  '53',\n",
       "  '12',\n",
       "  '0',\n",
       "  '8',\n",
       "  '27',\n",
       "  '6',\n",
       "  '2',\n",
       "  '6',\n",
       "  '25',\n",
       "  '.321',\n",
       "  '.353',\n",
       "  '.539',\n",
       "  '.892',\n",
       "  '128',\n",
       "  '89',\n",
       "  '3',\n",
       "  '2',\n",
       "  '0',\n",
       "  '0',\n",
       "  '0'],\n",
       " ['14',\n",
       "  '2B',\n",
       "  'Brock Holt',\n",
       "  '29',\n",
       "  '64',\n",
       "  '164',\n",
       "  '140',\n",
       "  '20',\n",
       "  '28',\n",
       "  '6',\n",
       "  '0',\n",
       "  '0',\n",
       "  '7',\n",
       "  '2',\n",
       "  '1',\n",
       "  '19',\n",
       "  '34',\n",
       "  '.200',\n",
       "  '.305',\n",
       "  '.243',\n",
       "  '.548',\n",
       "  '47',\n",
       "  '34',\n",
       "  '3',\n",
       "  '3',\n",
       "  '0',\n",
       "  '2',\n",
       "  '0'],\n",
       " ['15',\n",
       "  'IF',\n",
       "  'Josh Rutledge',\n",
       "  '28',\n",
       "  '37',\n",
       "  '118',\n",
       "  '107',\n",
       "  '10',\n",
       "  '24',\n",
       "  '2',\n",
       "  '1',\n",
       "  '0',\n",
       "  '9',\n",
       "  '1',\n",
       "  '0',\n",
       "  '9',\n",
       "  '31',\n",
       "  '.224',\n",
       "  '.297',\n",
       "  '.262',\n",
       "  '.558',\n",
       "  '49',\n",
       "  '28',\n",
       "  '1',\n",
       "  '2',\n",
       "  '0',\n",
       "  '0',\n",
       "  '0'],\n",
       " ['16',\n",
       "  '3B',\n",
       "  'Pablo Sandoval',\n",
       "  '30',\n",
       "  '32',\n",
       "  '108',\n",
       "  '99',\n",
       "  '10',\n",
       "  '21',\n",
       "  '2',\n",
       "  '0',\n",
       "  '4',\n",
       "  '12',\n",
       "  '0',\n",
       "  '1',\n",
       "  '8',\n",
       "  '24',\n",
       "  '.212',\n",
       "  '.269',\n",
       "  '.354',\n",
       "  '.622',\n",
       "  '61',\n",
       "  '35',\n",
       "  '4',\n",
       "  '0',\n",
       "  '0',\n",
       "  '1',\n",
       "  '0'],\n",
       " ['17',\n",
       "  'UT',\n",
       "  'Sam Travis',\n",
       "  '23',\n",
       "  '33',\n",
       "  '83',\n",
       "  '76',\n",
       "  '13',\n",
       "  '20',\n",
       "  '6',\n",
       "  '0',\n",
       "  '0',\n",
       "  '1',\n",
       "  '1',\n",
       "  '0',\n",
       "  '6',\n",
       "  '23',\n",
       "  '.263',\n",
       "  '.325',\n",
       "  '.342',\n",
       "  '.667',\n",
       "  '75',\n",
       "  '26',\n",
       "  '2',\n",
       "  '1',\n",
       "  '0',\n",
       "  '0',\n",
       "  '0'],\n",
       " ['18',\n",
       "  'UT',\n",
       "  'Tzu-Wei Lin',\n",
       "  '23',\n",
       "  '25',\n",
       "  '66',\n",
       "  '56',\n",
       "  '7',\n",
       "  '15',\n",
       "  '0',\n",
       "  '2',\n",
       "  '0',\n",
       "  '2',\n",
       "  '1',\n",
       "  '1',\n",
       "  '9',\n",
       "  '17',\n",
       "  '.268',\n",
       "  '.369',\n",
       "  '.339',\n",
       "  '.709',\n",
       "  '88',\n",
       "  '19',\n",
       "  '0',\n",
       "  '0',\n",
       "  '1',\n",
       "  '0',\n",
       "  '0'],\n",
       " ['19',\n",
       "  'IF',\n",
       "  'Marco Hernandez',\n",
       "  '24',\n",
       "  '21',\n",
       "  '60',\n",
       "  '58',\n",
       "  '7',\n",
       "  '16',\n",
       "  '3',\n",
       "  '0',\n",
       "  '0',\n",
       "  '2',\n",
       "  '0',\n",
       "  '1',\n",
       "  '1',\n",
       "  '15',\n",
       "  '.276',\n",
       "  '.300',\n",
       "  '.328',\n",
       "  '.628',\n",
       "  '65',\n",
       "  '19',\n",
       "  '0',\n",
       "  '1',\n",
       "  '0',\n",
       "  '0',\n",
       "  '0'],\n",
       " ['20',\n",
       "  'UT',\n",
       "  'Rajai Davis',\n",
       "  '36',\n",
       "  '17',\n",
       "  '38',\n",
       "  '36',\n",
       "  '7',\n",
       "  '9',\n",
       "  '2',\n",
       "  '0',\n",
       "  '0',\n",
       "  '2',\n",
       "  '3',\n",
       "  '1',\n",
       "  '1',\n",
       "  '13',\n",
       "  '.250',\n",
       "  '.289',\n",
       "  '.306',\n",
       "  '.595',\n",
       "  '56',\n",
       "  '11',\n",
       "  '2',\n",
       "  '1',\n",
       "  '0',\n",
       "  '0',\n",
       "  '0'],\n",
       " ['21',\n",
       "  'UT',\n",
       "  'Steve Selsky',\n",
       "  '27',\n",
       "  '8',\n",
       "  '9',\n",
       "  '9',\n",
       "  '0',\n",
       "  '1',\n",
       "  '1',\n",
       "  '0',\n",
       "  '0',\n",
       "  '0',\n",
       "  '0',\n",
       "  '0',\n",
       "  '0',\n",
       "  '5',\n",
       "  '.111',\n",
       "  '.111',\n",
       "  '.222',\n",
       "  '.333',\n",
       "  '-16',\n",
       "  '2',\n",
       "  '0',\n",
       "  '0',\n",
       "  '0',\n",
       "  '0',\n",
       "  '0'],\n",
       " ['22',\n",
       "  'UT',\n",
       "  'Blake Swihart',\n",
       "  '25',\n",
       "  '6',\n",
       "  '7',\n",
       "  '5',\n",
       "  '1',\n",
       "  '1',\n",
       "  '0',\n",
       "  '0',\n",
       "  '0',\n",
       "  '0',\n",
       "  '0',\n",
       "  '0',\n",
       "  '2',\n",
       "  '3',\n",
       "  '.200',\n",
       "  '.429',\n",
       "  '.200',\n",
       "  '.629',\n",
       "  '74',\n",
       "  '1',\n",
       "  '0',\n",
       "  '0',\n",
       "  '0',\n",
       "  '0',\n",
       "  '0'],\n",
       " ['23',\n",
       "  '2B',\n",
       "  \"Chase d'Arnaud\",\n",
       "  '30',\n",
       "  '2',\n",
       "  '1',\n",
       "  '1',\n",
       "  '2',\n",
       "  '1',\n",
       "  '0',\n",
       "  '0',\n",
       "  '0',\n",
       "  '0',\n",
       "  '0',\n",
       "  '0',\n",
       "  '0',\n",
       "  '0',\n",
       "  '1.000',\n",
       "  '1.000',\n",
       "  '1.000',\n",
       "  '2.000',\n",
       "  '428',\n",
       "  '1',\n",
       "  '0',\n",
       "  '0',\n",
       "  '0',\n",
       "  '0',\n",
       "  '0']]"
      ]
     },
     "execution_count": 131,
     "metadata": {},
     "output_type": "execute_result"
    }
   ],
   "source": [
    "def open_csv(filepath, d = ','):\n",
    "    # Define a list to store the data in:\n",
    "    data = []\n",
    "    \n",
    "    # Use the with keyword and utf-8-sig encoding to load data from .csv!\n",
    "    with open(filepath, encoding='utf-8-sig') as my_data:\n",
    "        info = csv.reader(my_data, delimiter=d)\n",
    "        for row in info:\n",
    "            data.append(row)\n",
    "            \n",
    "    return data\n",
    "\n",
    "csv_data = open_csv(r'C:\\Users\\Alex Lucchesi\\coding-temple\\coding_temple_data_analytics_ft\\week-3\\data\\redsox_2017_hitting.txt')\n",
    "csv_data"
   ]
  },
  {
   "attachments": {},
   "cell_type": "markdown",
   "metadata": {},
   "source": [
    "#### Loading a CSV's Data "
   ]
  },
  {
   "cell_type": "code",
   "execution_count": 143,
   "metadata": {},
   "outputs": [
    {
     "name": "stdout",
     "output_type": "stream",
     "text": [
      "The Average of the Batting Average column is: 27.84\n",
      "Total Hits: 1459\n",
      "Total Home Runs: 168\n",
      "Total Percentage of hits to home runs: 0.11514736120630568\n"
     ]
    }
   ],
   "source": [
    "# using numpy:\n",
    "FIELDS = ['Rk','Pos','Name','Age','G','PA','AB','R','H','2B','3B','HR','RBI','SB',\n",
    "          'CS','BB','SO','BA','OBP','SLG','OPS','OPS+','TB','GDP','HBP','SH','SF','IBB']\n",
    "\n",
    "DATATYPES = [('rk', 'i'), ('pos', '|S25'), ('name', '|S25'), ('age', 'i'), ('g', 'i'), ('pa', 'i'), ('ab', 'i'),\n",
    "                ('r', 'i'), ('h', 'i'), ('2b', 'i'), ('3b', 'i'), ('hr', 'i'), ('rbi', 'i'), ('sb', 'i'), ('cs', 'i'),\n",
    "                ('bb', 'i'), ('so', 'i'), ('ba', 'f'), ('obp', 'f'), ('slg', 'f'), ('ops', 'f'), ('opsp', 'i'),\n",
    "                ('tb', 'i'), ('gdp', 'i'), ('hbp', 'i'), ('sh', 'i'), ('sf', 'i'), ('ibb', 'i')]\n",
    "\n",
    "# Instead of using the csv.reader like we just did, we will load the data into a numpy array and calculate some results:\n",
    "def load_data(filepath, d = ','):\n",
    "    data = np.genfromtxt(filepath, delimiter=d, skip_header=1,\n",
    "                         usecols = np.arange(0,24), invalid_raise=False,\n",
    "                         names = FIELDS, dtype=DATATYPES)\n",
    "    return data\n",
    "\n",
    "# Load in the data\n",
    "bs2017 = load_data(r'C:\\Users\\Alex Lucchesi\\coding-temple\\coding_temple_data_analytics_ft\\week-3\\student_notebooks\\redsox_2017_hitting.txt')\n",
    "bs2018 = load_data(r'C:\\Users\\Alex Lucchesi\\coding-temple\\coding_temple_data_analytics_ft\\week-3\\student_notebooks\\redsox_2018_hitting.txt')\n",
    "\n",
    "# Calculate the average batting average\n",
    "length = len(bs2018['BA'])\n",
    "print(f'Average of the Batting Average Column is: {round((sum(bs2018[\"BA\"]) / length)*100, 2)}')\n",
    "\n",
    "# Sum of total hits\n",
    "print(f'Total Hits: {int(sum(bs2018[\"H\"]))}')\n",
    "\n",
    "# Home Runs Total:\n",
    "print(f\"Total Home Runs: {int(sum(bs2018['HR']))}\")"
   ]
  },
  {
   "cell_type": "code",
   "execution_count": 144,
   "metadata": {},
   "outputs": [
    {
     "data": {
      "text/plain": [
       "array([( 1, b'C', b'Christian Vazquez', 26,  99, 345, 324,  43,  94, 18, 2,  5,  32,  7, 2, 17,  64, 0.29 , 0.33 , 0.404, 0.735,  91, 131, 14),\n",
       "       ( 2, b'1B', b'Mitch Moreland', 31, 149, 576, 508,  73, 125, 34, 0, 22,  79,  0, 1, 57, 120, 0.246, 0.326, 0.443, 0.769,  99, 225, 14),\n",
       "       ( 3, b'2B', b'Dustin Pedroia', 33, 105, 463, 406,  46, 119, 19, 0,  7,  62,  4, 3, 49,  48, 0.293, 0.369, 0.392, 0.76 , 100, 159, 11),\n",
       "       ( 4, b'SS', b'Xander Bogaerts', 24, 148, 635, 571,  94, 156, 32, 6, 10,  62, 15, 1, 56, 116, 0.273, 0.343, 0.403, 0.746,  95, 230, 17),\n",
       "       ( 5, b'3B', b'Rafael Devers', 20,  58, 240, 222,  34,  63, 14, 0, 10,  30,  3, 1, 18,  57, 0.284, 0.338, 0.482, 0.819, 111, 107,  5),\n",
       "       ( 6, b'LF', b'Andrew Benintendi', 22, 151, 658, 573,  84, 155, 26, 1, 20,  90, 20, 5, 70, 112, 0.271, 0.352, 0.424, 0.776, 102, 243, 16),\n",
       "       ( 7, b'CF', b'Jackie Bradley Jr.', 27, 133, 541, 482,  58, 118, 19, 3, 17,  63,  8, 3, 48, 124, 0.245, 0.323, 0.402, 0.726,  89, 194,  8),\n",
       "       ( 8, b'RF', b'Mookie Betts', 24, 153, 712, 628, 101, 166, 46, 2, 24, 102, 26, 3, 77,  79, 0.264, 0.344, 0.459, 0.803, 108, 288,  9),\n",
       "       ( 9, b'DH', b'Hanley Ramirez', 33, 133, 553, 496,  58, 120, 24, 0, 23,  62,  1, 3, 51, 116, 0.242, 0.32 , 0.429, 0.75 ,  94, 213, 15),\n",
       "       (10, b'C', b'Sandy Leon', 28,  85, 301, 271,  32,  61, 14, 0,  7,  39,  0, 0, 25,  74, 0.225, 0.29 , 0.354, 0.644,  68,  96,  5),\n",
       "       (11, b'UT', b'Chris Young', 33,  90, 276, 243,  30,  57, 12, 2,  7,  25,  3, 2, 30,  55, 0.235, 0.322, 0.387, 0.709,  85,  94,  4),\n",
       "       (12, b'3B', b'Deven Marrero', 26,  71, 188, 171,  32,  36,  9, 0,  4,  27,  5, 0, 12,  61, 0.211, 0.259, 0.333, 0.593,  54,  57,  8),\n",
       "       (13, b'2B', b'Eduardo Nunez', 30,  38, 173, 165,  23,  53, 12, 0,  8,  27,  6, 2,  6,  25, 0.321, 0.353, 0.539, 0.892, 128,  89,  3),\n",
       "       (14, b'2B', b'Brock Holt', 29,  64, 164, 140,  20,  28,  6, 0,  0,   7,  2, 1, 19,  34, 0.2  , 0.305, 0.243, 0.548,  47,  34,  3),\n",
       "       (15, b'IF', b'Josh Rutledge', 28,  37, 118, 107,  10,  24,  2, 1,  0,   9,  1, 0,  9,  31, 0.224, 0.297, 0.262, 0.558,  49,  28,  1),\n",
       "       (16, b'3B', b'Pablo Sandoval', 30,  32, 108,  99,  10,  21,  2, 0,  4,  12,  0, 1,  8,  24, 0.212, 0.269, 0.354, 0.622,  61,  35,  4),\n",
       "       (17, b'UT', b'Sam Travis', 23,  33,  83,  76,  13,  20,  6, 0,  0,   1,  1, 0,  6,  23, 0.263, 0.325, 0.342, 0.667,  75,  26,  2),\n",
       "       (18, b'UT', b'Tzu-Wei Lin', 23,  25,  66,  56,   7,  15,  0, 2,  0,   2,  1, 1,  9,  17, 0.268, 0.369, 0.339, 0.709,  88,  19,  0),\n",
       "       (19, b'IF', b'Marco Hernandez', 24,  21,  60,  58,   7,  16,  3, 0,  0,   2,  0, 1,  1,  15, 0.276, 0.3  , 0.328, 0.628,  65,  19,  0),\n",
       "       (20, b'UT', b'Rajai Davis', 36,  17,  38,  36,   7,   9,  2, 0,  0,   2,  3, 1,  1,  13, 0.25 , 0.289, 0.306, 0.595,  56,  11,  2),\n",
       "       (21, b'UT', b'Steve Selsky', 27,   8,   9,   9,   0,   1,  1, 0,  0,   0,  0, 0,  0,   5, 0.111, 0.111, 0.222, 0.333, -16,   2,  0),\n",
       "       (22, b'UT', b'Blake Swihart', 25,   6,   7,   5,   1,   1,  0, 0,  0,   0,  0, 0,  2,   3, 0.2  , 0.429, 0.2  , 0.629,  74,   1,  0),\n",
       "       (23, b'2B', b\"Chase d'Arnaud\", 30,   2,   1,   1,   2,   1,  0, 0,  0,   0,  0, 0,  0,   0, 1.   , 1.   , 1.   , 2.   , 428,   1,  0)],\n",
       "      dtype=[('Rk', '<i4'), ('Pos', 'S25'), ('Name', 'S25'), ('Age', '<i4'), ('G', '<i4'), ('PA', '<i4'), ('AB', '<i4'), ('R', '<i4'), ('H', '<i4'), ('2B', '<i4'), ('3B', '<i4'), ('HR', '<i4'), ('RBI', '<i4'), ('SB', '<i4'), ('CS', '<i4'), ('BB', '<i4'), ('SO', '<i4'), ('BA', '<f4'), ('OBP', '<f4'), ('SLG', '<f4'), ('OPS', '<f4'), ('OPS_1', '<i4'), ('TB', '<i4'), ('GDP', '<i4')])"
      ]
     },
     "execution_count": 144,
     "metadata": {},
     "output_type": "execute_result"
    }
   ],
   "source": [
    "bs2017"
   ]
  },
  {
   "attachments": {},
   "cell_type": "markdown",
   "metadata": {},
   "source": [
    "#### Summing the top 5 hitters for HR's"
   ]
  },
  {
   "cell_type": "code",
   "execution_count": 146,
   "metadata": {},
   "outputs": [
    {
     "data": {
      "text/plain": [
       "[('Mookie Betts', 24),\n",
       " ('Hanley Ramirez', 23),\n",
       " ('Mitch Moreland', 22),\n",
       " ('Andrew Benintendi', 20),\n",
       " ('Jackie Bradley Jr.', 17)]"
      ]
     },
     "execution_count": 146,
     "metadata": {},
     "output_type": "execute_result"
    }
   ],
   "source": [
    "# Step 1: Grab all the HR data into a single variable\n",
    "all_hr = bs2017['HR']\n",
    "\n",
    "# Step 2: Grab all the player names\n",
    "all_names = bs2017['Name']\n",
    "\n",
    "# Step 3: Create a new list for the new names and the amount of home runs\n",
    "new_names = []\n",
    "\n",
    "# Step 4: Decode the byte strings of all player names\n",
    "for name in range(len(all_names)):\n",
    "    new_names.append(all_names[name].decode('utf-8'))\n",
    "\n",
    "# Step 5: Grab all the data and place inside of a zipped list:\n",
    "zipped_values = list(zip(new_names, all_hr))\n",
    "\n",
    "# Step 6: Sort values based on home run data\n",
    "sorted_hr = sorted(zipped_values, key= lambda x: x[1], reverse = True)\n",
    "sorted_hr[:5]"
   ]
  },
  {
   "cell_type": "code",
   "execution_count": null,
   "metadata": {},
   "outputs": [],
   "source": []
  }
 ],
 "metadata": {
  "kernelspec": {
   "display_name": "Python 3",
   "language": "python",
   "name": "python3"
  },
  "language_info": {
   "codemirror_mode": {
    "name": "ipython",
    "version": 3
   },
   "file_extension": ".py",
   "mimetype": "text/x-python",
   "name": "python",
   "nbconvert_exporter": "python",
   "pygments_lexer": "ipython3",
   "version": "3.11.5"
  },
  "vscode": {
   "interpreter": {
    "hash": "26de051ba29f2982a8de78e945f0abaf191376122a1563185a90213a26c5da77"
   }
  }
 },
 "nbformat": 4,
 "nbformat_minor": 2
}
