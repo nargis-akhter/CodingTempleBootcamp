{
 "cells": [
  {
   "attachments": {},
   "cell_type": "markdown",
   "metadata": {},
   "source": [
    "# Coding Temple's Data Analytics Program\n",
    "---\n",
    "## Python Basics Assignment 4\n",
    "---"
   ]
  },
  {
   "attachments": {},
   "cell_type": "markdown",
   "metadata": {},
   "source": [
    "### **Task 1: Update Shopping Cart**\n",
    "Using the shopping cart you created yesterday as a blueprint, create a shopping cart using object-oriented programming. This shopping cart should maintain all functionality that you currently have in your blueprint."
   ]
  },
  {
   "cell_type": "code",
   "execution_count": 8,
   "metadata": {},
   "outputs": [],
   "source": [
    "# YOUR CODE HERE\n",
    "\n",
    "class DigitalShoppingCart:\n",
    "    \"\"\" This digital shopping cart will have only items and their quantities placed inside\n",
    "    \n",
    "    Attributes for this class:\n",
    "    -Items: the items and its quantity are placed as a list\n",
    "    \n",
    "    Methods for class:\n",
    "    -Inititalize, just asks for the name of the cart \n",
    "    -add_to_cart: add item and its quantity to the cart\n",
    "    -remove_from_cart: remove item and its quantity from the cart\n",
    "    -clear_cart: empty the cart\n",
    "    -view_cart: see the cart\n",
    "    -checkout: prints the existing cart and totals the quantity\n",
    "    \"\"\"\n",
    "    \n",
    "    def __init__(self):\n",
    "        self.items = []\n",
    "        \n",
    "    def add_to_cart(self, item_name):\n",
    "        #adding item to our cart\n",
    "        self.items.append(item_name)\n",
    "        \n",
    "    def remove_from_cart(self, item_name):\n",
    "        #removes item from cart!\n",
    "        if item_name not in self.items:\n",
    "            print(\"Item not found!\")\n",
    "        else:\n",
    "            self.items.remove(item_name)\n",
    "            print(f\"We removed {item_name} from your cart!\")\n",
    "    \n",
    "    def clear_cart(self):\n",
    "        #empty the cart:\n",
    "        self.items.cleat()\n",
    "        print(\"Your cart has been cleared!\")\n",
    "        \n",
    "    def view_cart(self):\n",
    "        print(self.items)\n",
    "        \n",
    "    def checkout(self):\n",
    "        print(\"Your shopping list:\")\n",
    "        print(self.items)\n",
    "        print(f\"You have {len(self.items)} items in your cart!\")\n",
    "        \n"
   ]
  },
  {
   "cell_type": "code",
   "execution_count": 11,
   "metadata": {},
   "outputs": [
    {
     "name": "stdout",
     "output_type": "stream",
     "text": [
      "['Utensils', 'Python Textbook']\n",
      "Your shopping list:\n",
      "['Utensils', 'Python Textbook']\n",
      "You have 2 items in your cart!\n"
     ]
    }
   ],
   "source": [
    "amazon_cart = DigitalShoppingCart()\n",
    "amazon_cart.add_to_cart(\"Utensils\")\n",
    "amazon_cart.add_to_cart(\"Python Textbook\")\n",
    "amazon_cart.view_cart()\n",
    "amazon_cart.checkout()"
   ]
  },
  {
   "attachments": {},
   "cell_type": "markdown",
   "metadata": {},
   "source": [
    "### **Task 2: String Class**\n",
    "Write a class which has the following two methods:\n",
    "* `get_string`: Accepts a string input from the user\n",
    "* `print_string`: Prints the string all in upper-case"
   ]
  },
  {
   "cell_type": "code",
   "execution_count": null,
   "metadata": {},
   "outputs": [],
   "source": [
    "class \n",
    "get_string = input"
   ]
  },
  {
   "attachments": {},
   "cell_type": "markdown",
   "metadata": {},
   "source": [
    "### **Task 3: Activities**\n",
    "Create a class that depicts your favorite activity. Add in attributes that are associated with that activity in you `__init__` call. Also, create three functions that are associated with the activity.\n",
    "\n",
    "**Example:**\n",
    "If I chose football, I may have a FootballPlayer class with attributes such as:\n",
    "* `self.speed`\n",
    "* `self.strength`\n",
    "* `self.position`\n",
    "\n",
    "and methods such as:\n",
    "* `def pass_ball`\n",
    "* `def run`\n",
    "* `def faster_than_x`"
   ]
  },
  {
   "cell_type": "code",
   "execution_count": null,
   "metadata": {},
   "outputs": [],
   "source": []
  },
  {
   "attachments": {},
   "cell_type": "markdown",
   "metadata": {},
   "source": [
    "### **Task 4: Test Your Class!**\n",
    "Now that you created your class, let's create an instance of your class. In the cell below, instantiate a Class Object, then test each of your class methods on that object."
   ]
  },
  {
   "cell_type": "code",
   "execution_count": null,
   "metadata": {},
   "outputs": [],
   "source": []
  }
 ],
 "metadata": {
  "kernelspec": {
   "display_name": "Python 3",
   "language": "python",
   "name": "python3"
  },
  "language_info": {
   "codemirror_mode": {
    "name": "ipython",
    "version": 3
   },
   "file_extension": ".py",
   "mimetype": "text/x-python",
   "name": "python",
   "nbconvert_exporter": "python",
   "pygments_lexer": "ipython3",
   "version": "3.11.4"
  },
  "orig_nbformat": 4,
  "vscode": {
   "interpreter": {
    "hash": "26de051ba29f2982a8de78e945f0abaf191376122a1563185a90213a26c5da77"
   }
  }
 },
 "nbformat": 4,
 "nbformat_minor": 2
}
