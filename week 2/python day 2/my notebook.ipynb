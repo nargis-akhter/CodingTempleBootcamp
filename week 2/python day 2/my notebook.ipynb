{
  "cells": [
    {
      "attachments": {},
      "cell_type": "markdown",
      "metadata": {
        "id": "9bJtKniLrs8X"
      },
      "source": [
        "# Coding Temple's Data Analytics Course\n",
        "---\n",
        "## Python I: Functions, Scoping, Data Collections 1 & List Comprehensions\n",
        "---"
      ]
    },
    {
      "attachments": {},
      "cell_type": "markdown",
      "metadata": {
        "id": "qbED-38grs8a"
      },
      "source": [
        "### Tasks Today:\n",
        "\n",
        "<i>Monday Additions (or, and ... if statements)</i>\n",
        "\n",
        "1) String Manipulation <br>\n",
        " &nbsp;&nbsp;&nbsp;&nbsp; a) strip() <br>\n",
        " &nbsp;&nbsp;&nbsp;&nbsp; b) title() <br>\n",
        "2) Working With Lists <br>\n",
        " &nbsp;&nbsp;&nbsp;&nbsp; a) min() <br>\n",
        " &nbsp;&nbsp;&nbsp;&nbsp; b) max() <br>\n",
        " &nbsp;&nbsp;&nbsp;&nbsp; c) sum() <br>\n",
        " &nbsp;&nbsp;&nbsp;&nbsp; d) sort() <br>\n",
        " &nbsp;&nbsp;&nbsp;&nbsp; e) Copying a List <br>\n",
        " &nbsp;&nbsp;&nbsp;&nbsp; f) 'in' keyword <br>\n",
        " &nbsp;&nbsp;&nbsp;&nbsp; g) 'not in' keyword <br>\n",
        " &nbsp;&nbsp;&nbsp;&nbsp; i) Checking an Empty List <br>\n",
        " &nbsp;&nbsp;&nbsp;&nbsp; j) Removing Instances with a Loop <br>\n",
        "3) List Comprehensions <br>\n",
        "4) Tuples <br>\n",
        " &nbsp;&nbsp;&nbsp;&nbsp; a) sorted() <br>\n",
        "5) Functions <br>\n",
        " &nbsp;&nbsp;&nbsp;&nbsp; a) User-Defined vs. Built-In Functions <br>\n",
        " &nbsp;&nbsp;&nbsp;&nbsp; b) Accepting Parameters <br>\n",
        " &nbsp;&nbsp;&nbsp;&nbsp; c) Default Parameters <br>\n",
        " &nbsp;&nbsp;&nbsp;&nbsp; d) Making an Argument Optional <br>\n",
        " &nbsp;&nbsp;&nbsp;&nbsp; e) Keyword Arguments <br>\n",
        " &nbsp;&nbsp;&nbsp;&nbsp; f) Returning Values <br>\n",
        " &nbsp;&nbsp;&nbsp;&nbsp; g) *args <br>\n",
        " &nbsp;&nbsp;&nbsp;&nbsp; h) Docstring <br>\n",
        " &nbsp;&nbsp;&nbsp;&nbsp; i) Using a User Function in a Loop <br>\n",
        "6) Scope"
      ]
    },
    {
      "attachments": {},
      "cell_type": "markdown",
      "metadata": {
        "id": "WaEiK5Mxrs8b"
      },
      "source": [
        "### String Manipulation"
      ]
    },
    {
      "attachments": {},
      "cell_type": "markdown",
      "metadata": {
        "id": "oAHRIMwirs8c"
      },
      "source": [
        "##### .lstrip()"
      ]
    },
    {
      "cell_type": "code",
      "execution_count": 7,
      "metadata": {
        "id": "67XdgYVYrs8c"
      },
      "outputs": [
        {
          "name": "stdout",
          "output_type": "stream",
          "text": [
            "         hJohn Smith\n"
          ]
        }
      ],
      "source": [
        "#left strip\n",
        "name = '         hJohn Smith'\n",
        "print(name.lstrip(\" \" \"h\"))\n",
        "\n",
        "#Remove any empty spaces and the letter h"
      ]
    },
    {
      "attachments": {},
      "cell_type": "markdown",
      "metadata": {
        "id": "SqdqgTi7rs8d"
      },
      "source": [
        "##### .rstrip()"
      ]
    },
    {
      "cell_type": "code",
      "execution_count": 8,
      "metadata": {
        "id": "W4KfZlUdrs8e"
      },
      "outputs": [
        {
          "name": "stdout",
          "output_type": "stream",
          "text": [
            "Bob Ross\n"
          ]
        }
      ],
      "source": [
        "name = 'Bob Ross      th'\n",
        "print(name.rstrip(\" \" \"th\"))"
      ]
    },
    {
      "attachments": {},
      "cell_type": "markdown",
      "metadata": {
        "id": "gnyAnkkLrs8e"
      },
      "source": [
        "##### .strip()"
      ]
    },
    {
      "cell_type": "code",
      "execution_count": 16,
      "metadata": {
        "id": "ee-X-fZurs8f"
      },
      "outputs": [
        {
          "name": "stdout",
          "output_type": "stream",
          "text": [
            "John Smith\n"
          ]
        }
      ],
      "source": [
        "#Does both ^^\n",
        "\n",
        "name = \"         John Smith     af\"\n",
        "print(name.strip(\" \" \"af\"))"
      ]
    },
    {
      "attachments": {},
      "cell_type": "markdown",
      "metadata": {},
      "source": [
        "#### .upper()\n",
        "#### .lower()"
      ]
    },
    {
      "cell_type": "code",
      "execution_count": 1,
      "metadata": {},
      "outputs": [
        {
          "data": {
            "text/plain": [
              "'joe biden'"
            ]
          },
          "execution_count": 1,
          "metadata": {},
          "output_type": "execute_result"
        }
      ],
      "source": [
        "president = 'joe biden'\n",
        "president.upper()\n",
        "president.lower()"
      ]
    },
    {
      "attachments": {},
      "cell_type": "markdown",
      "metadata": {
        "id": "MiAFvZdPrs8f"
      },
      "source": [
        "##### .title()"
      ]
    },
    {
      "cell_type": "code",
      "execution_count": 19,
      "metadata": {
        "id": "6d21S6C6rs8f"
      },
      "outputs": [
        {
          "data": {
            "text/plain": [
              "'Joe Biden'"
            ]
          },
          "execution_count": 19,
          "metadata": {},
          "output_type": "execute_result"
        }
      ],
      "source": [
        "#Capitalizes first letter of each word\n",
        "president.title()"
      ]
    },
    {
      "attachments": {},
      "cell_type": "markdown",
      "metadata": {
        "id": "D80meSR5rs8g"
      },
      "source": [
        "### String Exercise <br>\n",
        "<p>Strip all white space and capitalize every name in the list given</p>"
      ]
    },
    {
      "cell_type": "code",
      "execution_count": 27,
      "metadata": {
        "id": "wPiqY8qFrs8g"
      },
      "outputs": [
        {
          "name": "stdout",
          "output_type": "stream",
          "text": [
            "Connor\n",
            "Max\n",
            "Evan\n",
            "Jordan\n",
            "['Connor', 'Max', 'Evan', 'Jordan']\n"
          ]
        }
      ],
      "source": [
        "names = ['    coNNor', 'max', ' EVan ', 'JORDAN']\n",
        "# HINT: You will need to use a for loop for iteration\n",
        "\n",
        "#Step 1: Strip access\n",
        "#Step 2: Capitalize letters\n",
        "#Step 3: Print\n",
        "\n",
        "for name in names:\n",
        "    print(name.strip().title())\n",
        "    \n",
        "names_list = []\n",
        "for name in names:\n",
        "    names_list.append(name.strip().title())\n",
        "    \n",
        "print(names_list)\n",
        "\n",
        "\n"
      ]
    },
    {
      "attachments": {},
      "cell_type": "markdown",
      "metadata": {
        "id": "OaW8hdDnrs8g"
      },
      "source": [
        "### Working With Lists"
      ]
    },
    {
      "attachments": {},
      "cell_type": "markdown",
      "metadata": {
        "id": "lsl3saTtrs8g"
      },
      "source": [
        "##### min()"
      ]
    },
    {
      "cell_type": "code",
      "execution_count": 28,
      "metadata": {
        "id": "DfUyTjiUrs8h"
      },
      "outputs": [
        {
          "name": "stdout",
          "output_type": "stream",
          "text": [
            "2\n"
          ]
        }
      ],
      "source": [
        "num_list = [4,2,97,54,16]\n",
        "\n",
        "#min() returns the minimum value of a list:\n",
        "print(min(num_list))"
      ]
    },
    {
      "attachments": {},
      "cell_type": "markdown",
      "metadata": {
        "id": "56woj1myrs8h"
      },
      "source": [
        "##### max()"
      ]
    },
    {
      "cell_type": "code",
      "execution_count": 29,
      "metadata": {
        "id": "4ifb__khrs8h"
      },
      "outputs": [
        {
          "name": "stdout",
          "output_type": "stream",
          "text": [
            "97\n"
          ]
        }
      ],
      "source": [
        "print(max(num_list))"
      ]
    },
    {
      "attachments": {},
      "cell_type": "markdown",
      "metadata": {
        "id": "Q_LhnHozrs8h"
      },
      "source": [
        "##### sum()"
      ]
    },
    {
      "cell_type": "code",
      "execution_count": 30,
      "metadata": {
        "id": "MNBLfI57rs8i"
      },
      "outputs": [
        {
          "name": "stdout",
          "output_type": "stream",
          "text": [
            "173\n"
          ]
        }
      ],
      "source": [
        "print(sum(num_list))"
      ]
    },
    {
      "attachments": {},
      "cell_type": "markdown",
      "metadata": {
        "id": "Pmkxsqcwrs8i"
      },
      "source": [
        "##### sorted()"
      ]
    },
    {
      "cell_type": "code",
      "execution_count": 37,
      "metadata": {
        "id": "_LpP0pYlrs8i"
      },
      "outputs": [
        {
          "name": "stdout",
          "output_type": "stream",
          "text": [
            "[4, 2, 97, 54, 16]\n",
            "Before sorting: [4, 2, 97, 54, 16]\n",
            "After sorting: [2, 4, 16, 54, 97]\n"
          ]
        }
      ],
      "source": [
        "#Doesn't change original list\n",
        "#Function\n",
        "\n",
        "#sorted(list_object)\n",
        "print(num_list)\n",
        "\n",
        "sorted_nums = sorted(num_list)\n",
        "\n",
        "#f is formatted string\n",
        "print(f'Before sorting: {num_list}')\n",
        "print(f'After sorting: {sorted_nums}')"
      ]
    },
    {
      "attachments": {},
      "cell_type": "markdown",
      "metadata": {
        "id": "WUUKnCRHrs8i"
      },
      "source": [
        "##### .sort() <br>\n",
        "<p>Difference between sort and sorted, is that sorted doesn't change original list it returns a copy, while .sort changes the original list</p>"
      ]
    },
    {
      "cell_type": "code",
      "execution_count": 39,
      "metadata": {
        "id": "8easNUqGrs8j"
      },
      "outputs": [
        {
          "data": {
            "text/plain": [
              "[2, 4, 16, 54, 97]"
            ]
          },
          "execution_count": 39,
          "metadata": {},
          "output_type": "execute_result"
        }
      ],
      "source": [
        "#Changes original list\n",
        "#list.sort()\n",
        "#Method - anything that's attached to a class. String is a class.\n",
        "\n",
        "num_list.sort()\n",
        "num_list"
      ]
    },
    {
      "attachments": {},
      "cell_type": "markdown",
      "metadata": {
        "id": "Zk7lrB7qrs8j"
      },
      "source": [
        "##### Copying a List"
      ]
    },
    {
      "cell_type": "code",
      "execution_count": 41,
      "metadata": {
        "id": "XPnSFoGMrs8j"
      },
      "outputs": [
        {
          "name": "stdout",
          "output_type": "stream",
          "text": [
            "[2, 4, 16, 54, 97]\n",
            "[2, 4, 16, 54, 97]\n"
          ]
        }
      ],
      "source": [
        "# [:] copies a list, does not alter the original list at all\n",
        "l_1 = num_list[:]\n",
        "print(l_1)\n",
        "print(num_list)"
      ]
    },
    {
      "attachments": {},
      "cell_type": "markdown",
      "metadata": {
        "id": "RxI0RzOgrs8j"
      },
      "source": [
        "##### 'in' keyword"
      ]
    },
    {
      "cell_type": "code",
      "execution_count": 42,
      "metadata": {
        "id": "kodTed97rs8j"
      },
      "outputs": [
        {
          "name": "stdout",
          "output_type": "stream",
          "text": [
            "Whitney is a student!\n"
          ]
        }
      ],
      "source": [
        "ct_teachers = ['Alex', 'Katie', 'Sarah', 'Shay', 'Kevin']\n",
        "\n",
        "#Use the keyword to check if a name is in a list:\n",
        "#This is one use-case, but is super useful for all 1-D checks\n",
        "\n",
        "if 'Whitney' in ct_teachers:\n",
        "    print(\"Whitney is now an instructor!\")\n",
        "else:\n",
        "    print(\"Whitney is a student!\")"
      ]
    },
    {
      "cell_type": "code",
      "execution_count": 43,
      "metadata": {},
      "outputs": [
        {
          "name": "stdout",
          "output_type": "stream",
          "text": [
            "James is a student!\n"
          ]
        }
      ],
      "source": []
    },
    {
      "attachments": {},
      "cell_type": "markdown",
      "metadata": {
        "id": "FxrCx1KNrs8j"
      },
      "source": [
        "##### 'not in' keyword"
      ]
    },
    {
      "cell_type": "code",
      "execution_count": null,
      "metadata": {
        "id": "xNtSNQiJrs8j"
      },
      "outputs": [],
      "source": [
        "if 'James' not in ct_teachers:\n",
        "    print(\"James is a student!\")"
      ]
    },
    {
      "attachments": {},
      "cell_type": "markdown",
      "metadata": {
        "id": "BUZcIm0jrs8k"
      },
      "source": [
        "##### Checking an Empty List"
      ]
    },
    {
      "cell_type": "code",
      "execution_count": 46,
      "metadata": {
        "id": "0hRGfavzrs8k"
      },
      "outputs": [],
      "source": [
        "l_2 = []"
      ]
    },
    {
      "cell_type": "code",
      "execution_count": 51,
      "metadata": {},
      "outputs": [
        {
          "name": "stdout",
          "output_type": "stream",
          "text": [
            "False\n"
          ]
        }
      ],
      "source": [
        "print(not l_2)\n",
        "if not l_2:\n",
        "    print(\"This is an empty list!\")"
      ]
    },
    {
      "attachments": {},
      "cell_type": "markdown",
      "metadata": {
        "id": "sYkofVKHrs8k"
      },
      "source": [
        "##### Removing Instances with a Loop"
      ]
    },
    {
      "cell_type": "code",
      "execution_count": 4,
      "metadata": {
        "id": "9enOHbb4rs8k"
      },
      "outputs": [
        {
          "name": "stdout",
          "output_type": "stream",
          "text": [
            "['Connor', 'Joel']\n"
          ]
        }
      ],
      "source": [
        "#While loop, remove statement, or method\n",
        "\n",
        "names = ['Connor', 'Joel', 'Evan']\n",
        "\n",
        "#while 'Evan' in names:\n",
        "    #names.remove('Evan')\n",
        "#print(names)\n",
        "\n",
        "for name in names:\n",
        "    if name == 'Evan':\n",
        "        names.remove('Evan')\n",
        "print(names)"
      ]
    },
    {
      "attachments": {},
      "cell_type": "markdown",
      "metadata": {
        "id": "S-x8E0cDrs8k"
      },
      "source": [
        "### List Exercise <br>\n",
        "<p>Remove all duplicates<br><b>Extra: Create a program that will remove any duplicates from a given list</b></p>"
      ]
    },
    {
      "cell_type": "code",
      "execution_count": 59,
      "metadata": {
        "id": "BlrVsVUprs8k"
      },
      "outputs": [
        {
          "name": "stdout",
          "output_type": "stream",
          "text": [
            "['connor', 'bob', 'evan', 'max', 2, 3, 4, 'kevin']\n"
          ]
        }
      ],
      "source": [
        "names = ['connor', 'connor', 'bob', 'connor', 'evan', 'max', 'evan', 2, 2, 2, 3, 3, 4, 'bob', 'kevin']\n",
        "# Hint 1: You will need an append\n",
        "# Hint 2: Using an empty list will make this easier!\n",
        "\n",
        "def solution(lst): #variables are placeholders, lst is nothing but a placeholder\n",
        "\n",
        "    names_dedup = []\n",
        "\n",
        "    for name in lst:\n",
        "        if name not in names_dedup:\n",
        "            names_dedup.append(name)\n",
        "    return names_dedup\n",
        "print(solution(names))"
      ]
    },
    {
      "attachments": {},
      "cell_type": "markdown",
      "metadata": {
        "id": "6Ci7F4P2rs8k"
      },
      "source": [
        "### List Comprehensions <br>\n",
        "<p>Creating a quickly generated list to work with<br>*result*  = [*transform*    *iteration*         *filter*     ]</p>"
      ]
    },
    {
      "cell_type": "markdown",
      "metadata": {},
      "source": []
    },
    {
      "attachments": {},
      "cell_type": "markdown",
      "metadata": {
        "id": "ZnDqczhXrs8l"
      },
      "source": [
        "##### In a list comprehension we have a few pieces:\n",
        "1. The first is the counter/ variable - IN this the variable is x\n",
        "2. then we have a transform for the variable\n",
        "3. The finale part of a list comp is called the condition\n",
        "\n",
        "```python\n",
        "    [variable, transform, condition]\n",
        "```"
      ]
    },
    {
      "cell_type": "code",
      "execution_count": null,
      "metadata": {
        "id": "2fHFPjOOrs8l"
      },
      "outputs": [],
      "source": [
        "nums = []\n",
        "\n",
        "for val in range(200):\n",
        "    if val % 2 == 0:\n",
        "        nums.append(val ** 2)\n",
        "\n",
        "print(nums)\n",
        "\n",
        "\n",
        "# Shorter method:\n",
        "\n",
        "# List comp syntax\n",
        "# IN list comp, we have a few different pieces:\n",
        "# The first is the counter/variable. \n",
        "# The next piece, is the iterator. This is typically a for loop\n",
        "# Conditionals come next!\n",
        "nums_comp = [val ** 2 for val in range(200) if val % 2 == 0]\n",
        "print(nums_comp)"
      ]
    },
    {
      "attachments": {},
      "cell_type": "markdown",
      "metadata": {
        "id": "3ls5g5A2rs8l"
      },
      "source": [
        "There are a few benefits to using List comprehensions. The most obvious would be that we now have shorter code to work with instead of using 3+ lines of code in the for loop variant.\n",
        "\n",
        "Another is an added benefit to memory usage. Since the list's memory is allocated first before adding elements to it, we don't have to resize the list once we add elements to it.\n",
        "\n",
        "Lastly, list comprehensions are considered the \"pythonic\" way to write code by the PEP8 standards (Python Style Guide)"
      ]
    },
    {
      "cell_type": "code",
      "execution_count": 5,
      "metadata": {
        "id": "CPIujsPPrs8l"
      },
      "outputs": [
        {
          "data": {
            "text/plain": [
              "[0,\n",
              " 0,\n",
              " 4,\n",
              " 0,\n",
              " 16,\n",
              " 0,\n",
              " 36,\n",
              " 0,\n",
              " 64,\n",
              " 0,\n",
              " 100,\n",
              " 0,\n",
              " 144,\n",
              " 0,\n",
              " 196,\n",
              " 0,\n",
              " 256,\n",
              " 0,\n",
              " 324,\n",
              " 0,\n",
              " 400,\n",
              " 0,\n",
              " 484,\n",
              " 0,\n",
              " 576,\n",
              " 0,\n",
              " 676,\n",
              " 0,\n",
              " 784,\n",
              " 0,\n",
              " 900,\n",
              " 0,\n",
              " 1024,\n",
              " 0,\n",
              " 1156,\n",
              " 0,\n",
              " 1296,\n",
              " 0,\n",
              " 1444,\n",
              " 0,\n",
              " 1600,\n",
              " 0,\n",
              " 1764,\n",
              " 0,\n",
              " 1936,\n",
              " 0,\n",
              " 2116,\n",
              " 0,\n",
              " 2304,\n",
              " 0,\n",
              " 2500,\n",
              " 0,\n",
              " 2704,\n",
              " 0,\n",
              " 2916,\n",
              " 0,\n",
              " 3136,\n",
              " 0,\n",
              " 3364,\n",
              " 0,\n",
              " 3600,\n",
              " 0,\n",
              " 3844,\n",
              " 0,\n",
              " 4096,\n",
              " 0,\n",
              " 4356,\n",
              " 0,\n",
              " 4624,\n",
              " 0,\n",
              " 4900,\n",
              " 0,\n",
              " 5184,\n",
              " 0,\n",
              " 5476,\n",
              " 0,\n",
              " 5776,\n",
              " 0,\n",
              " 6084,\n",
              " 0,\n",
              " 6400,\n",
              " 0,\n",
              " 6724,\n",
              " 0,\n",
              " 7056,\n",
              " 0,\n",
              " 7396,\n",
              " 0,\n",
              " 7744,\n",
              " 0,\n",
              " 8100,\n",
              " 0,\n",
              " 8464,\n",
              " 0,\n",
              " 8836,\n",
              " 0,\n",
              " 9216,\n",
              " 0,\n",
              " 9604,\n",
              " 0,\n",
              " 10000,\n",
              " 0,\n",
              " 10404,\n",
              " 0,\n",
              " 10816,\n",
              " 0,\n",
              " 11236,\n",
              " 0,\n",
              " 11664,\n",
              " 0,\n",
              " 12100,\n",
              " 0,\n",
              " 12544,\n",
              " 0,\n",
              " 12996,\n",
              " 0,\n",
              " 13456,\n",
              " 0,\n",
              " 13924,\n",
              " 0,\n",
              " 14400,\n",
              " 0,\n",
              " 14884,\n",
              " 0,\n",
              " 15376,\n",
              " 0,\n",
              " 15876,\n",
              " 0,\n",
              " 16384,\n",
              " 0,\n",
              " 16900,\n",
              " 0,\n",
              " 17424,\n",
              " 0,\n",
              " 17956,\n",
              " 0,\n",
              " 18496,\n",
              " 0,\n",
              " 19044,\n",
              " 0,\n",
              " 19600,\n",
              " 0,\n",
              " 20164,\n",
              " 0,\n",
              " 20736,\n",
              " 0,\n",
              " 21316,\n",
              " 0,\n",
              " 21904,\n",
              " 0,\n",
              " 22500,\n",
              " 0,\n",
              " 23104,\n",
              " 0,\n",
              " 23716,\n",
              " 0,\n",
              " 24336,\n",
              " 0,\n",
              " 24964,\n",
              " 0,\n",
              " 25600,\n",
              " 0,\n",
              " 26244,\n",
              " 0,\n",
              " 26896,\n",
              " 0,\n",
              " 27556,\n",
              " 0,\n",
              " 28224,\n",
              " 0,\n",
              " 28900,\n",
              " 0,\n",
              " 29584,\n",
              " 0,\n",
              " 30276,\n",
              " 0,\n",
              " 30976,\n",
              " 0,\n",
              " 31684,\n",
              " 0,\n",
              " 32400,\n",
              " 0,\n",
              " 33124,\n",
              " 0,\n",
              " 33856,\n",
              " 0,\n",
              " 34596,\n",
              " 0,\n",
              " 35344,\n",
              " 0,\n",
              " 36100,\n",
              " 0,\n",
              " 36864,\n",
              " 0,\n",
              " 37636,\n",
              " 0,\n",
              " 38416,\n",
              " 0,\n",
              " 39204,\n",
              " 0]"
            ]
          },
          "execution_count": 5,
          "metadata": {},
          "output_type": "execute_result"
        }
      ],
      "source": [
        "nums_comp = [val ** 2 if val % 2 == 0 else 0 for val in range(200)]\n",
        "nums_comp"
      ]
    },
    {
      "cell_type": "code",
      "execution_count": 7,
      "metadata": {
        "id": "DDWwxsJhrs8l"
      },
      "outputs": [
        {
          "name": "stdout",
          "output_type": "stream",
          "text": [
            "['Connor', 'Connor', 'Connor', 'Connor']\n",
            "['C', 'M', 'E', 'R']\n"
          ]
        }
      ],
      "source": [
        "# String comprehension\n",
        "names = ['Connor', 'Max', 'Evan', \"Rob\"]\n",
        "\n",
        "# For loop version:\n",
        "# I want to grab each of the first letters of each name in the list:\n",
        "first_char = []\n",
        "\n",
        "for name in names:\n",
        "    first_char.append(name[0])\n",
        "\n",
        "print(first_char)\n",
        "\n",
        "# List comprehension:\n",
        "n = [name[0] for name in names]\n",
        "print(n)"
      ]
    },
    {
      "cell_type": "code",
      "execution_count": 8,
      "metadata": {
        "id": "afJhTL0Ars8m"
      },
      "outputs": [
        {
          "name": "stdout",
          "output_type": "stream",
          "text": [
            "['Connor']\n",
            "['Connor']\n"
          ]
        }
      ],
      "source": [
        "c_names_reg = []\n",
        "for first_name in names:\n",
        "    if first_name[0] == 'C':\n",
        "        c_names_reg.append(first_name)\n",
        "print(c_names_reg)\n",
        "\n",
        "c_names_comp = [first_name for first_name in names if first_name[0].lower() == 'c']\n",
        "print(c_names_comp)"
      ]
    },
    {
      "attachments": {},
      "cell_type": "markdown",
      "metadata": {
        "id": "l0OZFm-nrs8m"
      },
      "source": [
        "### Tuples <br>\n",
        "<p><b>Defined as an immutable list</b></p><br>Seperated by commas using parenthesis"
      ]
    },
    {
      "cell_type": "code",
      "execution_count": 60,
      "metadata": {
        "id": "qzrkcZvArs8m"
      },
      "outputs": [
        {
          "name": "stdout",
          "output_type": "stream",
          "text": [
            "<class 'tuple'>\n",
            "<class 'tuple'>\n",
            "1\n",
            "2\n",
            "3\n"
          ]
        }
      ],
      "source": [
        "#Cannot change values in the tuple\n",
        "\n",
        "tup_1 = 1,2,3 #First way I can create a tuple!\n",
        "tup_2 = (1,2,3) #Another way to create a tuple!\n",
        "\n",
        "print(type(tup_1))\n",
        "print(type(tup_2))\n",
        "\n",
        "#We can loop over a tuple:\n",
        "for number in tup_1:\n",
        "    print(number)\n",
        "    \n",
        "#Using the range function:\n",
        "for number in range(len(tup_2)):\n",
        "    print(tup_2[number])"
      ]
    },
    {
      "attachments": {},
      "cell_type": "markdown",
      "metadata": {
        "id": "HyW7twHCrs8m"
      },
      "source": [
        "##### sorted()"
      ]
    },
    {
      "cell_type": "code",
      "execution_count": 61,
      "metadata": {
        "id": "806UVJgFrs8m"
      },
      "outputs": [
        {
          "name": "stdout",
          "output_type": "stream",
          "text": [
            "(1, 3, 5, 9, 20, 45)\n"
          ]
        }
      ],
      "source": [
        "tup_3 = (20, 5, 1, 3, 9, 45)\n",
        "sorted_tup = sorted(tup_3)\n",
        "print(tuple(sorted_tup))"
      ]
    },
    {
      "attachments": {},
      "cell_type": "markdown",
      "metadata": {
        "id": "obuFNiIErs8m"
      },
      "source": [
        "##### Adding values to a Tuple"
      ]
    },
    {
      "cell_type": "code",
      "execution_count": 64,
      "metadata": {
        "id": "ZPkUYr2Trs8m"
      },
      "outputs": [
        {
          "name": "stdout",
          "output_type": "stream",
          "text": [
            "(1, 2, 3, 5)\n",
            "(1, 2, 3, 5, 5)\n"
          ]
        }
      ],
      "source": [
        "print(tup_1)\n",
        "tup_1 = tup_1 + (5,) #Comma denotes this is a tuple object\n",
        "print(tup_1)"
      ]
    },
    {
      "attachments": {},
      "cell_type": "markdown",
      "metadata": {
        "id": "QX0j43L6rs8m"
      },
      "source": [
        "## Functions"
      ]
    },
    {
      "attachments": {},
      "cell_type": "markdown",
      "metadata": {
        "id": "RDYcwCvVrs8n"
      },
      "source": [
        "##### User-Defined vs. Built-In Functions"
      ]
    },
    {
      "cell_type": "code",
      "execution_count": 65,
      "metadata": {
        "id": "z6z8tJiqrs8n"
      },
      "outputs": [
        {
          "name": "stdout",
          "output_type": "stream",
          "text": [
            "Hello, World!\n"
          ]
        }
      ],
      "source": [
        "#DEf tells python I am about to DEFINE a function here:\n",
        "#Function name: After the def keyword, we give life to our function ny naming it!\n",
        "#Invoking parenthesis: Used after the function call and after the naming of the function.\n",
        "#Parameters is a fancy word for variables\n",
        "\n",
        "#USER DEFINED FUNCTION\n",
        "def say_hello():\n",
        "    return 'Hello, World!'\n",
        "\n",
        "#What is going to return from this?\n",
        "#What we get is the function call in it's memory space\n",
        "\n",
        "print(say_hello())"
      ]
    },
    {
      "attachments": {},
      "cell_type": "markdown",
      "metadata": {
        "id": "3EK6Bb7Xrs8n"
      },
      "source": [
        "##### Accepting Parameters"
      ]
    },
    {
      "cell_type": "code",
      "execution_count": 9,
      "metadata": {
        "id": "NkgHjPLRrs8n"
      },
      "outputs": [
        {
          "name": "stdout",
          "output_type": "stream",
          "text": [
            "Hello Alex, Lucchesi\n",
            "Hello Alex, Lucchesi\n"
          ]
        }
      ],
      "source": [
        "#One thing to note, is that order matters. Whatever order you place your variables\n",
        "\n",
        "def print_full_name(first_name, last_name):\n",
        "    return f'Hello {first_name}, {last_name}'\n",
        "\n",
        "print(print_full_name('Alex', 'Lucchesi'))\n",
        "\n",
        "print(print_full_name(last_name='Lucchesi', first_name='Alex'))\n",
        "\n"
      ]
    },
    {
      "attachments": {},
      "cell_type": "markdown",
      "metadata": {
        "id": "pZtz8D3ors8n"
      },
      "source": [
        "##### Default Parameters"
      ]
    },
    {
      "cell_type": "code",
      "execution_count": 12,
      "metadata": {
        "id": "mqOXoR2Zrs8n"
      },
      "outputs": [
        {
          "name": "stdout",
          "output_type": "stream",
          "text": [
            "The name is... 007... James 007\n"
          ]
        }
      ],
      "source": [
        "def print_agent_name(first_name, last_name = 'Bond'):\n",
        "    return f'The name is... {last_name}... {first_name} {last_name}'\n",
        "\n",
        "print(print_agent_name('James', '007'))"
      ]
    },
    {
      "cell_type": "code",
      "execution_count": 68,
      "metadata": {},
      "outputs": [
        {
          "name": "stdout",
          "output_type": "stream",
          "text": [
            "Wow! You are 25 years old! That's awesome!\n"
          ]
        }
      ],
      "source": [
        "#Type Casting:\n",
        "def print_age(age: int):\n",
        "    age = int(age)\n",
        "    return f'Wow! You are {age} years old! That\\'s awesome!'\n",
        "\n",
        "print(print_age('25'))"
      ]
    },
    {
      "attachments": {},
      "cell_type": "markdown",
      "metadata": {
        "id": "4OlHa3j3rs8n"
      },
      "source": [
        "##### Making an Argument Optional"
      ]
    },
    {
      "cell_type": "code",
      "execution_count": 14,
      "metadata": {
        "id": "v4IqqRW8rs8n"
      },
      "outputs": [
        {
          "name": "stdout",
          "output_type": "stream",
          "text": [
            "Hello Mr.  Ed! Good luck in the race today!\n"
          ]
        }
      ],
      "source": [
        "def print_horse_name(first, middle = '', last = 'Ed'):\n",
        "    return f\"Hello {first} {middle} {last}! Good luck in the race today!\"\n",
        "\n",
        "print(print_horse_name('Mr.'))"
      ]
    },
    {
      "attachments": {},
      "cell_type": "markdown",
      "metadata": {
        "id": "sJvg1qE3rs8n"
      },
      "source": [
        "##### Keyword Arguments"
      ]
    },
    {
      "cell_type": "code",
      "execution_count": null,
      "metadata": {
        "id": "IazE0eWYrs8o"
      },
      "outputs": [],
      "source": []
    },
    {
      "attachments": {},
      "cell_type": "markdown",
      "metadata": {
        "id": "YVE6ZfCtrs8o"
      },
      "source": [
        "# Creating a start, stop, step function"
      ]
    },
    {
      "cell_type": "code",
      "execution_count": 69,
      "metadata": {
        "id": "WrVaUO6Nrs8o"
      },
      "outputs": [
        {
          "name": "stdout",
          "output_type": "stream",
          "text": [
            "1\n",
            "2\n",
            "3\n",
            "4\n",
            "5\n",
            "6\n",
            "7\n",
            "8\n",
            "9\n",
            "10\n",
            "11\n",
            "12\n",
            "13\n",
            "14\n",
            "15\n",
            "16\n",
            "17\n",
            "18\n",
            "19\n"
          ]
        }
      ],
      "source": [
        "def my_range(stop: int, start:int=0, step:int=1):\n",
        "    for i in range(start, stop, step):\n",
        "        print(i)\n",
        "my_range(20, 1)\n",
        "\n",
        "\n",
        "def my_range(stop: int, start:int=0, step:int=1):\n",
        "    while start < stop:\n",
        "        print(start)\n",
        "my_range(20, 1)"
      ]
    },
    {
      "attachments": {},
      "cell_type": "markdown",
      "metadata": {
        "id": "X9Ec0fiKrs8o"
      },
      "source": [
        "##### Returning Values"
      ]
    },
    {
      "cell_type": "code",
      "execution_count": 17,
      "metadata": {
        "id": "tRxhyCRVrs8o"
      },
      "outputs": [
        {
          "data": {
            "text/plain": [
              "'string2'"
            ]
          },
          "execution_count": 17,
          "metadata": {},
          "output_type": "execute_result"
        }
      ],
      "source": [
        "#PRINT DOES NOT EQUAL RETURN\n",
        "#Printing only displays an \"output\" in your terminal. It does not return any actual objects that are associted with the print() function\n",
        "\n",
        "def print_args(arg1, arg2):\n",
        "    return arg1 + arg2\n",
        "\n",
        "print_args('String', '2').lower()"
      ]
    },
    {
      "attachments": {},
      "cell_type": "markdown",
      "metadata": {
        "id": "Ar3s_91Vrs8o"
      },
      "source": [
        "##### *args"
      ]
    },
    {
      "cell_type": "markdown",
      "metadata": {},
      "source": []
    },
    {
      "cell_type": "code",
      "execution_count": 20,
      "metadata": {
        "id": "FOKAMCwprs8o"
      },
      "outputs": [
        {
          "name": "stdout",
          "output_type": "stream",
          "text": [
            "36\n",
            "('Megazord', 'Mint-Chocolate Chip', 2, 3)\n",
            "Megazord\n",
            "Mint-Chocolate Chip\n",
            "2\n",
            "3\n",
            "testing\n"
          ]
        }
      ],
      "source": [
        "# It can take in any argument/arguments as parameters\n",
        "def print_args(num1, *args, **kwargs):\n",
        "    print(num1)\n",
        "    print(args)\n",
        "    \n",
        "    \n",
        "    for arg in args:\n",
        "        print(arg)\n",
        "            \n",
        "    for karg in kwargs:\n",
        "        print(karg)\n",
        "    \n",
        "\n",
        "print_args(36, 'Megazord', 'Mint-Chocolate Chip', 2,3, testing = 'joel')"
      ]
    },
    {
      "attachments": {},
      "cell_type": "markdown",
      "metadata": {
        "id": "twSjhVegrs8o"
      },
      "source": [
        "##### Docstring"
      ]
    },
    {
      "cell_type": "code",
      "execution_count": null,
      "metadata": {
        "id": "YqowH4COrs8p"
      },
      "outputs": [],
      "source": [
        "    \"\"\"_summary_\n",
        "    \"\"\""
      ]
    },
    {
      "attachments": {},
      "cell_type": "markdown",
      "metadata": {
        "id": "EkymtL8Brs8p"
      },
      "source": [
        "##### Using a User Function in a Loop"
      ]
    },
    {
      "cell_type": "code",
      "execution_count": 21,
      "metadata": {
        "id": "CX21hhzhrs8p"
      },
      "outputs": [
        {
          "name": "stdout",
          "output_type": "stream",
          "text": [
            "IDK\n"
          ]
        }
      ],
      "source": [
        "def print_input(answer:str):\n",
        "    print(answer)\n",
        "response = input(\"Are you ready to quit? Y/N\")\n",
        "while True:\n",
        "    ask = input(\"What do you want to do today?\")\n",
        "    print_input(ask)\n",
        "    \n",
        "    response = input(\"Ready to quit yet? Y/N\")\n",
        "    if response.lower() == 'y':\n",
        "        break"
      ]
    },
    {
      "attachments": {},
      "cell_type": "markdown",
      "metadata": {
        "id": "V7gH_UuPrs8p"
      },
      "source": [
        "## Function Exercise <br>\n",
        "<p>Write a function that loops through a list of first_names and a list of last_names, combines the two and return a list of full_names</p>"
      ]
    },
    {
      "cell_type": "code",
      "execution_count": 3,
      "metadata": {
        "id": "ogvq6xo-rs8p"
      },
      "outputs": [
        {
          "name": "stdout",
          "output_type": "stream",
          "text": [
            "['John', 'Evan', 'Jordan', 'Max', 'Smith', 'Smith', 'Williams', 'Bell']\n"
          ]
        }
      ],
      "source": [
        "first_name = ['John', 'Evan', 'Jordan', 'Max']\n",
        "last_name = ['Smith', 'Smith', 'Williams', 'Bell']\n",
        "# Output: ['John Smith', 'Evan Smith', 'Jordan Williams', 'Max Bell']\n",
        "\n",
        "def method_1(f,1):\n",
        "    for index in range(len(first_name)):\n",
        "        print(first_name[index])\n"
      ]
    },
    {
      "attachments": {},
      "cell_type": "markdown",
      "metadata": {
        "id": "yOjmLQ7Wrs8p"
      },
      "source": [
        "## Scope <br>\n",
        "<p>Scope refers to the ability to access variables, different types of scope include:<br>a) Global<br>b) Function (local)<br>c) Class (local)</p>"
      ]
    },
    {
      "cell_type": "code",
      "execution_count": null,
      "metadata": {
        "id": "Gnb7C0-4rs8p"
      },
      "outputs": [],
      "source": [
        "\n"
      ]
    },
    {
      "cell_type": "code",
      "execution_count": null,
      "metadata": {},
      "outputs": [],
      "source": []
    }
  ],
  "metadata": {
    "colab": {
      "provenance": []
    },
    "kernelspec": {
      "display_name": "Python 3",
      "language": "python",
      "name": "python3"
    },
    "language_info": {
      "codemirror_mode": {
        "name": "ipython",
        "version": 3
      },
      "file_extension": ".py",
      "mimetype": "text/x-python",
      "name": "python",
      "nbconvert_exporter": "python",
      "pygments_lexer": "ipython3",
      "version": "3.11.4"
    },
    "vscode": {
      "interpreter": {
        "hash": "26de051ba29f2982a8de78e945f0abaf191376122a1563185a90213a26c5da77"
      }
    }
  },
  "nbformat": 4,
  "nbformat_minor": 0
}
